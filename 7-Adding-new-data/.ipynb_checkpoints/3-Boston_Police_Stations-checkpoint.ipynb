{
 "cells": [
  {
   "cell_type": "code",
   "execution_count": 1,
   "metadata": {},
   "outputs": [],
   "source": [
    "import numpy as np\n",
    "import pandas as pd"
   ]
  },
  {
   "cell_type": "code",
   "execution_count": null,
   "metadata": {},
   "outputs": [],
   "source": []
  },
  {
   "cell_type": "markdown",
   "metadata": {},
   "source": [
    "# Link\n",
    "\n",
    "https://data.boston.gov/dataset/boston-police-stations/resource/0b2be5cb-89c6-4328-93be-c54ba723f8db"
   ]
  },
  {
   "cell_type": "code",
   "execution_count": 2,
   "metadata": {},
   "outputs": [],
   "source": [
    "df = pd.read_csv('data/Boston_Police_Stations.csv')"
   ]
  },
  {
   "cell_type": "code",
   "execution_count": 3,
   "metadata": {},
   "outputs": [
    {
     "data": {
      "text/html": [
       "<div>\n",
       "<style scoped>\n",
       "    .dataframe tbody tr th:only-of-type {\n",
       "        vertical-align: middle;\n",
       "    }\n",
       "\n",
       "    .dataframe tbody tr th {\n",
       "        vertical-align: top;\n",
       "    }\n",
       "\n",
       "    .dataframe thead th {\n",
       "        text-align: right;\n",
       "    }\n",
       "</style>\n",
       "<table border=\"1\" class=\"dataframe\">\n",
       "  <thead>\n",
       "    <tr style=\"text-align: right;\">\n",
       "      <th></th>\n",
       "      <th>X</th>\n",
       "      <th>Y</th>\n",
       "      <th>OBJECTID</th>\n",
       "      <th>BLDG_ID</th>\n",
       "      <th>BID</th>\n",
       "      <th>ADDRESS</th>\n",
       "      <th>POINT_X</th>\n",
       "      <th>POINT_Y</th>\n",
       "      <th>NAME</th>\n",
       "      <th>NEIGHBORHOOD</th>\n",
       "      <th>CITY</th>\n",
       "      <th>ZIP</th>\n",
       "      <th>FT_SQFT</th>\n",
       "      <th>STORY_HT</th>\n",
       "      <th>PARCEL_ID</th>\n",
       "    </tr>\n",
       "  </thead>\n",
       "  <tbody>\n",
       "    <tr>\n",
       "      <th>0</th>\n",
       "      <td>-71.124269</td>\n",
       "      <td>42.256482</td>\n",
       "      <td>1</td>\n",
       "      <td>Bos_1809107000_B0</td>\n",
       "      <td>100639</td>\n",
       "      <td>1249 Hyde Park Ave</td>\n",
       "      <td>757882.716120</td>\n",
       "      <td>2.918710e+06</td>\n",
       "      <td>District E-18 Police Station</td>\n",
       "      <td>Hyde Park</td>\n",
       "      <td>Boston</td>\n",
       "      <td>2136</td>\n",
       "      <td>8585.0</td>\n",
       "      <td>2.0</td>\n",
       "      <td>1809107000</td>\n",
       "    </tr>\n",
       "    <tr>\n",
       "      <th>1</th>\n",
       "      <td>-71.148368</td>\n",
       "      <td>42.286786</td>\n",
       "      <td>2</td>\n",
       "      <td>Bos_2005719000_B0</td>\n",
       "      <td>112112</td>\n",
       "      <td>1708 Centre St</td>\n",
       "      <td>751313.455964</td>\n",
       "      <td>2.929725e+06</td>\n",
       "      <td>District E-5 Police Station</td>\n",
       "      <td>West Roxbury</td>\n",
       "      <td>Boston</td>\n",
       "      <td>2132</td>\n",
       "      <td>7708.0</td>\n",
       "      <td>2.0</td>\n",
       "      <td>2005719000</td>\n",
       "    </tr>\n",
       "    <tr>\n",
       "      <th>2</th>\n",
       "      <td>-71.038676</td>\n",
       "      <td>42.371058</td>\n",
       "      <td>3</td>\n",
       "      <td>Bos_0105699000_B0</td>\n",
       "      <td>131503</td>\n",
       "      <td>69 Paris St</td>\n",
       "      <td>780827.989455</td>\n",
       "      <td>2.960577e+06</td>\n",
       "      <td>District A-7 Police Station</td>\n",
       "      <td>East Boston</td>\n",
       "      <td>Boston</td>\n",
       "      <td>2128</td>\n",
       "      <td>5063.0</td>\n",
       "      <td>2.0</td>\n",
       "      <td>105699000</td>\n",
       "    </tr>\n",
       "    <tr>\n",
       "      <th>3</th>\n",
       "      <td>-71.060307</td>\n",
       "      <td>42.361825</td>\n",
       "      <td>4</td>\n",
       "      <td>Bos_0302626000_B0</td>\n",
       "      <td>136171</td>\n",
       "      <td>40 New Sudbury St</td>\n",
       "      <td>775000.193368</td>\n",
       "      <td>2.957181e+06</td>\n",
       "      <td>District A-1 Police Station</td>\n",
       "      <td>Boston</td>\n",
       "      <td>Boston</td>\n",
       "      <td>2114</td>\n",
       "      <td>6882.0</td>\n",
       "      <td>5.0</td>\n",
       "      <td>302626000</td>\n",
       "    </tr>\n",
       "    <tr>\n",
       "      <th>4</th>\n",
       "      <td>-71.150578</td>\n",
       "      <td>42.349395</td>\n",
       "      <td>5</td>\n",
       "      <td>Bos_2202387000_B0</td>\n",
       "      <td>145004</td>\n",
       "      <td>301 Washington St</td>\n",
       "      <td>750621.846127</td>\n",
       "      <td>2.952539e+06</td>\n",
       "      <td>District D-14 Police Station</td>\n",
       "      <td>Brighton</td>\n",
       "      <td>Boston</td>\n",
       "      <td>2135</td>\n",
       "      <td>8712.0</td>\n",
       "      <td>2.0</td>\n",
       "      <td>2202387000</td>\n",
       "    </tr>\n",
       "  </tbody>\n",
       "</table>\n",
       "</div>"
      ],
      "text/plain": [
       "           X          Y  OBJECTID            BLDG_ID     BID  \\\n",
       "0 -71.124269  42.256482         1  Bos_1809107000_B0  100639   \n",
       "1 -71.148368  42.286786         2  Bos_2005719000_B0  112112   \n",
       "2 -71.038676  42.371058         3  Bos_0105699000_B0  131503   \n",
       "3 -71.060307  42.361825         4  Bos_0302626000_B0  136171   \n",
       "4 -71.150578  42.349395         5  Bos_2202387000_B0  145004   \n",
       "\n",
       "              ADDRESS        POINT_X       POINT_Y  \\\n",
       "0  1249 Hyde Park Ave  757882.716120  2.918710e+06   \n",
       "1      1708 Centre St  751313.455964  2.929725e+06   \n",
       "2         69 Paris St  780827.989455  2.960577e+06   \n",
       "3   40 New Sudbury St  775000.193368  2.957181e+06   \n",
       "4   301 Washington St  750621.846127  2.952539e+06   \n",
       "\n",
       "                           NAME  NEIGHBORHOOD    CITY   ZIP  FT_SQFT  \\\n",
       "0  District E-18 Police Station     Hyde Park  Boston  2136   8585.0   \n",
       "1   District E-5 Police Station  West Roxbury  Boston  2132   7708.0   \n",
       "2   District A-7 Police Station   East Boston  Boston  2128   5063.0   \n",
       "3   District A-1 Police Station        Boston  Boston  2114   6882.0   \n",
       "4  District D-14 Police Station      Brighton  Boston  2135   8712.0   \n",
       "\n",
       "   STORY_HT   PARCEL_ID  \n",
       "0       2.0  1809107000  \n",
       "1       2.0  2005719000  \n",
       "2       2.0   105699000  \n",
       "3       5.0   302626000  \n",
       "4       2.0  2202387000  "
      ]
     },
     "execution_count": 3,
     "metadata": {},
     "output_type": "execute_result"
    }
   ],
   "source": [
    "df.head()"
   ]
  },
  {
   "cell_type": "code",
   "execution_count": 4,
   "metadata": {},
   "outputs": [],
   "source": [
    "df = df[['X','Y']]"
   ]
  },
  {
   "cell_type": "code",
   "execution_count": 5,
   "metadata": {},
   "outputs": [
    {
     "data": {
      "text/plain": [
       "(13, 2)"
      ]
     },
     "execution_count": 5,
     "metadata": {},
     "output_type": "execute_result"
    }
   ],
   "source": [
    "df.shape"
   ]
  },
  {
   "cell_type": "code",
   "execution_count": 6,
   "metadata": {},
   "outputs": [
    {
     "data": {
      "text/html": [
       "<div>\n",
       "<style scoped>\n",
       "    .dataframe tbody tr th:only-of-type {\n",
       "        vertical-align: middle;\n",
       "    }\n",
       "\n",
       "    .dataframe tbody tr th {\n",
       "        vertical-align: top;\n",
       "    }\n",
       "\n",
       "    .dataframe thead th {\n",
       "        text-align: right;\n",
       "    }\n",
       "</style>\n",
       "<table border=\"1\" class=\"dataframe\">\n",
       "  <thead>\n",
       "    <tr style=\"text-align: right;\">\n",
       "      <th></th>\n",
       "      <th>X</th>\n",
       "      <th>Y</th>\n",
       "    </tr>\n",
       "  </thead>\n",
       "  <tbody>\n",
       "    <tr>\n",
       "      <th>0</th>\n",
       "      <td>-71.124269</td>\n",
       "      <td>42.256482</td>\n",
       "    </tr>\n",
       "    <tr>\n",
       "      <th>1</th>\n",
       "      <td>-71.148368</td>\n",
       "      <td>42.286786</td>\n",
       "    </tr>\n",
       "    <tr>\n",
       "      <th>2</th>\n",
       "      <td>-71.038676</td>\n",
       "      <td>42.371058</td>\n",
       "    </tr>\n",
       "    <tr>\n",
       "      <th>3</th>\n",
       "      <td>-71.060307</td>\n",
       "      <td>42.361825</td>\n",
       "    </tr>\n",
       "    <tr>\n",
       "      <th>4</th>\n",
       "      <td>-71.150578</td>\n",
       "      <td>42.349395</td>\n",
       "    </tr>\n",
       "    <tr>\n",
       "      <th>5</th>\n",
       "      <td>-71.056047</td>\n",
       "      <td>42.376467</td>\n",
       "    </tr>\n",
       "    <tr>\n",
       "      <th>6</th>\n",
       "      <td>-71.054936</td>\n",
       "      <td>42.341164</td>\n",
       "    </tr>\n",
       "    <tr>\n",
       "      <th>7</th>\n",
       "      <td>-71.069240</td>\n",
       "      <td>42.339440</td>\n",
       "    </tr>\n",
       "    <tr>\n",
       "      <th>8</th>\n",
       "      <td>-71.090748</td>\n",
       "      <td>42.334192</td>\n",
       "    </tr>\n",
       "    <tr>\n",
       "      <th>9</th>\n",
       "      <td>-71.085684</td>\n",
       "      <td>42.328385</td>\n",
       "    </tr>\n",
       "    <tr>\n",
       "      <th>10</th>\n",
       "      <td>-71.104639</td>\n",
       "      <td>42.309722</td>\n",
       "    </tr>\n",
       "    <tr>\n",
       "      <th>11</th>\n",
       "      <td>-71.091702</td>\n",
       "      <td>42.284729</td>\n",
       "    </tr>\n",
       "    <tr>\n",
       "      <th>12</th>\n",
       "      <td>-71.059165</td>\n",
       "      <td>42.298066</td>\n",
       "    </tr>\n",
       "  </tbody>\n",
       "</table>\n",
       "</div>"
      ],
      "text/plain": [
       "            X          Y\n",
       "0  -71.124269  42.256482\n",
       "1  -71.148368  42.286786\n",
       "2  -71.038676  42.371058\n",
       "3  -71.060307  42.361825\n",
       "4  -71.150578  42.349395\n",
       "5  -71.056047  42.376467\n",
       "6  -71.054936  42.341164\n",
       "7  -71.069240  42.339440\n",
       "8  -71.090748  42.334192\n",
       "9  -71.085684  42.328385\n",
       "10 -71.104639  42.309722\n",
       "11 -71.091702  42.284729\n",
       "12 -71.059165  42.298066"
      ]
     },
     "execution_count": 6,
     "metadata": {},
     "output_type": "execute_result"
    }
   ],
   "source": [
    "df"
   ]
  },
  {
   "cell_type": "code",
   "execution_count": 7,
   "metadata": {},
   "outputs": [],
   "source": [
    "crime = pd.read_csv('data/finish-crime-weather.csv')"
   ]
  },
  {
   "cell_type": "code",
   "execution_count": 8,
   "metadata": {},
   "outputs": [],
   "source": [
    "crime['police-station-distance-min'] = 0\n",
    "crime['police-station-distance-25'] = 0\n",
    "crime['police-station-number-near'] = 0"
   ]
  },
  {
   "cell_type": "code",
   "execution_count": 9,
   "metadata": {},
   "outputs": [],
   "source": [
    "def distance(x1,y1,x2,y2):    \n",
    "    return ((x1-x2)**2+(y1-y2)**2)**(1/2)"
   ]
  },
  {
   "cell_type": "code",
   "execution_count": null,
   "metadata": {},
   "outputs": [
    {
     "name": "stderr",
     "output_type": "stream",
     "text": [
      "/home/oleksandr/anaconda3/lib/python3.6/site-packages/ipykernel_launcher.py:39: SettingWithCopyWarning: \n",
      "A value is trying to be set on a copy of a slice from a DataFrame\n",
      "\n",
      "See the caveats in the documentation: http://pandas.pydata.org/pandas-docs/stable/indexing.html#indexing-view-versus-copy\n",
      "/home/oleksandr/anaconda3/lib/python3.6/site-packages/ipykernel_launcher.py:40: SettingWithCopyWarning: \n",
      "A value is trying to be set on a copy of a slice from a DataFrame\n",
      "\n",
      "See the caveats in the documentation: http://pandas.pydata.org/pandas-docs/stable/indexing.html#indexing-view-versus-copy\n",
      "/home/oleksandr/anaconda3/lib/python3.6/site-packages/ipykernel_launcher.py:41: SettingWithCopyWarning: \n",
      "A value is trying to be set on a copy of a slice from a DataFrame\n",
      "\n",
      "See the caveats in the documentation: http://pandas.pydata.org/pandas-docs/stable/indexing.html#indexing-view-versus-copy\n",
      "/home/oleksandr/anaconda3/lib/python3.6/site-packages/pandas/core/indexing.py:189: SettingWithCopyWarning: \n",
      "A value is trying to be set on a copy of a slice from a DataFrame\n",
      "\n",
      "See the caveats in the documentation: http://pandas.pydata.org/pandas-docs/stable/indexing.html#indexing-view-versus-copy\n",
      "  self._setitem_with_indexer(indexer, value)\n",
      "/home/oleksandr/anaconda3/lib/python3.6/site-packages/numpy/lib/function_base.py:4291: RuntimeWarning: Invalid value encountered in percentile\n",
      "  interpolation=interpolation)\n"
     ]
    }
   ],
   "source": [
    "i = 0\n",
    "\n",
    "while i < len(crime):\n",
    "    \n",
    "    k = 0\n",
    "    \n",
    "    array = []\n",
    "    \n",
    "    while k < len(df):\n",
    "        \n",
    "        \n",
    "        array.append(\n",
    "            distance(\n",
    "                df.Y[k],\n",
    "                df.X[k],\n",
    "                crime.Lat[i],\n",
    "                crime.Long[i]\n",
    "            )\n",
    "        )\n",
    "        \n",
    "        \n",
    "        k += 1\n",
    "    \n",
    "    n = 0\n",
    "    number_near = 0\n",
    "    \n",
    "    \n",
    "    while n < len(array):\n",
    "        \n",
    "        if (array[n]*100000) < 3000:\n",
    "            number_near += 1\n",
    "            n +=1\n",
    "        else:\n",
    "            n += 1\n",
    "    \n",
    "    \n",
    "    a = np.array(array)\n",
    "    \n",
    "    crime['police-station-distance-min'][i] = a.min()*100000\n",
    "    crime['police-station-distance-25'][i] = np.percentile(a, 25)*100000\n",
    "    crime['police-station-number-near'][i] = number_near\n",
    "    \n",
    "    i += 1"
   ]
  },
  {
   "cell_type": "code",
   "execution_count": null,
   "metadata": {},
   "outputs": [],
   "source": []
  },
  {
   "cell_type": "code",
   "execution_count": null,
   "metadata": {},
   "outputs": [],
   "source": [
    "crime.head(10)"
   ]
  },
  {
   "cell_type": "code",
   "execution_count": null,
   "metadata": {},
   "outputs": [],
   "source": []
  },
  {
   "cell_type": "code",
   "execution_count": null,
   "metadata": {},
   "outputs": [],
   "source": [
    "df.to_csv('data/df-police-5.csv')"
   ]
  },
  {
   "cell_type": "code",
   "execution_count": null,
   "metadata": {},
   "outputs": [],
   "source": []
  }
 ],
 "metadata": {
  "kernelspec": {
   "display_name": "Python 3",
   "language": "python",
   "name": "python3"
  },
  "language_info": {
   "codemirror_mode": {
    "name": "ipython",
    "version": 3
   },
   "file_extension": ".py",
   "mimetype": "text/x-python",
   "name": "python",
   "nbconvert_exporter": "python",
   "pygments_lexer": "ipython3",
   "version": "3.6.5"
  }
 },
 "nbformat": 4,
 "nbformat_minor": 2
}
