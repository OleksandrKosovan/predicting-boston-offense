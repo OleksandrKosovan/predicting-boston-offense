{
 "cells": [
  {
   "cell_type": "code",
   "execution_count": 2,
   "metadata": {},
   "outputs": [],
   "source": [
    "import numpy as np\n",
    "import pandas as pd"
   ]
  },
  {
   "cell_type": "markdown",
   "metadata": {},
   "source": [
    "# Link\n",
    "\n",
    "https://data.boston.gov/dataset/streetlight-locations/resource/c2fcc1e3-c38f-44ad-a0cf-e5ea2a6585b5"
   ]
  },
  {
   "cell_type": "code",
   "execution_count": null,
   "metadata": {},
   "outputs": [],
   "source": []
  },
  {
   "cell_type": "code",
   "execution_count": 3,
   "metadata": {},
   "outputs": [],
   "source": [
    "df = pd.read_csv('data/streetlight-locations.csv')"
   ]
  },
  {
   "cell_type": "code",
   "execution_count": 4,
   "metadata": {},
   "outputs": [
    {
     "data": {
      "text/html": [
       "<div>\n",
       "<style scoped>\n",
       "    .dataframe tbody tr th:only-of-type {\n",
       "        vertical-align: middle;\n",
       "    }\n",
       "\n",
       "    .dataframe tbody tr th {\n",
       "        vertical-align: top;\n",
       "    }\n",
       "\n",
       "    .dataframe thead th {\n",
       "        text-align: right;\n",
       "    }\n",
       "</style>\n",
       "<table border=\"1\" class=\"dataframe\">\n",
       "  <thead>\n",
       "    <tr style=\"text-align: right;\">\n",
       "      <th></th>\n",
       "      <th>the_geom</th>\n",
       "      <th>OBJECTID</th>\n",
       "      <th>TYPE</th>\n",
       "      <th>Lat</th>\n",
       "      <th>Long</th>\n",
       "    </tr>\n",
       "  </thead>\n",
       "  <tbody>\n",
       "    <tr>\n",
       "      <th>0</th>\n",
       "      <td>POINT (-71.0760443807948 42.35315925057316)</td>\n",
       "      <td>1</td>\n",
       "      <td>LIGHT</td>\n",
       "      <td>42.353159</td>\n",
       "      <td>-71.076044</td>\n",
       "    </tr>\n",
       "    <tr>\n",
       "      <th>1</th>\n",
       "      <td>POINT (-71.07538171240694 42.353347768071195)</td>\n",
       "      <td>2</td>\n",
       "      <td>LIGHT</td>\n",
       "      <td>42.353348</td>\n",
       "      <td>-71.075382</td>\n",
       "    </tr>\n",
       "    <tr>\n",
       "      <th>2</th>\n",
       "      <td>POINT (-71.07477488057383 42.35352052068278)</td>\n",
       "      <td>3</td>\n",
       "      <td>LIGHT</td>\n",
       "      <td>42.353521</td>\n",
       "      <td>-71.074775</td>\n",
       "    </tr>\n",
       "    <tr>\n",
       "      <th>3</th>\n",
       "      <td>POINT (-71.07440373484715 42.3535558201314)</td>\n",
       "      <td>4</td>\n",
       "      <td>LIGHT</td>\n",
       "      <td>42.353556</td>\n",
       "      <td>-71.074404</td>\n",
       "    </tr>\n",
       "    <tr>\n",
       "      <th>4</th>\n",
       "      <td>POINT (-71.07362079549182 42.35381056415504)</td>\n",
       "      <td>5</td>\n",
       "      <td>LIGHT</td>\n",
       "      <td>42.353811</td>\n",
       "      <td>-71.073621</td>\n",
       "    </tr>\n",
       "  </tbody>\n",
       "</table>\n",
       "</div>"
      ],
      "text/plain": [
       "                                        the_geom  OBJECTID   TYPE        Lat  \\\n",
       "0    POINT (-71.0760443807948 42.35315925057316)         1  LIGHT  42.353159   \n",
       "1  POINT (-71.07538171240694 42.353347768071195)         2  LIGHT  42.353348   \n",
       "2   POINT (-71.07477488057383 42.35352052068278)         3  LIGHT  42.353521   \n",
       "3    POINT (-71.07440373484715 42.3535558201314)         4  LIGHT  42.353556   \n",
       "4   POINT (-71.07362079549182 42.35381056415504)         5  LIGHT  42.353811   \n",
       "\n",
       "        Long  \n",
       "0 -71.076044  \n",
       "1 -71.075382  \n",
       "2 -71.074775  \n",
       "3 -71.074404  \n",
       "4 -71.073621  "
      ]
     },
     "execution_count": 4,
     "metadata": {},
     "output_type": "execute_result"
    }
   ],
   "source": [
    "df.head()"
   ]
  },
  {
   "cell_type": "code",
   "execution_count": 5,
   "metadata": {},
   "outputs": [
    {
     "data": {
      "text/plain": [
       "(74065, 5)"
      ]
     },
     "execution_count": 5,
     "metadata": {},
     "output_type": "execute_result"
    }
   ],
   "source": [
    "df.shape"
   ]
  },
  {
   "cell_type": "code",
   "execution_count": 6,
   "metadata": {},
   "outputs": [
    {
     "data": {
      "text/plain": [
       "array(['LIGHT', 'LIGHT`', 'light', nan, 'LIGHTS', '1795', '0785'], dtype=object)"
      ]
     },
     "execution_count": 6,
     "metadata": {},
     "output_type": "execute_result"
    }
   ],
   "source": [
    "df.TYPE.unique()"
   ]
  },
  {
   "cell_type": "code",
   "execution_count": 8,
   "metadata": {},
   "outputs": [],
   "source": [
    "df = df[['Lat', 'Long']]"
   ]
  },
  {
   "cell_type": "code",
   "execution_count": null,
   "metadata": {},
   "outputs": [],
   "source": []
  },
  {
   "cell_type": "code",
   "execution_count": null,
   "metadata": {},
   "outputs": [],
   "source": []
  },
  {
   "cell_type": "code",
   "execution_count": null,
   "metadata": {},
   "outputs": [],
   "source": []
  },
  {
   "cell_type": "code",
   "execution_count": null,
   "metadata": {},
   "outputs": [],
   "source": []
  }
 ],
 "metadata": {
  "kernelspec": {
   "display_name": "Python 3",
   "language": "python",
   "name": "python3"
  },
  "language_info": {
   "codemirror_mode": {
    "name": "ipython",
    "version": 3
   },
   "file_extension": ".py",
   "mimetype": "text/x-python",
   "name": "python",
   "nbconvert_exporter": "python",
   "pygments_lexer": "ipython3",
   "version": "3.6.5"
  }
 },
 "nbformat": 4,
 "nbformat_minor": 2
}
