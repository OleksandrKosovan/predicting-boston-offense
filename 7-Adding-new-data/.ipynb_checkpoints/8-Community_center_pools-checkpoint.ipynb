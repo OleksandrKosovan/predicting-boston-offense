{
 "cells": [
  {
   "cell_type": "code",
   "execution_count": 2,
   "metadata": {},
   "outputs": [],
   "source": [
    "import numpy as np\n",
    "import pandas as pd"
   ]
  },
  {
   "cell_type": "markdown",
   "metadata": {},
   "source": [
    "# Link\n",
    "\n",
    "https://data.boston.gov/dataset/community-center-pools/resource/6b8beff9-4d7d-4612-a824-fdfef631724c"
   ]
  },
  {
   "cell_type": "code",
   "execution_count": 3,
   "metadata": {},
   "outputs": [],
   "source": [
    "df = pd.read_csv('data/Community_center_pools.csv')"
   ]
  },
  {
   "cell_type": "code",
   "execution_count": 4,
   "metadata": {},
   "outputs": [
    {
     "data": {
      "text/html": [
       "<div>\n",
       "<style scoped>\n",
       "    .dataframe tbody tr th:only-of-type {\n",
       "        vertical-align: middle;\n",
       "    }\n",
       "\n",
       "    .dataframe tbody tr th {\n",
       "        vertical-align: top;\n",
       "    }\n",
       "\n",
       "    .dataframe thead th {\n",
       "        text-align: right;\n",
       "    }\n",
       "</style>\n",
       "<table border=\"1\" class=\"dataframe\">\n",
       "  <thead>\n",
       "    <tr style=\"text-align: right;\">\n",
       "      <th></th>\n",
       "      <th>X</th>\n",
       "      <th>Y</th>\n",
       "      <th>FID</th>\n",
       "      <th>OBJECTID_1</th>\n",
       "      <th>OBJECTID</th>\n",
       "      <th>PHONE</th>\n",
       "      <th>FAX</th>\n",
       "      <th>STREET</th>\n",
       "      <th>NEIGH</th>\n",
       "      <th>ZIP</th>\n",
       "      <th>SITE</th>\n",
       "    </tr>\n",
       "  </thead>\n",
       "  <tbody>\n",
       "    <tr>\n",
       "      <th>0</th>\n",
       "      <td>-71.036892</td>\n",
       "      <td>42.372427</td>\n",
       "      <td>1</td>\n",
       "      <td>1.0</td>\n",
       "      <td>0.0</td>\n",
       "      <td>635-1410</td>\n",
       "      <td>635-5079</td>\n",
       "      <td>113 Paris St.</td>\n",
       "      <td>East Boston</td>\n",
       "      <td>2128</td>\n",
       "      <td>BCYF Paris Street Pool</td>\n",
       "    </tr>\n",
       "    <tr>\n",
       "      <th>1</th>\n",
       "      <td>-71.060951</td>\n",
       "      <td>42.380995</td>\n",
       "      <td>2</td>\n",
       "      <td>2.0</td>\n",
       "      <td>0.0</td>\n",
       "      <td>635-5169</td>\n",
       "      <td>635-5084</td>\n",
       "      <td>255 Medford St.</td>\n",
       "      <td>Charlestown</td>\n",
       "      <td>2129</td>\n",
       "      <td>BCYF Charlestown</td>\n",
       "    </tr>\n",
       "    <tr>\n",
       "      <th>2</th>\n",
       "      <td>-71.064962</td>\n",
       "      <td>42.347949</td>\n",
       "      <td>3</td>\n",
       "      <td>3.0</td>\n",
       "      <td>0.0</td>\n",
       "      <td>635-5129</td>\n",
       "      <td>635-5132</td>\n",
       "      <td>885 Washington St</td>\n",
       "      <td>Boston</td>\n",
       "      <td>2111</td>\n",
       "      <td>BCYF Quincy</td>\n",
       "    </tr>\n",
       "    <tr>\n",
       "      <th>3</th>\n",
       "      <td>-71.052527</td>\n",
       "      <td>42.338151</td>\n",
       "      <td>4</td>\n",
       "      <td>4.0</td>\n",
       "      <td>0.0</td>\n",
       "      <td>635-5100</td>\n",
       "      <td>635-5103</td>\n",
       "      <td>200 \"D\" St.</td>\n",
       "      <td>South Boston</td>\n",
       "      <td>2127</td>\n",
       "      <td>BCYF Condon</td>\n",
       "    </tr>\n",
       "    <tr>\n",
       "      <th>4</th>\n",
       "      <td>-71.073004</td>\n",
       "      <td>42.340381</td>\n",
       "      <td>5</td>\n",
       "      <td>5.0</td>\n",
       "      <td>0.0</td>\n",
       "      <td>635-5162</td>\n",
       "      <td>635-5057</td>\n",
       "      <td>50 W. Brookline S</td>\n",
       "      <td>Boston</td>\n",
       "      <td>2118</td>\n",
       "      <td>BCYF Blackstone</td>\n",
       "    </tr>\n",
       "  </tbody>\n",
       "</table>\n",
       "</div>"
      ],
      "text/plain": [
       "           X          Y  FID  OBJECTID_1  OBJECTID     PHONE       FAX  \\\n",
       "0 -71.036892  42.372427    1         1.0       0.0  635-1410  635-5079   \n",
       "1 -71.060951  42.380995    2         2.0       0.0  635-5169  635-5084   \n",
       "2 -71.064962  42.347949    3         3.0       0.0  635-5129  635-5132   \n",
       "3 -71.052527  42.338151    4         4.0       0.0  635-5100  635-5103   \n",
       "4 -71.073004  42.340381    5         5.0       0.0  635-5162  635-5057   \n",
       "\n",
       "              STREET         NEIGH   ZIP                    SITE  \n",
       "0      113 Paris St.   East Boston  2128  BCYF Paris Street Pool  \n",
       "1    255 Medford St.   Charlestown  2129        BCYF Charlestown  \n",
       "2  885 Washington St        Boston  2111             BCYF Quincy  \n",
       "3        200 \"D\" St.  South Boston  2127             BCYF Condon  \n",
       "4  50 W. Brookline S        Boston  2118         BCYF Blackstone  "
      ]
     },
     "execution_count": 4,
     "metadata": {},
     "output_type": "execute_result"
    }
   ],
   "source": [
    "df.head()"
   ]
  },
  {
   "cell_type": "code",
   "execution_count": 7,
   "metadata": {},
   "outputs": [],
   "source": [
    "df = df[['X','Y']]"
   ]
  },
  {
   "cell_type": "code",
   "execution_count": 8,
   "metadata": {},
   "outputs": [
    {
     "data": {
      "text/html": [
       "<div>\n",
       "<style scoped>\n",
       "    .dataframe tbody tr th:only-of-type {\n",
       "        vertical-align: middle;\n",
       "    }\n",
       "\n",
       "    .dataframe tbody tr th {\n",
       "        vertical-align: top;\n",
       "    }\n",
       "\n",
       "    .dataframe thead th {\n",
       "        text-align: right;\n",
       "    }\n",
       "</style>\n",
       "<table border=\"1\" class=\"dataframe\">\n",
       "  <thead>\n",
       "    <tr style=\"text-align: right;\">\n",
       "      <th></th>\n",
       "      <th>X</th>\n",
       "      <th>Y</th>\n",
       "    </tr>\n",
       "  </thead>\n",
       "  <tbody>\n",
       "    <tr>\n",
       "      <th>0</th>\n",
       "      <td>-71.036892</td>\n",
       "      <td>42.372427</td>\n",
       "    </tr>\n",
       "    <tr>\n",
       "      <th>1</th>\n",
       "      <td>-71.060951</td>\n",
       "      <td>42.380995</td>\n",
       "    </tr>\n",
       "    <tr>\n",
       "      <th>2</th>\n",
       "      <td>-71.064962</td>\n",
       "      <td>42.347949</td>\n",
       "    </tr>\n",
       "    <tr>\n",
       "      <th>3</th>\n",
       "      <td>-71.052527</td>\n",
       "      <td>42.338151</td>\n",
       "    </tr>\n",
       "    <tr>\n",
       "      <th>4</th>\n",
       "      <td>-71.073004</td>\n",
       "      <td>42.340381</td>\n",
       "    </tr>\n",
       "  </tbody>\n",
       "</table>\n",
       "</div>"
      ],
      "text/plain": [
       "           X          Y\n",
       "0 -71.036892  42.372427\n",
       "1 -71.060951  42.380995\n",
       "2 -71.064962  42.347949\n",
       "3 -71.052527  42.338151\n",
       "4 -71.073004  42.340381"
      ]
     },
     "execution_count": 8,
     "metadata": {},
     "output_type": "execute_result"
    }
   ],
   "source": [
    "df.head()"
   ]
  }
 ],
 "metadata": {
  "kernelspec": {
   "display_name": "Python 3",
   "language": "python",
   "name": "python3"
  },
  "language_info": {
   "codemirror_mode": {
    "name": "ipython",
    "version": 3
   },
   "file_extension": ".py",
   "mimetype": "text/x-python",
   "name": "python",
   "nbconvert_exporter": "python",
   "pygments_lexer": "ipython3",
   "version": "3.6.5"
  }
 },
 "nbformat": 4,
 "nbformat_minor": 2
}
