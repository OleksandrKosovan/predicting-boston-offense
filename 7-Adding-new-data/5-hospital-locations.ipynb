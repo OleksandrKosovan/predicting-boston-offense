{
 "cells": [
  {
   "cell_type": "code",
   "execution_count": 2,
   "metadata": {},
   "outputs": [],
   "source": [
    "import numpy as np\n",
    "import pandas as pd"
   ]
  },
  {
   "cell_type": "markdown",
   "metadata": {},
   "source": [
    "# Link\n",
    "https://data.boston.gov/dataset/hospital-locations/resource/6222085d-ee88-45c6-ae40-0c7464620d64"
   ]
  },
  {
   "cell_type": "code",
   "execution_count": null,
   "metadata": {},
   "outputs": [],
   "source": []
  },
  {
   "cell_type": "code",
   "execution_count": 3,
   "metadata": {},
   "outputs": [],
   "source": [
    "df = pd.read_csv('data/hospital-locations.csv')"
   ]
  },
  {
   "cell_type": "code",
   "execution_count": 4,
   "metadata": {},
   "outputs": [
    {
     "data": {
      "text/html": [
       "<div>\n",
       "<style scoped>\n",
       "    .dataframe tbody tr th:only-of-type {\n",
       "        vertical-align: middle;\n",
       "    }\n",
       "\n",
       "    .dataframe tbody tr th {\n",
       "        vertical-align: top;\n",
       "    }\n",
       "\n",
       "    .dataframe thead th {\n",
       "        text-align: right;\n",
       "    }\n",
       "</style>\n",
       "<table border=\"1\" class=\"dataframe\">\n",
       "  <thead>\n",
       "    <tr style=\"text-align: right;\">\n",
       "      <th></th>\n",
       "      <th>NAME</th>\n",
       "      <th>AD</th>\n",
       "      <th>ZIPCODE</th>\n",
       "      <th>NEIGH</th>\n",
       "      <th>XCOORD</th>\n",
       "      <th>YCOORD</th>\n",
       "      <th>Location</th>\n",
       "    </tr>\n",
       "  </thead>\n",
       "  <tbody>\n",
       "    <tr>\n",
       "      <th>0</th>\n",
       "      <td>Lemuel Shattuck Hospital</td>\n",
       "      <td>170 MORTON ST</td>\n",
       "      <td>2130</td>\n",
       "      <td>ROSLINDALE</td>\n",
       "      <td>71106033.0</td>\n",
       "      <td>42300022.0</td>\n",
       "      <td>170 MORTON ST\\nROSLINDALE, MA 02130\\n(42.30025...</td>\n",
       "    </tr>\n",
       "    <tr>\n",
       "      <th>1</th>\n",
       "      <td>Beth Israel Deaconess Medical Center East Cam</td>\n",
       "      <td>330 BROOKLINE AV</td>\n",
       "      <td>2115</td>\n",
       "      <td>FENWAY/KENMORE</td>\n",
       "      <td>71106780.0</td>\n",
       "      <td>42339726.0</td>\n",
       "      <td>330 BROOKLINE AV\\nFENWAY/KENMORE, MA 02115\\n(4...</td>\n",
       "    </tr>\n",
       "    <tr>\n",
       "      <th>2</th>\n",
       "      <td>Jewish Memorial Hospital</td>\n",
       "      <td>59 TOWNSEND ST</td>\n",
       "      <td>2119</td>\n",
       "      <td>ROXBURY</td>\n",
       "      <td>71092712.0</td>\n",
       "      <td>42318569.0</td>\n",
       "      <td>59 TOWNSEND ST\\nROXBURY, MA 02119\\n(42.3185628...</td>\n",
       "    </tr>\n",
       "    <tr>\n",
       "      <th>3</th>\n",
       "      <td>New England Baptist Hospital</td>\n",
       "      <td>125 PARKER HILL AV</td>\n",
       "      <td>2120</td>\n",
       "      <td>JAMAICA PLAIN</td>\n",
       "      <td>71107615.0</td>\n",
       "      <td>42329944.0</td>\n",
       "      <td>125 PARKER HILL AV\\nJAMAICA PLAIN, MA 02120\\n(...</td>\n",
       "    </tr>\n",
       "    <tr>\n",
       "      <th>4</th>\n",
       "      <td>Boston Specialty &amp; Rehabilitation Hospital</td>\n",
       "      <td>249 RIVER ST</td>\n",
       "      <td>2126</td>\n",
       "      <td>MATTAPAN</td>\n",
       "      <td>71081888.0</td>\n",
       "      <td>42271300.0</td>\n",
       "      <td>249 RIVER ST\\nMATTAPAN, MA 02126\\n(42.27137912...</td>\n",
       "    </tr>\n",
       "  </tbody>\n",
       "</table>\n",
       "</div>"
      ],
      "text/plain": [
       "                                            NAME                  AD  ZIPCODE  \\\n",
       "0                       Lemuel Shattuck Hospital       170 MORTON ST     2130   \n",
       "1  Beth Israel Deaconess Medical Center East Cam    330 BROOKLINE AV     2115   \n",
       "2                       Jewish Memorial Hospital      59 TOWNSEND ST     2119   \n",
       "3                   New England Baptist Hospital  125 PARKER HILL AV     2120   \n",
       "4     Boston Specialty & Rehabilitation Hospital        249 RIVER ST     2126   \n",
       "\n",
       "            NEIGH      XCOORD      YCOORD  \\\n",
       "0      ROSLINDALE  71106033.0  42300022.0   \n",
       "1  FENWAY/KENMORE  71106780.0  42339726.0   \n",
       "2         ROXBURY  71092712.0  42318569.0   \n",
       "3   JAMAICA PLAIN  71107615.0  42329944.0   \n",
       "4        MATTAPAN  71081888.0  42271300.0   \n",
       "\n",
       "                                            Location  \n",
       "0  170 MORTON ST\\nROSLINDALE, MA 02130\\n(42.30025...  \n",
       "1  330 BROOKLINE AV\\nFENWAY/KENMORE, MA 02115\\n(4...  \n",
       "2  59 TOWNSEND ST\\nROXBURY, MA 02119\\n(42.3185628...  \n",
       "3  125 PARKER HILL AV\\nJAMAICA PLAIN, MA 02120\\n(...  \n",
       "4  249 RIVER ST\\nMATTAPAN, MA 02126\\n(42.27137912...  "
      ]
     },
     "execution_count": 4,
     "metadata": {},
     "output_type": "execute_result"
    }
   ],
   "source": [
    "df.head()"
   ]
  },
  {
   "cell_type": "code",
   "execution_count": null,
   "metadata": {},
   "outputs": [],
   "source": []
  },
  {
   "cell_type": "code",
   "execution_count": null,
   "metadata": {},
   "outputs": [],
   "source": []
  },
  {
   "cell_type": "code",
   "execution_count": null,
   "metadata": {},
   "outputs": [],
   "source": []
  },
  {
   "cell_type": "code",
   "execution_count": null,
   "metadata": {},
   "outputs": [],
   "source": []
  },
  {
   "cell_type": "code",
   "execution_count": null,
   "metadata": {},
   "outputs": [],
   "source": []
  },
  {
   "cell_type": "code",
   "execution_count": null,
   "metadata": {},
   "outputs": [],
   "source": []
  }
 ],
 "metadata": {
  "kernelspec": {
   "display_name": "Python 3",
   "language": "python",
   "name": "python3"
  },
  "language_info": {
   "codemirror_mode": {
    "name": "ipython",
    "version": 3
   },
   "file_extension": ".py",
   "mimetype": "text/x-python",
   "name": "python",
   "nbconvert_exporter": "python",
   "pygments_lexer": "ipython3",
   "version": "3.6.5"
  }
 },
 "nbformat": 4,
 "nbformat_minor": 2
}
