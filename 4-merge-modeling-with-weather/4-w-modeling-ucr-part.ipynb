{
 "cells": [
  {
   "cell_type": "markdown",
   "metadata": {},
   "source": [
    "# 1. Import"
   ]
  },
  {
   "cell_type": "code",
   "execution_count": null,
   "metadata": {},
   "outputs": [],
   "source": [
    "import numpy as np\n",
    "import pandas as pd"
   ]
  },
  {
   "cell_type": "code",
   "execution_count": 62,
   "metadata": {},
   "outputs": [],
   "source": [
    "from sklearn.tree import DecisionTreeClassifier\n",
    "from sklearn.tree import ExtraTreeClassifier\n",
    "from sklearn.ensemble import RandomForestClassifier\n",
    "\n",
    "from lightgbm import LGBMClassifier\n",
    "\n",
    "from sklearn.naive_bayes import BernoulliNB\n",
    "from sklearn.neighbors import KNeighborsClassifier\n",
    "from sklearn.naive_bayes import GaussianNB"
   ]
  },
  {
   "cell_type": "code",
   "execution_count": 63,
   "metadata": {},
   "outputs": [],
   "source": [
    "from sklearn.cross_validation import train_test_split"
   ]
  },
  {
   "cell_type": "code",
   "execution_count": 64,
   "metadata": {},
   "outputs": [],
   "source": [
    "from sklearn.metrics import f1_score"
   ]
  },
  {
   "cell_type": "markdown",
   "metadata": {},
   "source": [
    "# 2. Functions"
   ]
  },
  {
   "cell_type": "code",
   "execution_count": 65,
   "metadata": {},
   "outputs": [],
   "source": [
    "# DecisionTreeClassifier\n",
    "\n",
    "def function_DecisionTreeClassifier(X_train, Y_train, X_test, Y_test):\n",
    "    \n",
    "    # fit\n",
    "    dec_tree = DecisionTreeClassifier()\n",
    "    dec_tree = dec_tree.fit(X_train, Y_train)\n",
    "\n",
    "    # predict\n",
    "    dec_tree_pred = dec_tree.predict(X_test)\n",
    "    \n",
    "    # score\n",
    "    dec_tree_score = f1_score(Y_test, dec_tree_pred, average=None)\n",
    "    dec_tree_score_micro = f1_score(Y_test, dec_tree_pred, average='micro')\n",
    "    \n",
    "    return dec_tree_score, dec_tree_score_micro"
   ]
  },
  {
   "cell_type": "code",
   "execution_count": 66,
   "metadata": {},
   "outputs": [],
   "source": [
    "# ExtraTreeClassifier\n",
    "\n",
    "def function_ExtraTreeClassifier(X_train, Y_train, X_test, Y_test):\n",
    "    \n",
    "    # fit\n",
    "    ext_tree = ExtraTreeClassifier()\n",
    "    ext_tree = ext_tree.fit(X_train, Y_train)\n",
    "\n",
    "    # predict\n",
    "    ext_tree_pred = ext_tree.predict(X_test)\n",
    "    \n",
    "    # score\n",
    "    ext_tree_score = f1_score(Y_test, ext_tree_pred, average=None)\n",
    "    ext_tree_score_micro = f1_score(Y_test, ext_tree_pred, average='micro')\n",
    "    \n",
    "    return ext_tree_score, ext_tree_score_micro"
   ]
  },
  {
   "cell_type": "code",
   "execution_count": 67,
   "metadata": {},
   "outputs": [],
   "source": [
    "# RandomForestClassifier\n",
    "\n",
    "def function_RandomForestClassifier(X_train, Y_train, X_test, Y_test):\n",
    "    \n",
    "    # fit\n",
    "    ran_for = RandomForestClassifier()\n",
    "    ran_for = ran_for.fit(X_train, Y_train)\n",
    "\n",
    "    # predict\n",
    "    ran_for_pred = ran_for.predict(X_test)\n",
    "    \n",
    "    # score\n",
    "    ran_for_score = f1_score(Y_test, ran_for_pred, average=None)\n",
    "    ran_for_score_micro = f1_score(Y_test, ran_for_pred, average='micro')\n",
    "    \n",
    "    return ran_for_score, ran_for_score_micro"
   ]
  },
  {
   "cell_type": "code",
   "execution_count": 68,
   "metadata": {},
   "outputs": [],
   "source": [
    "# LGBMClassifier\n",
    "\n",
    "def function_LGBMClassifier(X_train, Y_train, X_test, Y_test):\n",
    "    \n",
    "    # fit\n",
    "    lgbm = LGBMClassifier()\n",
    "    lgbm = lgbm.fit(X_train, Y_train)\n",
    "\n",
    "    # predict\n",
    "    lgbm_pred = lgbm.predict(X_test)\n",
    "    \n",
    "    # score\n",
    "    lgbm_score = f1_score(Y_test, lgbm_pred, average=None)\n",
    "    lgbm_score_micro = f1_score(Y_test, lgbm_pred, average='micro')\n",
    "    \n",
    "    return lgbm_score, lgbm_score_micro"
   ]
  },
  {
   "cell_type": "code",
   "execution_count": 69,
   "metadata": {},
   "outputs": [],
   "source": [
    "# BernoulliNB\n",
    "\n",
    "def function_BernoulliNB(X_train, Y_train, X_test, Y_test):\n",
    "    \n",
    "    # fit\n",
    "    bernoulli = BernoulliNB()\n",
    "    bernoulli = bernoulli.fit(X_train, Y_train)\n",
    "\n",
    "    # predict\n",
    "    bernoulli_pred = bernoulli.predict(X_test)\n",
    "    \n",
    "    # score\n",
    "    bernoulli_score = f1_score(Y_test, bernoulli_pred, average=None)\n",
    "    bernoulli_score_micro = f1_score(Y_test, bernoulli_pred, average='micro')\n",
    "    \n",
    "    return bernoulli_score, bernoulli_score_micro"
   ]
  },
  {
   "cell_type": "code",
   "execution_count": 70,
   "metadata": {},
   "outputs": [],
   "source": [
    "# KNeighborsClassifier\n",
    "\n",
    "def function_KNeighborsClassifier(X_train, Y_train, X_test, Y_test):\n",
    "    \n",
    "    # fit\n",
    "    kn = KNeighborsClassifier()\n",
    "    kn = kn.fit(X_train, Y_train)\n",
    "\n",
    "    # predict\n",
    "    kn_pred = kn.predict(X_test)\n",
    "    \n",
    "    # score\n",
    "    kn_score = f1_score(Y_test, kn_pred, average=None)\n",
    "    kn_score_micro = f1_score(Y_test, kn_pred, average='micro')\n",
    "    \n",
    "    return kn_score, kn_score_micro"
   ]
  },
  {
   "cell_type": "code",
   "execution_count": 71,
   "metadata": {},
   "outputs": [],
   "source": [
    "# GaussianNB\n",
    "\n",
    "def function_GaussianNB(X_train, Y_train, X_test, Y_test):\n",
    "    \n",
    "    # fit\n",
    "    gaus = GaussianNB()\n",
    "    gaus = gaus.fit(X_train, Y_train)\n",
    "\n",
    "    # predict\n",
    "    gaus_pred = gaus.predict(X_test)\n",
    "    \n",
    "    # score\n",
    "    gaus_score = f1_score(Y_test, gaus_pred, average=None)\n",
    "    gaus_score_micro = f1_score(Y_test, gaus_pred, average='micro')\n",
    "    \n",
    "    return gaus_score, gaus_score_micro"
   ]
  },
  {
   "cell_type": "markdown",
   "metadata": {},
   "source": [
    "# 3. Data"
   ]
  },
  {
   "cell_type": "code",
   "execution_count": 72,
   "metadata": {},
   "outputs": [],
   "source": [
    "df = pd.read_csv('crimes.csv')"
   ]
  },
  {
   "cell_type": "code",
   "execution_count": 73,
   "metadata": {},
   "outputs": [
    {
     "data": {
      "text/plain": [
       "Index(['Unnamed: 0', 'DAY_OF_WEEK', 'DISTRICT', 'HOUR', 'Lat', 'Long', 'MONTH',\n",
       "       'OCCURRED_ON_DATE', 'OFFENSE_CODE_GROUP', 'REPORTING_AREA', 'SHOOTING',\n",
       "       'UCR_PART', 'YEAR', 'Day', 'Night', 'ToNight', 'ToDay', 'DayNumber',\n",
       "       'precipitation', 'temperature', 'dewpoint', 'humidity', 'wind'],\n",
       "      dtype='object')"
      ]
     },
     "execution_count": 73,
     "metadata": {},
     "output_type": "execute_result"
    }
   ],
   "source": [
    "df.columns"
   ]
  },
  {
   "cell_type": "code",
   "execution_count": 74,
   "metadata": {},
   "outputs": [],
   "source": [
    "df = df[[\n",
    "    'DAY_OF_WEEK', \n",
    "    'DISTRICT', \n",
    "    'HOUR', \n",
    "    'Lat', \n",
    "    'Long', \n",
    "    'MONTH',\n",
    "    'REPORTING_AREA',\n",
    "    'UCR_PART',\n",
    "    'Day', \n",
    "    'Night', \n",
    "    'ToNight', \n",
    "    'ToDay', \n",
    "    'precipitation', \n",
    "    'temperature', \n",
    "    'dewpoint', \n",
    "    'humidity', \n",
    "    'wind'\n",
    "]]"
   ]
  },
  {
   "cell_type": "code",
   "execution_count": 75,
   "metadata": {},
   "outputs": [
    {
     "data": {
      "text/plain": [
       "Index(['DAY_OF_WEEK', 'DISTRICT', 'HOUR', 'Lat', 'Long', 'MONTH',\n",
       "       'REPORTING_AREA', 'UCR_PART', 'Day', 'Night', 'ToNight', 'ToDay',\n",
       "       'precipitation', 'temperature', 'dewpoint', 'humidity', 'wind'],\n",
       "      dtype='object')"
      ]
     },
     "execution_count": 75,
     "metadata": {},
     "output_type": "execute_result"
    }
   ],
   "source": [
    "df.columns"
   ]
  },
  {
   "cell_type": "code",
   "execution_count": 76,
   "metadata": {},
   "outputs": [
    {
     "data": {
      "text/plain": [
       "array([7, 1, 2, 3, 5, 4, 6])"
      ]
     },
     "execution_count": 76,
     "metadata": {},
     "output_type": "execute_result"
    }
   ],
   "source": [
    "# DAY_OF_WEEK\n",
    "\n",
    "df['DAY_OF_WEEK'] = df['DAY_OF_WEEK'].map({\n",
    "    'Tuesday':2, \n",
    "    'Saturday':6, \n",
    "    'Monday':1, \n",
    "    'Sunday':7, \n",
    "    'Thursday':4, \n",
    "    'Wednesday':3,\n",
    "    'Friday':5\n",
    "})\n",
    "\n",
    "df['DAY_OF_WEEK'].unique()"
   ]
  },
  {
   "cell_type": "code",
   "execution_count": 77,
   "metadata": {},
   "outputs": [
    {
     "data": {
      "text/plain": [
       "array([ 1.,  2.,  3.,  4.])"
      ]
     },
     "execution_count": 77,
     "metadata": {},
     "output_type": "execute_result"
    }
   ],
   "source": [
    "df.UCR_PART.unique()"
   ]
  },
  {
   "cell_type": "code",
   "execution_count": 78,
   "metadata": {},
   "outputs": [],
   "source": [
    "df = df.loc[(df.UCR_PART == 1) | (df.UCR_PART == 2) | (df.UCR_PART == 3)]"
   ]
  },
  {
   "cell_type": "code",
   "execution_count": 79,
   "metadata": {},
   "outputs": [
    {
     "data": {
      "text/plain": [
       "DAY_OF_WEEK         0\n",
       "DISTRICT           94\n",
       "HOUR                0\n",
       "Lat               733\n",
       "Long              733\n",
       "MONTH               0\n",
       "REPORTING_AREA    589\n",
       "UCR_PART            0\n",
       "Day                 0\n",
       "Night               0\n",
       "ToNight             0\n",
       "ToDay               0\n",
       "precipitation       0\n",
       "temperature         0\n",
       "dewpoint            0\n",
       "humidity            0\n",
       "wind                0\n",
       "dtype: int64"
      ]
     },
     "execution_count": 79,
     "metadata": {},
     "output_type": "execute_result"
    }
   ],
   "source": [
    "df.isnull().sum()"
   ]
  },
  {
   "cell_type": "code",
   "execution_count": 80,
   "metadata": {},
   "outputs": [],
   "source": [
    "df = df.dropna()"
   ]
  },
  {
   "cell_type": "code",
   "execution_count": 81,
   "metadata": {},
   "outputs": [],
   "source": [
    "x = df.drop('UCR_PART',1)"
   ]
  },
  {
   "cell_type": "code",
   "execution_count": 82,
   "metadata": {},
   "outputs": [
    {
     "data": {
      "text/plain": [
       "DAY_OF_WEEK       0\n",
       "DISTRICT          0\n",
       "HOUR              0\n",
       "Lat               0\n",
       "Long              0\n",
       "MONTH             0\n",
       "REPORTING_AREA    0\n",
       "Day               0\n",
       "Night             0\n",
       "ToNight           0\n",
       "ToDay             0\n",
       "precipitation     0\n",
       "temperature       0\n",
       "dewpoint          0\n",
       "humidity          0\n",
       "wind              0\n",
       "dtype: int64"
      ]
     },
     "execution_count": 82,
     "metadata": {},
     "output_type": "execute_result"
    }
   ],
   "source": [
    "x.isnull().sum()"
   ]
  },
  {
   "cell_type": "code",
   "execution_count": 83,
   "metadata": {},
   "outputs": [],
   "source": [
    "y = df.UCR_PART"
   ]
  },
  {
   "cell_type": "markdown",
   "metadata": {},
   "source": [
    "# 4. Split data"
   ]
  },
  {
   "cell_type": "code",
   "execution_count": 84,
   "metadata": {},
   "outputs": [
    {
     "name": "stdout",
     "output_type": "stream",
     "text": [
      "(234279, 16) (234279,)\n",
      "(26031, 16) (26031,)\n"
     ]
    }
   ],
   "source": [
    "# Split dataframe into random train and test subsets\n",
    "\n",
    "X_train, X_test, Y_train, Y_test = train_test_split(\n",
    "    x,\n",
    "    y, \n",
    "    test_size = 0.1,\n",
    "    random_state=42\n",
    ")\n",
    "\n",
    "print(X_train.shape, Y_train.shape)\n",
    "print(X_test.shape, Y_test.shape)"
   ]
  },
  {
   "cell_type": "markdown",
   "metadata": {},
   "source": [
    "# 5. Modeling \n",
    "\n",
    "X - > 'DAY_OF_WEEK', \n",
    "    'DISTRICT', \n",
    "    'HOUR', \n",
    "    'Lat', \n",
    "    'Long', \n",
    "    'MONTH',\n",
    "    'REPORTING_AREA',\n",
    "    'UCR_PART',\n",
    "    'Day', \n",
    "    'Night', \n",
    "    'ToNight', \n",
    "    'ToDay', \n",
    "    'precipitation', \n",
    "    'temperature', \n",
    "    'dewpoint', \n",
    "    'humidity', \n",
    "    'wind'\n",
    "    \n",
    "Y - > UCR_part"
   ]
  },
  {
   "cell_type": "code",
   "execution_count": 85,
   "metadata": {},
   "outputs": [
    {
     "data": {
      "text/plain": [
       "(array([ 0.33415343,  0.43678956,  0.40043443]), 0.39748761092543505)"
      ]
     },
     "execution_count": 85,
     "metadata": {},
     "output_type": "execute_result"
    }
   ],
   "source": [
    "function_DecisionTreeClassifier(X_train, Y_train, X_test, Y_test)"
   ]
  },
  {
   "cell_type": "code",
   "execution_count": 86,
   "metadata": {},
   "outputs": [
    {
     "data": {
      "text/plain": [
       "(array([ 0.31425815,  0.4189911 ,  0.38706516]), 0.38062310322308018)"
      ]
     },
     "execution_count": 86,
     "metadata": {},
     "output_type": "execute_result"
    }
   ],
   "source": [
    "function_ExtraTreeClassifier(X_train, Y_train, X_test, Y_test)"
   ]
  },
  {
   "cell_type": "code",
   "execution_count": 87,
   "metadata": {},
   "outputs": [
    {
     "data": {
      "text/plain": [
       "(array([ 0.35501773,  0.46726799,  0.39408419]), 0.41458261303830046)"
      ]
     },
     "execution_count": 87,
     "metadata": {},
     "output_type": "execute_result"
    }
   ],
   "source": [
    "function_RandomForestClassifier(X_train, Y_train, X_test, Y_test)"
   ]
  },
  {
   "cell_type": "code",
   "execution_count": 88,
   "metadata": {},
   "outputs": [
    {
     "data": {
      "text/plain": [
       "(array([ 0.30267247,  0.53409974,  0.39327731]), 0.44612193154316004)"
      ]
     },
     "execution_count": 88,
     "metadata": {},
     "output_type": "execute_result"
    }
   ],
   "source": [
    "function_LGBMClassifier(X_train, Y_train, X_test, Y_test)"
   ]
  },
  {
   "cell_type": "code",
   "execution_count": 89,
   "metadata": {},
   "outputs": [
    {
     "name": "stderr",
     "output_type": "stream",
     "text": [
      "/home/olexandr/anaconda3/lib/python3.6/site-packages/sklearn/metrics/classification.py:1135: UndefinedMetricWarning: F-score is ill-defined and being set to 0.0 in labels with no predicted samples.\n",
      "  'precision', 'predicted', average, warn_for)\n"
     ]
    },
    {
     "data": {
      "text/plain": [
       "(array([ 0.        ,  0.45718402,  0.42622651]), 0.38630863201567367)"
      ]
     },
     "execution_count": 89,
     "metadata": {},
     "output_type": "execute_result"
    }
   ],
   "source": [
    "function_BernoulliNB(X_train, Y_train, X_test, Y_test)"
   ]
  },
  {
   "cell_type": "code",
   "execution_count": 90,
   "metadata": {},
   "outputs": [
    {
     "data": {
      "text/plain": [
       "(array([ 0.33083322,  0.44188209,  0.33144512]), 0.37689677691982637)"
      ]
     },
     "execution_count": 90,
     "metadata": {},
     "output_type": "execute_result"
    }
   ],
   "source": [
    "function_KNeighborsClassifier(X_train, Y_train, X_test, Y_test)"
   ]
  },
  {
   "cell_type": "code",
   "execution_count": 91,
   "metadata": {},
   "outputs": [
    {
     "data": {
      "text/plain": [
       "(array([ 0.38760984,  0.29073707,  0.34658524]), 0.34585686297107293)"
      ]
     },
     "execution_count": 91,
     "metadata": {},
     "output_type": "execute_result"
    }
   ],
   "source": [
    "function_GaussianNB(X_train, Y_train, X_test, Y_test)"
   ]
  },
  {
   "cell_type": "code",
   "execution_count": null,
   "metadata": {},
   "outputs": [],
   "source": []
  }
 ],
 "metadata": {
  "kernelspec": {
   "display_name": "Python 3",
   "language": "python",
   "name": "python3"
  },
  "language_info": {
   "codemirror_mode": {
    "name": "ipython",
    "version": 3
   },
   "file_extension": ".py",
   "mimetype": "text/x-python",
   "name": "python",
   "nbconvert_exporter": "python",
   "pygments_lexer": "ipython3",
   "version": "3.6.5"
  }
 },
 "nbformat": 4,
 "nbformat_minor": 2
}
