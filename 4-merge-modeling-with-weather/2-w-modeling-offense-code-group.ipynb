{
 "cells": [
  {
   "cell_type": "markdown",
   "metadata": {},
   "source": [
    "# 1. Import"
   ]
  },
  {
   "cell_type": "code",
   "execution_count": null,
   "metadata": {},
   "outputs": [],
   "source": [
    "import numpy as np\n",
    "import pandas as pd"
   ]
  },
  {
   "cell_type": "code",
   "execution_count": 134,
   "metadata": {},
   "outputs": [],
   "source": [
    "from sklearn.tree import DecisionTreeClassifier\n",
    "from sklearn.tree import ExtraTreeClassifier\n",
    "from sklearn.ensemble import RandomForestClassifier\n",
    "\n",
    "from lightgbm import LGBMClassifier\n",
    "\n",
    "from sklearn.naive_bayes import BernoulliNB\n",
    "from sklearn.neighbors import KNeighborsClassifier\n",
    "from sklearn.naive_bayes import GaussianNB"
   ]
  },
  {
   "cell_type": "code",
   "execution_count": 135,
   "metadata": {},
   "outputs": [],
   "source": [
    "from sklearn.cross_validation import train_test_split"
   ]
  },
  {
   "cell_type": "code",
   "execution_count": 136,
   "metadata": {},
   "outputs": [],
   "source": [
    "from sklearn.metrics import f1_score"
   ]
  },
  {
   "cell_type": "markdown",
   "metadata": {},
   "source": [
    "# 2. Functions"
   ]
  },
  {
   "cell_type": "code",
   "execution_count": 137,
   "metadata": {},
   "outputs": [],
   "source": [
    "# DecisionTreeClassifier\n",
    "\n",
    "def function_DecisionTreeClassifier(X_train, Y_train, X_test, Y_test):\n",
    "    \n",
    "    # fit\n",
    "    dec_tree = DecisionTreeClassifier()\n",
    "    dec_tree = dec_tree.fit(X_train, Y_train)\n",
    "\n",
    "    # predict\n",
    "    dec_tree_pred = dec_tree.predict(X_test)\n",
    "    \n",
    "    # score\n",
    "    dec_tree_score = f1_score(Y_test, dec_tree_pred, average=None)\n",
    "    dec_tree_score_micro = f1_score(Y_test, dec_tree_pred, average='micro')\n",
    "    \n",
    "    return dec_tree_score, dec_tree_score_micro"
   ]
  },
  {
   "cell_type": "code",
   "execution_count": 138,
   "metadata": {},
   "outputs": [],
   "source": [
    "# ExtraTreeClassifier\n",
    "\n",
    "def function_ExtraTreeClassifier(X_train, Y_train, X_test, Y_test):\n",
    "    \n",
    "    # fit\n",
    "    ext_tree = ExtraTreeClassifier()\n",
    "    ext_tree = ext_tree.fit(X_train, Y_train)\n",
    "\n",
    "    # predict\n",
    "    ext_tree_pred = ext_tree.predict(X_test)\n",
    "    \n",
    "    # score\n",
    "    ext_tree_score = f1_score(Y_test, ext_tree_pred, average=None)\n",
    "    ext_tree_score_micro = f1_score(Y_test, ext_tree_pred, average='micro')\n",
    "    \n",
    "    return ext_tree_score, ext_tree_score_micro"
   ]
  },
  {
   "cell_type": "code",
   "execution_count": 139,
   "metadata": {},
   "outputs": [],
   "source": [
    "# RandomForestClassifier\n",
    "\n",
    "def function_RandomForestClassifier(X_train, Y_train, X_test, Y_test):\n",
    "    \n",
    "    # fit\n",
    "    ran_for = RandomForestClassifier()\n",
    "    ran_for = ran_for.fit(X_train, Y_train)\n",
    "\n",
    "    # predict\n",
    "    ran_for_pred = ran_for.predict(X_test)\n",
    "    \n",
    "    # score\n",
    "    ran_for_score = f1_score(Y_test, ran_for_pred, average=None)\n",
    "    ran_for_score_micro = f1_score(Y_test, ran_for_pred, average='micro')\n",
    "    \n",
    "    return ran_for_score, ran_for_score_micro"
   ]
  },
  {
   "cell_type": "code",
   "execution_count": 140,
   "metadata": {},
   "outputs": [],
   "source": [
    "# LGBMClassifier\n",
    "\n",
    "def function_LGBMClassifier(X_train, Y_train, X_test, Y_test):\n",
    "    \n",
    "    # fit\n",
    "    lgbm = LGBMClassifier()\n",
    "    lgbm = lgbm.fit(X_train, Y_train)\n",
    "\n",
    "    # predict\n",
    "    lgbm_pred = lgbm.predict(X_test)\n",
    "    \n",
    "    # score\n",
    "    lgbm_score = f1_score(Y_test, lgbm_pred, average=None)\n",
    "    lgbm_score_micro = f1_score(Y_test, lgbm_pred, average='micro')\n",
    "    \n",
    "    return lgbm_score, lgbm_score_micro"
   ]
  },
  {
   "cell_type": "code",
   "execution_count": 141,
   "metadata": {},
   "outputs": [],
   "source": [
    "# BernoulliNB\n",
    "\n",
    "def function_BernoulliNB(X_train, Y_train, X_test, Y_test):\n",
    "    \n",
    "    # fit\n",
    "    bernoulli = BernoulliNB()\n",
    "    bernoulli = bernoulli.fit(X_train, Y_train)\n",
    "\n",
    "    # predict\n",
    "    bernoulli_pred = bernoulli.predict(X_test)\n",
    "    \n",
    "    # score\n",
    "    bernoulli_score = f1_score(Y_test, bernoulli_pred, average=None)\n",
    "    bernoulli_score_micro = f1_score(Y_test, bernoulli_pred, average='micro')\n",
    "    \n",
    "    return bernoulli_score, bernoulli_score_micro"
   ]
  },
  {
   "cell_type": "code",
   "execution_count": 142,
   "metadata": {},
   "outputs": [],
   "source": [
    "# KNeighborsClassifier\n",
    "\n",
    "def function_KNeighborsClassifier(X_train, Y_train, X_test, Y_test):\n",
    "    \n",
    "    # fit\n",
    "    kn = KNeighborsClassifier()\n",
    "    kn = kn.fit(X_train, Y_train)\n",
    "\n",
    "    # predict\n",
    "    kn_pred = kn.predict(X_test)\n",
    "    \n",
    "    # score\n",
    "    kn_score = f1_score(Y_test, kn_pred, average=None)\n",
    "    kn_score_micro = f1_score(Y_test, kn_pred, average='micro')\n",
    "    \n",
    "    return kn_score, kn_score_micro"
   ]
  },
  {
   "cell_type": "code",
   "execution_count": 143,
   "metadata": {},
   "outputs": [],
   "source": [
    "# GaussianNB\n",
    "\n",
    "def function_GaussianNB(X_train, Y_train, X_test, Y_test):\n",
    "    \n",
    "    # fit\n",
    "    gaus = GaussianNB()\n",
    "    gaus = gaus.fit(X_train, Y_train)\n",
    "\n",
    "    # predict\n",
    "    gaus_pred = gaus.predict(X_test)\n",
    "    \n",
    "    # score\n",
    "    gaus_score = f1_score(Y_test, gaus_pred, average=None)\n",
    "    gaus_score_micro = f1_score(Y_test, gaus_pred, average='micro')\n",
    "    \n",
    "    return gaus_score, gaus_score_micro"
   ]
  },
  {
   "cell_type": "markdown",
   "metadata": {},
   "source": [
    "# 3. Data"
   ]
  },
  {
   "cell_type": "code",
   "execution_count": 144,
   "metadata": {},
   "outputs": [],
   "source": [
    "df = pd.read_csv('crimes.csv')"
   ]
  },
  {
   "cell_type": "code",
   "execution_count": 145,
   "metadata": {},
   "outputs": [
    {
     "data": {
      "text/plain": [
       "Index(['Unnamed: 0', 'DAY_OF_WEEK', 'DISTRICT', 'HOUR', 'Lat', 'Long', 'MONTH',\n",
       "       'OCCURRED_ON_DATE', 'OFFENSE_CODE_GROUP', 'REPORTING_AREA', 'SHOOTING',\n",
       "       'UCR_PART', 'YEAR', 'Day', 'Night', 'ToNight', 'ToDay', 'DayNumber',\n",
       "       'precipitation', 'temperature', 'dewpoint', 'humidity', 'wind'],\n",
       "      dtype='object')"
      ]
     },
     "execution_count": 145,
     "metadata": {},
     "output_type": "execute_result"
    }
   ],
   "source": [
    "df.columns"
   ]
  },
  {
   "cell_type": "code",
   "execution_count": 146,
   "metadata": {},
   "outputs": [],
   "source": [
    "df = df.drop('Unnamed: 0',1)"
   ]
  },
  {
   "cell_type": "code",
   "execution_count": 147,
   "metadata": {},
   "outputs": [],
   "source": [
    "df = df[[\n",
    "    'DAY_OF_WEEK',\n",
    "    'DISTRICT',\n",
    "    'HOUR',\n",
    "    'Lat', \n",
    "    'Long', \n",
    "    'MONTH',\n",
    "    'OFFENSE_CODE_GROUP', \n",
    "    'REPORTING_AREA',\n",
    "    'UCR_PART',\n",
    "    'Day', \n",
    "    'Night',\n",
    "    'ToNight', \n",
    "    'ToDay',\n",
    "    'precipitation', \n",
    "    'temperature', \n",
    "    'dewpoint', \n",
    "    'humidity', \n",
    "    'wind'\n",
    "]]"
   ]
  },
  {
   "cell_type": "code",
   "execution_count": 148,
   "metadata": {},
   "outputs": [
    {
     "data": {
      "text/html": [
       "<div>\n",
       "<style scoped>\n",
       "    .dataframe tbody tr th:only-of-type {\n",
       "        vertical-align: middle;\n",
       "    }\n",
       "\n",
       "    .dataframe tbody tr th {\n",
       "        vertical-align: top;\n",
       "    }\n",
       "\n",
       "    .dataframe thead th {\n",
       "        text-align: right;\n",
       "    }\n",
       "</style>\n",
       "<table border=\"1\" class=\"dataframe\">\n",
       "  <thead>\n",
       "    <tr style=\"text-align: right;\">\n",
       "      <th></th>\n",
       "      <th>DAY_OF_WEEK</th>\n",
       "      <th>DISTRICT</th>\n",
       "      <th>HOUR</th>\n",
       "      <th>Lat</th>\n",
       "      <th>Long</th>\n",
       "      <th>MONTH</th>\n",
       "      <th>OFFENSE_CODE_GROUP</th>\n",
       "      <th>REPORTING_AREA</th>\n",
       "      <th>UCR_PART</th>\n",
       "      <th>Day</th>\n",
       "      <th>Night</th>\n",
       "      <th>ToNight</th>\n",
       "      <th>ToDay</th>\n",
       "      <th>precipitation</th>\n",
       "      <th>temperature</th>\n",
       "      <th>dewpoint</th>\n",
       "      <th>humidity</th>\n",
       "      <th>wind</th>\n",
       "    </tr>\n",
       "  </thead>\n",
       "  <tbody>\n",
       "    <tr>\n",
       "      <th>0</th>\n",
       "      <td>Sunday</td>\n",
       "      <td>2.0</td>\n",
       "      <td>6</td>\n",
       "      <td>42.346381</td>\n",
       "      <td>-71.103794</td>\n",
       "      <td>7</td>\n",
       "      <td>Residential Burglary</td>\n",
       "      <td>629.0</td>\n",
       "      <td>1.0</td>\n",
       "      <td>1</td>\n",
       "      <td>0</td>\n",
       "      <td>16</td>\n",
       "      <td>0</td>\n",
       "      <td>0.0</td>\n",
       "      <td>80.0</td>\n",
       "      <td>59.0</td>\n",
       "      <td>51.0</td>\n",
       "      <td>9.0</td>\n",
       "    </tr>\n",
       "    <tr>\n",
       "      <th>1</th>\n",
       "      <td>Sunday</td>\n",
       "      <td>1.0</td>\n",
       "      <td>6</td>\n",
       "      <td>42.316841</td>\n",
       "      <td>-71.074585</td>\n",
       "      <td>7</td>\n",
       "      <td>Aggravated Assault</td>\n",
       "      <td>327.0</td>\n",
       "      <td>1.0</td>\n",
       "      <td>1</td>\n",
       "      <td>0</td>\n",
       "      <td>16</td>\n",
       "      <td>0</td>\n",
       "      <td>0.0</td>\n",
       "      <td>80.0</td>\n",
       "      <td>59.0</td>\n",
       "      <td>51.0</td>\n",
       "      <td>9.0</td>\n",
       "    </tr>\n",
       "    <tr>\n",
       "      <th>2</th>\n",
       "      <td>Sunday</td>\n",
       "      <td>2.0</td>\n",
       "      <td>6</td>\n",
       "      <td>42.342841</td>\n",
       "      <td>-71.096990</td>\n",
       "      <td>7</td>\n",
       "      <td>Robbery</td>\n",
       "      <td>625.0</td>\n",
       "      <td>1.0</td>\n",
       "      <td>1</td>\n",
       "      <td>0</td>\n",
       "      <td>16</td>\n",
       "      <td>0</td>\n",
       "      <td>0.0</td>\n",
       "      <td>80.0</td>\n",
       "      <td>59.0</td>\n",
       "      <td>51.0</td>\n",
       "      <td>9.0</td>\n",
       "    </tr>\n",
       "    <tr>\n",
       "      <th>3</th>\n",
       "      <td>Sunday</td>\n",
       "      <td>1.0</td>\n",
       "      <td>6</td>\n",
       "      <td>42.316441</td>\n",
       "      <td>-71.065829</td>\n",
       "      <td>7</td>\n",
       "      <td>Other</td>\n",
       "      <td>258.0</td>\n",
       "      <td>1.0</td>\n",
       "      <td>1</td>\n",
       "      <td>0</td>\n",
       "      <td>16</td>\n",
       "      <td>0</td>\n",
       "      <td>0.0</td>\n",
       "      <td>80.0</td>\n",
       "      <td>59.0</td>\n",
       "      <td>51.0</td>\n",
       "      <td>9.0</td>\n",
       "    </tr>\n",
       "    <tr>\n",
       "      <th>4</th>\n",
       "      <td>Sunday</td>\n",
       "      <td>9.0</td>\n",
       "      <td>7</td>\n",
       "      <td>42.270516</td>\n",
       "      <td>-71.119900</td>\n",
       "      <td>7</td>\n",
       "      <td>Robbery</td>\n",
       "      <td>496.0</td>\n",
       "      <td>1.0</td>\n",
       "      <td>1</td>\n",
       "      <td>0</td>\n",
       "      <td>15</td>\n",
       "      <td>0</td>\n",
       "      <td>0.0</td>\n",
       "      <td>80.0</td>\n",
       "      <td>59.0</td>\n",
       "      <td>51.0</td>\n",
       "      <td>9.0</td>\n",
       "    </tr>\n",
       "  </tbody>\n",
       "</table>\n",
       "</div>"
      ],
      "text/plain": [
       "  DAY_OF_WEEK  DISTRICT  HOUR        Lat       Long  MONTH  \\\n",
       "0      Sunday       2.0     6  42.346381 -71.103794      7   \n",
       "1      Sunday       1.0     6  42.316841 -71.074585      7   \n",
       "2      Sunday       2.0     6  42.342841 -71.096990      7   \n",
       "3      Sunday       1.0     6  42.316441 -71.065829      7   \n",
       "4      Sunday       9.0     7  42.270516 -71.119900      7   \n",
       "\n",
       "     OFFENSE_CODE_GROUP  REPORTING_AREA  UCR_PART  Day  Night  ToNight  ToDay  \\\n",
       "0  Residential Burglary           629.0       1.0    1      0       16      0   \n",
       "1    Aggravated Assault           327.0       1.0    1      0       16      0   \n",
       "2               Robbery           625.0       1.0    1      0       16      0   \n",
       "3                 Other           258.0       1.0    1      0       16      0   \n",
       "4               Robbery           496.0       1.0    1      0       15      0   \n",
       "\n",
       "   precipitation  temperature  dewpoint  humidity  wind  \n",
       "0            0.0         80.0      59.0      51.0   9.0  \n",
       "1            0.0         80.0      59.0      51.0   9.0  \n",
       "2            0.0         80.0      59.0      51.0   9.0  \n",
       "3            0.0         80.0      59.0      51.0   9.0  \n",
       "4            0.0         80.0      59.0      51.0   9.0  "
      ]
     },
     "execution_count": 148,
     "metadata": {},
     "output_type": "execute_result"
    }
   ],
   "source": [
    "df.head()"
   ]
  },
  {
   "cell_type": "code",
   "execution_count": null,
   "metadata": {},
   "outputs": [],
   "source": []
  },
  {
   "cell_type": "code",
   "execution_count": 149,
   "metadata": {},
   "outputs": [
    {
     "data": {
      "text/plain": [
       "array([7, 1, 2, 3, 5, 4, 6])"
      ]
     },
     "execution_count": 149,
     "metadata": {},
     "output_type": "execute_result"
    }
   ],
   "source": [
    "# DAY_OF_WEEK\n",
    "\n",
    "df['DAY_OF_WEEK'] = df['DAY_OF_WEEK'].map({\n",
    "    'Tuesday':2, \n",
    "    'Saturday':6, \n",
    "    'Monday':1, \n",
    "    'Sunday':7, \n",
    "    'Thursday':4, \n",
    "    'Wednesday':3,\n",
    "    'Friday':5\n",
    "})\n",
    "\n",
    "df['DAY_OF_WEEK'].unique()"
   ]
  },
  {
   "cell_type": "code",
   "execution_count": 150,
   "metadata": {},
   "outputs": [
    {
     "data": {
      "text/plain": [
       "DAY_OF_WEEK             0\n",
       "DISTRICT               97\n",
       "HOUR                    0\n",
       "Lat                   736\n",
       "Long                  736\n",
       "MONTH                   0\n",
       "OFFENSE_CODE_GROUP      0\n",
       "REPORTING_AREA        592\n",
       "UCR_PART                0\n",
       "Day                     0\n",
       "Night                   0\n",
       "ToNight                 0\n",
       "ToDay                   0\n",
       "precipitation           0\n",
       "temperature             0\n",
       "dewpoint                0\n",
       "humidity                0\n",
       "wind                    0\n",
       "dtype: int64"
      ]
     },
     "execution_count": 150,
     "metadata": {},
     "output_type": "execute_result"
    }
   ],
   "source": [
    "df.isnull().sum()"
   ]
  },
  {
   "cell_type": "code",
   "execution_count": 151,
   "metadata": {},
   "outputs": [],
   "source": [
    "df.fillna(0, inplace = True)"
   ]
  },
  {
   "cell_type": "code",
   "execution_count": null,
   "metadata": {},
   "outputs": [],
   "source": []
  },
  {
   "cell_type": "code",
   "execution_count": 152,
   "metadata": {},
   "outputs": [
    {
     "data": {
      "text/plain": [
       "array(['Residential Burglary', 'Aggravated Assault', 'Robbery', 'Other',\n",
       "       'Simple Assault', 'Medical Assistance', 'Violations', 'Fraud',\n",
       "       'Property Found', 'Investigate Person', 'Towed',\n",
       "       'Investigate Property', 'Drug Violation', 'Missing Person Located',\n",
       "       'Property Lost', 'Larceny', 'Auto Theft', 'Warrant Arrests',\n",
       "       'Vandalism', 'Motor Vehicle Accident Response',\n",
       "       'Larceny From Motor Vehicle', 'Verbal Disputes'], dtype=object)"
      ]
     },
     "execution_count": 152,
     "metadata": {},
     "output_type": "execute_result"
    }
   ],
   "source": [
    "df.OFFENSE_CODE_GROUP.unique()"
   ]
  },
  {
   "cell_type": "code",
   "execution_count": 153,
   "metadata": {},
   "outputs": [
    {
     "data": {
      "text/plain": [
       "Other                              41210\n",
       "Violations                         27888\n",
       "Larceny                            26485\n",
       "Simple Assault                     18744\n",
       "Medical Assistance                 18236\n",
       "Motor Vehicle Accident Response    16022\n",
       "Vandalism                          14378\n",
       "Investigate Person                 13824\n",
       "Larceny From Motor Vehicle         13570\n",
       "Drug Violation                     13291\n",
       "Property Lost                       9157\n",
       "Fraud                               9153\n",
       "Towed                               8065\n",
       "Residential Burglary                7345\n",
       "Investigate Property                7062\n",
       "Aggravated Assault                  6257\n",
       "Robbery                             5315\n",
       "Missing Person Located              5051\n",
       "Auto Theft                          5027\n",
       "Property Found                      4579\n",
       "Verbal Disputes                     3419\n",
       "Warrant Arrests                     2477\n",
       "Name: OFFENSE_CODE_GROUP, dtype: int64"
      ]
     },
     "execution_count": 153,
     "metadata": {},
     "output_type": "execute_result"
    }
   ],
   "source": [
    "df.OFFENSE_CODE_GROUP.value_counts()"
   ]
  },
  {
   "cell_type": "code",
   "execution_count": 154,
   "metadata": {},
   "outputs": [],
   "source": [
    "list_offense_code_group = (\n",
    "    'Other',\n",
    "    'Motor Vehicle Accident Response',\n",
    "    'Larceny',\n",
    "    'Medical Assistance',\n",
    "    'Simple Assault',\n",
    "    'Violations',\n",
    "    'Investigate Person',\n",
    "    'Vandalism',\n",
    "    'Drug Violation',\n",
    "    'Larceny From Motor Vehicle'\n",
    ")"
   ]
  },
  {
   "cell_type": "code",
   "execution_count": 155,
   "metadata": {},
   "outputs": [
    {
     "data": {
      "text/plain": [
       "(276555, 18)"
      ]
     },
     "execution_count": 155,
     "metadata": {},
     "output_type": "execute_result"
    }
   ],
   "source": [
    "df.shape"
   ]
  },
  {
   "cell_type": "code",
   "execution_count": 156,
   "metadata": {},
   "outputs": [],
   "source": [
    "df_model_1 = pd.DataFrame()"
   ]
  },
  {
   "cell_type": "code",
   "execution_count": 157,
   "metadata": {},
   "outputs": [],
   "source": [
    "i = 0\n",
    "\n",
    "while i < len(list_offense_code_group):\n",
    "\n",
    "    df_model_1 = df_model_1.append(df.loc[df['OFFENSE_CODE_GROUP'] == list_offense_code_group[i]])\n",
    "    \n",
    "    i+=1"
   ]
  },
  {
   "cell_type": "code",
   "execution_count": 158,
   "metadata": {},
   "outputs": [
    {
     "data": {
      "text/plain": [
       "(203648, 18)"
      ]
     },
     "execution_count": 158,
     "metadata": {},
     "output_type": "execute_result"
    }
   ],
   "source": [
    "df_model_1.shape"
   ]
  },
  {
   "cell_type": "code",
   "execution_count": 159,
   "metadata": {},
   "outputs": [
    {
     "data": {
      "text/html": [
       "<div>\n",
       "<style scoped>\n",
       "    .dataframe tbody tr th:only-of-type {\n",
       "        vertical-align: middle;\n",
       "    }\n",
       "\n",
       "    .dataframe tbody tr th {\n",
       "        vertical-align: top;\n",
       "    }\n",
       "\n",
       "    .dataframe thead th {\n",
       "        text-align: right;\n",
       "    }\n",
       "</style>\n",
       "<table border=\"1\" class=\"dataframe\">\n",
       "  <thead>\n",
       "    <tr style=\"text-align: right;\">\n",
       "      <th></th>\n",
       "      <th>DAY_OF_WEEK</th>\n",
       "      <th>DISTRICT</th>\n",
       "      <th>HOUR</th>\n",
       "      <th>Lat</th>\n",
       "      <th>Long</th>\n",
       "      <th>MONTH</th>\n",
       "      <th>OFFENSE_CODE_GROUP</th>\n",
       "      <th>REPORTING_AREA</th>\n",
       "      <th>UCR_PART</th>\n",
       "      <th>Day</th>\n",
       "      <th>Night</th>\n",
       "      <th>ToNight</th>\n",
       "      <th>ToDay</th>\n",
       "      <th>precipitation</th>\n",
       "      <th>temperature</th>\n",
       "      <th>dewpoint</th>\n",
       "      <th>humidity</th>\n",
       "      <th>wind</th>\n",
       "    </tr>\n",
       "  </thead>\n",
       "  <tbody>\n",
       "    <tr>\n",
       "      <th>3</th>\n",
       "      <td>7</td>\n",
       "      <td>1.0</td>\n",
       "      <td>6</td>\n",
       "      <td>42.316441</td>\n",
       "      <td>-71.065829</td>\n",
       "      <td>7</td>\n",
       "      <td>Other</td>\n",
       "      <td>258.0</td>\n",
       "      <td>1.0</td>\n",
       "      <td>1</td>\n",
       "      <td>0</td>\n",
       "      <td>16</td>\n",
       "      <td>0</td>\n",
       "      <td>0.0</td>\n",
       "      <td>80.0</td>\n",
       "      <td>59.0</td>\n",
       "      <td>51.0</td>\n",
       "      <td>9.0</td>\n",
       "    </tr>\n",
       "    <tr>\n",
       "      <th>10</th>\n",
       "      <td>7</td>\n",
       "      <td>2.0</td>\n",
       "      <td>8</td>\n",
       "      <td>42.341806</td>\n",
       "      <td>-71.097080</td>\n",
       "      <td>7</td>\n",
       "      <td>Other</td>\n",
       "      <td>626.0</td>\n",
       "      <td>1.0</td>\n",
       "      <td>1</td>\n",
       "      <td>0</td>\n",
       "      <td>14</td>\n",
       "      <td>0</td>\n",
       "      <td>0.0</td>\n",
       "      <td>80.0</td>\n",
       "      <td>59.0</td>\n",
       "      <td>51.0</td>\n",
       "      <td>9.0</td>\n",
       "    </tr>\n",
       "    <tr>\n",
       "      <th>18</th>\n",
       "      <td>7</td>\n",
       "      <td>1.0</td>\n",
       "      <td>9</td>\n",
       "      <td>42.321701</td>\n",
       "      <td>-71.081909</td>\n",
       "      <td>7</td>\n",
       "      <td>Other</td>\n",
       "      <td>296.0</td>\n",
       "      <td>2.0</td>\n",
       "      <td>1</td>\n",
       "      <td>0</td>\n",
       "      <td>13</td>\n",
       "      <td>0</td>\n",
       "      <td>0.0</td>\n",
       "      <td>80.0</td>\n",
       "      <td>59.0</td>\n",
       "      <td>51.0</td>\n",
       "      <td>9.0</td>\n",
       "    </tr>\n",
       "    <tr>\n",
       "      <th>24</th>\n",
       "      <td>7</td>\n",
       "      <td>7.0</td>\n",
       "      <td>10</td>\n",
       "      <td>42.351681</td>\n",
       "      <td>-71.125190</td>\n",
       "      <td>7</td>\n",
       "      <td>Other</td>\n",
       "      <td>796.0</td>\n",
       "      <td>2.0</td>\n",
       "      <td>1</td>\n",
       "      <td>0</td>\n",
       "      <td>12</td>\n",
       "      <td>0</td>\n",
       "      <td>0.0</td>\n",
       "      <td>80.0</td>\n",
       "      <td>59.0</td>\n",
       "      <td>51.0</td>\n",
       "      <td>9.0</td>\n",
       "    </tr>\n",
       "    <tr>\n",
       "      <th>48</th>\n",
       "      <td>7</td>\n",
       "      <td>6.0</td>\n",
       "      <td>12</td>\n",
       "      <td>42.325436</td>\n",
       "      <td>-71.063873</td>\n",
       "      <td>7</td>\n",
       "      <td>Other</td>\n",
       "      <td>0.0</td>\n",
       "      <td>2.0</td>\n",
       "      <td>1</td>\n",
       "      <td>0</td>\n",
       "      <td>10</td>\n",
       "      <td>0</td>\n",
       "      <td>0.0</td>\n",
       "      <td>80.0</td>\n",
       "      <td>59.0</td>\n",
       "      <td>51.0</td>\n",
       "      <td>9.0</td>\n",
       "    </tr>\n",
       "  </tbody>\n",
       "</table>\n",
       "</div>"
      ],
      "text/plain": [
       "    DAY_OF_WEEK  DISTRICT  HOUR        Lat       Long  MONTH  \\\n",
       "3             7       1.0     6  42.316441 -71.065829      7   \n",
       "10            7       2.0     8  42.341806 -71.097080      7   \n",
       "18            7       1.0     9  42.321701 -71.081909      7   \n",
       "24            7       7.0    10  42.351681 -71.125190      7   \n",
       "48            7       6.0    12  42.325436 -71.063873      7   \n",
       "\n",
       "   OFFENSE_CODE_GROUP  REPORTING_AREA  UCR_PART  Day  Night  ToNight  ToDay  \\\n",
       "3               Other           258.0       1.0    1      0       16      0   \n",
       "10              Other           626.0       1.0    1      0       14      0   \n",
       "18              Other           296.0       2.0    1      0       13      0   \n",
       "24              Other           796.0       2.0    1      0       12      0   \n",
       "48              Other             0.0       2.0    1      0       10      0   \n",
       "\n",
       "    precipitation  temperature  dewpoint  humidity  wind  \n",
       "3             0.0         80.0      59.0      51.0   9.0  \n",
       "10            0.0         80.0      59.0      51.0   9.0  \n",
       "18            0.0         80.0      59.0      51.0   9.0  \n",
       "24            0.0         80.0      59.0      51.0   9.0  \n",
       "48            0.0         80.0      59.0      51.0   9.0  "
      ]
     },
     "execution_count": 159,
     "metadata": {},
     "output_type": "execute_result"
    }
   ],
   "source": [
    "df_model_1.head()"
   ]
  },
  {
   "cell_type": "code",
   "execution_count": null,
   "metadata": {},
   "outputs": [],
   "source": []
  },
  {
   "cell_type": "code",
   "execution_count": 160,
   "metadata": {},
   "outputs": [],
   "source": [
    "x = df_model_1[[\n",
    "    'DAY_OF_WEEK',\n",
    "    'DISTRICT',\n",
    "    'HOUR',\n",
    "    'Lat', \n",
    "    'Long', \n",
    "    'MONTH',\n",
    "    'REPORTING_AREA',\n",
    "    'UCR_PART',\n",
    "    'Day', \n",
    "    'Night',\n",
    "    'ToNight', \n",
    "    'ToDay',\n",
    "    'precipitation', \n",
    "    'temperature', \n",
    "    'dewpoint', \n",
    "    'humidity', \n",
    "    'wind'\n",
    "]]"
   ]
  },
  {
   "cell_type": "code",
   "execution_count": 161,
   "metadata": {},
   "outputs": [],
   "source": [
    "y = df_model_1['OFFENSE_CODE_GROUP']"
   ]
  },
  {
   "cell_type": "code",
   "execution_count": 162,
   "metadata": {},
   "outputs": [],
   "source": [
    "y = y.map({\n",
    "    'Other':1, \n",
    "    'Motor Vehicle Accident Response':2, \n",
    "    'Larceny':3,\n",
    "    'Medical Assistance':4, \n",
    "    'Simple Assault':5, \n",
    "    'Violations':6,\n",
    "    'Investigate Person':7, \n",
    "    'Vandalism':8, \n",
    "    'Drug Violation':9,\n",
    "    'Larceny From Motor Vehicle':10\n",
    "})"
   ]
  },
  {
   "cell_type": "markdown",
   "metadata": {},
   "source": [
    "# Split data"
   ]
  },
  {
   "cell_type": "code",
   "execution_count": 163,
   "metadata": {},
   "outputs": [
    {
     "name": "stdout",
     "output_type": "stream",
     "text": [
      "(183283, 17) (183283,)\n",
      "(20365, 17) (20365,)\n"
     ]
    }
   ],
   "source": [
    "# Split dataframe into random train and test subsets\n",
    "\n",
    "X_train, X_test, Y_train, Y_test = train_test_split(\n",
    "    x,\n",
    "    y, \n",
    "    test_size = 0.1,\n",
    "    random_state=42\n",
    ")\n",
    "\n",
    "print(X_train.shape, Y_train.shape)\n",
    "print(X_test.shape, Y_test.shape)"
   ]
  },
  {
   "cell_type": "markdown",
   "metadata": {},
   "source": [
    "# Modeling\n",
    "\n",
    "X - > 'DAY_OF_WEEK',\n",
    "    'DISTRICT',\n",
    "    'HOUR',\n",
    "    'Lat', \n",
    "    'Long', \n",
    "    'MONTH',\n",
    "    'REPORTING_AREA',\n",
    "    'UCR_PART',\n",
    "    'Day', \n",
    "    'Night',\n",
    "    'ToNight', \n",
    "    'ToDay',\n",
    "    'precipitation', \n",
    "    'temperature', \n",
    "    'dewpoint', \n",
    "    'humidity', \n",
    "    'wind'\n",
    "\n",
    "Y - > OFFENSE_CODE_GROUP"
   ]
  },
  {
   "cell_type": "code",
   "execution_count": 164,
   "metadata": {},
   "outputs": [
    {
     "data": {
      "text/plain": [
       "(array([ 0.32452469,  0.61620603,  0.70528109,  0.35758601,  0.26426108,\n",
       "         0.38367038,  0.30468204,  0.22505878,  0.42205882,  0.47239488]),\n",
       " 0.40947704394794993)"
      ]
     },
     "execution_count": 164,
     "metadata": {},
     "output_type": "execute_result"
    }
   ],
   "source": [
    "function_DecisionTreeClassifier(X_train, Y_train, X_test, Y_test)"
   ]
  },
  {
   "cell_type": "code",
   "execution_count": 165,
   "metadata": {},
   "outputs": [
    {
     "data": {
      "text/plain": [
       "(array([ 0.30934479,  0.57886485,  0.66058186,  0.36424209,  0.23182067,\n",
       "         0.3714443 ,  0.27480371,  0.22344828,  0.33074935,  0.40316206]),\n",
       " 0.38134053523201572)"
      ]
     },
     "execution_count": 165,
     "metadata": {},
     "output_type": "execute_result"
    }
   ],
   "source": [
    "function_ExtraTreeClassifier(X_train, Y_train, X_test, Y_test)"
   ]
  },
  {
   "cell_type": "code",
   "execution_count": 166,
   "metadata": {},
   "outputs": [
    {
     "data": {
      "text/plain": [
       "(array([ 0.36471664,  0.6519685 ,  0.74854998,  0.4       ,  0.27490145,\n",
       "         0.44676198,  0.23929471,  0.2045929 ,  0.48392702,  0.44462948]),\n",
       " 0.44384974220476309)"
      ]
     },
     "execution_count": 166,
     "metadata": {},
     "output_type": "execute_result"
    }
   ],
   "source": [
    "function_RandomForestClassifier(X_train, Y_train, X_test, Y_test)"
   ]
  },
  {
   "cell_type": "code",
   "execution_count": 167,
   "metadata": {},
   "outputs": [
    {
     "data": {
      "text/plain": [
       "(array([ 0.34092804,  0.70890086,  0.77555778,  0.48334036,  0.24071429,\n",
       "         0.52557361,  0.20435685,  0.15279241,  0.50508625,  0.49241147]),\n",
       " 0.48386938374662414)"
      ]
     },
     "execution_count": 167,
     "metadata": {},
     "output_type": "execute_result"
    }
   ],
   "source": [
    "function_LGBMClassifier(X_train, Y_train, X_test, Y_test)"
   ]
  },
  {
   "cell_type": "code",
   "execution_count": 168,
   "metadata": {},
   "outputs": [
    {
     "name": "stderr",
     "output_type": "stream",
     "text": [
      "/home/olexandr/anaconda3/lib/python3.6/site-packages/sklearn/metrics/classification.py:1135: UndefinedMetricWarning: F-score is ill-defined and being set to 0.0 in labels with no predicted samples.\n",
      "  'precision', 'predicted', average, warn_for)\n"
     ]
    },
    {
     "data": {
      "text/plain": [
       "(array([ 0.03670546,  0.        ,  0.2408377 ,  0.        ,  0.        ,\n",
       "         0.10170423,  0.        ,  0.16808448,  0.00149925,  0.        ]),\n",
       " 0.13842376626565187)"
      ]
     },
     "execution_count": 168,
     "metadata": {},
     "output_type": "execute_result"
    }
   ],
   "source": [
    "function_BernoulliNB(X_train, Y_train, X_test, Y_test)"
   ]
  },
  {
   "cell_type": "code",
   "execution_count": 169,
   "metadata": {},
   "outputs": [
    {
     "data": {
      "text/plain": [
       "(array([ 0.31957916,  0.14020897,  0.31222707,  0.12825397,  0.11884984,\n",
       "         0.19077042,  0.06150692,  0.07796759,  0.22382365,  0.13762811]),\n",
       " 0.21831573778541616)"
      ]
     },
     "execution_count": 169,
     "metadata": {},
     "output_type": "execute_result"
    }
   ],
   "source": [
    "function_KNeighborsClassifier(X_train, Y_train, X_test, Y_test)"
   ]
  },
  {
   "cell_type": "code",
   "execution_count": 170,
   "metadata": {},
   "outputs": [
    {
     "name": "stderr",
     "output_type": "stream",
     "text": [
      "/home/olexandr/anaconda3/lib/python3.6/site-packages/sklearn/metrics/classification.py:1135: UndefinedMetricWarning: F-score is ill-defined and being set to 0.0 in labels with no predicted samples.\n",
      "  'precision', 'predicted', average, warn_for)\n"
     ]
    },
    {
     "data": {
      "text/plain": [
       "(array([ 0.02566412,  0.59593023,  0.70849991,  0.10521236,  0.        ,\n",
       "         0.22589099,  0.39576399,  0.28471703,  0.28792658,  0.38095238]),\n",
       " 0.33459366560274983)"
      ]
     },
     "execution_count": 170,
     "metadata": {},
     "output_type": "execute_result"
    }
   ],
   "source": [
    "function_GaussianNB(X_train, Y_train, X_test, Y_test)"
   ]
  },
  {
   "cell_type": "code",
   "execution_count": null,
   "metadata": {},
   "outputs": [],
   "source": []
  }
 ],
 "metadata": {
  "kernelspec": {
   "display_name": "Python 3",
   "language": "python",
   "name": "python3"
  },
  "language_info": {
   "codemirror_mode": {
    "name": "ipython",
    "version": 3
   },
   "file_extension": ".py",
   "mimetype": "text/x-python",
   "name": "python",
   "nbconvert_exporter": "python",
   "pygments_lexer": "ipython3",
   "version": "3.6.5"
  }
 },
 "nbformat": 4,
 "nbformat_minor": 2
}
