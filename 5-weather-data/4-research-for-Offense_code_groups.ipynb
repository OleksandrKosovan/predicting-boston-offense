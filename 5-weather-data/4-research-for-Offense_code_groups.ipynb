{
 "cells": [
  {
   "cell_type": "markdown",
   "metadata": {},
   "source": [
    "# 1. Import"
   ]
  },
  {
   "cell_type": "code",
   "execution_count": 1,
   "metadata": {},
   "outputs": [],
   "source": [
    "import numpy as np\n",
    "import pandas as pd"
   ]
  },
  {
   "cell_type": "code",
   "execution_count": null,
   "metadata": {},
   "outputs": [],
   "source": []
  },
  {
   "cell_type": "markdown",
   "metadata": {},
   "source": [
    "# 2. Read data"
   ]
  },
  {
   "cell_type": "code",
   "execution_count": 2,
   "metadata": {},
   "outputs": [],
   "source": [
    "df = pd.read_csv('crimes.csv')"
   ]
  },
  {
   "cell_type": "code",
   "execution_count": 3,
   "metadata": {},
   "outputs": [
    {
     "data": {
      "text/plain": [
       "Index(['Unnamed: 0', 'DAY_OF_WEEK', 'DISTRICT', 'HOUR', 'Lat', 'Long', 'MONTH',\n",
       "       'OCCURRED_ON_DATE', 'OFFENSE_CODE_GROUP', 'REPORTING_AREA', 'SHOOTING',\n",
       "       'UCR_PART', 'YEAR', 'Day', 'Night', 'ToNight', 'ToDay', 'DayNumber',\n",
       "       'precipitation', 'temperature', 'dewpoint', 'humidity', 'wind'],\n",
       "      dtype='object')"
      ]
     },
     "execution_count": 3,
     "metadata": {},
     "output_type": "execute_result"
    }
   ],
   "source": [
    "df.columns"
   ]
  },
  {
   "cell_type": "code",
   "execution_count": 4,
   "metadata": {},
   "outputs": [],
   "source": [
    "df = df.drop('Unnamed: 0',1)"
   ]
  },
  {
   "cell_type": "code",
   "execution_count": null,
   "metadata": {},
   "outputs": [],
   "source": []
  },
  {
   "cell_type": "code",
   "execution_count": 5,
   "metadata": {},
   "outputs": [
    {
     "name": "stderr",
     "output_type": "stream",
     "text": [
      "/home/olexandr/anaconda3/lib/python3.6/site-packages/IPython/core/interactiveshell.py:2785: DtypeWarning: Columns (10) have mixed types. Specify dtype option on import or set low_memory=False.\n",
      "  interactivity=interactivity, compiler=compiler, result=result)\n"
     ]
    }
   ],
   "source": [
    "df1 = pd.read_csv('crime-incident-reports-july-2012---august-2015-source-legacy-system.csv')"
   ]
  },
  {
   "cell_type": "code",
   "execution_count": 6,
   "metadata": {},
   "outputs": [
    {
     "data": {
      "text/plain": [
       "Index(['COMPNOS', 'NatureCode', 'INCIDENT_TYPE_DESCRIPTION', 'MAIN_CRIMECODE',\n",
       "       'REPTDISTRICT', 'REPORTINGAREA', 'FROMDATE', 'WEAPONTYPE', 'Shooting',\n",
       "       'DOMESTIC', 'SHIFT', 'Year', 'Month', 'DAY_WEEK', 'UCRPART', 'X', 'Y',\n",
       "       'STREETNAME', 'XSTREETNAME', 'Location'],\n",
       "      dtype='object')"
      ]
     },
     "execution_count": 6,
     "metadata": {},
     "output_type": "execute_result"
    }
   ],
   "source": [
    "df1.columns"
   ]
  },
  {
   "cell_type": "code",
   "execution_count": 7,
   "metadata": {},
   "outputs": [],
   "source": [
    "df2 = pd.read_csv('crimeincidentreports.csv')"
   ]
  },
  {
   "cell_type": "code",
   "execution_count": 8,
   "metadata": {},
   "outputs": [
    {
     "data": {
      "text/plain": [
       "Index(['INCIDENT_NUMBER', 'OFFENSE_CODE', 'OFFENSE_CODE_GROUP',\n",
       "       'OFFENSE_DESCRIPTION', 'DISTRICT', 'REPORTING_AREA', 'SHOOTING',\n",
       "       'OCCURRED_ON_DATE', 'YEAR', 'MONTH', 'DAY_OF_WEEK', 'HOUR', 'UCR_PART',\n",
       "       'STREET', 'Lat', 'Long', 'Location'],\n",
       "      dtype='object')"
      ]
     },
     "execution_count": 8,
     "metadata": {},
     "output_type": "execute_result"
    }
   ],
   "source": [
    "df2.columns"
   ]
  },
  {
   "cell_type": "markdown",
   "metadata": {},
   "source": [
    "# 3. Research -> OFFENSE_CODE_GROUP"
   ]
  },
  {
   "cell_type": "code",
   "execution_count": 9,
   "metadata": {},
   "outputs": [
    {
     "name": "stdout",
     "output_type": "stream",
     "text": [
      "22\n"
     ]
    },
    {
     "data": {
      "text/plain": [
       "array(['Residential Burglary', 'Aggravated Assault', 'Robbery', 'Other',\n",
       "       'Simple Assault', 'Medical Assistance', 'Violations', 'Fraud',\n",
       "       'Property Found', 'Investigate Person', 'Towed',\n",
       "       'Investigate Property', 'Drug Violation', 'Missing Person Located',\n",
       "       'Property Lost', 'Larceny', 'Auto Theft', 'Warrant Arrests',\n",
       "       'Vandalism', 'Motor Vehicle Accident Response',\n",
       "       'Larceny From Motor Vehicle', 'Verbal Disputes'], dtype=object)"
      ]
     },
     "execution_count": 9,
     "metadata": {},
     "output_type": "execute_result"
    }
   ],
   "source": [
    "print(len(df.OFFENSE_CODE_GROUP.unique()))\n",
    "\n",
    "df.OFFENSE_CODE_GROUP.unique()"
   ]
  },
  {
   "cell_type": "code",
   "execution_count": 10,
   "metadata": {},
   "outputs": [
    {
     "data": {
      "text/plain": [
       "Other                              41210\n",
       "Violations                         27888\n",
       "Larceny                            26485\n",
       "Simple Assault                     18744\n",
       "Medical Assistance                 18236\n",
       "Motor Vehicle Accident Response    16022\n",
       "Vandalism                          14378\n",
       "Investigate Person                 13824\n",
       "Larceny From Motor Vehicle         13570\n",
       "Drug Violation                     13291\n",
       "Property Lost                       9157\n",
       "Fraud                               9153\n",
       "Towed                               8065\n",
       "Residential Burglary                7345\n",
       "Investigate Property                7062\n",
       "Aggravated Assault                  6257\n",
       "Robbery                             5315\n",
       "Missing Person Located              5051\n",
       "Auto Theft                          5027\n",
       "Property Found                      4579\n",
       "Verbal Disputes                     3419\n",
       "Warrant Arrests                     2477\n",
       "Name: OFFENSE_CODE_GROUP, dtype: int64"
      ]
     },
     "execution_count": 10,
     "metadata": {},
     "output_type": "execute_result"
    }
   ],
   "source": [
    "df.OFFENSE_CODE_GROUP.value_counts()"
   ]
  },
  {
   "cell_type": "markdown",
   "metadata": {},
   "source": [
    "### 3.1. Violations"
   ]
  },
  {
   "cell_type": "markdown",
   "metadata": {},
   "source": [
    "###### First\n",
    "\n",
    "I research description and other values for this offense code grop (Violations)."
   ]
  },
  {
   "cell_type": "code",
   "execution_count": 11,
   "metadata": {},
   "outputs": [
    {
     "data": {
      "text/plain": [
       "array(['VAL'], dtype=object)"
      ]
     },
     "execution_count": 11,
     "metadata": {},
     "output_type": "execute_result"
    }
   ],
   "source": [
    "# for first data set (july-2012---august-2015)\n",
    "\n",
    "# VAL => Violations\n",
    "\n",
    "df1.MAIN_CRIMECODE.loc[df1.INCIDENT_TYPE_DESCRIPTION =='VAL'].unique()"
   ]
  },
  {
   "cell_type": "code",
   "execution_count": 12,
   "metadata": {},
   "outputs": [
    {
     "data": {
      "text/plain": [
       "array(['No'], dtype=object)"
      ]
     },
     "execution_count": 12,
     "metadata": {},
     "output_type": "execute_result"
    }
   ],
   "source": [
    "# for first data set (july-2012---august-2015)\n",
    "\n",
    "# VAL => Violations\n",
    "\n",
    "df1.Shooting.loc[df1.INCIDENT_TYPE_DESCRIPTION =='VAL'].unique()"
   ]
  },
  {
   "cell_type": "code",
   "execution_count": 13,
   "metadata": {},
   "outputs": [
    {
     "data": {
      "text/plain": [
       "array(['No'], dtype=object)"
      ]
     },
     "execution_count": 13,
     "metadata": {},
     "output_type": "execute_result"
    }
   ],
   "source": [
    "# for first data set (july-2012---august-2015)\n",
    "\n",
    "# VAL => Violations\n",
    "\n",
    "df1.Shooting.loc[df1.INCIDENT_TYPE_DESCRIPTION =='VAL'].unique()"
   ]
  },
  {
   "cell_type": "code",
   "execution_count": 14,
   "metadata": {},
   "outputs": [
    {
     "data": {
      "text/plain": [
       "array(['Part Two'], dtype=object)"
      ]
     },
     "execution_count": 14,
     "metadata": {},
     "output_type": "execute_result"
    }
   ],
   "source": [
    "# for first data set (july-2012---august-2015)\n",
    "\n",
    "# VAL => Violations\n",
    "\n",
    "df1.UCRPART.loc[df1.INCIDENT_TYPE_DESCRIPTION =='VAL'].unique()"
   ]
  },
  {
   "cell_type": "code",
   "execution_count": 15,
   "metadata": {},
   "outputs": [
    {
     "data": {
      "text/plain": [
       "array([2907, 2905, 2914, 2906, 2910])"
      ]
     },
     "execution_count": 15,
     "metadata": {},
     "output_type": "execute_result"
    }
   ],
   "source": [
    "# for second data set (august-2015---todate)\n",
    "\n",
    "df2.OFFENSE_CODE.loc[df2.OFFENSE_CODE_GROUP=='Violations'].unique()"
   ]
  },
  {
   "cell_type": "code",
   "execution_count": 16,
   "metadata": {},
   "outputs": [
    {
     "data": {
      "text/plain": [
       "array(['VAL - OPERATING AFTER REV/SUSP.',\n",
       "       'VAL - OPERATING WITHOUT LICENSE',\n",
       "       'VAL - OPERATING W/O AUTHORIZATION LAWFUL',\n",
       "       'VAL - OPERATING UNREG/UNINS \\xa0CAR'], dtype=object)"
      ]
     },
     "execution_count": 16,
     "metadata": {},
     "output_type": "execute_result"
    }
   ],
   "source": [
    "# for second data set (august-2015---todate)\n",
    "\n",
    "df2.OFFENSE_DESCRIPTION.loc[df2.OFFENSE_CODE_GROUP=='Violations'].unique()"
   ]
  },
  {
   "cell_type": "code",
   "execution_count": 17,
   "metadata": {},
   "outputs": [
    {
     "data": {
      "text/plain": [
       "array([nan, 'Y'], dtype=object)"
      ]
     },
     "execution_count": 17,
     "metadata": {},
     "output_type": "execute_result"
    }
   ],
   "source": [
    "# for second data set (august-2015---todate)\n",
    "\n",
    "df2.SHOOTING.loc[df2.OFFENSE_CODE_GROUP=='Violations'].unique()"
   ]
  },
  {
   "cell_type": "code",
   "execution_count": 18,
   "metadata": {},
   "outputs": [
    {
     "data": {
      "text/plain": [
       "array(['Part Two'], dtype=object)"
      ]
     },
     "execution_count": 18,
     "metadata": {},
     "output_type": "execute_result"
    }
   ],
   "source": [
    "# for second data set (august-2015---todate)\n",
    "\n",
    "df2.UCR_PART.loc[df2.OFFENSE_CODE_GROUP=='Violations'].unique()"
   ]
  },
  {
   "cell_type": "markdown",
   "metadata": {},
   "source": [
    "###### Second\n",
    "\n",
    "Definitions:\n",
    "\n",
    "A **violation** of law is any act (or, less commonly, failure to act) that fails to abide by existing law. Violations generally may include both crimes and civil wrongs. Some acts, such as fraud, can violate both civil and criminal laws.\n",
    "\n",
    "*Examples of violations of law include:*\n",
    "\n",
    "- Moving violation, any violation of law committed by a driver while the vehicle is in motion\n",
    "- Parking violation, parking a motor vehicle in a restricted place or an unauthorized manner\n",
    "- Willful violation, in U.S. law an act with intentional disregard for a regulation, statute and policy\n",
    "- Infraction, in United States law, minor or petty offenses that do not require jury trial\n",
    "- Infringement, various violations of laws or rights, usually used in the context of intellectual property\n",
    "\n",
    "Wikipedia: https://en.wikipedia.org/wiki/Violation_of_law "
   ]
  },
  {
   "cell_type": "markdown",
   "metadata": {},
   "source": [
    "###### Hypothesis for input data\n",
    "\n",
    "- traffic"
   ]
  },
  {
   "cell_type": "markdown",
   "metadata": {},
   "source": [
    "### 3.2. Larceny"
   ]
  },
  {
   "cell_type": "code",
   "execution_count": 19,
   "metadata": {},
   "outputs": [
    {
     "data": {
      "text/plain": [
       "array(['06xx'], dtype=object)"
      ]
     },
     "execution_count": 19,
     "metadata": {},
     "output_type": "execute_result"
    }
   ],
   "source": [
    "# Incident type description for larceny - > OTHER LARCENY / Larceny\n",
    "\n",
    "df1.MAIN_CRIMECODE.loc[df1.INCIDENT_TYPE_DESCRIPTION =='OTHER LARCENY'].unique()"
   ]
  },
  {
   "cell_type": "code",
   "execution_count": 20,
   "metadata": {},
   "outputs": [
    {
     "data": {
      "text/plain": [
       "array(['06xx'], dtype=object)"
      ]
     },
     "execution_count": 20,
     "metadata": {},
     "output_type": "execute_result"
    }
   ],
   "source": [
    "df1.MAIN_CRIMECODE.loc[df1.INCIDENT_TYPE_DESCRIPTION =='Larceny'].unique()"
   ]
  },
  {
   "cell_type": "code",
   "execution_count": 21,
   "metadata": {},
   "outputs": [
    {
     "data": {
      "text/plain": [
       "array(['No'], dtype=object)"
      ]
     },
     "execution_count": 21,
     "metadata": {},
     "output_type": "execute_result"
    }
   ],
   "source": [
    "df1.Shooting.loc[df1.INCIDENT_TYPE_DESCRIPTION =='Larceny'].unique()"
   ]
  },
  {
   "cell_type": "code",
   "execution_count": 22,
   "metadata": {},
   "outputs": [
    {
     "data": {
      "text/plain": [
       "array(['No'], dtype=object)"
      ]
     },
     "execution_count": 22,
     "metadata": {},
     "output_type": "execute_result"
    }
   ],
   "source": [
    "df1.Shooting.loc[df1.INCIDENT_TYPE_DESCRIPTION =='OTHER LARCENY'].unique()"
   ]
  },
  {
   "cell_type": "code",
   "execution_count": 23,
   "metadata": {},
   "outputs": [
    {
     "data": {
      "text/plain": [
       "array(['Part One'], dtype=object)"
      ]
     },
     "execution_count": 23,
     "metadata": {},
     "output_type": "execute_result"
    }
   ],
   "source": [
    "df1.UCRPART.loc[df1.INCIDENT_TYPE_DESCRIPTION =='Larceny'].unique()"
   ]
  },
  {
   "cell_type": "code",
   "execution_count": 24,
   "metadata": {},
   "outputs": [
    {
     "data": {
      "text/plain": [
       "array(['Part One'], dtype=object)"
      ]
     },
     "execution_count": 24,
     "metadata": {},
     "output_type": "execute_result"
    }
   ],
   "source": [
    "df1.UCRPART.loc[df1.INCIDENT_TYPE_DESCRIPTION =='OTHER LARCENY'].unique()"
   ]
  },
  {
   "cell_type": "code",
   "execution_count": 25,
   "metadata": {},
   "outputs": [
    {
     "data": {
      "text/plain": [
       "array([619, 613, 617, 616, 612, 611, 618, 633, 629, 627, 637, 639, 623])"
      ]
     },
     "execution_count": 25,
     "metadata": {},
     "output_type": "execute_result"
    }
   ],
   "source": [
    "df2.OFFENSE_CODE.loc[df2.OFFENSE_CODE_GROUP == 'Larceny'].unique()"
   ]
  },
  {
   "cell_type": "code",
   "execution_count": 26,
   "metadata": {},
   "outputs": [
    {
     "data": {
      "text/plain": [
       "array(['LARCENY ALL OTHERS', 'LARCENY SHOPLIFTING',\n",
       "       'LARCENY THEFT FROM BUILDING', 'LARCENY THEFT OF BICYCLE',\n",
       "       'LARCENY PURSE SNATCH - NO FORCE ', 'LARCENY PICK-POCKET',\n",
       "       'LARCENY THEFT FROM COIN-OP MACHINE', 'LARCENY BICYCLE $200 & OVER',\n",
       "       'LARCENY SHOPLIFTING UNDER $50', 'LARCENY OTHER $200 & OVER',\n",
       "       'LARCENY IN A BUILDING $200 & OVER',\n",
       "       'LARCENY SHOPLIFTING $200 & OVER', 'LARCENY OTHER $50 TO $199',\n",
       "       'LARCENY IN A BUILDING $50 TO $199',\n",
       "       'LARCENY IN A BUILDING UNDER $50', 'LARCENY OTHER UNDER $50',\n",
       "       'LARCENY SHOPLIFTING $50 TO $199'], dtype=object)"
      ]
     },
     "execution_count": 26,
     "metadata": {},
     "output_type": "execute_result"
    }
   ],
   "source": [
    "df2.OFFENSE_DESCRIPTION.loc[df2.OFFENSE_CODE_GROUP == 'Larceny'].unique()"
   ]
  },
  {
   "cell_type": "code",
   "execution_count": 27,
   "metadata": {},
   "outputs": [
    {
     "data": {
      "text/plain": [
       "LARCENY THEFT FROM BUILDING           9071\n",
       "LARCENY SHOPLIFTING                   7950\n",
       "LARCENY ALL OTHERS                    5968\n",
       "LARCENY THEFT OF BICYCLE              2265\n",
       "LARCENY PICK-POCKET                    456\n",
       "LARCENY PURSE SNATCH - NO FORCE        188\n",
       "LARCENY THEFT FROM COIN-OP MACHINE      16\n",
       "LARCENY IN A BUILDING $200 & OVER       13\n",
       "LARCENY OTHER $200 & OVER               11\n",
       "LARCENY SHOPLIFTING $200 & OVER         10\n",
       "LARCENY BICYCLE $200 & OVER              8\n",
       "LARCENY SHOPLIFTING UNDER $50            7\n",
       "LARCENY OTHER UNDER $50                  4\n",
       "LARCENY SHOPLIFTING $50 TO $199          4\n",
       "LARCENY IN A BUILDING UNDER $50          3\n",
       "LARCENY OTHER $50 TO $199                3\n",
       "LARCENY IN A BUILDING $50 TO $199        2\n",
       "Name: OFFENSE_DESCRIPTION, dtype: int64"
      ]
     },
     "execution_count": 27,
     "metadata": {},
     "output_type": "execute_result"
    }
   ],
   "source": [
    "df2.OFFENSE_DESCRIPTION.loc[df2.OFFENSE_CODE_GROUP == 'Larceny'].value_counts()"
   ]
  },
  {
   "cell_type": "code",
   "execution_count": 28,
   "metadata": {},
   "outputs": [
    {
     "data": {
      "text/plain": [
       "array(['Part One'], dtype=object)"
      ]
     },
     "execution_count": 28,
     "metadata": {},
     "output_type": "execute_result"
    }
   ],
   "source": [
    "df2.UCR_PART.loc[df2.OFFENSE_CODE_GROUP == 'Larceny'].unique()"
   ]
  },
  {
   "cell_type": "code",
   "execution_count": 29,
   "metadata": {},
   "outputs": [
    {
     "data": {
      "text/plain": [
       "array([nan], dtype=object)"
      ]
     },
     "execution_count": 29,
     "metadata": {},
     "output_type": "execute_result"
    }
   ],
   "source": [
    "df2.SHOOTING.loc[df2.OFFENSE_CODE_GROUP == 'Larceny'].unique()"
   ]
  },
  {
   "cell_type": "markdown",
   "metadata": {},
   "source": [
    "### 3.3. Simple Assault "
   ]
  },
  {
   "cell_type": "code",
   "execution_count": 30,
   "metadata": {},
   "outputs": [
    {
     "data": {
      "text/plain": [
       "array(['Part Two'], dtype=object)"
      ]
     },
     "execution_count": 30,
     "metadata": {},
     "output_type": "execute_result"
    }
   ],
   "source": [
    "df2.UCR_PART.loc[df2.OFFENSE_CODE_GROUP=='Simple Assault'].unique()"
   ]
  },
  {
   "cell_type": "code",
   "execution_count": 31,
   "metadata": {},
   "outputs": [
    {
     "data": {
      "text/plain": [
       "array(['ASSAULT SIMPLE - BATTERY', 'ASSAULT - SIMPLE', 'STALKING',\n",
       "       'A&B ON POLICE OFFICER', 'ASSAULT & BATTERY'], dtype=object)"
      ]
     },
     "execution_count": 31,
     "metadata": {},
     "output_type": "execute_result"
    }
   ],
   "source": [
    "df2.OFFENSE_DESCRIPTION.loc[df2.OFFENSE_CODE_GROUP=='Simple Assault'].unique()"
   ]
  },
  {
   "cell_type": "code",
   "execution_count": 32,
   "metadata": {},
   "outputs": [
    {
     "data": {
      "text/plain": [
       "ASSAULT SIMPLE - BATTERY    14799\n",
       "ASSAULT - SIMPLE              962\n",
       "STALKING                       62\n",
       "ASSAULT & BATTERY              15\n",
       "A&B ON POLICE OFFICER           7\n",
       "Name: OFFENSE_DESCRIPTION, dtype: int64"
      ]
     },
     "execution_count": 32,
     "metadata": {},
     "output_type": "execute_result"
    }
   ],
   "source": [
    "df2.OFFENSE_DESCRIPTION.loc[df2.OFFENSE_CODE_GROUP=='Simple Assault'].value_counts()"
   ]
  },
  {
   "cell_type": "markdown",
   "metadata": {},
   "source": [
    "### 3.4. Medical Assistance"
   ]
  },
  {
   "cell_type": "code",
   "execution_count": 33,
   "metadata": {},
   "outputs": [
    {
     "data": {
      "text/plain": [
       "array(['Part Three'], dtype=object)"
      ]
     },
     "execution_count": 33,
     "metadata": {},
     "output_type": "execute_result"
    }
   ],
   "source": [
    "df2.UCR_PART.loc[df2.OFFENSE_CODE_GROUP=='Medical Assistance'].unique()"
   ]
  },
  {
   "cell_type": "code",
   "execution_count": 34,
   "metadata": {},
   "outputs": [
    {
     "data": {
      "text/plain": [
       "array(['SICK/INJURED/MEDICAL - PERSON', 'SICK/INJURED/MEDICAL - POLICE',\n",
       "       'DEATH INVESTIGATION', 'ANIMAL CONTROL - DOG BITES - ETC.',\n",
       "       'SUDDEN DEATH', 'FIREARM/WEAPON - ACCIDENTAL INJURY / DEATH',\n",
       "       'SUICIDE / SUICIDE ATTEMPT', 'INJURY BICYCLE NO M/V INVOLVED'], dtype=object)"
      ]
     },
     "execution_count": 34,
     "metadata": {},
     "output_type": "execute_result"
    }
   ],
   "source": [
    "df2.OFFENSE_DESCRIPTION.loc[df2.OFFENSE_CODE_GROUP=='Medical Assistance'].unique()"
   ]
  },
  {
   "cell_type": "code",
   "execution_count": 35,
   "metadata": {},
   "outputs": [
    {
     "data": {
      "text/plain": [
       "SICK/INJURED/MEDICAL - PERSON                 18785\n",
       "SICK/INJURED/MEDICAL - POLICE                  1407\n",
       "SUDDEN DEATH                                   1348\n",
       "DEATH INVESTIGATION                            1223\n",
       "ANIMAL CONTROL - DOG BITES - ETC.               367\n",
       "SUICIDE / SUICIDE ATTEMPT                       357\n",
       "INJURY BICYCLE NO M/V INVOLVED                   57\n",
       "FIREARM/WEAPON - ACCIDENTAL INJURY / DEATH       11\n",
       "Name: OFFENSE_DESCRIPTION, dtype: int64"
      ]
     },
     "execution_count": 35,
     "metadata": {},
     "output_type": "execute_result"
    }
   ],
   "source": [
    "df2.OFFENSE_DESCRIPTION.loc[df2.OFFENSE_CODE_GROUP=='Medical Assistance'].value_counts()"
   ]
  },
  {
   "cell_type": "markdown",
   "metadata": {},
   "source": [
    "### 3.5. Motor Vehicle Accident Response"
   ]
  },
  {
   "cell_type": "code",
   "execution_count": 36,
   "metadata": {},
   "outputs": [
    {
     "data": {
      "text/plain": [
       "array(['Part Three'], dtype=object)"
      ]
     },
     "execution_count": 36,
     "metadata": {},
     "output_type": "execute_result"
    }
   ],
   "source": [
    "df2.UCR_PART.loc[df2.OFFENSE_CODE_GROUP=='Motor Vehicle Accident Response'].unique()"
   ]
  },
  {
   "cell_type": "code",
   "execution_count": 37,
   "metadata": {},
   "outputs": [
    {
     "data": {
      "text/plain": [
       "array(['M/V ACCIDENT INVOLVING PEDESTRIAN - INJURY',\n",
       "       'M/V ACCIDENT - OTHER', 'M/V ACCIDENT - PERSONAL INJURY',\n",
       "       'M/V - LEAVING SCENE - PROPERTY DAMAGE',\n",
       "       'M/V ACCIDENT - PROPERTY \\xa0DAMAGE',\n",
       "       'M/V ACCIDENT - OTHER CITY VEHICLE',\n",
       "       'M/V - LEAVING SCENE - PERSONAL INJURY',\n",
       "       'M/V ACCIDENT - INVOLVING \\xa0BICYCLE - INJURY',\n",
       "       'M/V ACCIDENT - INVOLVING PEDESTRIAN - NO INJURY',\n",
       "       'M/V ACCIDENT - INVOLVING BICYCLE - NO INJURY',\n",
       "       'M/V ACCIDENT - POLICE VEHICLE'], dtype=object)"
      ]
     },
     "execution_count": 37,
     "metadata": {},
     "output_type": "execute_result"
    }
   ],
   "source": [
    "df2.OFFENSE_DESCRIPTION.loc[df2.OFFENSE_CODE_GROUP=='Motor Vehicle Accident Response'].unique()"
   ]
  },
  {
   "cell_type": "code",
   "execution_count": 38,
   "metadata": {},
   "outputs": [
    {
     "data": {
      "text/plain": [
       "M/V - LEAVING SCENE - PROPERTY DAMAGE              16324\n",
       "M/V ACCIDENT - PROPERTY  DAMAGE                     6557\n",
       "M/V ACCIDENT - PERSONAL INJURY                      5131\n",
       "M/V ACCIDENT - OTHER                                2925\n",
       "M/V ACCIDENT INVOLVING PEDESTRIAN - INJURY          1657\n",
       "M/V - LEAVING SCENE - PERSONAL INJURY               1286\n",
       "M/V ACCIDENT - INVOLVING  BICYCLE - INJURY           916\n",
       "M/V ACCIDENT - POLICE VEHICLE                        766\n",
       "M/V ACCIDENT - OTHER CITY VEHICLE                    732\n",
       "M/V ACCIDENT - INVOLVING BICYCLE - NO INJURY         426\n",
       "M/V ACCIDENT - INVOLVING PEDESTRIAN - NO INJURY      414\n",
       "Name: OFFENSE_DESCRIPTION, dtype: int64"
      ]
     },
     "execution_count": 38,
     "metadata": {},
     "output_type": "execute_result"
    }
   ],
   "source": [
    "df2.OFFENSE_DESCRIPTION.loc[df2.OFFENSE_CODE_GROUP=='Motor Vehicle Accident Response'].value_counts()"
   ]
  },
  {
   "cell_type": "markdown",
   "metadata": {},
   "source": [
    "### 3.6. Vandalism"
   ]
  },
  {
   "cell_type": "code",
   "execution_count": 39,
   "metadata": {},
   "outputs": [
    {
     "data": {
      "text/plain": [
       "array(['Part Two'], dtype=object)"
      ]
     },
     "execution_count": 39,
     "metadata": {},
     "output_type": "execute_result"
    }
   ],
   "source": [
    "df2.UCR_PART.loc[df2.OFFENSE_CODE_GROUP=='Vandalism'].unique()"
   ]
  },
  {
   "cell_type": "code",
   "execution_count": 40,
   "metadata": {},
   "outputs": [
    {
     "data": {
      "text/plain": [
       "array(['VANDALISM', 'GRAFFITI'], dtype=object)"
      ]
     },
     "execution_count": 40,
     "metadata": {},
     "output_type": "execute_result"
    }
   ],
   "source": [
    "df2.OFFENSE_DESCRIPTION.loc[df2.OFFENSE_CODE_GROUP=='Vandalism'].unique()"
   ]
  },
  {
   "cell_type": "code",
   "execution_count": null,
   "metadata": {},
   "outputs": [],
   "source": []
  },
  {
   "cell_type": "markdown",
   "metadata": {},
   "source": [
    "### 3.7. Investigate Person"
   ]
  },
  {
   "cell_type": "code",
   "execution_count": 41,
   "metadata": {},
   "outputs": [
    {
     "data": {
      "text/plain": [
       "array(['Part Three'], dtype=object)"
      ]
     },
     "execution_count": 41,
     "metadata": {},
     "output_type": "execute_result"
    }
   ],
   "source": [
    "df2.UCR_PART.loc[df2.OFFENSE_CODE_GROUP=='Investigate Person'].unique()"
   ]
  },
  {
   "cell_type": "code",
   "execution_count": 42,
   "metadata": {},
   "outputs": [
    {
     "data": {
      "text/plain": [
       "array(['INVESTIGATE PERSON'], dtype=object)"
      ]
     },
     "execution_count": 42,
     "metadata": {},
     "output_type": "execute_result"
    }
   ],
   "source": [
    "df2.OFFENSE_DESCRIPTION.loc[df2.OFFENSE_CODE_GROUP=='Investigate Person'].unique()"
   ]
  },
  {
   "cell_type": "code",
   "execution_count": null,
   "metadata": {},
   "outputs": [],
   "source": []
  },
  {
   "cell_type": "markdown",
   "metadata": {},
   "source": [
    "### 3.8. Larceny From Motor Vehicle"
   ]
  },
  {
   "cell_type": "code",
   "execution_count": 43,
   "metadata": {},
   "outputs": [
    {
     "data": {
      "text/plain": [
       "array(['Part One'], dtype=object)"
      ]
     },
     "execution_count": 43,
     "metadata": {},
     "output_type": "execute_result"
    }
   ],
   "source": [
    "df2.UCR_PART.loc[df2.OFFENSE_CODE_GROUP == 'Larceny From Motor Vehicle'].unique()"
   ]
  },
  {
   "cell_type": "code",
   "execution_count": 44,
   "metadata": {},
   "outputs": [
    {
     "data": {
      "text/plain": [
       "array(['Larceny From Motor Vehicle'], dtype=object)"
      ]
     },
     "execution_count": 44,
     "metadata": {},
     "output_type": "execute_result"
    }
   ],
   "source": [
    "df2.OFFENSE_CODE_GROUP.loc[df2.OFFENSE_CODE_GROUP == 'Larceny From Motor Vehicle'].unique()"
   ]
  },
  {
   "cell_type": "markdown",
   "metadata": {},
   "source": [
    "### 3.9. Drug Violation"
   ]
  },
  {
   "cell_type": "code",
   "execution_count": 45,
   "metadata": {},
   "outputs": [
    {
     "data": {
      "text/plain": [
       "array(['Part Two'], dtype=object)"
      ]
     },
     "execution_count": 45,
     "metadata": {},
     "output_type": "execute_result"
    }
   ],
   "source": [
    "df2.UCR_PART.loc[df2.OFFENSE_CODE_GROUP == 'Drug Violation'].unique()"
   ]
  },
  {
   "cell_type": "code",
   "execution_count": 46,
   "metadata": {},
   "outputs": [
    {
     "data": {
      "text/plain": [
       "array(['DRUGS - POSS CLASS B - INTENT TO MFR DIST DISP',\n",
       "       'DRUGS - POSS CLASS A - INTENT TO MFR DIST DISP',\n",
       "       'DRUGS - POSS CLASS B - COCAINE, ETC.',\n",
       "       'DRUGS - SALE / MANUFACTURING',\n",
       "       'DRUGS - POSS CLASS A - HEROIN, ETC. ',\n",
       "       'DRUGS - CLASS B TRAFFICKING OVER 18 GRAMS',\n",
       "       'DRUGS - POSS CLASS D - INTENT TO MFR DIST DISP',\n",
       "       'DRUGS - POSS CLASS C', 'DRUGS - SICK ASSIST - HEROIN',\n",
       "       'DRUGS - SICK ASSIST - OTHER NARCOTIC', 'DRUGS - OTHER',\n",
       "       'DRUGS - POSSESSION', 'DRUGS - POSS CLASS E',\n",
       "       'DRUGS - SICK ASSIST - OTHER HARMFUL DRUG',\n",
       "       'DRUGS - POSS CLASS C - INTENT TO MFR DIST DISP',\n",
       "       'DRUGS - POSS CLASS E - INTENT TO MFR DIST DISP',\n",
       "       'DRUGS - CLASS A TRAFFICKING OVER 18 GRAMS', 'DRUGS - POSS CLASS D',\n",
       "       'CONSPIRACY EXCEPT DRUG LAW',\n",
       "       'DRUGS - POSSESSION OF DRUG PARAPHANALIA',\n",
       "       'DRUGS - CONSP TO VIOL CONTROLLED SUBSTANCE',\n",
       "       'DRUGS - CLASS D TRAFFICKING OVER 50 GRAMS',\n",
       "       'DRUGS - GLUE INHALATION', 'DRUGS - POSS CLASS A - HEROIN, ETC.',\n",
       "       'DRUGS - POSS CLASS D - MARIJUANA, ETC.',\n",
       "       'DRUGS - POSS CLASS E INTENT TO MF DIST DISP',\n",
       "       'DRUGS - POSS CLASS D - INTENT MFR DIST DISP'], dtype=object)"
      ]
     },
     "execution_count": 46,
     "metadata": {},
     "output_type": "execute_result"
    }
   ],
   "source": [
    "df2.OFFENSE_DESCRIPTION.loc[df2.OFFENSE_CODE_GROUP == 'Drug Violation'].unique()"
   ]
  },
  {
   "cell_type": "code",
   "execution_count": 47,
   "metadata": {},
   "outputs": [
    {
     "data": {
      "text/plain": [
       "DRUGS - POSS CLASS B - COCAINE, ETC.              2598\n",
       "DRUGS - POSS CLASS B - INTENT TO MFR DIST DISP    2133\n",
       "DRUGS - SALE / MANUFACTURING                      1992\n",
       "DRUGS - POSS CLASS A - HEROIN, ETC.               1515\n",
       "DRUGS - POSS CLASS A - INTENT TO MFR DIST DISP    1340\n",
       "DRUGS - OTHER                                     1281\n",
       "DRUGS - SICK ASSIST - HEROIN                      1205\n",
       "DRUGS - POSS CLASS D                               900\n",
       "DRUGS - POSS CLASS D - INTENT TO MFR DIST DISP     882\n",
       "DRUGS - POSS CLASS E                               586\n",
       "DRUGS - POSS CLASS C                               458\n",
       "DRUGS - SICK ASSIST - OTHER HARMFUL DRUG           337\n",
       "DRUGS - SICK ASSIST - OTHER NARCOTIC               311\n",
       "DRUGS - POSS CLASS C - INTENT TO MFR DIST DISP     206\n",
       "DRUGS - POSSESSION                                 195\n",
       "DRUGS - CLASS B TRAFFICKING OVER 18 GRAMS          179\n",
       "DRUGS - POSS CLASS E - INTENT TO MFR DIST DISP     154\n",
       "DRUGS - CLASS A TRAFFICKING OVER 18 GRAMS          132\n",
       "DRUGS - CONSP TO VIOL CONTROLLED SUBSTANCE          86\n",
       "DRUGS - POSSESSION OF DRUG PARAPHANALIA             75\n",
       "CONSPIRACY EXCEPT DRUG LAW                          19\n",
       "DRUGS - POSS CLASS A - HEROIN, ETC.                 11\n",
       "DRUGS - CLASS D TRAFFICKING OVER 50 GRAMS            6\n",
       "DRUGS - POSS CLASS D - MARIJUANA, ETC.               2\n",
       "DRUGS - POSS CLASS D - INTENT MFR DIST DISP          2\n",
       "DRUGS - POSS CLASS E INTENT TO MF DIST DISP          2\n",
       "DRUGS - GLUE INHALATION                              1\n",
       "Name: OFFENSE_DESCRIPTION, dtype: int64"
      ]
     },
     "execution_count": 47,
     "metadata": {},
     "output_type": "execute_result"
    }
   ],
   "source": [
    "df2.OFFENSE_DESCRIPTION.loc[df2.OFFENSE_CODE_GROUP == 'Drug Violation'].value_counts()"
   ]
  },
  {
   "cell_type": "markdown",
   "metadata": {},
   "source": [
    "### 3.10. Property Lost"
   ]
  },
  {
   "cell_type": "code",
   "execution_count": 48,
   "metadata": {},
   "outputs": [
    {
     "data": {
      "text/plain": [
       "array(['Part Three'], dtype=object)"
      ]
     },
     "execution_count": 48,
     "metadata": {},
     "output_type": "execute_result"
    }
   ],
   "source": [
    "df2.UCR_PART.loc[df2.OFFENSE_CODE_GROUP == 'Property Lost'].unique()"
   ]
  },
  {
   "cell_type": "code",
   "execution_count": 49,
   "metadata": {},
   "outputs": [
    {
     "data": {
      "text/plain": [
       "array(['PROPERTY - LOST', 'PROPERTY - MISSING'], dtype=object)"
      ]
     },
     "execution_count": 49,
     "metadata": {},
     "output_type": "execute_result"
    }
   ],
   "source": [
    "df2.OFFENSE_DESCRIPTION.loc[df2.OFFENSE_CODE_GROUP == 'Property Lost'].unique()"
   ]
  },
  {
   "cell_type": "markdown",
   "metadata": {},
   "source": [
    "### 3.11. Fraud"
   ]
  },
  {
   "cell_type": "code",
   "execution_count": 50,
   "metadata": {},
   "outputs": [
    {
     "data": {
      "text/plain": [
       "array(['Part Two'], dtype=object)"
      ]
     },
     "execution_count": 50,
     "metadata": {},
     "output_type": "execute_result"
    }
   ],
   "source": [
    "df2.UCR_PART.loc[df2.OFFENSE_CODE_GROUP == 'Fraud'].unique()"
   ]
  },
  {
   "cell_type": "code",
   "execution_count": 51,
   "metadata": {},
   "outputs": [
    {
     "data": {
      "text/plain": [
       "array(['FRAUD - FALSE PRETENSE / SCHEME', 'FRAUD - WIRE',\n",
       "       'FRAUD - IMPERSONATION', 'FRAUD - WELFARE',\n",
       "       'FRAUD - FALSE PRETENSE', 'FRAUDS - ALL OTHER'], dtype=object)"
      ]
     },
     "execution_count": 51,
     "metadata": {},
     "output_type": "execute_result"
    }
   ],
   "source": [
    "df2.OFFENSE_DESCRIPTION.loc[df2.OFFENSE_CODE_GROUP == 'Fraud'].unique()"
   ]
  },
  {
   "cell_type": "markdown",
   "metadata": {},
   "source": [
    "### 3.12. Towed"
   ]
  },
  {
   "cell_type": "code",
   "execution_count": 52,
   "metadata": {},
   "outputs": [
    {
     "data": {
      "text/plain": [
       "array(['Part Three'], dtype=object)"
      ]
     },
     "execution_count": 52,
     "metadata": {},
     "output_type": "execute_result"
    }
   ],
   "source": [
    "df2.UCR_PART.loc[df2.OFFENSE_CODE_GROUP == 'Towed'].unique()"
   ]
  },
  {
   "cell_type": "code",
   "execution_count": 53,
   "metadata": {},
   "outputs": [
    {
     "data": {
      "text/plain": [
       "array(['TOWED MOTOR VEHICLE'], dtype=object)"
      ]
     },
     "execution_count": 53,
     "metadata": {},
     "output_type": "execute_result"
    }
   ],
   "source": [
    "df2.OFFENSE_DESCRIPTION.loc[df2.OFFENSE_CODE_GROUP == 'Towed'].unique()"
   ]
  },
  {
   "cell_type": "code",
   "execution_count": null,
   "metadata": {},
   "outputs": [],
   "source": []
  },
  {
   "cell_type": "code",
   "execution_count": 54,
   "metadata": {},
   "outputs": [
    {
     "data": {
      "text/plain": [
       "Other                              41210\n",
       "Violations                         27888\n",
       "Larceny                            26485\n",
       "Simple Assault                     18744\n",
       "Medical Assistance                 18236\n",
       "Motor Vehicle Accident Response    16022\n",
       "Vandalism                          14378\n",
       "Investigate Person                 13824\n",
       "Larceny From Motor Vehicle         13570\n",
       "Drug Violation                     13291\n",
       "Property Lost                       9157\n",
       "Fraud                               9153\n",
       "Towed                               8065\n",
       "Residential Burglary                7345\n",
       "Investigate Property                7062\n",
       "Aggravated Assault                  6257\n",
       "Robbery                             5315\n",
       "Missing Person Located              5051\n",
       "Auto Theft                          5027\n",
       "Property Found                      4579\n",
       "Verbal Disputes                     3419\n",
       "Warrant Arrests                     2477\n",
       "Name: OFFENSE_CODE_GROUP, dtype: int64"
      ]
     },
     "execution_count": 54,
     "metadata": {},
     "output_type": "execute_result"
    }
   ],
   "source": [
    "df.OFFENSE_CODE_GROUP.value_counts()"
   ]
  },
  {
   "cell_type": "code",
   "execution_count": null,
   "metadata": {},
   "outputs": [],
   "source": []
  }
 ],
 "metadata": {
  "kernelspec": {
   "display_name": "Python 3",
   "language": "python",
   "name": "python3"
  },
  "language_info": {
   "codemirror_mode": {
    "name": "ipython",
    "version": 3
   },
   "file_extension": ".py",
   "mimetype": "text/x-python",
   "name": "python",
   "nbconvert_exporter": "python",
   "pygments_lexer": "ipython3",
   "version": "3.6.5"
  }
 },
 "nbformat": 4,
 "nbformat_minor": 2
}
