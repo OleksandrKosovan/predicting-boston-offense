{
 "cells": [
  {
   "cell_type": "markdown",
   "metadata": {},
   "source": [
    "# About this Notebook"
   ]
  },
  {
   "cell_type": "markdown",
   "metadata": {},
   "source": [
    "It is first Jupyter Notebook for this data set.\n",
    "\n",
    "I researched all variables in this Jupyter Notebook. \n",
    "\n",
    "For example, unique variables, min or max and so on."
   ]
  },
  {
   "cell_type": "markdown",
   "metadata": {},
   "source": [
    "# Data\n",
    "\n",
    "This is a dataset containing records from the new crime incident report system, which includes a reduced set of fields focused on capturing the type of incident as well as when and where it occurred.\n",
    "\n",
    "**Link:** https://www.kaggle.com/ankkur13/boston-crime-data"
   ]
  },
  {
   "cell_type": "markdown",
   "metadata": {},
   "source": [
    "# 1. Import"
   ]
  },
  {
   "cell_type": "code",
   "execution_count": 1,
   "metadata": {},
   "outputs": [],
   "source": [
    "import numpy as np\n",
    "import pandas as pd"
   ]
  },
  {
   "cell_type": "markdown",
   "metadata": {},
   "source": [
    "# 2. Read data"
   ]
  },
  {
   "cell_type": "code",
   "execution_count": 2,
   "metadata": {},
   "outputs": [],
   "source": [
    "df = pd.read_csv('boston-crime-data/crime.csv', encoding='latin-1')"
   ]
  },
  {
   "cell_type": "code",
   "execution_count": 3,
   "metadata": {},
   "outputs": [
    {
     "name": "stdout",
     "output_type": "stream",
     "text": [
      "(303371, 17)\n"
     ]
    },
    {
     "data": {
      "text/plain": [
       "Index(['INCIDENT_NUMBER', 'OFFENSE_CODE', 'OFFENSE_CODE_GROUP',\n",
       "       'OFFENSE_DESCRIPTION', 'DISTRICT', 'REPORTING_AREA', 'SHOOTING',\n",
       "       'OCCURRED_ON_DATE', 'YEAR', 'MONTH', 'DAY_OF_WEEK', 'HOUR', 'UCR_PART',\n",
       "       'STREET', 'Lat', 'Long', 'Location'],\n",
       "      dtype='object')"
      ]
     },
     "execution_count": 3,
     "metadata": {},
     "output_type": "execute_result"
    }
   ],
   "source": [
    "print(df.shape)\n",
    "df.columns"
   ]
  },
  {
   "cell_type": "markdown",
   "metadata": {},
   "source": [
    "# 3. Functions"
   ]
  },
  {
   "cell_type": "code",
   "execution_count": null,
   "metadata": {},
   "outputs": [],
   "source": [
    "#"
   ]
  },
  {
   "cell_type": "markdown",
   "metadata": {},
   "source": [
    "# 4. Variable"
   ]
  },
  {
   "cell_type": "markdown",
   "metadata": {},
   "source": [
    "##### INCIDENT_NUMBER\n",
    "\n",
    "Maybe, it is not usefull"
   ]
  },
  {
   "cell_type": "code",
   "execution_count": 4,
   "metadata": {},
   "outputs": [
    {
     "data": {
      "text/plain": [
       "0    I182054381\n",
       "1    I182054379\n",
       "2    I182054378\n",
       "3    I182054376\n",
       "4    I182054374\n",
       "5    I182054372\n",
       "6    I182054371\n",
       "7    I182054369\n",
       "8    I182054368\n",
       "9    I182054366\n",
       "Name: INCIDENT_NUMBER, dtype: object"
      ]
     },
     "execution_count": 4,
     "metadata": {},
     "output_type": "execute_result"
    }
   ],
   "source": [
    "df['INCIDENT_NUMBER'][0:10]"
   ]
  },
  {
   "cell_type": "markdown",
   "metadata": {},
   "source": [
    "##### OFFENSE_CODE\n",
    "\n",
    "Offense code"
   ]
  },
  {
   "cell_type": "code",
   "execution_count": 5,
   "metadata": {},
   "outputs": [
    {
     "data": {
      "text/plain": [
       "0    3301\n",
       "1    3114\n",
       "2     619\n",
       "3     617\n",
       "4    3410\n",
       "5    3201\n",
       "6    2647\n",
       "7    3115\n",
       "8    3115\n",
       "9     613\n",
       "Name: OFFENSE_CODE, dtype: int64"
      ]
     },
     "execution_count": 5,
     "metadata": {},
     "output_type": "execute_result"
    }
   ],
   "source": [
    "df['OFFENSE_CODE'][0:10]"
   ]
  },
  {
   "cell_type": "code",
   "execution_count": 6,
   "metadata": {},
   "outputs": [
    {
     "data": {
      "text/plain": [
       "221"
      ]
     },
     "execution_count": 6,
     "metadata": {},
     "output_type": "execute_result"
    }
   ],
   "source": [
    "len(df['OFFENSE_CODE'].unique())"
   ]
  },
  {
   "cell_type": "markdown",
   "metadata": {},
   "source": [
    "##### OFFENSE_CODE_GROUP"
   ]
  },
  {
   "cell_type": "code",
   "execution_count": 7,
   "metadata": {},
   "outputs": [
    {
     "data": {
      "text/plain": [
       "0         Verbal Disputes\n",
       "1    Investigate Property\n",
       "2                 Larceny\n",
       "3                 Larceny\n",
       "4                   Towed\n",
       "5           Property Lost\n",
       "6                   Other\n",
       "7      Investigate Person\n",
       "8      Investigate Person\n",
       "9                 Larceny\n",
       "Name: OFFENSE_CODE_GROUP, dtype: object"
      ]
     },
     "execution_count": 7,
     "metadata": {},
     "output_type": "execute_result"
    }
   ],
   "source": [
    "df['OFFENSE_CODE_GROUP'][0:10]"
   ]
  },
  {
   "cell_type": "code",
   "execution_count": 8,
   "metadata": {},
   "outputs": [
    {
     "data": {
      "text/plain": [
       "count                              303371\n",
       "unique                                 67\n",
       "top       Motor Vehicle Accident Response\n",
       "freq                                35342\n",
       "Name: OFFENSE_CODE_GROUP, dtype: object"
      ]
     },
     "execution_count": 8,
     "metadata": {},
     "output_type": "execute_result"
    }
   ],
   "source": [
    "df['OFFENSE_CODE_GROUP'].describe()"
   ]
  },
  {
   "cell_type": "markdown",
   "metadata": {},
   "source": [
    "##### OFFENSE_DESCRIPTION"
   ]
  },
  {
   "cell_type": "code",
   "execution_count": 9,
   "metadata": {},
   "outputs": [
    {
     "data": {
      "text/plain": [
       "0                 VERBAL DISPUTE\n",
       "1           INVESTIGATE PROPERTY\n",
       "2             LARCENY ALL OTHERS\n",
       "3    LARCENY THEFT FROM BUILDING\n",
       "4            TOWED MOTOR VEHICLE\n",
       "5                PROPERTY - LOST\n",
       "6      THREATS TO DO BODILY HARM\n",
       "7             INVESTIGATE PERSON\n",
       "8             INVESTIGATE PERSON\n",
       "9            LARCENY SHOPLIFTING\n",
       "Name: OFFENSE_DESCRIPTION, dtype: object"
      ]
     },
     "execution_count": 9,
     "metadata": {},
     "output_type": "execute_result"
    }
   ],
   "source": [
    "df['OFFENSE_DESCRIPTION'][0:10]"
   ]
  },
  {
   "cell_type": "code",
   "execution_count": 10,
   "metadata": {},
   "outputs": [
    {
     "data": {
      "text/plain": [
       "count                 303371\n",
       "unique                   243\n",
       "top       INVESTIGATE PERSON\n",
       "freq                   17871\n",
       "Name: OFFENSE_DESCRIPTION, dtype: object"
      ]
     },
     "execution_count": 10,
     "metadata": {},
     "output_type": "execute_result"
    }
   ],
   "source": [
    "df['OFFENSE_DESCRIPTION'].describe()"
   ]
  },
  {
   "cell_type": "markdown",
   "metadata": {},
   "source": [
    "##### DISTRICT"
   ]
  },
  {
   "cell_type": "code",
   "execution_count": 11,
   "metadata": {},
   "outputs": [
    {
     "data": {
      "text/plain": [
       "0     B3\n",
       "1    E18\n",
       "2     B2\n",
       "3     E5\n",
       "4     C6\n",
       "5     C6\n",
       "6     B3\n",
       "7    D14\n",
       "8    E13\n",
       "9    C11\n",
       "Name: DISTRICT, dtype: object"
      ]
     },
     "execution_count": 11,
     "metadata": {},
     "output_type": "execute_result"
    }
   ],
   "source": [
    "df['DISTRICT'][0:10]"
   ]
  },
  {
   "cell_type": "code",
   "execution_count": 12,
   "metadata": {},
   "outputs": [
    {
     "data": {
      "text/plain": [
       "array(['B3', 'E18', 'B2', 'E5', 'C6', 'D14', 'E13', 'C11', 'D4', 'A7',\n",
       "       nan, 'A1', 'A15'], dtype=object)"
      ]
     },
     "execution_count": 12,
     "metadata": {},
     "output_type": "execute_result"
    }
   ],
   "source": [
    "df['DISTRICT'].unique()"
   ]
  },
  {
   "cell_type": "markdown",
   "metadata": {},
   "source": [
    "##### REPORTING_AREA"
   ]
  },
  {
   "cell_type": "code",
   "execution_count": 13,
   "metadata": {},
   "outputs": [
    {
     "data": {
      "text/plain": [
       "0    428\n",
       "1    481\n",
       "2    182\n",
       "3    714\n",
       "4    211\n",
       "5    186\n",
       "6    427\n",
       "7    788\n",
       "8    571\n",
       "9    450\n",
       "Name: REPORTING_AREA, dtype: object"
      ]
     },
     "execution_count": 13,
     "metadata": {},
     "output_type": "execute_result"
    }
   ],
   "source": [
    "df['REPORTING_AREA'][0:10]"
   ]
  },
  {
   "cell_type": "code",
   "execution_count": 14,
   "metadata": {},
   "outputs": [
    {
     "data": {
      "text/plain": [
       "count     303371\n",
       "unique       879\n",
       "top             \n",
       "freq       19130\n",
       "Name: REPORTING_AREA, dtype: object"
      ]
     },
     "execution_count": 14,
     "metadata": {},
     "output_type": "execute_result"
    }
   ],
   "source": [
    "df['REPORTING_AREA'].describe()"
   ]
  },
  {
   "cell_type": "markdown",
   "metadata": {},
   "source": [
    "##### SHOOTING"
   ]
  },
  {
   "cell_type": "code",
   "execution_count": 15,
   "metadata": {},
   "outputs": [
    {
     "data": {
      "text/plain": [
       "0    NaN\n",
       "1    NaN\n",
       "2    NaN\n",
       "3    NaN\n",
       "4    NaN\n",
       "5    NaN\n",
       "6    NaN\n",
       "7    NaN\n",
       "8    NaN\n",
       "9    NaN\n",
       "Name: SHOOTING, dtype: object"
      ]
     },
     "execution_count": 15,
     "metadata": {},
     "output_type": "execute_result"
    }
   ],
   "source": [
    "df['SHOOTING'][0:10]"
   ]
  },
  {
   "cell_type": "code",
   "execution_count": 16,
   "metadata": {},
   "outputs": [
    {
     "data": {
      "text/plain": [
       "array([nan, 'Y'], dtype=object)"
      ]
     },
     "execution_count": 16,
     "metadata": {},
     "output_type": "execute_result"
    }
   ],
   "source": [
    "df['SHOOTING'].unique()"
   ]
  },
  {
   "cell_type": "markdown",
   "metadata": {},
   "source": [
    "##### OCCURRED_ON_DATE"
   ]
  },
  {
   "cell_type": "code",
   "execution_count": 17,
   "metadata": {},
   "outputs": [
    {
     "data": {
      "text/plain": [
       "0    2018-07-10 20:57:00\n",
       "1    2018-07-10 21:16:00\n",
       "2    2018-07-10 21:27:00\n",
       "3    2018-07-10 18:39:00\n",
       "4    2018-07-10 20:11:00\n",
       "5    2018-07-10 21:08:00\n",
       "6    2018-07-10 19:42:00\n",
       "7    2018-07-10 20:17:00\n",
       "8    2018-07-10 20:06:00\n",
       "9    2018-07-10 20:28:00\n",
       "Name: OCCURRED_ON_DATE, dtype: object"
      ]
     },
     "execution_count": 17,
     "metadata": {},
     "output_type": "execute_result"
    }
   ],
   "source": [
    "df['OCCURRED_ON_DATE'][0:10]"
   ]
  },
  {
   "cell_type": "code",
   "execution_count": 18,
   "metadata": {},
   "outputs": [],
   "source": [
    "df['OCCURRED_ON_DATE'] = pd.to_datetime(df['OCCURRED_ON_DATE'])"
   ]
  },
  {
   "cell_type": "code",
   "execution_count": 19,
   "metadata": {},
   "outputs": [
    {
     "data": {
      "text/plain": [
       "count                  303371\n",
       "unique                 222011\n",
       "top       2017-06-01 00:00:00\n",
       "freq                       29\n",
       "first     2015-06-15 00:00:00\n",
       "last      2018-07-10 21:27:00\n",
       "Name: OCCURRED_ON_DATE, dtype: object"
      ]
     },
     "execution_count": 19,
     "metadata": {},
     "output_type": "execute_result"
    }
   ],
   "source": [
    "df['OCCURRED_ON_DATE'].describe()"
   ]
  },
  {
   "cell_type": "markdown",
   "metadata": {},
   "source": [
    "##### YEAR"
   ]
  },
  {
   "cell_type": "code",
   "execution_count": 20,
   "metadata": {},
   "outputs": [
    {
     "data": {
      "text/plain": [
       "array([2018, 2017, 2015, 2016])"
      ]
     },
     "execution_count": 20,
     "metadata": {},
     "output_type": "execute_result"
    }
   ],
   "source": [
    "df['YEAR'].unique()"
   ]
  },
  {
   "cell_type": "markdown",
   "metadata": {},
   "source": [
    "##### MONTH"
   ]
  },
  {
   "cell_type": "code",
   "execution_count": 21,
   "metadata": {},
   "outputs": [
    {
     "name": "stdout",
     "output_type": "stream",
     "text": [
      "12\n"
     ]
    },
    {
     "data": {
      "text/plain": [
       "array([ 7,  6,  4,  5,  1,  8, 12,  2,  3,  9, 10, 11])"
      ]
     },
     "execution_count": 21,
     "metadata": {},
     "output_type": "execute_result"
    }
   ],
   "source": [
    "print(len(df['MONTH'].unique()))\n",
    "df['MONTH'].unique()"
   ]
  },
  {
   "cell_type": "markdown",
   "metadata": {},
   "source": [
    "##### DAY_OF_WEEK"
   ]
  },
  {
   "cell_type": "code",
   "execution_count": 22,
   "metadata": {},
   "outputs": [
    {
     "name": "stdout",
     "output_type": "stream",
     "text": [
      "7\n"
     ]
    },
    {
     "data": {
      "text/plain": [
       "array(['Tuesday', 'Saturday', 'Monday', 'Sunday', 'Thursday', 'Wednesday',\n",
       "       'Friday'], dtype=object)"
      ]
     },
     "execution_count": 22,
     "metadata": {},
     "output_type": "execute_result"
    }
   ],
   "source": [
    "print(len(df['DAY_OF_WEEK'].unique()))\n",
    "df['DAY_OF_WEEK'].unique()"
   ]
  },
  {
   "cell_type": "markdown",
   "metadata": {},
   "source": [
    "##### HOUR"
   ]
  },
  {
   "cell_type": "code",
   "execution_count": 23,
   "metadata": {},
   "outputs": [
    {
     "name": "stdout",
     "output_type": "stream",
     "text": [
      "24\n"
     ]
    },
    {
     "data": {
      "text/plain": [
       "array([20, 21, 18, 19, 14,  7,  5, 17, 15, 10, 12, 16, 11,  0,  8, 13,  9,\n",
       "       23,  2,  1,  6,  3,  4, 22])"
      ]
     },
     "execution_count": 23,
     "metadata": {},
     "output_type": "execute_result"
    }
   ],
   "source": [
    "print(len(df['HOUR'].unique()))\n",
    "df['HOUR'].unique()"
   ]
  },
  {
   "cell_type": "markdown",
   "metadata": {},
   "source": [
    "##### UCR_PART"
   ]
  },
  {
   "cell_type": "code",
   "execution_count": 24,
   "metadata": {},
   "outputs": [
    {
     "data": {
      "text/plain": [
       "0    Part Three\n",
       "1    Part Three\n",
       "2      Part One\n",
       "3      Part One\n",
       "4    Part Three\n",
       "5    Part Three\n",
       "6      Part Two\n",
       "7    Part Three\n",
       "8    Part Three\n",
       "9      Part One\n",
       "Name: UCR_PART, dtype: object"
      ]
     },
     "execution_count": 24,
     "metadata": {},
     "output_type": "execute_result"
    }
   ],
   "source": [
    "df['UCR_PART'][0:10]"
   ]
  },
  {
   "cell_type": "code",
   "execution_count": 25,
   "metadata": {},
   "outputs": [
    {
     "data": {
      "text/plain": [
       "array(['Part Three', 'Part One', 'Part Two', 'Other', nan], dtype=object)"
      ]
     },
     "execution_count": 25,
     "metadata": {},
     "output_type": "execute_result"
    }
   ],
   "source": [
    "df['UCR_PART'].unique()"
   ]
  },
  {
   "cell_type": "markdown",
   "metadata": {},
   "source": [
    "##### STREET"
   ]
  },
  {
   "cell_type": "code",
   "execution_count": 26,
   "metadata": {},
   "outputs": [
    {
     "data": {
      "text/plain": [
       "0    BLUE HILL AVE\n",
       "1      ROCKDALE ST\n",
       "2    BATCHELDER ST\n",
       "3         VOGEL ST\n",
       "4       W THIRD ST\n",
       "5      ALLSTATE RD\n",
       "6     FESSENDEN ST\n",
       "7      CHISWICK RD\n",
       "8    WASHINGTON ST\n",
       "9    WASHINGTON ST\n",
       "Name: STREET, dtype: object"
      ]
     },
     "execution_count": 26,
     "metadata": {},
     "output_type": "execute_result"
    }
   ],
   "source": [
    "df['STREET'][0:10]"
   ]
  },
  {
   "cell_type": "code",
   "execution_count": 27,
   "metadata": {},
   "outputs": [
    {
     "data": {
      "text/plain": [
       "count            292753\n",
       "unique             4595\n",
       "top       WASHINGTON ST\n",
       "freq              13504\n",
       "Name: STREET, dtype: object"
      ]
     },
     "execution_count": 27,
     "metadata": {},
     "output_type": "execute_result"
    }
   ],
   "source": [
    "df['STREET'].describe()"
   ]
  },
  {
   "cell_type": "markdown",
   "metadata": {},
   "source": [
    "##### Lat"
   ]
  },
  {
   "cell_type": "code",
   "execution_count": 28,
   "metadata": {},
   "outputs": [
    {
     "data": {
      "text/plain": [
       "0    42.282829\n",
       "1    42.266525\n",
       "2    42.322496\n",
       "3    42.262539\n",
       "4    42.338964\n",
       "5    42.326966\n",
       "6    42.278560\n",
       "7    42.339969\n",
       "8    42.311906\n",
       "9    42.291316\n",
       "Name: Lat, dtype: float64"
      ]
     },
     "execution_count": 28,
     "metadata": {},
     "output_type": "execute_result"
    }
   ],
   "source": [
    "df['Lat'][0:10]"
   ]
  },
  {
   "cell_type": "markdown",
   "metadata": {},
   "source": [
    "##### Long"
   ]
  },
  {
   "cell_type": "code",
   "execution_count": 29,
   "metadata": {},
   "outputs": [
    {
     "data": {
      "text/plain": [
       "0   -71.091825\n",
       "1   -71.098553\n",
       "2   -71.069092\n",
       "3   -71.165069\n",
       "4   -71.048964\n",
       "5   -71.061986\n",
       "6   -71.091997\n",
       "7   -71.150486\n",
       "8   -71.102132\n",
       "9   -71.071703\n",
       "Name: Long, dtype: float64"
      ]
     },
     "execution_count": 29,
     "metadata": {},
     "output_type": "execute_result"
    }
   ],
   "source": [
    "df['Long'][0:10]"
   ]
  },
  {
   "cell_type": "markdown",
   "metadata": {},
   "source": [
    "##### Location"
   ]
  },
  {
   "cell_type": "code",
   "execution_count": 30,
   "metadata": {},
   "outputs": [
    {
     "data": {
      "text/plain": [
       "0    (42.28282878, -71.09182490)\n",
       "1    (42.26652466, -71.09855320)\n",
       "2    (42.32249601, -71.06909180)\n",
       "3    (42.26253888, -71.16506913)\n",
       "4    (42.33896439, -71.04896420)\n",
       "5    (42.32696647, -71.06198607)\n",
       "6    (42.27855984, -71.09199697)\n",
       "7    (42.33996911, -71.15048615)\n",
       "8    (42.31190641, -71.10213227)\n",
       "9    (42.29131613, -71.07170293)\n",
       "Name: Location, dtype: object"
      ]
     },
     "execution_count": 30,
     "metadata": {},
     "output_type": "execute_result"
    }
   ],
   "source": [
    "df['Location'][0:10]"
   ]
  },
  {
   "cell_type": "code",
   "execution_count": null,
   "metadata": {},
   "outputs": [],
   "source": []
  }
 ],
 "metadata": {
  "kernelspec": {
   "display_name": "Python 3",
   "language": "python",
   "name": "python3"
  },
  "language_info": {
   "codemirror_mode": {
    "name": "ipython",
    "version": 3
   },
   "file_extension": ".py",
   "mimetype": "text/x-python",
   "name": "python",
   "nbconvert_exporter": "python",
   "pygments_lexer": "ipython3",
   "version": "3.6.5"
  }
 },
 "nbformat": 4,
 "nbformat_minor": 2
}
