{
 "cells": [
  {
   "cell_type": "markdown",
   "metadata": {},
   "source": [
    "# Merge data\n",
    "Source data => Boston public safety => https://data.boston.gov/group/public-safety"
   ]
  },
  {
   "cell_type": "markdown",
   "metadata": {},
   "source": [
    "We did not get good results. Our main problem is not enough data. We need to add new rows and columns.\n",
    "\n",
    "**How can we add rows?**\n",
    "\n",
    "Boston have website with open data for crime. \n",
    "\n",
    "Crime Incident Reports (July 2012 - August 2015) (Source: Legacy System). \n",
    "\n",
    "**Link:** \n",
    "https://data.boston.gov/dataset/crime-incident-reports-july-2012-august-2015-source-legacy-system\n",
    "\n",
    "We have two data sets with crime incidents in Boston. And we need to merge these data sets. But there is one problem. It is different system for crime reporting.\n"
   ]
  },
  {
   "cell_type": "markdown",
   "metadata": {},
   "source": [
    "# 1. Import"
   ]
  },
  {
   "cell_type": "code",
   "execution_count": 1251,
   "metadata": {},
   "outputs": [],
   "source": [
    "import numpy as np\n",
    "import pandas as pd"
   ]
  },
  {
   "cell_type": "markdown",
   "metadata": {},
   "source": [
    "# 2. Read data"
   ]
  },
  {
   "cell_type": "markdown",
   "metadata": {},
   "source": [
    "- df1 > Crime Incident Reports (July 2012 - August 2015) (Source: Legacy System)\n",
    "- https://data.boston.gov/dataset/crime-incident-reports-july-2012-august-2015-source-legacy-system"
   ]
  },
  {
   "cell_type": "code",
   "execution_count": 1252,
   "metadata": {},
   "outputs": [
    {
     "name": "stderr",
     "output_type": "stream",
     "text": [
      "/home/olexandr/anaconda3/lib/python3.6/site-packages/IPython/core/interactiveshell.py:2785: DtypeWarning: Columns (10) have mixed types. Specify dtype option on import or set low_memory=False.\n",
      "  interactivity=interactivity, compiler=compiler, result=result)\n"
     ]
    },
    {
     "data": {
      "text/plain": [
       "(268056, 20)"
      ]
     },
     "execution_count": 1252,
     "metadata": {},
     "output_type": "execute_result"
    }
   ],
   "source": [
    "df1 = pd.read_csv('crime-incident-reports-july-2012---august-2015-source-legacy-system.csv') \n",
    "df1.shape"
   ]
  },
  {
   "cell_type": "markdown",
   "metadata": {},
   "source": [
    "- df2 > Crime Incident Reports (August 2015 - To Date) (Source: New System)\n",
    "- https://data.boston.gov/dataset/crime-incident-reports-august-2015-to-date-source-new-system"
   ]
  },
  {
   "cell_type": "code",
   "execution_count": 1253,
   "metadata": {},
   "outputs": [
    {
     "data": {
      "text/plain": [
       "(319628, 17)"
      ]
     },
     "execution_count": 1253,
     "metadata": {},
     "output_type": "execute_result"
    }
   ],
   "source": [
    "df2 = pd.read_csv('crimeincidentreports.csv')\n",
    "df2.shape"
   ]
  },
  {
   "cell_type": "markdown",
   "metadata": {},
   "source": [
    "# 3. Crime Incident Reports (July 2012 - August 2015) (Source: Legacy System) - Research"
   ]
  },
  {
   "cell_type": "markdown",
   "metadata": {},
   "source": [
    "### 3.1. Data structure"
   ]
  },
  {
   "cell_type": "code",
   "execution_count": 1254,
   "metadata": {},
   "outputs": [
    {
     "data": {
      "text/html": [
       "<div>\n",
       "<style scoped>\n",
       "    .dataframe tbody tr th:only-of-type {\n",
       "        vertical-align: middle;\n",
       "    }\n",
       "\n",
       "    .dataframe tbody tr th {\n",
       "        vertical-align: top;\n",
       "    }\n",
       "\n",
       "    .dataframe thead th {\n",
       "        text-align: right;\n",
       "    }\n",
       "</style>\n",
       "<table border=\"1\" class=\"dataframe\">\n",
       "  <thead>\n",
       "    <tr style=\"text-align: right;\">\n",
       "      <th></th>\n",
       "      <th>COMPNOS</th>\n",
       "      <th>NatureCode</th>\n",
       "      <th>INCIDENT_TYPE_DESCRIPTION</th>\n",
       "      <th>MAIN_CRIMECODE</th>\n",
       "      <th>REPTDISTRICT</th>\n",
       "      <th>REPORTINGAREA</th>\n",
       "      <th>FROMDATE</th>\n",
       "      <th>WEAPONTYPE</th>\n",
       "      <th>Shooting</th>\n",
       "      <th>DOMESTIC</th>\n",
       "      <th>SHIFT</th>\n",
       "      <th>Year</th>\n",
       "      <th>Month</th>\n",
       "      <th>DAY_WEEK</th>\n",
       "      <th>UCRPART</th>\n",
       "      <th>X</th>\n",
       "      <th>Y</th>\n",
       "      <th>STREETNAME</th>\n",
       "      <th>XSTREETNAME</th>\n",
       "      <th>Location</th>\n",
       "    </tr>\n",
       "  </thead>\n",
       "  <tbody>\n",
       "    <tr>\n",
       "      <th>0</th>\n",
       "      <td>120420285.0</td>\n",
       "      <td>BERPTA</td>\n",
       "      <td>RESIDENTIAL BURGLARY</td>\n",
       "      <td>05RB</td>\n",
       "      <td>D4</td>\n",
       "      <td>629</td>\n",
       "      <td>07/08/2012 06:00:00 AM</td>\n",
       "      <td>Other</td>\n",
       "      <td>No</td>\n",
       "      <td>No</td>\n",
       "      <td>Last</td>\n",
       "      <td>2012</td>\n",
       "      <td>7</td>\n",
       "      <td>Sunday</td>\n",
       "      <td>Part One</td>\n",
       "      <td>763273.1791</td>\n",
       "      <td>2951498.962</td>\n",
       "      <td>ABERDEEN ST</td>\n",
       "      <td>NaN</td>\n",
       "      <td>(42.34638135, -71.10379454)</td>\n",
       "    </tr>\n",
       "    <tr>\n",
       "      <th>1</th>\n",
       "      <td>120419202.0</td>\n",
       "      <td>PSHOT</td>\n",
       "      <td>AGGRAVATED ASSAULT</td>\n",
       "      <td>04xx</td>\n",
       "      <td>B2</td>\n",
       "      <td>327</td>\n",
       "      <td>07/08/2012 06:03:00 AM</td>\n",
       "      <td>Firearm</td>\n",
       "      <td>Yes</td>\n",
       "      <td>No</td>\n",
       "      <td>Last</td>\n",
       "      <td>2012</td>\n",
       "      <td>7</td>\n",
       "      <td>Sunday</td>\n",
       "      <td>Part One</td>\n",
       "      <td>771223.1638</td>\n",
       "      <td>2940772.099</td>\n",
       "      <td>HOWARD AV</td>\n",
       "      <td>NaN</td>\n",
       "      <td>(42.31684135, -71.07458456)</td>\n",
       "    </tr>\n",
       "    <tr>\n",
       "      <th>2</th>\n",
       "      <td>120419213.0</td>\n",
       "      <td>ARMROB</td>\n",
       "      <td>ROBBERY</td>\n",
       "      <td>03xx</td>\n",
       "      <td>D4</td>\n",
       "      <td>625</td>\n",
       "      <td>07/08/2012 06:26:00 AM</td>\n",
       "      <td>Firearm</td>\n",
       "      <td>No</td>\n",
       "      <td>No</td>\n",
       "      <td>Last</td>\n",
       "      <td>2012</td>\n",
       "      <td>7</td>\n",
       "      <td>Sunday</td>\n",
       "      <td>Part One</td>\n",
       "      <td>765118.8605</td>\n",
       "      <td>2950217.536</td>\n",
       "      <td>JERSEY ST</td>\n",
       "      <td>QUEENSBERRY ST</td>\n",
       "      <td>(42.34284135, -71.09698955)</td>\n",
       "    </tr>\n",
       "    <tr>\n",
       "      <th>3</th>\n",
       "      <td>120419223.0</td>\n",
       "      <td>ALARMC</td>\n",
       "      <td>COMMERCIAL BURGLARY</td>\n",
       "      <td>05CB</td>\n",
       "      <td>B2</td>\n",
       "      <td>258</td>\n",
       "      <td>07/08/2012 06:56:00 AM</td>\n",
       "      <td>Other</td>\n",
       "      <td>No</td>\n",
       "      <td>No</td>\n",
       "      <td>Last</td>\n",
       "      <td>2012</td>\n",
       "      <td>7</td>\n",
       "      <td>Sunday</td>\n",
       "      <td>Part One</td>\n",
       "      <td>773591.8648</td>\n",
       "      <td>2940638.174</td>\n",
       "      <td>COLUMBIA RD</td>\n",
       "      <td>NaN</td>\n",
       "      <td>(42.3164411, -71.06582908)</td>\n",
       "    </tr>\n",
       "    <tr>\n",
       "      <th>4</th>\n",
       "      <td>120419236.0</td>\n",
       "      <td>ARMROB</td>\n",
       "      <td>ROBBERY</td>\n",
       "      <td>03xx</td>\n",
       "      <td>E18</td>\n",
       "      <td>496</td>\n",
       "      <td>07/08/2012 07:15:00 AM</td>\n",
       "      <td>Firearm</td>\n",
       "      <td>No</td>\n",
       "      <td>No</td>\n",
       "      <td>Last</td>\n",
       "      <td>2012</td>\n",
       "      <td>7</td>\n",
       "      <td>Sunday</td>\n",
       "      <td>Part One</td>\n",
       "      <td>759042.7315</td>\n",
       "      <td>2923832.681</td>\n",
       "      <td>COLLINS ST</td>\n",
       "      <td>NaN</td>\n",
       "      <td>(42.27051636, -71.11989955)</td>\n",
       "    </tr>\n",
       "  </tbody>\n",
       "</table>\n",
       "</div>"
      ],
      "text/plain": [
       "       COMPNOS NatureCode INCIDENT_TYPE_DESCRIPTION MAIN_CRIMECODE  \\\n",
       "0  120420285.0     BERPTA      RESIDENTIAL BURGLARY           05RB   \n",
       "1  120419202.0     PSHOT         AGGRAVATED ASSAULT           04xx   \n",
       "2  120419213.0     ARMROB                   ROBBERY           03xx   \n",
       "3  120419223.0     ALARMC       COMMERCIAL BURGLARY           05CB   \n",
       "4  120419236.0     ARMROB                   ROBBERY           03xx   \n",
       "\n",
       "  REPTDISTRICT  REPORTINGAREA                FROMDATE WEAPONTYPE Shooting  \\\n",
       "0           D4            629  07/08/2012 06:00:00 AM      Other       No   \n",
       "1           B2            327  07/08/2012 06:03:00 AM    Firearm      Yes   \n",
       "2           D4            625  07/08/2012 06:26:00 AM    Firearm       No   \n",
       "3           B2            258  07/08/2012 06:56:00 AM      Other       No   \n",
       "4          E18            496  07/08/2012 07:15:00 AM    Firearm       No   \n",
       "\n",
       "  DOMESTIC SHIFT  Year  Month DAY_WEEK   UCRPART            X            Y  \\\n",
       "0       No  Last  2012      7   Sunday  Part One  763273.1791  2951498.962   \n",
       "1       No  Last  2012      7   Sunday  Part One  771223.1638  2940772.099   \n",
       "2       No  Last  2012      7   Sunday  Part One  765118.8605  2950217.536   \n",
       "3       No  Last  2012      7   Sunday  Part One  773591.8648  2940638.174   \n",
       "4       No  Last  2012      7   Sunday  Part One  759042.7315  2923832.681   \n",
       "\n",
       "    STREETNAME     XSTREETNAME                     Location  \n",
       "0  ABERDEEN ST             NaN  (42.34638135, -71.10379454)  \n",
       "1    HOWARD AV             NaN  (42.31684135, -71.07458456)  \n",
       "2    JERSEY ST  QUEENSBERRY ST  (42.34284135, -71.09698955)  \n",
       "3  COLUMBIA RD             NaN   (42.3164411, -71.06582908)  \n",
       "4   COLLINS ST             NaN  (42.27051636, -71.11989955)  "
      ]
     },
     "execution_count": 1254,
     "metadata": {},
     "output_type": "execute_result"
    }
   ],
   "source": [
    "df1.head()"
   ]
  },
  {
   "cell_type": "code",
   "execution_count": 1255,
   "metadata": {},
   "outputs": [
    {
     "data": {
      "text/plain": [
       "Index(['COMPNOS', 'NatureCode', 'INCIDENT_TYPE_DESCRIPTION', 'MAIN_CRIMECODE',\n",
       "       'REPTDISTRICT', 'REPORTINGAREA', 'FROMDATE', 'WEAPONTYPE', 'Shooting',\n",
       "       'DOMESTIC', 'SHIFT', 'Year', 'Month', 'DAY_WEEK', 'UCRPART', 'X', 'Y',\n",
       "       'STREETNAME', 'XSTREETNAME', 'Location'],\n",
       "      dtype='object')"
      ]
     },
     "execution_count": 1255,
     "metadata": {},
     "output_type": "execute_result"
    }
   ],
   "source": [
    "df1.columns"
   ]
  },
  {
   "cell_type": "markdown",
   "metadata": {},
   "source": [
    "###### COMPNOS\n",
    "\n",
    "- This column have 255797 different values. \n",
    "- Not useful. Deleted"
   ]
  },
  {
   "cell_type": "code",
   "execution_count": 1256,
   "metadata": {},
   "outputs": [
    {
     "data": {
      "text/plain": [
       "255797"
      ]
     },
     "execution_count": 1256,
     "metadata": {},
     "output_type": "execute_result"
    }
   ],
   "source": [
    "len(df1['COMPNOS'].unique())"
   ]
  },
  {
   "cell_type": "markdown",
   "metadata": {},
   "source": [
    "###### NatureCode\n",
    "\n",
    "- This column have 255797 different values, which don't exist in main dataset.\n",
    "- Not useful. Deleted"
   ]
  },
  {
   "cell_type": "code",
   "execution_count": 1257,
   "metadata": {},
   "outputs": [
    {
     "data": {
      "text/plain": [
       "320"
      ]
     },
     "execution_count": 1257,
     "metadata": {},
     "output_type": "execute_result"
    }
   ],
   "source": [
    "# ???\n",
    "\n",
    "len(df1['NatureCode'].unique())"
   ]
  },
  {
   "cell_type": "markdown",
   "metadata": {},
   "source": [
    "##### INCIDENT_TYPE_DESCRIPTION\n",
    "\n",
    "- I did not use it for modeling, but it is useful for research some values.\n",
    "- Use for research, and deleted"
   ]
  },
  {
   "cell_type": "code",
   "execution_count": 1258,
   "metadata": {},
   "outputs": [
    {
     "name": "stdout",
     "output_type": "stream",
     "text": [
      "127\n"
     ]
    }
   ],
   "source": [
    "print(len(df1['INCIDENT_TYPE_DESCRIPTION'].unique()))"
   ]
  },
  {
   "cell_type": "markdown",
   "metadata": {},
   "source": [
    "###### MAIN_CRIMECODE\n",
    "\n",
    "- We will merge it with OFFENSE_CODE_GROUP\n",
    "- This column need to deep research."
   ]
  },
  {
   "cell_type": "code",
   "execution_count": 1259,
   "metadata": {},
   "outputs": [
    {
     "name": "stdout",
     "output_type": "stream",
     "text": [
      "77\n"
     ]
    }
   ],
   "source": [
    "print(len(df1['MAIN_CRIMECODE'].unique()))\n",
    "# df1['MAIN_CRIMECODE'].unique()"
   ]
  },
  {
   "cell_type": "code",
   "execution_count": 1260,
   "metadata": {},
   "outputs": [],
   "source": [
    "#df1['MAIN_CRIMECODE'].value_counts()"
   ]
  },
  {
   "cell_type": "markdown",
   "metadata": {},
   "source": [
    "###### REPTDISTRICT\n",
    "\n",
    "- We will merge it with DISTRICT\n",
    "- Good"
   ]
  },
  {
   "cell_type": "code",
   "execution_count": 1261,
   "metadata": {},
   "outputs": [
    {
     "name": "stdout",
     "output_type": "stream",
     "text": [
      "14\n"
     ]
    },
    {
     "data": {
      "text/plain": [
       "array(['D4', 'B2', 'E18', 'C11', 'A1', 'D14', 'C6', 'E13', 'B3', 'A7',\n",
       "       'A15', 'E5', 'HTU', nan], dtype=object)"
      ]
     },
     "execution_count": 1261,
     "metadata": {},
     "output_type": "execute_result"
    }
   ],
   "source": [
    "print(len(df1['REPTDISTRICT'].unique()))\n",
    "df1['REPTDISTRICT'].unique()"
   ]
  },
  {
   "cell_type": "markdown",
   "metadata": {},
   "source": [
    "###### REPORTINGAREA\n",
    "\n",
    "- We will merge it with REPORTING_AREA\n",
    "- Good"
   ]
  },
  {
   "cell_type": "code",
   "execution_count": 1262,
   "metadata": {},
   "outputs": [
    {
     "data": {
      "text/plain": [
       "886"
      ]
     },
     "execution_count": 1262,
     "metadata": {},
     "output_type": "execute_result"
    }
   ],
   "source": [
    "len(df1['REPORTINGAREA'].unique())"
   ]
  },
  {
   "cell_type": "markdown",
   "metadata": {},
   "source": [
    "###### WEAPONTYPE"
   ]
  },
  {
   "cell_type": "code",
   "execution_count": 1263,
   "metadata": {},
   "outputs": [
    {
     "data": {
      "text/plain": [
       "array(['Other', 'Firearm', 'Unarmed', 'Knife', 'None',\n",
       "       'Knife/Cutting Instrument', 'Personal Weapon (hand  foot  etc.)',\n",
       "       'Blunt Object'], dtype=object)"
      ]
     },
     "execution_count": 1263,
     "metadata": {},
     "output_type": "execute_result"
    }
   ],
   "source": [
    "df1['WEAPONTYPE'].unique()"
   ]
  },
  {
   "cell_type": "markdown",
   "metadata": {},
   "source": [
    "###### Shooting"
   ]
  },
  {
   "cell_type": "code",
   "execution_count": 1264,
   "metadata": {},
   "outputs": [
    {
     "data": {
      "text/plain": [
       "array(['No', 'Yes'], dtype=object)"
      ]
     },
     "execution_count": 1264,
     "metadata": {},
     "output_type": "execute_result"
    }
   ],
   "source": [
    "df1['Shooting'].unique()"
   ]
  },
  {
   "cell_type": "markdown",
   "metadata": {},
   "source": [
    "###### UCRPART"
   ]
  },
  {
   "cell_type": "code",
   "execution_count": 1265,
   "metadata": {},
   "outputs": [
    {
     "data": {
      "text/plain": [
       "array(['Part One', 'Part Two', 'Part Three', 'Other', 'Part three'], dtype=object)"
      ]
     },
     "execution_count": 1265,
     "metadata": {},
     "output_type": "execute_result"
    }
   ],
   "source": [
    "df1['UCRPART'].unique()"
   ]
  },
  {
   "cell_type": "markdown",
   "metadata": {},
   "source": [
    "# 4. Crime Incident Reports (August 2015 - To Date) (Source: New System) - Research"
   ]
  },
  {
   "cell_type": "code",
   "execution_count": 1266,
   "metadata": {},
   "outputs": [
    {
     "data": {
      "text/html": [
       "<div>\n",
       "<style scoped>\n",
       "    .dataframe tbody tr th:only-of-type {\n",
       "        vertical-align: middle;\n",
       "    }\n",
       "\n",
       "    .dataframe tbody tr th {\n",
       "        vertical-align: top;\n",
       "    }\n",
       "\n",
       "    .dataframe thead th {\n",
       "        text-align: right;\n",
       "    }\n",
       "</style>\n",
       "<table border=\"1\" class=\"dataframe\">\n",
       "  <thead>\n",
       "    <tr style=\"text-align: right;\">\n",
       "      <th></th>\n",
       "      <th>INCIDENT_NUMBER</th>\n",
       "      <th>OFFENSE_CODE</th>\n",
       "      <th>OFFENSE_CODE_GROUP</th>\n",
       "      <th>OFFENSE_DESCRIPTION</th>\n",
       "      <th>DISTRICT</th>\n",
       "      <th>REPORTING_AREA</th>\n",
       "      <th>SHOOTING</th>\n",
       "      <th>OCCURRED_ON_DATE</th>\n",
       "      <th>YEAR</th>\n",
       "      <th>MONTH</th>\n",
       "      <th>DAY_OF_WEEK</th>\n",
       "      <th>HOUR</th>\n",
       "      <th>UCR_PART</th>\n",
       "      <th>STREET</th>\n",
       "      <th>Lat</th>\n",
       "      <th>Long</th>\n",
       "      <th>Location</th>\n",
       "    </tr>\n",
       "  </thead>\n",
       "  <tbody>\n",
       "    <tr>\n",
       "      <th>0</th>\n",
       "      <td>I182070945</td>\n",
       "      <td>619</td>\n",
       "      <td>Larceny</td>\n",
       "      <td>LARCENY ALL OTHERS</td>\n",
       "      <td>D14</td>\n",
       "      <td>808</td>\n",
       "      <td>NaN</td>\n",
       "      <td>2018-09-02 13:00:00</td>\n",
       "      <td>2018</td>\n",
       "      <td>9</td>\n",
       "      <td>Sunday</td>\n",
       "      <td>13</td>\n",
       "      <td>Part One</td>\n",
       "      <td>LINCOLN ST</td>\n",
       "      <td>42.357791</td>\n",
       "      <td>-71.139371</td>\n",
       "      <td>(42.35779134, -71.13937053)</td>\n",
       "    </tr>\n",
       "    <tr>\n",
       "      <th>1</th>\n",
       "      <td>I182070943</td>\n",
       "      <td>1402</td>\n",
       "      <td>Vandalism</td>\n",
       "      <td>VANDALISM</td>\n",
       "      <td>C11</td>\n",
       "      <td>347</td>\n",
       "      <td>NaN</td>\n",
       "      <td>2018-08-21 00:00:00</td>\n",
       "      <td>2018</td>\n",
       "      <td>8</td>\n",
       "      <td>Tuesday</td>\n",
       "      <td>0</td>\n",
       "      <td>Part Two</td>\n",
       "      <td>HECLA ST</td>\n",
       "      <td>42.306821</td>\n",
       "      <td>-71.060300</td>\n",
       "      <td>(42.30682138, -71.06030035)</td>\n",
       "    </tr>\n",
       "    <tr>\n",
       "      <th>2</th>\n",
       "      <td>I182070941</td>\n",
       "      <td>3410</td>\n",
       "      <td>Towed</td>\n",
       "      <td>TOWED MOTOR VEHICLE</td>\n",
       "      <td>D4</td>\n",
       "      <td>151</td>\n",
       "      <td>NaN</td>\n",
       "      <td>2018-09-03 19:27:00</td>\n",
       "      <td>2018</td>\n",
       "      <td>9</td>\n",
       "      <td>Monday</td>\n",
       "      <td>19</td>\n",
       "      <td>Part Three</td>\n",
       "      <td>CAZENOVE ST</td>\n",
       "      <td>42.346589</td>\n",
       "      <td>-71.072429</td>\n",
       "      <td>(42.34658879, -71.07242943)</td>\n",
       "    </tr>\n",
       "    <tr>\n",
       "      <th>3</th>\n",
       "      <td>I182070940</td>\n",
       "      <td>3114</td>\n",
       "      <td>Investigate Property</td>\n",
       "      <td>INVESTIGATE PROPERTY</td>\n",
       "      <td>D4</td>\n",
       "      <td>272</td>\n",
       "      <td>NaN</td>\n",
       "      <td>2018-09-03 21:16:00</td>\n",
       "      <td>2018</td>\n",
       "      <td>9</td>\n",
       "      <td>Monday</td>\n",
       "      <td>21</td>\n",
       "      <td>Part Three</td>\n",
       "      <td>NEWCOMB ST</td>\n",
       "      <td>42.334182</td>\n",
       "      <td>-71.078664</td>\n",
       "      <td>(42.33418175, -71.07866441)</td>\n",
       "    </tr>\n",
       "    <tr>\n",
       "      <th>4</th>\n",
       "      <td>I182070938</td>\n",
       "      <td>3114</td>\n",
       "      <td>Investigate Property</td>\n",
       "      <td>INVESTIGATE PROPERTY</td>\n",
       "      <td>B3</td>\n",
       "      <td>421</td>\n",
       "      <td>NaN</td>\n",
       "      <td>2018-09-03 21:05:00</td>\n",
       "      <td>2018</td>\n",
       "      <td>9</td>\n",
       "      <td>Monday</td>\n",
       "      <td>21</td>\n",
       "      <td>Part Three</td>\n",
       "      <td>DELHI ST</td>\n",
       "      <td>42.275365</td>\n",
       "      <td>-71.090361</td>\n",
       "      <td>(42.27536542, -71.09036101)</td>\n",
       "    </tr>\n",
       "  </tbody>\n",
       "</table>\n",
       "</div>"
      ],
      "text/plain": [
       "  INCIDENT_NUMBER  OFFENSE_CODE    OFFENSE_CODE_GROUP   OFFENSE_DESCRIPTION  \\\n",
       "0      I182070945           619               Larceny    LARCENY ALL OTHERS   \n",
       "1      I182070943          1402             Vandalism             VANDALISM   \n",
       "2      I182070941          3410                 Towed   TOWED MOTOR VEHICLE   \n",
       "3      I182070940          3114  Investigate Property  INVESTIGATE PROPERTY   \n",
       "4      I182070938          3114  Investigate Property  INVESTIGATE PROPERTY   \n",
       "\n",
       "  DISTRICT REPORTING_AREA SHOOTING     OCCURRED_ON_DATE  YEAR  MONTH  \\\n",
       "0      D14            808      NaN  2018-09-02 13:00:00  2018      9   \n",
       "1      C11            347      NaN  2018-08-21 00:00:00  2018      8   \n",
       "2       D4            151      NaN  2018-09-03 19:27:00  2018      9   \n",
       "3       D4            272      NaN  2018-09-03 21:16:00  2018      9   \n",
       "4       B3            421      NaN  2018-09-03 21:05:00  2018      9   \n",
       "\n",
       "  DAY_OF_WEEK  HOUR    UCR_PART       STREET        Lat       Long  \\\n",
       "0      Sunday    13    Part One   LINCOLN ST  42.357791 -71.139371   \n",
       "1     Tuesday     0    Part Two     HECLA ST  42.306821 -71.060300   \n",
       "2      Monday    19  Part Three  CAZENOVE ST  42.346589 -71.072429   \n",
       "3      Monday    21  Part Three   NEWCOMB ST  42.334182 -71.078664   \n",
       "4      Monday    21  Part Three     DELHI ST  42.275365 -71.090361   \n",
       "\n",
       "                      Location  \n",
       "0  (42.35779134, -71.13937053)  \n",
       "1  (42.30682138, -71.06030035)  \n",
       "2  (42.34658879, -71.07242943)  \n",
       "3  (42.33418175, -71.07866441)  \n",
       "4  (42.27536542, -71.09036101)  "
      ]
     },
     "execution_count": 1266,
     "metadata": {},
     "output_type": "execute_result"
    }
   ],
   "source": [
    "df2.head()"
   ]
  },
  {
   "cell_type": "code",
   "execution_count": 1267,
   "metadata": {},
   "outputs": [
    {
     "data": {
      "text/plain": [
       "244"
      ]
     },
     "execution_count": 1267,
     "metadata": {},
     "output_type": "execute_result"
    }
   ],
   "source": [
    "len(df2['OFFENSE_DESCRIPTION'].unique())"
   ]
  },
  {
   "cell_type": "code",
   "execution_count": 1268,
   "metadata": {},
   "outputs": [
    {
     "data": {
      "text/plain": [
       "879"
      ]
     },
     "execution_count": 1268,
     "metadata": {},
     "output_type": "execute_result"
    }
   ],
   "source": [
    "len(df2['REPORTING_AREA'].unique())"
   ]
  },
  {
   "cell_type": "code",
   "execution_count": 1269,
   "metadata": {},
   "outputs": [
    {
     "name": "stdout",
     "output_type": "stream",
     "text": [
      "67\n"
     ]
    }
   ],
   "source": [
    "print(len(df2['OFFENSE_CODE_GROUP'].unique()))\n",
    "#df2['OFFENSE_CODE_GROUP'].unique()"
   ]
  },
  {
   "cell_type": "code",
   "execution_count": 1270,
   "metadata": {},
   "outputs": [],
   "source": [
    "#df2['OFFENSE_CODE_GROUP'].value_counts().head(20)"
   ]
  },
  {
   "cell_type": "code",
   "execution_count": 1271,
   "metadata": {},
   "outputs": [],
   "source": [
    "#df2['OFFENSE_CODE']"
   ]
  },
  {
   "cell_type": "markdown",
   "metadata": {},
   "source": [
    "# 5. Preparation data sets"
   ]
  },
  {
   "cell_type": "code",
   "execution_count": 1272,
   "metadata": {},
   "outputs": [
    {
     "data": {
      "text/plain": [
       "Index(['COMPNOS', 'NatureCode', 'INCIDENT_TYPE_DESCRIPTION', 'MAIN_CRIMECODE',\n",
       "       'REPTDISTRICT', 'REPORTINGAREA', 'FROMDATE', 'WEAPONTYPE', 'Shooting',\n",
       "       'DOMESTIC', 'SHIFT', 'Year', 'Month', 'DAY_WEEK', 'UCRPART', 'X', 'Y',\n",
       "       'STREETNAME', 'XSTREETNAME', 'Location'],\n",
       "      dtype='object')"
      ]
     },
     "execution_count": 1272,
     "metadata": {},
     "output_type": "execute_result"
    }
   ],
   "source": [
    "df1.columns"
   ]
  },
  {
   "cell_type": "code",
   "execution_count": 1273,
   "metadata": {},
   "outputs": [
    {
     "data": {
      "text/plain": [
       "Index(['INCIDENT_NUMBER', 'OFFENSE_CODE', 'OFFENSE_CODE_GROUP',\n",
       "       'OFFENSE_DESCRIPTION', 'DISTRICT', 'REPORTING_AREA', 'SHOOTING',\n",
       "       'OCCURRED_ON_DATE', 'YEAR', 'MONTH', 'DAY_OF_WEEK', 'HOUR', 'UCR_PART',\n",
       "       'STREET', 'Lat', 'Long', 'Location'],\n",
       "      dtype='object')"
      ]
     },
     "execution_count": 1273,
     "metadata": {},
     "output_type": "execute_result"
    }
   ],
   "source": [
    "df2.columns"
   ]
  },
  {
   "cell_type": "markdown",
   "metadata": {},
   "source": [
    "##  5.1. Which columns we can merge, and which columns we will delete?"
   ]
  },
  {
   "cell_type": "markdown",
   "metadata": {},
   "source": [
    "###### df1 - df2\n",
    "- REPTDISTRICT - DISTRICT\n",
    "- REPORTINGAREA - REPORTING_AREA\n",
    "- FROMDATE - OCCURRED_ON_DATE\n",
    "- Year - YEAR\n",
    "- Month - MONTH\n",
    "- DAY_WEEK - DAY_OF_WEEK\n",
    "- UCRPART - UCR_PART\n",
    "- Shooting - SHOOTING\n",
    "- Location - Location\n",
    "- MAIN_CRIMECODE - OFFENSE_CODE_GROUP\n",
    "- X\\Y - Lat\\Long"
   ]
  },
  {
   "cell_type": "markdown",
   "metadata": {},
   "source": [
    "##### df1 - delete\n",
    "- COMPNOS\n",
    "- NatureCode\n",
    "- INCIDENT_TYPE_DESCRIPTION\n",
    "- WEAPONTYPE\n",
    "- DOMESTIC\n",
    "- SHIFT\n",
    "- STREETNAME\n",
    "- XSTREETNAME"
   ]
  },
  {
   "cell_type": "code",
   "execution_count": 1274,
   "metadata": {},
   "outputs": [],
   "source": [
    "df1 = df1.drop('COMPNOS',1)\n",
    "df1 = df1.drop('NatureCode',1)\n",
    "df1 = df1.drop('INCIDENT_TYPE_DESCRIPTION',1)\n",
    "df1 = df1.drop('WEAPONTYPE',1)\n",
    "df1 = df1.drop('DOMESTIC',1)\n",
    "df1 = df1.drop('SHIFT',1)\n",
    "df1 = df1.drop('STREETNAME',1)\n",
    "df1 = df1.drop('XSTREETNAME',1)"
   ]
  },
  {
   "cell_type": "markdown",
   "metadata": {},
   "source": [
    "##### df2 - delete"
   ]
  },
  {
   "cell_type": "code",
   "execution_count": 1275,
   "metadata": {},
   "outputs": [],
   "source": [
    "df2 = df2.drop('INCIDENT_NUMBER',1)\n",
    "df2 = df2.drop('OFFENSE_CODE',1)\n",
    "df2 = df2.drop('OFFENSE_DESCRIPTION',1)\n",
    "df2 = df2.drop('STREET',1)"
   ]
  },
  {
   "cell_type": "markdown",
   "metadata": {},
   "source": [
    "##### df1 - rename"
   ]
  },
  {
   "cell_type": "code",
   "execution_count": 1276,
   "metadata": {},
   "outputs": [],
   "source": [
    "df1.rename(\n",
    "    columns={\n",
    "        \"REPTDISTRICT\": \"DISTRICT\",\n",
    "        \"REPORTINGAREA\": \"REPORTING_AREA\",\n",
    "        \"FROMDATE\": \"OCCURRED_ON_DATE\",\n",
    "        \"Year\": \"YEAR\",\n",
    "        \"Month\": \"MONTH\",\n",
    "        \"DAY_WEEK\": \"DAY_OF_WEEK\",\n",
    "        \"UCRPART\": \"UCR_PART\",\n",
    "        \"Shooting\": \"SHOOTING\",\n",
    "        \"MAIN_CRIMECODE\": \"OFFENSE_CODE_GROUP\"\n",
    "    }, \n",
    "    inplace=True\n",
    ")"
   ]
  },
  {
   "cell_type": "markdown",
   "metadata": {},
   "source": [
    "## 5.2. District"
   ]
  },
  {
   "cell_type": "markdown",
   "metadata": {},
   "source": [
    "I merged it without problems. \n",
    "\n",
    "NaN sum = 1 776\n"
   ]
  },
  {
   "cell_type": "markdown",
   "metadata": {},
   "source": [
    "###### df1"
   ]
  },
  {
   "cell_type": "code",
   "execution_count": 1277,
   "metadata": {},
   "outputs": [
    {
     "name": "stdout",
     "output_type": "stream",
     "text": [
      "357\n"
     ]
    },
    {
     "data": {
      "text/plain": [
       "B2     40640\n",
       "D4     37908\n",
       "C11    34609\n",
       "A1     29653\n",
       "B3     24812\n",
       "C6     20767\n",
       "D14    19520\n",
       "E13    15167\n",
       "E18    13985\n",
       "A7     12783\n",
       "E5     12226\n",
       "A15     5621\n",
       "HTU        8\n",
       "Name: DISTRICT, dtype: int64"
      ]
     },
     "execution_count": 1277,
     "metadata": {},
     "output_type": "execute_result"
    }
   ],
   "source": [
    "print(df1['DISTRICT'].isnull().sum())\n",
    "df1['DISTRICT'].value_counts()"
   ]
  },
  {
   "cell_type": "code",
   "execution_count": 1278,
   "metadata": {},
   "outputs": [],
   "source": [
    "df1['DISTRICT'] = df1['DISTRICT'].map({\n",
    "    'B2':1,\n",
    "    'D4':2,\n",
    "    'C11':3,\n",
    "    'A1':4,\n",
    "    'B3':5,\n",
    "    'C6':6,\n",
    "    'D14':7,\n",
    "    'E13':8,\n",
    "    'E18':9,\n",
    "    'A7':10,\n",
    "    'E5':11,\n",
    "    'A15':12\n",
    "})"
   ]
  },
  {
   "cell_type": "markdown",
   "metadata": {},
   "source": [
    "###### df2"
   ]
  },
  {
   "cell_type": "code",
   "execution_count": 1279,
   "metadata": {},
   "outputs": [
    {
     "name": "stdout",
     "output_type": "stream",
     "text": [
      "1765\n"
     ]
    },
    {
     "data": {
      "text/plain": [
       "B2     50103\n",
       "C11    42590\n",
       "D4     41996\n",
       "A1     35776\n",
       "B3     35524\n",
       "C6     23479\n",
       "D14    20138\n",
       "E13    17572\n",
       "E18    17368\n",
       "A7     13559\n",
       "E5     13250\n",
       "A15     6508\n",
       "Name: DISTRICT, dtype: int64"
      ]
     },
     "execution_count": 1279,
     "metadata": {},
     "output_type": "execute_result"
    }
   ],
   "source": [
    "print(df2['DISTRICT'].isnull().sum())\n",
    "df2['DISTRICT'].value_counts()"
   ]
  },
  {
   "cell_type": "code",
   "execution_count": 1280,
   "metadata": {},
   "outputs": [],
   "source": [
    "df2['DISTRICT'] = df2['DISTRICT'].map({\n",
    "    'B2':1,\n",
    "    'D4':2,\n",
    "    'C11':3,\n",
    "    'A1':4,\n",
    "    'B3':5,\n",
    "    'C6':6,\n",
    "    'D14':7,\n",
    "    'E13':8,\n",
    "    'E18':9,\n",
    "    'A7':10,\n",
    "    'E5':11,\n",
    "    'A15':12\n",
    "})"
   ]
  },
  {
   "cell_type": "markdown",
   "metadata": {},
   "source": [
    "## 5.3. REPORTINGAREA"
   ]
  },
  {
   "cell_type": "markdown",
   "metadata": {},
   "source": [
    "These columns had different format. First column as float, second - object.\n",
    "\n",
    "Then i converted all values to float and merged it.\n",
    "\n",
    "NaN sum = 20 265\n"
   ]
  },
  {
   "cell_type": "code",
   "execution_count": 1281,
   "metadata": {},
   "outputs": [
    {
     "data": {
      "text/plain": [
       "count    268056.000000\n",
       "mean        250.394626\n",
       "std         268.133442\n",
       "min           0.000000\n",
       "25%           0.000000\n",
       "50%         167.000000\n",
       "75%         435.000000\n",
       "max         962.000000\n",
       "Name: REPORTING_AREA, dtype: float64"
      ]
     },
     "execution_count": 1281,
     "metadata": {},
     "output_type": "execute_result"
    }
   ],
   "source": [
    "df1['REPORTING_AREA'].describe()"
   ]
  },
  {
   "cell_type": "code",
   "execution_count": 1282,
   "metadata": {},
   "outputs": [
    {
     "name": "stdout",
     "output_type": "stream",
     "text": [
      "886\n"
     ]
    },
    {
     "data": {
      "text/plain": [
       "0      91211\n",
       "282     1665\n",
       "72      1223\n",
       "355     1219\n",
       "111     1150\n",
       "26      1072\n",
       "186     1051\n",
       "143     1038\n",
       "329     1027\n",
       "465     1006\n",
       "200      994\n",
       "624      936\n",
       "257      920\n",
       "134      889\n",
       "330      855\n",
       "138      839\n",
       "117      795\n",
       "796      775\n",
       "428      769\n",
       "794      768\n",
       "Name: REPORTING_AREA, dtype: int64"
      ]
     },
     "execution_count": 1282,
     "metadata": {},
     "output_type": "execute_result"
    }
   ],
   "source": [
    "print(len(df1['REPORTING_AREA'].unique()))\n",
    "df1['REPORTING_AREA'].value_counts().head(20)"
   ]
  },
  {
   "cell_type": "code",
   "execution_count": 1283,
   "metadata": {},
   "outputs": [],
   "source": [
    "df2['REPORTING_AREA'] = pd.to_numeric(df2['REPORTING_AREA'], errors='coerce')"
   ]
  },
  {
   "cell_type": "code",
   "execution_count": 1284,
   "metadata": {},
   "outputs": [
    {
     "data": {
      "text/plain": [
       "count    299363.000000\n",
       "mean        383.205052\n",
       "std         242.256973\n",
       "min           0.000000\n",
       "25%         177.000000\n",
       "50%         343.000000\n",
       "75%         544.000000\n",
       "max         962.000000\n",
       "Name: REPORTING_AREA, dtype: float64"
      ]
     },
     "execution_count": 1284,
     "metadata": {},
     "output_type": "execute_result"
    }
   ],
   "source": [
    "df2['REPORTING_AREA'].describe()"
   ]
  },
  {
   "cell_type": "code",
   "execution_count": 1285,
   "metadata": {},
   "outputs": [
    {
     "name": "stdout",
     "output_type": "stream",
     "text": [
      "879\n"
     ]
    },
    {
     "data": {
      "text/plain": [
       "111.0    2384\n",
       "186.0    2016\n",
       "329.0    1891\n",
       "117.0    1833\n",
       "143.0    1776\n",
       "624.0    1761\n",
       "26.0     1748\n",
       "465.0    1653\n",
       "130.0    1423\n",
       "257.0    1417\n",
       "427.0    1409\n",
       "428.0    1396\n",
       "134.0    1390\n",
       "177.0    1371\n",
       "520.0    1346\n",
       "900.0    1317\n",
       "914.0    1302\n",
       "444.0    1242\n",
       "304.0    1241\n",
       "796.0    1236\n",
       "Name: REPORTING_AREA, dtype: int64"
      ]
     },
     "execution_count": 1285,
     "metadata": {},
     "output_type": "execute_result"
    }
   ],
   "source": [
    "print(len(df2['REPORTING_AREA'].unique()))\n",
    "df2['REPORTING_AREA'].value_counts().head(20)"
   ]
  },
  {
   "cell_type": "markdown",
   "metadata": {},
   "source": [
    "## 5.4. OCCURRED_ON_DATE"
   ]
  },
  {
   "cell_type": "markdown",
   "metadata": {},
   "source": [
    "These columns had different values. \n",
    "\n",
    "Format for first \n",
    "df > **%Y-%m-%d %H:%M:%S** AM/PM (*2012-07-08 01:30:00 PM*)\n",
    "\n",
    "Format for second df > **%Y-%m-%d %H:%M:%S** \n",
    "*(2012-07-08 13:30:00)*\n",
    "\n",
    "Then i converted all values to datetime (**%Y-%m-%d %H:%M:%S**) and merged it.\n"
   ]
  },
  {
   "cell_type": "code",
   "execution_count": 1286,
   "metadata": {},
   "outputs": [],
   "source": [
    "#df1['OCCURRED_ON_DATE'] = pd.to_datetime(df1['OCCURRED_ON_DATE']).dt.strftime('%H:%M:%S')"
   ]
  },
  {
   "cell_type": "code",
   "execution_count": 1287,
   "metadata": {},
   "outputs": [],
   "source": [
    "df1['OCCURRED_ON_DATE'] = pd.to_datetime(df1['OCCURRED_ON_DATE']).dt.strftime('%Y-%m-%d %H:%M:%S')"
   ]
  },
  {
   "cell_type": "code",
   "execution_count": 1288,
   "metadata": {},
   "outputs": [
    {
     "data": {
      "text/plain": [
       "30    2012-07-08 11:30:00\n",
       "31    2012-07-08 11:51:00\n",
       "32    2012-07-08 11:59:00\n",
       "33    2012-07-08 12:00:00\n",
       "34    2012-07-08 12:00:00\n",
       "35    2012-07-08 12:00:00\n",
       "36    2012-07-08 12:00:00\n",
       "37    2012-07-08 12:00:00\n",
       "38    2012-07-08 12:00:00\n",
       "39    2012-07-08 12:15:00\n",
       "40    2012-07-08 12:22:00\n",
       "41    2012-07-08 12:24:00\n",
       "42    2012-07-08 12:27:00\n",
       "43    2012-07-08 12:30:00\n",
       "44    2012-07-08 12:30:00\n",
       "45    2012-07-08 12:30:00\n",
       "46    2012-07-08 12:36:00\n",
       "47    2012-07-08 12:41:00\n",
       "48    2012-07-08 12:57:00\n",
       "49    2012-07-08 13:00:00\n",
       "50    2012-07-08 13:00:00\n",
       "51    2012-07-08 13:00:00\n",
       "52    2012-07-08 13:17:00\n",
       "53    2012-07-08 13:27:00\n",
       "54    2012-07-08 13:30:00\n",
       "55    2012-07-08 13:30:00\n",
       "56    2012-07-08 13:40:00\n",
       "57    2012-07-08 13:54:00\n",
       "58    2012-07-08 14:00:00\n",
       "59    2012-07-08 14:00:00\n",
       "Name: OCCURRED_ON_DATE, dtype: object"
      ]
     },
     "execution_count": 1288,
     "metadata": {},
     "output_type": "execute_result"
    }
   ],
   "source": [
    "df1['OCCURRED_ON_DATE'][30:60]"
   ]
  },
  {
   "cell_type": "code",
   "execution_count": null,
   "metadata": {},
   "outputs": [],
   "source": []
  },
  {
   "cell_type": "markdown",
   "metadata": {},
   "source": [
    "## 5.5. YEAR"
   ]
  },
  {
   "cell_type": "markdown",
   "metadata": {},
   "source": [
    "Without problems"
   ]
  },
  {
   "cell_type": "code",
   "execution_count": 1289,
   "metadata": {},
   "outputs": [
    {
     "data": {
      "text/plain": [
       "array([2012, 2013, 2014, 2015])"
      ]
     },
     "execution_count": 1289,
     "metadata": {},
     "output_type": "execute_result"
    }
   ],
   "source": [
    "df1['YEAR'].unique()"
   ]
  },
  {
   "cell_type": "code",
   "execution_count": 1290,
   "metadata": {},
   "outputs": [
    {
     "data": {
      "text/plain": [
       "array([2018, 2017, 2016, 2015])"
      ]
     },
     "execution_count": 1290,
     "metadata": {},
     "output_type": "execute_result"
    }
   ],
   "source": [
    "df2['YEAR'].unique()"
   ]
  },
  {
   "cell_type": "markdown",
   "metadata": {},
   "source": [
    "## 5.6. MONTH"
   ]
  },
  {
   "cell_type": "markdown",
   "metadata": {},
   "source": [
    "Without problems"
   ]
  },
  {
   "cell_type": "code",
   "execution_count": 1291,
   "metadata": {},
   "outputs": [
    {
     "data": {
      "text/plain": [
       "array([ 7,  8,  9, 12,  2, 10,  3, 11,  4,  5,  6,  1])"
      ]
     },
     "execution_count": 1291,
     "metadata": {},
     "output_type": "execute_result"
    }
   ],
   "source": [
    "df1['MONTH'].unique()"
   ]
  },
  {
   "cell_type": "code",
   "execution_count": 1292,
   "metadata": {},
   "outputs": [
    {
     "data": {
      "text/plain": [
       "array([ 9,  8,  6,  7, 11, 10,  5, 12,  2,  1,  4,  3])"
      ]
     },
     "execution_count": 1292,
     "metadata": {},
     "output_type": "execute_result"
    }
   ],
   "source": [
    "df2['MONTH'].unique()"
   ]
  },
  {
   "cell_type": "markdown",
   "metadata": {},
   "source": [
    "## 5.7. DAY_OF_WEEK"
   ]
  },
  {
   "cell_type": "markdown",
   "metadata": {},
   "source": [
    "Without problems"
   ]
  },
  {
   "cell_type": "code",
   "execution_count": 1293,
   "metadata": {},
   "outputs": [
    {
     "data": {
      "text/plain": [
       "array(['Sunday', 'Monday', 'Tuesday', 'Wednesday', 'Friday', 'Thursday',\n",
       "       'Saturday'], dtype=object)"
      ]
     },
     "execution_count": 1293,
     "metadata": {},
     "output_type": "execute_result"
    }
   ],
   "source": [
    "df1['DAY_OF_WEEK'].unique()"
   ]
  },
  {
   "cell_type": "code",
   "execution_count": 1294,
   "metadata": {},
   "outputs": [
    {
     "data": {
      "text/plain": [
       "array(['Sunday', 'Tuesday', 'Monday', 'Saturday', 'Friday', 'Wednesday',\n",
       "       'Thursday'], dtype=object)"
      ]
     },
     "execution_count": 1294,
     "metadata": {},
     "output_type": "execute_result"
    }
   ],
   "source": [
    "df2['DAY_OF_WEEK'].unique()"
   ]
  },
  {
   "cell_type": "markdown",
   "metadata": {},
   "source": [
    "## 5.8. UCR_PART"
   ]
  },
  {
   "cell_type": "markdown",
   "metadata": {},
   "source": [
    "Converting: Part three => Part Three\n",
    "\n",
    "Then without problem"
   ]
  },
  {
   "cell_type": "code",
   "execution_count": 1295,
   "metadata": {},
   "outputs": [
    {
     "data": {
      "text/plain": [
       "array(['Part One', 'Part Two', 'Part Three', 'Other', 'Part three'], dtype=object)"
      ]
     },
     "execution_count": 1295,
     "metadata": {},
     "output_type": "execute_result"
    }
   ],
   "source": [
    "df1['UCR_PART'].unique()"
   ]
  },
  {
   "cell_type": "code",
   "execution_count": 1296,
   "metadata": {},
   "outputs": [],
   "source": [
    "df1['UCR_PART'] = df1['UCR_PART'].map({\n",
    "    'Part One': 1,\n",
    "    'Part Two': 2,\n",
    "    'Part Three': 3,\n",
    "    'Part three': 3,\n",
    "    'Other': 4\n",
    "})"
   ]
  },
  {
   "cell_type": "code",
   "execution_count": 1297,
   "metadata": {},
   "outputs": [
    {
     "data": {
      "text/plain": [
       "array(['Part One', 'Part Two', 'Part Three', 'Other', nan], dtype=object)"
      ]
     },
     "execution_count": 1297,
     "metadata": {},
     "output_type": "execute_result"
    }
   ],
   "source": [
    "df2['UCR_PART'].unique()"
   ]
  },
  {
   "cell_type": "code",
   "execution_count": 1298,
   "metadata": {},
   "outputs": [],
   "source": [
    "df2['UCR_PART'] = df2['UCR_PART'].map({\n",
    "    'Part One': 1,\n",
    "    'Part Two': 2,\n",
    "    'Part Three': 3,\n",
    "    'Other': 4\n",
    "})"
   ]
  },
  {
   "cell_type": "markdown",
   "metadata": {},
   "source": [
    "## 5.9. SHOOTING"
   ]
  },
  {
   "cell_type": "markdown",
   "metadata": {},
   "source": [
    "Converting:\n",
    "\n",
    "- No / NaN - 0\n",
    "- Yes/ Y  - 1\n"
   ]
  },
  {
   "cell_type": "code",
   "execution_count": 1299,
   "metadata": {},
   "outputs": [
    {
     "data": {
      "text/plain": [
       "array(['No', 'Yes'], dtype=object)"
      ]
     },
     "execution_count": 1299,
     "metadata": {},
     "output_type": "execute_result"
    }
   ],
   "source": [
    "df1['SHOOTING'].unique()"
   ]
  },
  {
   "cell_type": "code",
   "execution_count": 1300,
   "metadata": {},
   "outputs": [
    {
     "data": {
      "text/plain": [
       "array([nan, 'Y'], dtype=object)"
      ]
     },
     "execution_count": 1300,
     "metadata": {},
     "output_type": "execute_result"
    }
   ],
   "source": [
    "df2['SHOOTING'].unique()"
   ]
  },
  {
   "cell_type": "code",
   "execution_count": 1301,
   "metadata": {},
   "outputs": [],
   "source": [
    "df1['SHOOTING'] = df1['SHOOTING'].map({\n",
    "    'No':0,\n",
    "    'Yes':1\n",
    "})"
   ]
  },
  {
   "cell_type": "code",
   "execution_count": 1302,
   "metadata": {},
   "outputs": [],
   "source": [
    "df2['SHOOTING'] = df2['SHOOTING'].map({\n",
    "    'Y':1\n",
    "})"
   ]
  },
  {
   "cell_type": "code",
   "execution_count": 1303,
   "metadata": {},
   "outputs": [],
   "source": [
    "df2['SHOOTING'].fillna(0, inplace = True)"
   ]
  },
  {
   "cell_type": "code",
   "execution_count": 1304,
   "metadata": {},
   "outputs": [
    {
     "data": {
      "text/plain": [
       "0    267359\n",
       "1       697\n",
       "Name: SHOOTING, dtype: int64"
      ]
     },
     "execution_count": 1304,
     "metadata": {},
     "output_type": "execute_result"
    }
   ],
   "source": [
    "df1['SHOOTING'].value_counts()"
   ]
  },
  {
   "cell_type": "code",
   "execution_count": 1305,
   "metadata": {},
   "outputs": [
    {
     "data": {
      "text/plain": [
       "0.0    318334\n",
       "1.0      1294\n",
       "Name: SHOOTING, dtype: int64"
      ]
     },
     "execution_count": 1305,
     "metadata": {},
     "output_type": "execute_result"
    }
   ],
   "source": [
    "df2['SHOOTING'].value_counts()"
   ]
  },
  {
   "cell_type": "markdown",
   "metadata": {},
   "source": [
    "## 5.10. Location"
   ]
  },
  {
   "cell_type": "markdown",
   "metadata": {},
   "source": [
    "Second data sets have columns - ‘Lat’ & ‘Long’, but first don't have it. So, i need select it for our new dataframe.\n",
    "\n",
    "First, i deleted - ‘(‘ and ‘(‘.\n",
    "\n",
    "Then, i splitted long and lat and contained it in new columns - “Long”, “Lat”\n"
   ]
  },
  {
   "cell_type": "code",
   "execution_count": 1306,
   "metadata": {},
   "outputs": [
    {
     "data": {
      "text/plain": [
       "0    (42.34638135, -71.10379454)\n",
       "1    (42.31684135, -71.07458456)\n",
       "2    (42.34284135, -71.09698955)\n",
       "3     (42.3164411, -71.06582908)\n",
       "4    (42.27051636, -71.11989955)\n",
       "5     (42.31328183, -71.0530059)\n",
       "6    (42.32425136, -71.08620956)\n",
       "7    (42.34924634, -71.06378456)\n",
       "8    (42.35174635, -71.16590953)\n",
       "9    (42.25938275, -71.11729354)\n",
       "Name: Location, dtype: object"
      ]
     },
     "execution_count": 1306,
     "metadata": {},
     "output_type": "execute_result"
    }
   ],
   "source": [
    "df1['Location'][0:10]"
   ]
  },
  {
   "cell_type": "code",
   "execution_count": 1307,
   "metadata": {},
   "outputs": [
    {
     "data": {
      "text/plain": [
       "0    (42.35779134, -71.13937053)\n",
       "1    (42.30682138, -71.06030035)\n",
       "2    (42.34658879, -71.07242943)\n",
       "3    (42.33418175, -71.07866441)\n",
       "4    (42.27536542, -71.09036101)\n",
       "5    (42.29019621, -71.07159012)\n",
       "6    (42.30607218, -71.08273260)\n",
       "7    (42.32701648, -71.10555088)\n",
       "8    (42.33152148, -71.07085307)\n",
       "9    (42.29514664, -71.05860832)\n",
       "Name: Location, dtype: object"
      ]
     },
     "execution_count": 1307,
     "metadata": {},
     "output_type": "execute_result"
    }
   ],
   "source": [
    "df2['Location'][0:10]"
   ]
  },
  {
   "cell_type": "markdown",
   "metadata": {},
   "source": [
    "###### Remove  ( )  "
   ]
  },
  {
   "cell_type": "code",
   "execution_count": 1308,
   "metadata": {},
   "outputs": [],
   "source": [
    "import re"
   ]
  },
  {
   "cell_type": "code",
   "execution_count": 1309,
   "metadata": {},
   "outputs": [],
   "source": [
    "# https://stackoverflow.com/questions/44263331/pandas-remove-sqare-braces-and-single-quotes/44263739"
   ]
  },
  {
   "cell_type": "code",
   "execution_count": 1310,
   "metadata": {},
   "outputs": [
    {
     "data": {
      "text/plain": [
       "0    42.34638135, -71.10379454\n",
       "1    42.31684135, -71.07458456\n",
       "2    42.34284135, -71.09698955\n",
       "3     42.3164411, -71.06582908\n",
       "4    42.27051636, -71.11989955\n",
       "5     42.31328183, -71.0530059\n",
       "6    42.32425136, -71.08620956\n",
       "7    42.34924634, -71.06378456\n",
       "8    42.35174635, -71.16590953\n",
       "9    42.25938275, -71.11729354\n",
       "Name: Location, dtype: object"
      ]
     },
     "execution_count": 1310,
     "metadata": {},
     "output_type": "execute_result"
    }
   ],
   "source": [
    "df1['Location'] = df1['Location'].apply(lambda x: ' '.join(re.findall(\".*?\\((.*?)\\)\", x)))\n",
    "\n",
    "df1['Location'][0:10]"
   ]
  },
  {
   "cell_type": "markdown",
   "metadata": {},
   "source": [
    "###### Create Lat and Long"
   ]
  },
  {
   "cell_type": "code",
   "execution_count": 1311,
   "metadata": {},
   "outputs": [],
   "source": [
    "# https://stackoverflow.com/questions/50885024/get-latitude-longitude-python-pandas\n"
   ]
  },
  {
   "cell_type": "code",
   "execution_count": null,
   "metadata": {},
   "outputs": [],
   "source": []
  },
  {
   "cell_type": "code",
   "execution_count": 1312,
   "metadata": {},
   "outputs": [],
   "source": [
    "def create_lat(x):\n",
    "    return pd.Series([x.split(',')[0][0:], \n",
    "                      x.split(',')[1][1:-1]],\n",
    "                      index = [\"Lat\", \"Long\"])"
   ]
  },
  {
   "cell_type": "code",
   "execution_count": 1313,
   "metadata": {},
   "outputs": [],
   "source": [
    "df1 = pd.concat((df1, df1['Location'].apply(create_lat)), axis=1)\n"
   ]
  },
  {
   "cell_type": "code",
   "execution_count": 1314,
   "metadata": {},
   "outputs": [
    {
     "data": {
      "text/html": [
       "<div>\n",
       "<style scoped>\n",
       "    .dataframe tbody tr th:only-of-type {\n",
       "        vertical-align: middle;\n",
       "    }\n",
       "\n",
       "    .dataframe tbody tr th {\n",
       "        vertical-align: top;\n",
       "    }\n",
       "\n",
       "    .dataframe thead th {\n",
       "        text-align: right;\n",
       "    }\n",
       "</style>\n",
       "<table border=\"1\" class=\"dataframe\">\n",
       "  <thead>\n",
       "    <tr style=\"text-align: right;\">\n",
       "      <th></th>\n",
       "      <th>Lat</th>\n",
       "      <th>Long</th>\n",
       "    </tr>\n",
       "  </thead>\n",
       "  <tbody>\n",
       "    <tr>\n",
       "      <th>0</th>\n",
       "      <td>42.34638135</td>\n",
       "      <td>-71.1037945</td>\n",
       "    </tr>\n",
       "    <tr>\n",
       "      <th>1</th>\n",
       "      <td>42.31684135</td>\n",
       "      <td>-71.0745845</td>\n",
       "    </tr>\n",
       "    <tr>\n",
       "      <th>2</th>\n",
       "      <td>42.34284135</td>\n",
       "      <td>-71.0969895</td>\n",
       "    </tr>\n",
       "    <tr>\n",
       "      <th>3</th>\n",
       "      <td>42.3164411</td>\n",
       "      <td>-71.0658290</td>\n",
       "    </tr>\n",
       "    <tr>\n",
       "      <th>4</th>\n",
       "      <td>42.27051636</td>\n",
       "      <td>-71.1198995</td>\n",
       "    </tr>\n",
       "  </tbody>\n",
       "</table>\n",
       "</div>"
      ],
      "text/plain": [
       "           Lat         Long\n",
       "0  42.34638135  -71.1037945\n",
       "1  42.31684135  -71.0745845\n",
       "2  42.34284135  -71.0969895\n",
       "3   42.3164411  -71.0658290\n",
       "4  42.27051636  -71.1198995"
      ]
     },
     "execution_count": 1314,
     "metadata": {},
     "output_type": "execute_result"
    }
   ],
   "source": [
    "df1[['Lat','Long']].head()"
   ]
  },
  {
   "cell_type": "code",
   "execution_count": 1315,
   "metadata": {},
   "outputs": [],
   "source": [
    "df1 = df1.drop('X',1)\n",
    "df1 = df1.drop('Y',1)\n",
    "df1 = df1.drop('Location',1)\n",
    "df2 = df2.drop('Location',1)"
   ]
  },
  {
   "cell_type": "markdown",
   "metadata": {},
   "source": [
    "## 5.11. OFFENSE_CODE_GROUP"
   ]
  },
  {
   "cell_type": "markdown",
   "metadata": {},
   "source": [
    "###### deep research offense code group\n",
    "\n",
    "It is the hardest for merge preparation. \n",
    "\n",
    "Our second data sets contain name for each offence code, but first data sets contain other name.\n",
    "\n",
    "So, i need to research description and code for each values in this column. \n",
    "\n",
    "See lower…\n",
    "\n",
    "Example value:\n",
    "\n",
    "- VAL\n",
    "- 06xx\n",
    "- 08xx\n",
    "- MedAssist\n",
    "\t\n",
    "We need convert it.\n",
    "\n",
    "Value_counts for offense code, example:\n",
    "- Motor Vehicle Accident Response > 38xx\n",
    "- Larceny > 61x / 62x / 63x\n",
    "- Medical Assistance > 30xx\n",
    "- Investigate Person > 3115\n",
    "- Drug Violation > 18xx\n",
    "\n",
    "Value_counts for INCIDENT_TYPE_DESCRIPTION, example\n",
    "- VAL > Violations\n",
    "- 06xx > Larceny / OTHER LARCENY\n",
    "- 08xx > Simple Assault\n",
    "- MedAssist > Medical Assistance / MedAssist\n",
    "- MVAcc > Motor Vehicle Accident Response / MVAcc\n",
    "\n",
    "After that, i converted offense code group in useful format. And i given column with 22 unique values (category). See lower:\n",
    "\n",
    "- 'Residential Burglary', \n",
    "- 'Aggravated Assault',\n",
    "-  'Robbery', \n",
    "- 'Other',\n",
    "- 'Simple Assault', \n",
    "- 'Medical Assistance',\n",
    "- 'Violations', \n",
    "- 'Fraud',\n",
    "- 'Property Found', \n",
    "- 'Investigate Person', \n",
    "- 'Towed',\n",
    "- 'Investigate Property',\n",
    "- 'Drug Violation', \n",
    "- 'Missing Person Located',\n",
    "- 'Property Lost',\n",
    "- 'Larceny',\n",
    "- 'Auto Theft',\n",
    "- 'Warrant Arrests',\n",
    "- 'Vandalism',\n",
    "- 'Motor Vehicle Accident Response',\n",
    "- 'Larceny From Motor Vehicle', \n",
    "- 'Verbal Disputes'"
   ]
  },
  {
   "cell_type": "code",
   "execution_count": 1316,
   "metadata": {},
   "outputs": [],
   "source": [
    "#df1['OFFENSE_CODE_GROUP'].value_counts().head(25)"
   ]
  },
  {
   "cell_type": "code",
   "execution_count": 1317,
   "metadata": {},
   "outputs": [],
   "source": [
    "#df2['OFFENSE_CODE_GROUP'].value_counts().head(25)"
   ]
  },
  {
   "cell_type": "code",
   "execution_count": 1318,
   "metadata": {},
   "outputs": [],
   "source": [
    "#######################################################"
   ]
  },
  {
   "cell_type": "code",
   "execution_count": 1319,
   "metadata": {},
   "outputs": [],
   "source": [
    "#df_two = pd.read_csv('crimeincidentreports.csv')\n",
    "#df_one = pd.read_csv('crime-incident-reports-july-2012---august-2015-source-legacy-system.csv') \n"
   ]
  },
  {
   "cell_type": "code",
   "execution_count": 1320,
   "metadata": {},
   "outputs": [],
   "source": [
    "# Motor Vehicle Accident Response > 38xx\n",
    "# Larceny > 61x / 62x / 63x\n",
    "# Medical Assistance > 30xx\n",
    "# Investigate Person > 3115\n",
    "# Drug Violation > 18xx\n",
    "# Simple Assault > 80x\n",
    "# Vandalism > 14xx\n",
    "# Verbal Disputes > 3301\n",
    "# Towed > 3410\n",
    "# Investigate Property > 3114\n",
    "# Larceny From Motor Vehicle > 61x / 62x / 63x\n",
    "# Property Lost > 32xx\n",
    "# Warrant Arrests > 3125\n",
    "# Aggravated Assault > 40x, 41x, 42x\n",
    "# Violations > 29xx\n",
    "# Fraud > 11xx\n",
    "# Residential Burglary 52xx / 51xx\n",
    "# Missing Person Located > 35xx\n",
    "# Auto Theft > 7xx / 70 71 72\n",
    "# Robbery > 3xx\n",
    "# Harassment > 2629\n",
    "# Property Found > 32xx\n",
    "# Missing Person Reported > 3501 / 2642\n",
    "# Confidence Games > 1106"
   ]
  },
  {
   "cell_type": "code",
   "execution_count": 1321,
   "metadata": {},
   "outputs": [],
   "source": [
    "#df_two['OFFENSE_CODE'].loc[df['OFFENSE_CODE_GROUP']=='Larceny'].value_counts()"
   ]
  },
  {
   "cell_type": "code",
   "execution_count": 1322,
   "metadata": {},
   "outputs": [],
   "source": [
    "#df_one.columns"
   ]
  },
  {
   "cell_type": "code",
   "execution_count": 1323,
   "metadata": {},
   "outputs": [],
   "source": [
    "#df1['OFFENSE_CODE_GROUP'].value_counts().head(30)"
   ]
  },
  {
   "cell_type": "code",
   "execution_count": 1324,
   "metadata": {},
   "outputs": [],
   "source": [
    "# VAL > Violations\n",
    "# 06xx > Larceny / OTHER LARCENY\n",
    "# 08xx > Simple Assault\n",
    "# MedAssist > Medical Assistance / MedAssist\n",
    "# MVAcc > Motor Vehicle Accident Response / MVAcc\n",
    "# 14xx > Vandalism / VANDALISM\n",
    "# InvPer > Investigate Person\n",
    "# 06MV > Larceny From Motor Vehicle\n",
    "# 18xx > Drug Violation\n",
    "# 11xx > Fraud / Confidence Games\n",
    "# PropLost > Property Lost\n",
    "# TOWED > TOWED\n",
    "# 05RB > Residential Burglary\n",
    "# InvProp > Investigate Property\n",
    "# 04xx > Aggravated Assault\n",
    "# Service > Service / Police Service Incidents\n",
    "# 03xx > Robbery\n",
    "# 07xx > Auto Theft\n",
    "# PersLoc > PersLoc\n",
    "# PropFound > Property Found\n",
    "# Argue > Verbal Disputes\n",
    "# OTHER > OTHER\n",
    "# Arrest > Warrant Arrests / Arrest\n",
    "# 24xx > DISORDERLY / Disorderly Conduct\n",
    "# FIRE > FIRE"
   ]
  },
  {
   "cell_type": "code",
   "execution_count": 1325,
   "metadata": {},
   "outputs": [],
   "source": [
    "#df_one['INCIDENT_TYPE_DESCRIPTION'].loc[df_one['MAIN_CRIMECODE']=='LICViol'].value_counts()"
   ]
  },
  {
   "cell_type": "code",
   "execution_count": null,
   "metadata": {},
   "outputs": [],
   "source": []
  },
  {
   "cell_type": "code",
   "execution_count": 1326,
   "metadata": {},
   "outputs": [],
   "source": [
    "df1['OFFENSE_CODE_GROUP'] = df1['OFFENSE_CODE_GROUP'].map({\n",
    "    'VAL': 'Violations', \n",
    "    '06xx': 'Larceny',\n",
    "    '08xx': 'Simple Assault',\n",
    "    'MedAssist': 'Medical Assistance',\n",
    "    'MVAcc': 'Motor Vehicle Accident Response',\n",
    "    '14xx': 'Vandalism',\n",
    "    'InvPer': 'Investigate Person',\n",
    "    '06MV': 'Larceny From Motor Vehicle',\n",
    "    '18xx': 'Drug Violation',\n",
    "    '11xx': 'Fraud',\n",
    "    'PropLost': 'Property Lost',\n",
    "    'TOWED': 'Towed',\n",
    "    '05RB': 'Residential Burglary',\n",
    "    'InvProp': 'Investigate Property',\n",
    "    '04xx': 'Aggravated Assault',\n",
    "    '03xx': 'Robbery',\n",
    "    '07xx': 'Auto Theft',\n",
    "    'PersLoc': 'Missing Person Located',\n",
    "    'PropFound': 'Property Found',\n",
    "    'Argue': 'Verbal Disputes',\n",
    "    'Arrest': 'Warrant Arrests',\n",
    "    'OTHER': 'Other'\n",
    "})"
   ]
  },
  {
   "cell_type": "code",
   "execution_count": 1327,
   "metadata": {},
   "outputs": [],
   "source": [
    "df1['OFFENSE_CODE_GROUP'].fillna('Other', inplace = True)"
   ]
  },
  {
   "cell_type": "code",
   "execution_count": 1328,
   "metadata": {},
   "outputs": [
    {
     "name": "stdout",
     "output_type": "stream",
     "text": [
      "22\n"
     ]
    },
    {
     "data": {
      "text/plain": [
       "array(['Residential Burglary', 'Aggravated Assault', 'Robbery', 'Other',\n",
       "       'Simple Assault', 'Medical Assistance', 'Violations', 'Fraud',\n",
       "       'Property Found', 'Investigate Person', 'Towed',\n",
       "       'Investigate Property', 'Drug Violation', 'Missing Person Located',\n",
       "       'Property Lost', 'Larceny', 'Auto Theft', 'Warrant Arrests',\n",
       "       'Vandalism', 'Motor Vehicle Accident Response',\n",
       "       'Larceny From Motor Vehicle', 'Verbal Disputes'], dtype=object)"
      ]
     },
     "execution_count": 1328,
     "metadata": {},
     "output_type": "execute_result"
    }
   ],
   "source": [
    "print(len(df1['OFFENSE_CODE_GROUP'].unique()))\n",
    "df1['OFFENSE_CODE_GROUP'].unique()"
   ]
  },
  {
   "cell_type": "code",
   "execution_count": 1329,
   "metadata": {},
   "outputs": [],
   "source": [
    "############################################################"
   ]
  },
  {
   "cell_type": "code",
   "execution_count": 1330,
   "metadata": {},
   "outputs": [],
   "source": [
    "df2['OFFENSE_CODE_GROUP'] = df2['OFFENSE_CODE_GROUP'].map({\n",
    "    'Motor Vehicle Accident Response': 'Motor Vehicle Accident Response', #\n",
    "    'Larceny': 'Larceny', #\n",
    "    'Medical Assistance': 'Medical Assistance', # \n",
    "    'Investigate Person': 'Investigate Person', #\n",
    "    'Other': 'Other', #\n",
    "    'Drug Violation': 'Drug Violation', #\n",
    "    'Simple Assault': 'Simple Assault', #\n",
    "    'Vandalism': 'Vandalism', #\n",
    "    'Verbal Disputes':'Verbal Disputes', #\n",
    "    'Towed':'Towed', #\n",
    "    'Investigate Property':'Investigate Property', #\n",
    "    'Larceny From Motor Vehicle': 'Larceny From Motor Vehicle',#\n",
    "    'Property Lost': 'Property Lost',#\n",
    "    'Warrant Arrests': 'Warrant Arrests', # \n",
    "    'Aggravated Assault': 'Aggravated Assault', #\n",
    "    'Violations': 'Violations', #\n",
    "    'Fraud': 'Fraud', # \n",
    "    'Residential Burglary': 'Residential Burglary', # \n",
    "    'Missing Person Located': 'Missing Person Located', #\n",
    "    'Auto Theft':'Auto Theft', #\n",
    "    'Robbery': 'Robbery', # \n",
    "    'Property Found': 'Property Found'  #    \n",
    "})"
   ]
  },
  {
   "cell_type": "code",
   "execution_count": 1331,
   "metadata": {},
   "outputs": [],
   "source": [
    "df2['OFFENSE_CODE_GROUP'].fillna('Other', inplace = True)"
   ]
  },
  {
   "cell_type": "code",
   "execution_count": 1332,
   "metadata": {},
   "outputs": [
    {
     "name": "stdout",
     "output_type": "stream",
     "text": [
      "22\n"
     ]
    },
    {
     "data": {
      "text/plain": [
       "array(['Larceny', 'Vandalism', 'Towed', 'Investigate Property',\n",
       "       'Motor Vehicle Accident Response', 'Auto Theft', 'Verbal Disputes',\n",
       "       'Robbery', 'Other', 'Property Lost', 'Medical Assistance',\n",
       "       'Larceny From Motor Vehicle', 'Residential Burglary',\n",
       "       'Simple Assault', 'Violations', 'Property Found', 'Warrant Arrests',\n",
       "       'Drug Violation', 'Investigate Person', 'Fraud',\n",
       "       'Aggravated Assault', 'Missing Person Located'], dtype=object)"
      ]
     },
     "execution_count": 1332,
     "metadata": {},
     "output_type": "execute_result"
    }
   ],
   "source": [
    "print(len(df2['OFFENSE_CODE_GROUP'].unique()))\n",
    "df2['OFFENSE_CODE_GROUP'].unique()"
   ]
  },
  {
   "cell_type": "markdown",
   "metadata": {},
   "source": [
    "## Hour"
   ]
  },
  {
   "cell_type": "markdown",
   "metadata": {},
   "source": [
    "I selected hour from OCCURRED_ON_DATE\n"
   ]
  },
  {
   "cell_type": "code",
   "execution_count": 1333,
   "metadata": {},
   "outputs": [],
   "source": [
    "df1['OCCURRED_ON_DATE'] = pd.to_datetime(df1['OCCURRED_ON_DATE'])\n",
    "df2['OCCURRED_ON_DATE'] = pd.to_datetime(df2['OCCURRED_ON_DATE'])"
   ]
  },
  {
   "cell_type": "code",
   "execution_count": 1334,
   "metadata": {},
   "outputs": [
    {
     "data": {
      "text/plain": [
       "count                  268056\n",
       "unique                 172958\n",
       "top       2015-07-23 00:00:00\n",
       "freq                      217\n",
       "first     2012-07-08 06:00:00\n",
       "last      2015-08-10 05:20:00\n",
       "Name: OCCURRED_ON_DATE, dtype: object"
      ]
     },
     "execution_count": 1334,
     "metadata": {},
     "output_type": "execute_result"
    }
   ],
   "source": [
    "df1['OCCURRED_ON_DATE'].describe()"
   ]
  },
  {
   "cell_type": "code",
   "execution_count": 1335,
   "metadata": {},
   "outputs": [
    {
     "data": {
      "text/plain": [
       "count                  319628\n",
       "unique                 233229\n",
       "top       2016-08-01 00:00:00\n",
       "freq                       31\n",
       "first     2015-06-15 00:00:00\n",
       "last      2018-09-03 21:25:00\n",
       "Name: OCCURRED_ON_DATE, dtype: object"
      ]
     },
     "execution_count": 1335,
     "metadata": {},
     "output_type": "execute_result"
    }
   ],
   "source": [
    "df2['OCCURRED_ON_DATE'].describe()"
   ]
  },
  {
   "cell_type": "code",
   "execution_count": 1336,
   "metadata": {},
   "outputs": [],
   "source": [
    "df1['HOUR'] = df1['OCCURRED_ON_DATE'].apply(lambda x: x.hour)"
   ]
  },
  {
   "cell_type": "code",
   "execution_count": 1337,
   "metadata": {},
   "outputs": [
    {
     "data": {
      "text/plain": [
       "count    268056.000000\n",
       "mean         12.499597\n",
       "std           6.626917\n",
       "min           0.000000\n",
       "25%           8.000000\n",
       "50%          13.000000\n",
       "75%          18.000000\n",
       "max          23.000000\n",
       "Name: HOUR, dtype: float64"
      ]
     },
     "execution_count": 1337,
     "metadata": {},
     "output_type": "execute_result"
    }
   ],
   "source": [
    "df1['HOUR'].describe()"
   ]
  },
  {
   "cell_type": "markdown",
   "metadata": {},
   "source": [
    "### Select"
   ]
  },
  {
   "cell_type": "code",
   "execution_count": 1338,
   "metadata": {},
   "outputs": [],
   "source": [
    "df1 = df1.loc[df1['OCCURRED_ON_DATE'] < '2015-06-15 00:00:00']"
   ]
  },
  {
   "cell_type": "code",
   "execution_count": 1339,
   "metadata": {},
   "outputs": [
    {
     "data": {
      "text/plain": [
       "count                  255598\n",
       "unique                 170173\n",
       "top       2013-04-15 14:50:00\n",
       "freq                       96\n",
       "first     2012-07-08 06:00:00\n",
       "last      2015-06-14 23:48:00\n",
       "Name: OCCURRED_ON_DATE, dtype: object"
      ]
     },
     "execution_count": 1339,
     "metadata": {},
     "output_type": "execute_result"
    }
   ],
   "source": [
    "df1['OCCURRED_ON_DATE'].describe()"
   ]
  },
  {
   "cell_type": "markdown",
   "metadata": {},
   "source": [
    "## Check"
   ]
  },
  {
   "cell_type": "code",
   "execution_count": 1340,
   "metadata": {},
   "outputs": [
    {
     "name": "stdout",
     "output_type": "stream",
     "text": [
      "(255598, 12)\n"
     ]
    },
    {
     "data": {
      "text/plain": [
       "Index(['OFFENSE_CODE_GROUP', 'DISTRICT', 'REPORTING_AREA', 'OCCURRED_ON_DATE',\n",
       "       'SHOOTING', 'YEAR', 'MONTH', 'DAY_OF_WEEK', 'UCR_PART', 'Lat', 'Long',\n",
       "       'HOUR'],\n",
       "      dtype='object')"
      ]
     },
     "execution_count": 1340,
     "metadata": {},
     "output_type": "execute_result"
    }
   ],
   "source": [
    "print(df1.shape)\n",
    "df1.columns"
   ]
  },
  {
   "cell_type": "code",
   "execution_count": 1341,
   "metadata": {},
   "outputs": [
    {
     "name": "stdout",
     "output_type": "stream",
     "text": [
      "(319628, 12)\n"
     ]
    },
    {
     "data": {
      "text/plain": [
       "Index(['OFFENSE_CODE_GROUP', 'DISTRICT', 'REPORTING_AREA', 'SHOOTING',\n",
       "       'OCCURRED_ON_DATE', 'YEAR', 'MONTH', 'DAY_OF_WEEK', 'HOUR', 'UCR_PART',\n",
       "       'Lat', 'Long'],\n",
       "      dtype='object')"
      ]
     },
     "execution_count": 1341,
     "metadata": {},
     "output_type": "execute_result"
    }
   ],
   "source": [
    "print(df2.shape)\n",
    "df2.columns"
   ]
  },
  {
   "cell_type": "markdown",
   "metadata": {},
   "source": [
    "## Merge"
   ]
  },
  {
   "cell_type": "markdown",
   "metadata": {},
   "source": [
    "###### After that, i merged these columns.\n"
   ]
  },
  {
   "cell_type": "code",
   "execution_count": 1342,
   "metadata": {},
   "outputs": [
    {
     "name": "stderr",
     "output_type": "stream",
     "text": [
      "/home/olexandr/anaconda3/lib/python3.6/site-packages/pandas/core/frame.py:6201: FutureWarning: Sorting because non-concatenation axis is not aligned. A future version\n",
      "of pandas will change to not sort by default.\n",
      "\n",
      "To accept the future behavior, pass 'sort=True'.\n",
      "\n",
      "To retain the current behavior and silence the warning, pass sort=False\n",
      "\n",
      "  sort=sort)\n"
     ]
    }
   ],
   "source": [
    "df = df1.append(df2, ignore_index=True)"
   ]
  },
  {
   "cell_type": "code",
   "execution_count": 1343,
   "metadata": {},
   "outputs": [],
   "source": [
    "del df1\n",
    "del df2"
   ]
  },
  {
   "cell_type": "code",
   "execution_count": 1344,
   "metadata": {},
   "outputs": [
    {
     "data": {
      "text/plain": [
       "(575226, 12)"
      ]
     },
     "execution_count": 1344,
     "metadata": {},
     "output_type": "execute_result"
    }
   ],
   "source": [
    "df.shape"
   ]
  },
  {
   "cell_type": "code",
   "execution_count": 1345,
   "metadata": {},
   "outputs": [
    {
     "data": {
      "text/html": [
       "<div>\n",
       "<style scoped>\n",
       "    .dataframe tbody tr th:only-of-type {\n",
       "        vertical-align: middle;\n",
       "    }\n",
       "\n",
       "    .dataframe tbody tr th {\n",
       "        vertical-align: top;\n",
       "    }\n",
       "\n",
       "    .dataframe thead th {\n",
       "        text-align: right;\n",
       "    }\n",
       "</style>\n",
       "<table border=\"1\" class=\"dataframe\">\n",
       "  <thead>\n",
       "    <tr style=\"text-align: right;\">\n",
       "      <th></th>\n",
       "      <th>DAY_OF_WEEK</th>\n",
       "      <th>DISTRICT</th>\n",
       "      <th>HOUR</th>\n",
       "      <th>Lat</th>\n",
       "      <th>Long</th>\n",
       "      <th>MONTH</th>\n",
       "      <th>OCCURRED_ON_DATE</th>\n",
       "      <th>OFFENSE_CODE_GROUP</th>\n",
       "      <th>REPORTING_AREA</th>\n",
       "      <th>SHOOTING</th>\n",
       "      <th>UCR_PART</th>\n",
       "      <th>YEAR</th>\n",
       "    </tr>\n",
       "  </thead>\n",
       "  <tbody>\n",
       "    <tr>\n",
       "      <th>0</th>\n",
       "      <td>Sunday</td>\n",
       "      <td>2.0</td>\n",
       "      <td>6</td>\n",
       "      <td>42.34638135</td>\n",
       "      <td>-71.1037945</td>\n",
       "      <td>7</td>\n",
       "      <td>2012-07-08 06:00:00</td>\n",
       "      <td>Residential Burglary</td>\n",
       "      <td>629.0</td>\n",
       "      <td>0.0</td>\n",
       "      <td>1.0</td>\n",
       "      <td>2012</td>\n",
       "    </tr>\n",
       "    <tr>\n",
       "      <th>1</th>\n",
       "      <td>Sunday</td>\n",
       "      <td>1.0</td>\n",
       "      <td>6</td>\n",
       "      <td>42.31684135</td>\n",
       "      <td>-71.0745845</td>\n",
       "      <td>7</td>\n",
       "      <td>2012-07-08 06:03:00</td>\n",
       "      <td>Aggravated Assault</td>\n",
       "      <td>327.0</td>\n",
       "      <td>1.0</td>\n",
       "      <td>1.0</td>\n",
       "      <td>2012</td>\n",
       "    </tr>\n",
       "    <tr>\n",
       "      <th>2</th>\n",
       "      <td>Sunday</td>\n",
       "      <td>2.0</td>\n",
       "      <td>6</td>\n",
       "      <td>42.34284135</td>\n",
       "      <td>-71.0969895</td>\n",
       "      <td>7</td>\n",
       "      <td>2012-07-08 06:26:00</td>\n",
       "      <td>Robbery</td>\n",
       "      <td>625.0</td>\n",
       "      <td>0.0</td>\n",
       "      <td>1.0</td>\n",
       "      <td>2012</td>\n",
       "    </tr>\n",
       "    <tr>\n",
       "      <th>3</th>\n",
       "      <td>Sunday</td>\n",
       "      <td>1.0</td>\n",
       "      <td>6</td>\n",
       "      <td>42.3164411</td>\n",
       "      <td>-71.0658290</td>\n",
       "      <td>7</td>\n",
       "      <td>2012-07-08 06:56:00</td>\n",
       "      <td>Other</td>\n",
       "      <td>258.0</td>\n",
       "      <td>0.0</td>\n",
       "      <td>1.0</td>\n",
       "      <td>2012</td>\n",
       "    </tr>\n",
       "    <tr>\n",
       "      <th>4</th>\n",
       "      <td>Sunday</td>\n",
       "      <td>9.0</td>\n",
       "      <td>7</td>\n",
       "      <td>42.27051636</td>\n",
       "      <td>-71.1198995</td>\n",
       "      <td>7</td>\n",
       "      <td>2012-07-08 07:15:00</td>\n",
       "      <td>Robbery</td>\n",
       "      <td>496.0</td>\n",
       "      <td>0.0</td>\n",
       "      <td>1.0</td>\n",
       "      <td>2012</td>\n",
       "    </tr>\n",
       "  </tbody>\n",
       "</table>\n",
       "</div>"
      ],
      "text/plain": [
       "  DAY_OF_WEEK  DISTRICT  HOUR          Lat         Long  MONTH  \\\n",
       "0      Sunday       2.0     6  42.34638135  -71.1037945      7   \n",
       "1      Sunday       1.0     6  42.31684135  -71.0745845      7   \n",
       "2      Sunday       2.0     6  42.34284135  -71.0969895      7   \n",
       "3      Sunday       1.0     6   42.3164411  -71.0658290      7   \n",
       "4      Sunday       9.0     7  42.27051636  -71.1198995      7   \n",
       "\n",
       "     OCCURRED_ON_DATE    OFFENSE_CODE_GROUP  REPORTING_AREA  SHOOTING  \\\n",
       "0 2012-07-08 06:00:00  Residential Burglary           629.0       0.0   \n",
       "1 2012-07-08 06:03:00    Aggravated Assault           327.0       1.0   \n",
       "2 2012-07-08 06:26:00               Robbery           625.0       0.0   \n",
       "3 2012-07-08 06:56:00                 Other           258.0       0.0   \n",
       "4 2012-07-08 07:15:00               Robbery           496.0       0.0   \n",
       "\n",
       "   UCR_PART  YEAR  \n",
       "0       1.0  2012  \n",
       "1       1.0  2012  \n",
       "2       1.0  2012  \n",
       "3       1.0  2012  \n",
       "4       1.0  2012  "
      ]
     },
     "execution_count": 1345,
     "metadata": {},
     "output_type": "execute_result"
    }
   ],
   "source": [
    "df.head()"
   ]
  },
  {
   "cell_type": "markdown",
   "metadata": {},
   "source": [
    "#### Check our data"
   ]
  },
  {
   "cell_type": "code",
   "execution_count": 1346,
   "metadata": {},
   "outputs": [
    {
     "data": {
      "text/plain": [
       "array(['Sunday', 'Monday', 'Tuesday', 'Wednesday', 'Friday', 'Thursday',\n",
       "       'Saturday'], dtype=object)"
      ]
     },
     "execution_count": 1346,
     "metadata": {},
     "output_type": "execute_result"
    }
   ],
   "source": [
    "# DAY_OF_WEEK\n",
    "\n",
    "df['DAY_OF_WEEK'].unique()"
   ]
  },
  {
   "cell_type": "code",
   "execution_count": 1347,
   "metadata": {},
   "outputs": [
    {
     "data": {
      "text/plain": [
       "array([  2.,   1.,   9.,   3.,   4.,   7.,   6.,   8.,   5.,  10.,  12.,\n",
       "        11.,  nan])"
      ]
     },
     "execution_count": 1347,
     "metadata": {},
     "output_type": "execute_result"
    }
   ],
   "source": [
    "# DISTRICT\n",
    "\n",
    "df['DISTRICT'].unique()"
   ]
  },
  {
   "cell_type": "code",
   "execution_count": 1348,
   "metadata": {},
   "outputs": [
    {
     "data": {
      "text/plain": [
       "array([ 6,  7,  8,  9, 10, 11, 12, 13, 14, 15, 16, 17, 18, 19, 20, 21, 22,\n",
       "       23,  0,  1,  2,  3,  4,  5])"
      ]
     },
     "execution_count": 1348,
     "metadata": {},
     "output_type": "execute_result"
    }
   ],
   "source": [
    "# HOUR\n",
    "\n",
    "df['HOUR'].unique()"
   ]
  },
  {
   "cell_type": "code",
   "execution_count": 1349,
   "metadata": {},
   "outputs": [
    {
     "data": {
      "text/plain": [
       "count    555206.000000\n",
       "mean         41.334056\n",
       "std           6.398242\n",
       "min          -1.000000\n",
       "25%          42.296039\n",
       "50%          42.325491\n",
       "75%          42.348656\n",
       "max          42.395042\n",
       "Name: Lat, dtype: float64"
      ]
     },
     "execution_count": 1349,
     "metadata": {},
     "output_type": "execute_result"
    }
   ],
   "source": [
    "# lat\n",
    "\n",
    "df['Lat'] = pd.to_numeric(df['Lat'])\n",
    "df['Lat'].describe()"
   ]
  },
  {
   "cell_type": "code",
   "execution_count": 1350,
   "metadata": {},
   "outputs": [
    {
     "data": {
      "text/plain": [
       "count    555206.000000\n",
       "mean        -69.425687\n",
       "std          10.722598\n",
       "min         -71.178674\n",
       "25%         -71.097200\n",
       "50%         -71.077099\n",
       "75%         -71.061394\n",
       "max           0.000000\n",
       "Name: Long, dtype: float64"
      ]
     },
     "execution_count": 1350,
     "metadata": {},
     "output_type": "execute_result"
    }
   ],
   "source": [
    "# long\n",
    "# ???????????????????????\n",
    "\n",
    "df['Long'] = pd.to_numeric(df['Long'])\n",
    "df['Long'].describe()"
   ]
  },
  {
   "cell_type": "code",
   "execution_count": 1351,
   "metadata": {},
   "outputs": [
    {
     "data": {
      "text/plain": [
       "array([ 7,  8,  9, 12,  2, 10,  3, 11,  4,  5,  6,  1])"
      ]
     },
     "execution_count": 1351,
     "metadata": {},
     "output_type": "execute_result"
    }
   ],
   "source": [
    "# MONTH\n",
    "\n",
    "df['MONTH'].unique()"
   ]
  },
  {
   "cell_type": "code",
   "execution_count": 1352,
   "metadata": {},
   "outputs": [
    {
     "data": {
      "text/plain": [
       "count                  575226\n",
       "unique                 403402\n",
       "top       2013-04-15 14:50:00\n",
       "freq                       96\n",
       "first     2012-07-08 06:00:00\n",
       "last      2018-09-03 21:25:00\n",
       "Name: OCCURRED_ON_DATE, dtype: object"
      ]
     },
     "execution_count": 1352,
     "metadata": {},
     "output_type": "execute_result"
    }
   ],
   "source": [
    "# OCCURRED_ON_DATE\n",
    "\n",
    "df['OCCURRED_ON_DATE'].describe()"
   ]
  },
  {
   "cell_type": "code",
   "execution_count": 1353,
   "metadata": {
    "collapsed": true
   },
   "outputs": [
    {
     "name": "stdout",
     "output_type": "stream",
     "text": [
      "22\n"
     ]
    },
    {
     "data": {
      "text/plain": [
       "array(['Residential Burglary', 'Aggravated Assault', 'Robbery', 'Other',\n",
       "       'Simple Assault', 'Medical Assistance', 'Violations', 'Fraud',\n",
       "       'Property Found', 'Investigate Person', 'Towed',\n",
       "       'Investigate Property', 'Drug Violation', 'Missing Person Located',\n",
       "       'Property Lost', 'Larceny', 'Auto Theft', 'Warrant Arrests',\n",
       "       'Vandalism', 'Motor Vehicle Accident Response',\n",
       "       'Larceny From Motor Vehicle', 'Verbal Disputes'], dtype=object)"
      ]
     },
     "execution_count": 1353,
     "metadata": {},
     "output_type": "execute_result"
    }
   ],
   "source": [
    "# OFFENSE_CODE_GROUP\n",
    "\n",
    "print(len(df['OFFENSE_CODE_GROUP'].unique()))\n",
    "df['OFFENSE_CODE_GROUP'].unique()"
   ]
  },
  {
   "cell_type": "code",
   "execution_count": 1354,
   "metadata": {
    "collapsed": true
   },
   "outputs": [
    {
     "name": "stdout",
     "output_type": "stream",
     "text": [
      "887\n"
     ]
    },
    {
     "data": {
      "text/plain": [
       "count    554961.000000\n",
       "mean        319.637962\n",
       "std         263.584996\n",
       "min           0.000000\n",
       "25%          96.000000\n",
       "50%         289.000000\n",
       "75%         492.000000\n",
       "max         962.000000\n",
       "Name: REPORTING_AREA, dtype: float64"
      ]
     },
     "execution_count": 1354,
     "metadata": {},
     "output_type": "execute_result"
    }
   ],
   "source": [
    "# REPORTING_AREA\n",
    "\n",
    "print(len(df['REPORTING_AREA'].unique()))\n",
    "df['REPORTING_AREA'].describe()"
   ]
  },
  {
   "cell_type": "code",
   "execution_count": 1355,
   "metadata": {},
   "outputs": [
    {
     "data": {
      "text/plain": [
       "array([ 0.,  1.])"
      ]
     },
     "execution_count": 1355,
     "metadata": {},
     "output_type": "execute_result"
    }
   ],
   "source": [
    "# SHOOTING\n",
    "\n",
    "df['SHOOTING'].unique()"
   ]
  },
  {
   "cell_type": "code",
   "execution_count": 1356,
   "metadata": {},
   "outputs": [
    {
     "data": {
      "text/plain": [
       "array([  1.,   2.,   3.,   4.,  nan])"
      ]
     },
     "execution_count": 1356,
     "metadata": {},
     "output_type": "execute_result"
    }
   ],
   "source": [
    "# UCR_PART\n",
    "\n",
    "df['UCR_PART'].unique()"
   ]
  },
  {
   "cell_type": "code",
   "execution_count": 1357,
   "metadata": {},
   "outputs": [
    {
     "data": {
      "text/plain": [
       "array([2012, 2013, 2014, 2015, 2018, 2017, 2016])"
      ]
     },
     "execution_count": 1357,
     "metadata": {},
     "output_type": "execute_result"
    }
   ],
   "source": [
    "# YEAR\n",
    "\n",
    "df['YEAR'].unique()"
   ]
  },
  {
   "cell_type": "code",
   "execution_count": 1359,
   "metadata": {},
   "outputs": [
    {
     "data": {
      "text/html": [
       "<div>\n",
       "<style scoped>\n",
       "    .dataframe tbody tr th:only-of-type {\n",
       "        vertical-align: middle;\n",
       "    }\n",
       "\n",
       "    .dataframe tbody tr th {\n",
       "        vertical-align: top;\n",
       "    }\n",
       "\n",
       "    .dataframe thead th {\n",
       "        text-align: right;\n",
       "    }\n",
       "</style>\n",
       "<table border=\"1\" class=\"dataframe\">\n",
       "  <thead>\n",
       "    <tr style=\"text-align: right;\">\n",
       "      <th></th>\n",
       "      <th>DAY_OF_WEEK</th>\n",
       "      <th>DISTRICT</th>\n",
       "      <th>HOUR</th>\n",
       "      <th>Lat</th>\n",
       "      <th>Long</th>\n",
       "      <th>MONTH</th>\n",
       "      <th>OCCURRED_ON_DATE</th>\n",
       "      <th>OFFENSE_CODE_GROUP</th>\n",
       "      <th>REPORTING_AREA</th>\n",
       "      <th>SHOOTING</th>\n",
       "      <th>UCR_PART</th>\n",
       "      <th>YEAR</th>\n",
       "    </tr>\n",
       "  </thead>\n",
       "  <tbody>\n",
       "    <tr>\n",
       "      <th>0</th>\n",
       "      <td>Sunday</td>\n",
       "      <td>2.0</td>\n",
       "      <td>6</td>\n",
       "      <td>42.346381</td>\n",
       "      <td>-71.103794</td>\n",
       "      <td>7</td>\n",
       "      <td>2012-07-08 06:00:00</td>\n",
       "      <td>Residential Burglary</td>\n",
       "      <td>629.0</td>\n",
       "      <td>0.0</td>\n",
       "      <td>1.0</td>\n",
       "      <td>2012</td>\n",
       "    </tr>\n",
       "    <tr>\n",
       "      <th>1</th>\n",
       "      <td>Sunday</td>\n",
       "      <td>1.0</td>\n",
       "      <td>6</td>\n",
       "      <td>42.316841</td>\n",
       "      <td>-71.074585</td>\n",
       "      <td>7</td>\n",
       "      <td>2012-07-08 06:03:00</td>\n",
       "      <td>Aggravated Assault</td>\n",
       "      <td>327.0</td>\n",
       "      <td>1.0</td>\n",
       "      <td>1.0</td>\n",
       "      <td>2012</td>\n",
       "    </tr>\n",
       "    <tr>\n",
       "      <th>2</th>\n",
       "      <td>Sunday</td>\n",
       "      <td>2.0</td>\n",
       "      <td>6</td>\n",
       "      <td>42.342841</td>\n",
       "      <td>-71.096990</td>\n",
       "      <td>7</td>\n",
       "      <td>2012-07-08 06:26:00</td>\n",
       "      <td>Robbery</td>\n",
       "      <td>625.0</td>\n",
       "      <td>0.0</td>\n",
       "      <td>1.0</td>\n",
       "      <td>2012</td>\n",
       "    </tr>\n",
       "    <tr>\n",
       "      <th>3</th>\n",
       "      <td>Sunday</td>\n",
       "      <td>1.0</td>\n",
       "      <td>6</td>\n",
       "      <td>42.316441</td>\n",
       "      <td>-71.065829</td>\n",
       "      <td>7</td>\n",
       "      <td>2012-07-08 06:56:00</td>\n",
       "      <td>Other</td>\n",
       "      <td>258.0</td>\n",
       "      <td>0.0</td>\n",
       "      <td>1.0</td>\n",
       "      <td>2012</td>\n",
       "    </tr>\n",
       "    <tr>\n",
       "      <th>4</th>\n",
       "      <td>Sunday</td>\n",
       "      <td>9.0</td>\n",
       "      <td>7</td>\n",
       "      <td>42.270516</td>\n",
       "      <td>-71.119900</td>\n",
       "      <td>7</td>\n",
       "      <td>2012-07-08 07:15:00</td>\n",
       "      <td>Robbery</td>\n",
       "      <td>496.0</td>\n",
       "      <td>0.0</td>\n",
       "      <td>1.0</td>\n",
       "      <td>2012</td>\n",
       "    </tr>\n",
       "  </tbody>\n",
       "</table>\n",
       "</div>"
      ],
      "text/plain": [
       "  DAY_OF_WEEK  DISTRICT  HOUR        Lat       Long  MONTH  \\\n",
       "0      Sunday       2.0     6  42.346381 -71.103794      7   \n",
       "1      Sunday       1.0     6  42.316841 -71.074585      7   \n",
       "2      Sunday       2.0     6  42.342841 -71.096990      7   \n",
       "3      Sunday       1.0     6  42.316441 -71.065829      7   \n",
       "4      Sunday       9.0     7  42.270516 -71.119900      7   \n",
       "\n",
       "     OCCURRED_ON_DATE    OFFENSE_CODE_GROUP  REPORTING_AREA  SHOOTING  \\\n",
       "0 2012-07-08 06:00:00  Residential Burglary           629.0       0.0   \n",
       "1 2012-07-08 06:03:00    Aggravated Assault           327.0       1.0   \n",
       "2 2012-07-08 06:26:00               Robbery           625.0       0.0   \n",
       "3 2012-07-08 06:56:00                 Other           258.0       0.0   \n",
       "4 2012-07-08 07:15:00               Robbery           496.0       0.0   \n",
       "\n",
       "   UCR_PART  YEAR  \n",
       "0       1.0  2012  \n",
       "1       1.0  2012  \n",
       "2       1.0  2012  \n",
       "3       1.0  2012  \n",
       "4       1.0  2012  "
      ]
     },
     "execution_count": 1359,
     "metadata": {},
     "output_type": "execute_result"
    }
   ],
   "source": [
    "df.head()"
   ]
  },
  {
   "cell_type": "markdown",
   "metadata": {},
   "source": [
    "### export"
   ]
  },
  {
   "cell_type": "code",
   "execution_count": 1358,
   "metadata": {},
   "outputs": [],
   "source": [
    "df.to_csv('crime-boston.csv')"
   ]
  },
  {
   "cell_type": "code",
   "execution_count": null,
   "metadata": {},
   "outputs": [],
   "source": []
  },
  {
   "cell_type": "code",
   "execution_count": null,
   "metadata": {},
   "outputs": [],
   "source": []
  }
 ],
 "metadata": {
  "kernelspec": {
   "display_name": "Python 3",
   "language": "python",
   "name": "python3"
  },
  "language_info": {
   "codemirror_mode": {
    "name": "ipython",
    "version": 3
   },
   "file_extension": ".py",
   "mimetype": "text/x-python",
   "name": "python",
   "nbconvert_exporter": "python",
   "pygments_lexer": "ipython3",
   "version": "3.6.5"
  }
 },
 "nbformat": 4,
 "nbformat_minor": 2
}
