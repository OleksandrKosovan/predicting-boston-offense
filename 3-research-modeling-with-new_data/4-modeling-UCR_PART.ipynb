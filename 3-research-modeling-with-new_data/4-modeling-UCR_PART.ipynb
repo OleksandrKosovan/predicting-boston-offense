{
 "cells": [
  {
   "cell_type": "markdown",
   "metadata": {},
   "source": [
    "# 1. Import"
   ]
  },
  {
   "cell_type": "code",
   "execution_count": 1,
   "metadata": {},
   "outputs": [],
   "source": [
    "import numpy as np\n",
    "import pandas as pd"
   ]
  },
  {
   "cell_type": "code",
   "execution_count": 2,
   "metadata": {},
   "outputs": [],
   "source": [
    "from sklearn.tree import DecisionTreeClassifier\n",
    "from sklearn.tree import ExtraTreeClassifier\n",
    "from sklearn.ensemble import RandomForestClassifier\n",
    "\n",
    "from lightgbm import LGBMClassifier\n",
    "\n",
    "from sklearn.naive_bayes import BernoulliNB\n",
    "from sklearn.neighbors import KNeighborsClassifier\n",
    "from sklearn.naive_bayes import GaussianNB"
   ]
  },
  {
   "cell_type": "code",
   "execution_count": 3,
   "metadata": {},
   "outputs": [
    {
     "name": "stderr",
     "output_type": "stream",
     "text": [
      "/home/olexandr/anaconda3/lib/python3.6/site-packages/sklearn/cross_validation.py:41: DeprecationWarning: This module was deprecated in version 0.18 in favor of the model_selection module into which all the refactored classes and functions are moved. Also note that the interface of the new CV iterators are different from that of this module. This module will be removed in 0.20.\n",
      "  \"This module will be removed in 0.20.\", DeprecationWarning)\n"
     ]
    }
   ],
   "source": [
    "from sklearn.cross_validation import train_test_split"
   ]
  },
  {
   "cell_type": "code",
   "execution_count": 4,
   "metadata": {},
   "outputs": [],
   "source": [
    "from sklearn.metrics import f1_score"
   ]
  },
  {
   "cell_type": "markdown",
   "metadata": {},
   "source": [
    "# 2. Functions"
   ]
  },
  {
   "cell_type": "code",
   "execution_count": 5,
   "metadata": {},
   "outputs": [],
   "source": [
    "# DecisionTreeClassifier\n",
    "\n",
    "def function_DecisionTreeClassifier(X_train, Y_train, X_test, Y_test):\n",
    "    \n",
    "    # fit\n",
    "    dec_tree = DecisionTreeClassifier()\n",
    "    dec_tree = dec_tree.fit(X_train, Y_train)\n",
    "\n",
    "    # predict\n",
    "    dec_tree_pred = dec_tree.predict(X_test)\n",
    "    \n",
    "    # score\n",
    "    dec_tree_score = f1_score(Y_test, dec_tree_pred, average=None)\n",
    "    dec_tree_score_micro = f1_score(Y_test, dec_tree_pred, average='micro')\n",
    "    \n",
    "    return dec_tree_score, dec_tree_score_micro"
   ]
  },
  {
   "cell_type": "code",
   "execution_count": 6,
   "metadata": {},
   "outputs": [],
   "source": [
    "# ExtraTreeClassifier\n",
    "\n",
    "def function_ExtraTreeClassifier(X_train, Y_train, X_test, Y_test):\n",
    "    \n",
    "    # fit\n",
    "    ext_tree = ExtraTreeClassifier()\n",
    "    ext_tree = ext_tree.fit(X_train, Y_train)\n",
    "\n",
    "    # predict\n",
    "    ext_tree_pred = ext_tree.predict(X_test)\n",
    "    \n",
    "    # score\n",
    "    ext_tree_score = f1_score(Y_test, ext_tree_pred, average=None)\n",
    "    ext_tree_score_micro = f1_score(Y_test, ext_tree_pred, average='micro')\n",
    "    \n",
    "    return ext_tree_score, ext_tree_score_micro"
   ]
  },
  {
   "cell_type": "code",
   "execution_count": 7,
   "metadata": {},
   "outputs": [],
   "source": [
    "# RandomForestClassifier\n",
    "\n",
    "def function_RandomForestClassifier(X_train, Y_train, X_test, Y_test):\n",
    "    \n",
    "    # fit\n",
    "    ran_for = RandomForestClassifier()\n",
    "    ran_for = ran_for.fit(X_train, Y_train)\n",
    "\n",
    "    # predict\n",
    "    ran_for_pred = ran_for.predict(X_test)\n",
    "    \n",
    "    # score\n",
    "    ran_for_score = f1_score(Y_test, ran_for_pred, average=None)\n",
    "    ran_for_score_micro = f1_score(Y_test, ran_for_pred, average='micro')\n",
    "    \n",
    "    return ran_for_score, ran_for_score_micro"
   ]
  },
  {
   "cell_type": "code",
   "execution_count": 8,
   "metadata": {},
   "outputs": [],
   "source": [
    "# LGBMClassifier\n",
    "\n",
    "def function_LGBMClassifier(X_train, Y_train, X_test, Y_test):\n",
    "    \n",
    "    # fit\n",
    "    lgbm = LGBMClassifier()\n",
    "    lgbm = lgbm.fit(X_train, Y_train)\n",
    "\n",
    "    # predict\n",
    "    lgbm_pred = lgbm.predict(X_test)\n",
    "    \n",
    "    # score\n",
    "    lgbm_score = f1_score(Y_test, lgbm_pred, average=None)\n",
    "    lgbm_score_micro = f1_score(Y_test, lgbm_pred, average='micro')\n",
    "    \n",
    "    return lgbm_score, lgbm_score_micro"
   ]
  },
  {
   "cell_type": "code",
   "execution_count": 9,
   "metadata": {},
   "outputs": [],
   "source": [
    "# BernoulliNB\n",
    "\n",
    "def function_BernoulliNB(X_train, Y_train, X_test, Y_test):\n",
    "    \n",
    "    # fit\n",
    "    bernoulli = BernoulliNB()\n",
    "    bernoulli = bernoulli.fit(X_train, Y_train)\n",
    "\n",
    "    # predict\n",
    "    bernoulli_pred = bernoulli.predict(X_test)\n",
    "    \n",
    "    # score\n",
    "    bernoulli_score = f1_score(Y_test, bernoulli_pred, average=None)\n",
    "    bernoulli_score_micro = f1_score(Y_test, bernoulli_pred, average='micro')\n",
    "    \n",
    "    return bernoulli_score, bernoulli_score_micro"
   ]
  },
  {
   "cell_type": "code",
   "execution_count": 10,
   "metadata": {},
   "outputs": [],
   "source": [
    "# KNeighborsClassifier\n",
    "\n",
    "def function_KNeighborsClassifier(X_train, Y_train, X_test, Y_test):\n",
    "    \n",
    "    # fit\n",
    "    kn = KNeighborsClassifier()\n",
    "    kn = kn.fit(X_train, Y_train)\n",
    "\n",
    "    # predict\n",
    "    kn_pred = kn.predict(X_test)\n",
    "    \n",
    "    # score\n",
    "    kn_score = f1_score(Y_test, kn_pred, average=None)\n",
    "    kn_score_micro = f1_score(Y_test, kn_pred, average='micro')\n",
    "    \n",
    "    return kn_score, kn_score_micro"
   ]
  },
  {
   "cell_type": "code",
   "execution_count": 11,
   "metadata": {},
   "outputs": [],
   "source": [
    "# GaussianNB\n",
    "\n",
    "def function_GaussianNB(X_train, Y_train, X_test, Y_test):\n",
    "    \n",
    "    # fit\n",
    "    gaus = GaussianNB()\n",
    "    gaus = gaus.fit(X_train, Y_train)\n",
    "\n",
    "    # predict\n",
    "    gaus_pred = gaus.predict(X_test)\n",
    "    \n",
    "    # score\n",
    "    gaus_score = f1_score(Y_test, gaus_pred, average=None)\n",
    "    gaus_score_micro = f1_score(Y_test, gaus_pred, average='micro')\n",
    "    \n",
    "    return gaus_score, gaus_score_micro"
   ]
  },
  {
   "cell_type": "markdown",
   "metadata": {},
   "source": [
    "# 3. Data"
   ]
  },
  {
   "cell_type": "code",
   "execution_count": 12,
   "metadata": {},
   "outputs": [],
   "source": [
    "df = pd.read_csv('crime-boston_1.csv')"
   ]
  },
  {
   "cell_type": "code",
   "execution_count": 13,
   "metadata": {},
   "outputs": [
    {
     "data": {
      "text/html": [
       "<div>\n",
       "<style scoped>\n",
       "    .dataframe tbody tr th:only-of-type {\n",
       "        vertical-align: middle;\n",
       "    }\n",
       "\n",
       "    .dataframe tbody tr th {\n",
       "        vertical-align: top;\n",
       "    }\n",
       "\n",
       "    .dataframe thead th {\n",
       "        text-align: right;\n",
       "    }\n",
       "</style>\n",
       "<table border=\"1\" class=\"dataframe\">\n",
       "  <thead>\n",
       "    <tr style=\"text-align: right;\">\n",
       "      <th></th>\n",
       "      <th>Unnamed: 0</th>\n",
       "      <th>Unnamed: 0.1</th>\n",
       "      <th>DAY_OF_WEEK</th>\n",
       "      <th>DISTRICT</th>\n",
       "      <th>HOUR</th>\n",
       "      <th>Lat</th>\n",
       "      <th>Long</th>\n",
       "      <th>MONTH</th>\n",
       "      <th>OCCURRED_ON_DATE</th>\n",
       "      <th>OFFENSE_CODE_GROUP</th>\n",
       "      <th>REPORTING_AREA</th>\n",
       "      <th>SHOOTING</th>\n",
       "      <th>UCR_PART</th>\n",
       "      <th>YEAR</th>\n",
       "      <th>Day</th>\n",
       "      <th>Night</th>\n",
       "      <th>ToNight</th>\n",
       "      <th>ToDay</th>\n",
       "    </tr>\n",
       "  </thead>\n",
       "  <tbody>\n",
       "    <tr>\n",
       "      <th>0</th>\n",
       "      <td>0</td>\n",
       "      <td>0</td>\n",
       "      <td>Sunday</td>\n",
       "      <td>2.0</td>\n",
       "      <td>6</td>\n",
       "      <td>42.346381</td>\n",
       "      <td>-71.103794</td>\n",
       "      <td>7</td>\n",
       "      <td>2012-07-08 06:00:00</td>\n",
       "      <td>Residential Burglary</td>\n",
       "      <td>629.0</td>\n",
       "      <td>0.0</td>\n",
       "      <td>1.0</td>\n",
       "      <td>2012</td>\n",
       "      <td>1</td>\n",
       "      <td>0</td>\n",
       "      <td>16</td>\n",
       "      <td>0</td>\n",
       "    </tr>\n",
       "    <tr>\n",
       "      <th>1</th>\n",
       "      <td>1</td>\n",
       "      <td>1</td>\n",
       "      <td>Sunday</td>\n",
       "      <td>1.0</td>\n",
       "      <td>6</td>\n",
       "      <td>42.316841</td>\n",
       "      <td>-71.074585</td>\n",
       "      <td>7</td>\n",
       "      <td>2012-07-08 06:03:00</td>\n",
       "      <td>Aggravated Assault</td>\n",
       "      <td>327.0</td>\n",
       "      <td>1.0</td>\n",
       "      <td>1.0</td>\n",
       "      <td>2012</td>\n",
       "      <td>1</td>\n",
       "      <td>0</td>\n",
       "      <td>16</td>\n",
       "      <td>0</td>\n",
       "    </tr>\n",
       "    <tr>\n",
       "      <th>2</th>\n",
       "      <td>2</td>\n",
       "      <td>2</td>\n",
       "      <td>Sunday</td>\n",
       "      <td>2.0</td>\n",
       "      <td>6</td>\n",
       "      <td>42.342841</td>\n",
       "      <td>-71.096990</td>\n",
       "      <td>7</td>\n",
       "      <td>2012-07-08 06:26:00</td>\n",
       "      <td>Robbery</td>\n",
       "      <td>625.0</td>\n",
       "      <td>0.0</td>\n",
       "      <td>1.0</td>\n",
       "      <td>2012</td>\n",
       "      <td>1</td>\n",
       "      <td>0</td>\n",
       "      <td>16</td>\n",
       "      <td>0</td>\n",
       "    </tr>\n",
       "    <tr>\n",
       "      <th>3</th>\n",
       "      <td>3</td>\n",
       "      <td>3</td>\n",
       "      <td>Sunday</td>\n",
       "      <td>1.0</td>\n",
       "      <td>6</td>\n",
       "      <td>42.316441</td>\n",
       "      <td>-71.065829</td>\n",
       "      <td>7</td>\n",
       "      <td>2012-07-08 06:56:00</td>\n",
       "      <td>Other</td>\n",
       "      <td>258.0</td>\n",
       "      <td>0.0</td>\n",
       "      <td>1.0</td>\n",
       "      <td>2012</td>\n",
       "      <td>1</td>\n",
       "      <td>0</td>\n",
       "      <td>16</td>\n",
       "      <td>0</td>\n",
       "    </tr>\n",
       "    <tr>\n",
       "      <th>4</th>\n",
       "      <td>4</td>\n",
       "      <td>4</td>\n",
       "      <td>Sunday</td>\n",
       "      <td>9.0</td>\n",
       "      <td>7</td>\n",
       "      <td>42.270516</td>\n",
       "      <td>-71.119900</td>\n",
       "      <td>7</td>\n",
       "      <td>2012-07-08 07:15:00</td>\n",
       "      <td>Robbery</td>\n",
       "      <td>496.0</td>\n",
       "      <td>0.0</td>\n",
       "      <td>1.0</td>\n",
       "      <td>2012</td>\n",
       "      <td>1</td>\n",
       "      <td>0</td>\n",
       "      <td>15</td>\n",
       "      <td>0</td>\n",
       "    </tr>\n",
       "  </tbody>\n",
       "</table>\n",
       "</div>"
      ],
      "text/plain": [
       "   Unnamed: 0  Unnamed: 0.1 DAY_OF_WEEK  DISTRICT  HOUR        Lat       Long  \\\n",
       "0           0             0      Sunday       2.0     6  42.346381 -71.103794   \n",
       "1           1             1      Sunday       1.0     6  42.316841 -71.074585   \n",
       "2           2             2      Sunday       2.0     6  42.342841 -71.096990   \n",
       "3           3             3      Sunday       1.0     6  42.316441 -71.065829   \n",
       "4           4             4      Sunday       9.0     7  42.270516 -71.119900   \n",
       "\n",
       "   MONTH     OCCURRED_ON_DATE    OFFENSE_CODE_GROUP  REPORTING_AREA  SHOOTING  \\\n",
       "0      7  2012-07-08 06:00:00  Residential Burglary           629.0       0.0   \n",
       "1      7  2012-07-08 06:03:00    Aggravated Assault           327.0       1.0   \n",
       "2      7  2012-07-08 06:26:00               Robbery           625.0       0.0   \n",
       "3      7  2012-07-08 06:56:00                 Other           258.0       0.0   \n",
       "4      7  2012-07-08 07:15:00               Robbery           496.0       0.0   \n",
       "\n",
       "   UCR_PART  YEAR  Day  Night  ToNight  ToDay  \n",
       "0       1.0  2012    1      0       16      0  \n",
       "1       1.0  2012    1      0       16      0  \n",
       "2       1.0  2012    1      0       16      0  \n",
       "3       1.0  2012    1      0       16      0  \n",
       "4       1.0  2012    1      0       15      0  "
      ]
     },
     "execution_count": 13,
     "metadata": {},
     "output_type": "execute_result"
    }
   ],
   "source": [
    "df.head()"
   ]
  },
  {
   "cell_type": "code",
   "execution_count": 14,
   "metadata": {},
   "outputs": [],
   "source": [
    "df = df.drop('Unnamed: 0',1)\n",
    "df = df.drop('Unnamed: 0.1',1)"
   ]
  },
  {
   "cell_type": "code",
   "execution_count": 15,
   "metadata": {},
   "outputs": [],
   "source": [
    "df_model = df[[\n",
    "    'DISTRICT',\n",
    "    'MONTH',\n",
    "    'DAY_OF_WEEK',\n",
    "    'HOUR',\n",
    "    'UCR_PART',\n",
    "    'Lat',\n",
    "    'Long',\n",
    "    'REPORTING_AREA',\n",
    "    'Day',\n",
    "    'Night',\n",
    "    'ToDay',\n",
    "    'ToNight'\n",
    "]]"
   ]
  },
  {
   "cell_type": "code",
   "execution_count": 16,
   "metadata": {},
   "outputs": [
    {
     "name": "stderr",
     "output_type": "stream",
     "text": [
      "/home/olexandr/anaconda3/lib/python3.6/site-packages/ipykernel_launcher.py:10: SettingWithCopyWarning: \n",
      "A value is trying to be set on a copy of a slice from a DataFrame.\n",
      "Try using .loc[row_indexer,col_indexer] = value instead\n",
      "\n",
      "See the caveats in the documentation: http://pandas.pydata.org/pandas-docs/stable/indexing.html#indexing-view-versus-copy\n",
      "  # Remove the CWD from sys.path while we load stuff.\n"
     ]
    }
   ],
   "source": [
    "# DAY_OF_WEEK\n",
    "\n",
    "df_model['DAY_OF_WEEK'] = df_model['DAY_OF_WEEK'].map({\n",
    "    'Tuesday':2, \n",
    "    'Saturday':6, \n",
    "    'Monday':1, \n",
    "    'Sunday':7, \n",
    "    'Thursday':4, \n",
    "    'Wednesday':3,\n",
    "    'Friday':5\n",
    "})"
   ]
  },
  {
   "cell_type": "code",
   "execution_count": 17,
   "metadata": {},
   "outputs": [
    {
     "data": {
      "text/plain": [
       "array([  1.,   2.,   3.,   4.,  nan])"
      ]
     },
     "execution_count": 17,
     "metadata": {},
     "output_type": "execute_result"
    }
   ],
   "source": [
    "df_model['UCR_PART'].unique()"
   ]
  },
  {
   "cell_type": "code",
   "execution_count": 18,
   "metadata": {},
   "outputs": [
    {
     "data": {
      "text/plain": [
       "3.0    242191\n",
       "2.0    192276\n",
       "1.0    124036\n",
       "4.0     16630\n",
       "Name: UCR_PART, dtype: int64"
      ]
     },
     "execution_count": 18,
     "metadata": {},
     "output_type": "execute_result"
    }
   ],
   "source": [
    "df_model['UCR_PART'].value_counts()"
   ]
  },
  {
   "cell_type": "code",
   "execution_count": 19,
   "metadata": {},
   "outputs": [],
   "source": [
    "df_model = df_model.loc[(df_model.UCR_PART == 1) | (df_model.UCR_PART == 2) | (df_model.UCR_PART == 3)]"
   ]
  },
  {
   "cell_type": "code",
   "execution_count": null,
   "metadata": {},
   "outputs": [],
   "source": []
  },
  {
   "cell_type": "code",
   "execution_count": 20,
   "metadata": {},
   "outputs": [
    {
     "name": "stdout",
     "output_type": "stream",
     "text": [
      "(535765, 12)\n"
     ]
    },
    {
     "data": {
      "text/plain": [
       "DISTRICT          0\n",
       "MONTH             0\n",
       "DAY_OF_WEEK       0\n",
       "HOUR              0\n",
       "UCR_PART          0\n",
       "Lat               0\n",
       "Long              0\n",
       "REPORTING_AREA    0\n",
       "Day               0\n",
       "Night             0\n",
       "ToDay             0\n",
       "ToNight           0\n",
       "dtype: int64"
      ]
     },
     "execution_count": 20,
     "metadata": {},
     "output_type": "execute_result"
    }
   ],
   "source": [
    "df_model = df_model.dropna()\n",
    "\n",
    "print(df_model.shape)\n",
    "df_model.isnull().sum()"
   ]
  },
  {
   "cell_type": "code",
   "execution_count": 21,
   "metadata": {},
   "outputs": [],
   "source": [
    "x = df_model[[\n",
    "    'DISTRICT',\n",
    "    'REPORTING_AREA', \n",
    "    'MONTH',\n",
    "    'DAY_OF_WEEK',\n",
    "    'HOUR',\n",
    "    'Lat',\n",
    "    'Long',\n",
    "    'Day',\n",
    "    'Night',\n",
    "    'ToDay',\n",
    "    'ToNight'\n",
    "]]\n",
    "y = df_model['UCR_PART']"
   ]
  },
  {
   "cell_type": "markdown",
   "metadata": {},
   "source": [
    "# 4. Split data"
   ]
  },
  {
   "cell_type": "code",
   "execution_count": 22,
   "metadata": {},
   "outputs": [
    {
     "name": "stdout",
     "output_type": "stream",
     "text": [
      "(482188, 11) (482188,)\n",
      "(53577, 11) (53577,)\n"
     ]
    }
   ],
   "source": [
    "# Split dataframe into random train and test subsets\n",
    "\n",
    "X_train, X_test, Y_train, Y_test = train_test_split(\n",
    "    x,\n",
    "    y, \n",
    "    test_size = 0.1,\n",
    "    random_state=42\n",
    ")\n",
    "\n",
    "print(X_train.shape, Y_train.shape)\n",
    "print(X_test.shape, Y_test.shape)"
   ]
  },
  {
   "cell_type": "markdown",
   "metadata": {},
   "source": [
    "# 5. Modeling\n",
    "\n",
    "X - 'DISTRICT', 'REPORTING_AREA', 'MONTH', 'DAY_OF_WEEK', 'HOUR', 'Lat', 'Long', 'Day', 'Night', 'ToDay', 'ToNight'\n",
    "\n",
    "Y - UCR_PART"
   ]
  },
  {
   "cell_type": "code",
   "execution_count": 23,
   "metadata": {},
   "outputs": [
    {
     "data": {
      "text/plain": [
       "(array([ 0.32470175,  0.42248641,  0.48664049]), 0.42630233122421934)"
      ]
     },
     "execution_count": 23,
     "metadata": {},
     "output_type": "execute_result"
    }
   ],
   "source": [
    "function_DecisionTreeClassifier(X_train, Y_train, X_test, Y_test)"
   ]
  },
  {
   "cell_type": "code",
   "execution_count": 24,
   "metadata": {},
   "outputs": [
    {
     "data": {
      "text/plain": [
       "(array([ 0.29587036,  0.40789333,  0.47163113]), 0.40853351251469849)"
      ]
     },
     "execution_count": 24,
     "metadata": {},
     "output_type": "execute_result"
    }
   ],
   "source": [
    "function_ExtraTreeClassifier(X_train, Y_train, X_test, Y_test)"
   ]
  },
  {
   "cell_type": "code",
   "execution_count": 25,
   "metadata": {},
   "outputs": [
    {
     "data": {
      "text/plain": [
       "(array([ 0.31877172,  0.427429  ,  0.50495896]), 0.43822909084121919)"
      ]
     },
     "execution_count": 25,
     "metadata": {},
     "output_type": "execute_result"
    }
   ],
   "source": [
    "function_RandomForestClassifier(X_train, Y_train, X_test, Y_test)"
   ]
  },
  {
   "cell_type": "code",
   "execution_count": 26,
   "metadata": {},
   "outputs": [
    {
     "data": {
      "text/plain": [
       "(array([ 0.21774295,  0.35460945,  0.59430236]), 0.47259085055154265)"
      ]
     },
     "execution_count": 26,
     "metadata": {},
     "output_type": "execute_result"
    }
   ],
   "source": [
    "function_LGBMClassifier(X_train, Y_train, X_test, Y_test)"
   ]
  },
  {
   "cell_type": "code",
   "execution_count": 27,
   "metadata": {},
   "outputs": [
    {
     "name": "stderr",
     "output_type": "stream",
     "text": [
      "/home/olexandr/anaconda3/lib/python3.6/site-packages/sklearn/metrics/classification.py:1135: UndefinedMetricWarning: F-score is ill-defined and being set to 0.0 in labels with no predicted samples.\n",
      "  'precision', 'predicted', average, warn_for)\n"
     ]
    },
    {
     "data": {
      "text/plain": [
       "(array([ 0.        ,  0.26398692,  0.58987558]), 0.44061817570972617)"
      ]
     },
     "execution_count": 27,
     "metadata": {},
     "output_type": "execute_result"
    }
   ],
   "source": [
    "function_BernoulliNB(X_train, Y_train, X_test, Y_test)"
   ]
  },
  {
   "cell_type": "code",
   "execution_count": 28,
   "metadata": {},
   "outputs": [
    {
     "data": {
      "text/plain": [
       "(array([ 0.31590751,  0.41177696,  0.45375251]), 0.40543516807585345)"
      ]
     },
     "execution_count": 28,
     "metadata": {},
     "output_type": "execute_result"
    }
   ],
   "source": [
    "function_KNeighborsClassifier(X_train, Y_train, X_test, Y_test)"
   ]
  },
  {
   "cell_type": "code",
   "execution_count": 29,
   "metadata": {},
   "outputs": [
    {
     "data": {
      "text/plain": [
       "(array([ 0.24142313,  0.05317789,  0.56371384]), 0.40188887022416336)"
      ]
     },
     "execution_count": 29,
     "metadata": {},
     "output_type": "execute_result"
    }
   ],
   "source": [
    "function_GaussianNB(X_train, Y_train, X_test, Y_test)"
   ]
  },
  {
   "cell_type": "code",
   "execution_count": null,
   "metadata": {},
   "outputs": [],
   "source": []
  }
 ],
 "metadata": {
  "kernelspec": {
   "display_name": "Python 3",
   "language": "python",
   "name": "python3"
  },
  "language_info": {
   "codemirror_mode": {
    "name": "ipython",
    "version": 3
   },
   "file_extension": ".py",
   "mimetype": "text/x-python",
   "name": "python",
   "nbconvert_exporter": "python",
   "pygments_lexer": "ipython3",
   "version": "3.6.5"
  }
 },
 "nbformat": 4,
 "nbformat_minor": 2
}
