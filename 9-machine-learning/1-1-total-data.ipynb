{
 "cells": [
  {
   "cell_type": "markdown",
   "metadata": {},
   "source": [
    "# Import"
   ]
  },
  {
   "cell_type": "code",
   "execution_count": 161,
   "metadata": {},
   "outputs": [],
   "source": [
    "import numpy as np\n",
    "import pandas as pd"
   ]
  },
  {
   "cell_type": "code",
   "execution_count": 162,
   "metadata": {},
   "outputs": [],
   "source": [
    "from sklearn.tree import DecisionTreeClassifier\n",
    "from sklearn.tree import ExtraTreeClassifier\n",
    "from sklearn.ensemble import RandomForestClassifier\n",
    "\n",
    "from sklearn.naive_bayes import BernoulliNB\n",
    "from sklearn.neighbors import KNeighborsClassifier\n",
    "from sklearn.naive_bayes import GaussianNB"
   ]
  },
  {
   "cell_type": "code",
   "execution_count": 163,
   "metadata": {},
   "outputs": [],
   "source": [
    "#from lightgbm import LGBMClassifier\n",
    "#import xgboost as xgb"
   ]
  },
  {
   "cell_type": "code",
   "execution_count": 164,
   "metadata": {},
   "outputs": [],
   "source": [
    "from sklearn.cross_validation import train_test_split"
   ]
  },
  {
   "cell_type": "code",
   "execution_count": 165,
   "metadata": {},
   "outputs": [],
   "source": [
    "from sklearn.metrics import f1_score"
   ]
  },
  {
   "cell_type": "markdown",
   "metadata": {},
   "source": [
    "# Functions"
   ]
  },
  {
   "cell_type": "code",
   "execution_count": 166,
   "metadata": {},
   "outputs": [],
   "source": [
    "# DecisionTreeClassifier\n",
    "\n",
    "def function_DecisionTreeClassifier(X_train, Y_train, X_test, Y_test):\n",
    "    \n",
    "    # fit\n",
    "    dec_tree = DecisionTreeClassifier()\n",
    "    dec_tree = dec_tree.fit(X_train, Y_train)\n",
    "\n",
    "    # predict\n",
    "    dec_tree_pred = dec_tree.predict(X_test)\n",
    "    \n",
    "    # score\n",
    "    dec_tree_score = f1_score(Y_test, dec_tree_pred, average=None)\n",
    "    dec_tree_score_micro = f1_score(Y_test, dec_tree_pred, average='micro')\n",
    "    \n",
    "    return dec_tree_score, dec_tree_score_micro"
   ]
  },
  {
   "cell_type": "code",
   "execution_count": 167,
   "metadata": {},
   "outputs": [],
   "source": [
    "# ExtraTreeClassifier\n",
    "\n",
    "def function_ExtraTreeClassifier(X_train, Y_train, X_test, Y_test):\n",
    "    \n",
    "    # fit\n",
    "    ext_tree = ExtraTreeClassifier()\n",
    "    ext_tree = ext_tree.fit(X_train, Y_train)\n",
    "\n",
    "    # predict\n",
    "    ext_tree_pred = ext_tree.predict(X_test)\n",
    "    \n",
    "    # score\n",
    "    ext_tree_score = f1_score(Y_test, ext_tree_pred, average=None)\n",
    "    ext_tree_score_micro = f1_score(Y_test, ext_tree_pred, average='micro')\n",
    "    \n",
    "    return ext_tree_score, ext_tree_score_micro"
   ]
  },
  {
   "cell_type": "code",
   "execution_count": 168,
   "metadata": {},
   "outputs": [],
   "source": [
    "# RandomForestClassifier\n",
    "\n",
    "def function_RandomForestClassifier(X_train, Y_train, X_test, Y_test):\n",
    "    \n",
    "    # fit\n",
    "    ran_for = RandomForestClassifier()\n",
    "    ran_for = ran_for.fit(X_train, Y_train)\n",
    "\n",
    "    # predict\n",
    "    ran_for_pred = ran_for.predict(X_test)\n",
    "    \n",
    "    # score\n",
    "    ran_for_score = f1_score(Y_test, ran_for_pred, average=None)\n",
    "    ran_for_score_micro = f1_score(Y_test, ran_for_pred, average='micro')\n",
    "    \n",
    "    return ran_for_score, ran_for_score_micro"
   ]
  },
  {
   "cell_type": "code",
   "execution_count": 169,
   "metadata": {},
   "outputs": [
    {
     "data": {
      "text/plain": [
       "\"\\ndef function_LGBMClassifier(X_train, Y_train, X_test, Y_test):\\n    \\n    # fit\\n    lgbm = LGBMClassifier()\\n    lgbm = lgbm.fit(X_train, Y_train)\\n\\n    # predict\\n    lgbm_pred = lgbm.predict(X_test)\\n    \\n    # score\\n    lgbm_score = f1_score(Y_test, lgbm_pred, average=None)\\n    lgbm_score_micro = f1_score(Y_test, lgbm_pred, average='micro')\\n    \\n    return lgbm_score, lgbm_score_micro\\n\""
      ]
     },
     "execution_count": 169,
     "metadata": {},
     "output_type": "execute_result"
    }
   ],
   "source": [
    "# LGBMClassifier\n",
    "'''\n",
    "def function_LGBMClassifier(X_train, Y_train, X_test, Y_test):\n",
    "    \n",
    "    # fit\n",
    "    lgbm = LGBMClassifier()\n",
    "    lgbm = lgbm.fit(X_train, Y_train)\n",
    "\n",
    "    # predict\n",
    "    lgbm_pred = lgbm.predict(X_test)\n",
    "    \n",
    "    # score\n",
    "    lgbm_score = f1_score(Y_test, lgbm_pred, average=None)\n",
    "    lgbm_score_micro = f1_score(Y_test, lgbm_pred, average='micro')\n",
    "    \n",
    "    return lgbm_score, lgbm_score_micro\n",
    "'''"
   ]
  },
  {
   "cell_type": "code",
   "execution_count": 170,
   "metadata": {},
   "outputs": [],
   "source": [
    "# BernoulliNB\n",
    "\n",
    "def function_BernoulliNB(X_train, Y_train, X_test, Y_test):\n",
    "    \n",
    "    # fit\n",
    "    bernoulli = BernoulliNB()\n",
    "    bernoulli = bernoulli.fit(X_train, Y_train)\n",
    "\n",
    "    # predict\n",
    "    bernoulli_pred = bernoulli.predict(X_test)\n",
    "    \n",
    "    # score\n",
    "    bernoulli_score = f1_score(Y_test, bernoulli_pred, average=None)\n",
    "    bernoulli_score_micro = f1_score(Y_test, bernoulli_pred, average='micro')\n",
    "    \n",
    "    return bernoulli_score, bernoulli_score_micro"
   ]
  },
  {
   "cell_type": "code",
   "execution_count": 171,
   "metadata": {},
   "outputs": [],
   "source": [
    "# KNeighborsClassifier\n",
    "\n",
    "def function_KNeighborsClassifier(X_train, Y_train, X_test, Y_test):\n",
    "    \n",
    "    # fit\n",
    "    kn = KNeighborsClassifier()\n",
    "    kn = kn.fit(X_train, Y_train)\n",
    "\n",
    "    # predict\n",
    "    kn_pred = kn.predict(X_test)\n",
    "    \n",
    "    # score\n",
    "    kn_score = f1_score(Y_test, kn_pred, average=None)\n",
    "    kn_score_micro = f1_score(Y_test, kn_pred, average='micro')\n",
    "    \n",
    "    return kn_score, kn_score_micro"
   ]
  },
  {
   "cell_type": "code",
   "execution_count": 172,
   "metadata": {},
   "outputs": [],
   "source": [
    "# GaussianNB\n",
    "\n",
    "def function_GaussianNB(X_train, Y_train, X_test, Y_test):\n",
    "    \n",
    "    # fit\n",
    "    gaus = GaussianNB()\n",
    "    gaus = gaus.fit(X_train, Y_train)\n",
    "\n",
    "    # predict\n",
    "    gaus_pred = gaus.predict(X_test)\n",
    "    \n",
    "    # score\n",
    "    gaus_score = f1_score(Y_test, gaus_pred, average=None)\n",
    "    gaus_score_micro = f1_score(Y_test, gaus_pred, average='micro')\n",
    "    \n",
    "    return gaus_score, gaus_score_micro"
   ]
  },
  {
   "cell_type": "markdown",
   "metadata": {},
   "source": [
    "# Data"
   ]
  },
  {
   "cell_type": "code",
   "execution_count": 173,
   "metadata": {},
   "outputs": [],
   "source": [
    "df = pd.read_csv('data.csv')"
   ]
  },
  {
   "cell_type": "code",
   "execution_count": 174,
   "metadata": {},
   "outputs": [],
   "source": [
    "df = df.drop('Unnamed: 0',1)\n",
    "df = df.drop('Unnamed: 0.1',1)\n",
    "df = df.drop('Unnamed: 0.1.1',1)"
   ]
  },
  {
   "cell_type": "code",
   "execution_count": 175,
   "metadata": {},
   "outputs": [
    {
     "data": {
      "text/plain": [
       "Index(['DAY_OF_WEEK', 'DISTRICT', 'HOUR', 'Lat', 'Long', 'MONTH',\n",
       "       'OCCURRED_ON_DATE', 'OFFENSE_CODE_GROUP', 'REPORTING_AREA', 'SHOOTING',\n",
       "       'UCR_PART', 'YEAR', 'Day', 'Night', 'ToNight', 'ToDay', 'DAY',\n",
       "       'temperatureMin', 'temperatureMax', 'precipitation', 'snow',\n",
       "       'temperatureDifference', 'clust_50', 'clust_100', 'clust_200',\n",
       "       'Universities_colleges_distance_25',\n",
       "       'Universities_colleges_distance_min',\n",
       "       'Universities_colleges_number_near', 'Public_schools_distance_25',\n",
       "       'Public_schools_distance_min', 'Public_schools_number_near',\n",
       "       'Non-Public_schools_distance_25', 'Non-Public_schools_distance_min',\n",
       "       'Non-Public_schools_number_near'],\n",
       "      dtype='object')"
      ]
     },
     "execution_count": 175,
     "metadata": {},
     "output_type": "execute_result"
    }
   ],
   "source": [
    "df.columns"
   ]
  },
  {
   "cell_type": "code",
   "execution_count": 176,
   "metadata": {},
   "outputs": [],
   "source": [
    "df = df[[\n",
    "    'DAY_OF_WEEK', \n",
    "    'DISTRICT', \n",
    "    'HOUR', \n",
    "    #'Lat', \n",
    "    #'Long', \n",
    "    'MONTH',\n",
    "    'REPORTING_AREA', \n",
    "    'Day', \n",
    "    'Night', \n",
    "    'ToNight', \n",
    "    'ToDay', \n",
    "    'temperatureMin', \n",
    "    'temperatureMax', \n",
    "    'precipitation', \n",
    "    'snow',\n",
    "    'temperatureDifference', \n",
    "    'clust_50', \n",
    "    'clust_100', \n",
    "    'clust_200',\n",
    "    'Universities_colleges_distance_25',\n",
    "    'Universities_colleges_distance_min',\n",
    "    'Universities_colleges_number_near', \n",
    "    'Public_schools_distance_25',\n",
    "    'Public_schools_distance_min', \n",
    "    'Public_schools_number_near',\n",
    "    'Non-Public_schools_distance_25', \n",
    "    'Non-Public_schools_distance_min',\n",
    "    'Non-Public_schools_number_near',\n",
    "    'OFFENSE_CODE_GROUP'\n",
    "]]"
   ]
  },
  {
   "cell_type": "code",
   "execution_count": 177,
   "metadata": {},
   "outputs": [
    {
     "data": {
      "text/plain": [
       "DAY_OF_WEEK                               0\n",
       "DISTRICT                               1776\n",
       "HOUR                                      0\n",
       "MONTH                                     0\n",
       "REPORTING_AREA                        20265\n",
       "Day                                       0\n",
       "Night                                     0\n",
       "ToNight                                   0\n",
       "ToDay                                     0\n",
       "temperatureMin                            0\n",
       "temperatureMax                            0\n",
       "precipitation                         69889\n",
       "snow                                  54332\n",
       "temperatureDifference                     0\n",
       "clust_50                                  0\n",
       "clust_100                                 0\n",
       "clust_200                                 0\n",
       "Universities_colleges_distance_25     20020\n",
       "Universities_colleges_distance_min    20020\n",
       "Universities_colleges_number_near         0\n",
       "Public_schools_distance_25            20020\n",
       "Public_schools_distance_min           20020\n",
       "Public_schools_number_near                0\n",
       "Non-Public_schools_distance_25        20020\n",
       "Non-Public_schools_distance_min       20020\n",
       "Non-Public_schools_number_near            0\n",
       "OFFENSE_CODE_GROUP                        0\n",
       "dtype: int64"
      ]
     },
     "execution_count": 177,
     "metadata": {},
     "output_type": "execute_result"
    }
   ],
   "source": [
    "df.isnull().sum()"
   ]
  },
  {
   "cell_type": "code",
   "execution_count": 178,
   "metadata": {},
   "outputs": [
    {
     "data": {
      "text/plain": [
       "Other                              94887\n",
       "Motor Vehicle Accident Response    50952\n",
       "Larceny                            50405\n",
       "Medical Assistance                 40666\n",
       "Simple Assault                     33528\n",
       "Violations                         33449\n",
       "Investigate Person                 31683\n",
       "Vandalism                          28750\n",
       "Drug Violation                     28637\n",
       "Larceny From Motor Vehicle         23588\n",
       "Towed                              18807\n",
       "Name: OFFENSE_CODE_GROUP, dtype: int64"
      ]
     },
     "execution_count": 178,
     "metadata": {},
     "output_type": "execute_result"
    }
   ],
   "source": [
    "df['OFFENSE_CODE_GROUP'].value_counts().head(11)"
   ]
  },
  {
   "cell_type": "code",
   "execution_count": 179,
   "metadata": {},
   "outputs": [],
   "source": [
    "list_offense_code_group = (\n",
    "    'Motor Vehicle Accident Response',\n",
    "    'Larceny',\n",
    "    'Medical Assistance',\n",
    "    'Simple Assault',\n",
    "    'Violations',\n",
    "    'Investigate Person',\n",
    "    'Vandalism',\n",
    "    'Drug Violation',\n",
    "    'Larceny From Motor Vehicle',\n",
    "    'Towed'\n",
    ")"
   ]
  },
  {
   "cell_type": "code",
   "execution_count": 180,
   "metadata": {},
   "outputs": [],
   "source": [
    "df_model = pd.DataFrame()"
   ]
  },
  {
   "cell_type": "code",
   "execution_count": 181,
   "metadata": {},
   "outputs": [],
   "source": [
    "i = 0\n",
    "\n",
    "while i < len(list_offense_code_group):\n",
    "\n",
    "    df_model= df_model.append(df.loc[df['OFFENSE_CODE_GROUP'] == list_offense_code_group[i]])\n",
    "    \n",
    "    i+=1"
   ]
  },
  {
   "cell_type": "code",
   "execution_count": 182,
   "metadata": {},
   "outputs": [
    {
     "data": {
      "text/plain": [
       "(575226, 27)"
      ]
     },
     "execution_count": 182,
     "metadata": {},
     "output_type": "execute_result"
    }
   ],
   "source": [
    "df.shape"
   ]
  },
  {
   "cell_type": "code",
   "execution_count": 183,
   "metadata": {},
   "outputs": [
    {
     "data": {
      "text/plain": [
       "(340465, 27)"
      ]
     },
     "execution_count": 183,
     "metadata": {},
     "output_type": "execute_result"
    }
   ],
   "source": [
    "df_model.shape"
   ]
  },
  {
   "cell_type": "code",
   "execution_count": 184,
   "metadata": {},
   "outputs": [
    {
     "data": {
      "text/plain": [
       "Index(['DAY_OF_WEEK', 'DISTRICT', 'HOUR', 'MONTH', 'REPORTING_AREA', 'Day',\n",
       "       'Night', 'ToNight', 'ToDay', 'temperatureMin', 'temperatureMax',\n",
       "       'precipitation', 'snow', 'temperatureDifference', 'clust_50',\n",
       "       'clust_100', 'clust_200', 'Universities_colleges_distance_25',\n",
       "       'Universities_colleges_distance_min',\n",
       "       'Universities_colleges_number_near', 'Public_schools_distance_25',\n",
       "       'Public_schools_distance_min', 'Public_schools_number_near',\n",
       "       'Non-Public_schools_distance_25', 'Non-Public_schools_distance_min',\n",
       "       'Non-Public_schools_number_near', 'OFFENSE_CODE_GROUP'],\n",
       "      dtype='object')"
      ]
     },
     "execution_count": 184,
     "metadata": {},
     "output_type": "execute_result"
    }
   ],
   "source": [
    "df_model.columns"
   ]
  },
  {
   "cell_type": "code",
   "execution_count": 185,
   "metadata": {},
   "outputs": [
    {
     "data": {
      "text/plain": [
       "array([7, 1, 2, 3, 4, 5, 6])"
      ]
     },
     "execution_count": 185,
     "metadata": {},
     "output_type": "execute_result"
    }
   ],
   "source": [
    "# DAY_OF_WEEK\n",
    "\n",
    "df_model['DAY_OF_WEEK'] = df_model['DAY_OF_WEEK'].map({\n",
    "    'Tuesday':2, \n",
    "    'Saturday':6, \n",
    "    'Monday':1, \n",
    "    'Sunday':7, \n",
    "    'Thursday':4, \n",
    "    'Wednesday':3,\n",
    "    'Friday':5\n",
    "})\n",
    "\n",
    "df_model['DAY_OF_WEEK'].unique()"
   ]
  },
  {
   "cell_type": "code",
   "execution_count": 186,
   "metadata": {},
   "outputs": [],
   "source": [
    "df_model.fillna(0, inplace = True)"
   ]
  },
  {
   "cell_type": "code",
   "execution_count": 187,
   "metadata": {},
   "outputs": [
    {
     "data": {
      "text/plain": [
       "DAY_OF_WEEK                           0\n",
       "DISTRICT                              0\n",
       "HOUR                                  0\n",
       "MONTH                                 0\n",
       "REPORTING_AREA                        0\n",
       "Day                                   0\n",
       "Night                                 0\n",
       "ToNight                               0\n",
       "ToDay                                 0\n",
       "temperatureMin                        0\n",
       "temperatureMax                        0\n",
       "precipitation                         0\n",
       "snow                                  0\n",
       "temperatureDifference                 0\n",
       "clust_50                              0\n",
       "clust_100                             0\n",
       "clust_200                             0\n",
       "Universities_colleges_distance_25     0\n",
       "Universities_colleges_distance_min    0\n",
       "Universities_colleges_number_near     0\n",
       "Public_schools_distance_25            0\n",
       "Public_schools_distance_min           0\n",
       "Public_schools_number_near            0\n",
       "Non-Public_schools_distance_25        0\n",
       "Non-Public_schools_distance_min       0\n",
       "Non-Public_schools_number_near        0\n",
       "OFFENSE_CODE_GROUP                    0\n",
       "dtype: int64"
      ]
     },
     "execution_count": 187,
     "metadata": {},
     "output_type": "execute_result"
    }
   ],
   "source": [
    "df_model.isnull().sum()"
   ]
  },
  {
   "cell_type": "code",
   "execution_count": 188,
   "metadata": {},
   "outputs": [],
   "source": [
    "y = df_model['OFFENSE_CODE_GROUP']"
   ]
  },
  {
   "cell_type": "code",
   "execution_count": 189,
   "metadata": {},
   "outputs": [
    {
     "data": {
      "text/plain": [
       "array(['Motor Vehicle Accident Response', 'Larceny', 'Medical Assistance',\n",
       "       'Simple Assault', 'Violations', 'Investigate Person', 'Vandalism',\n",
       "       'Drug Violation', 'Larceny From Motor Vehicle', 'Towed'],\n",
       "      dtype=object)"
      ]
     },
     "execution_count": 189,
     "metadata": {},
     "output_type": "execute_result"
    }
   ],
   "source": [
    "y.unique()"
   ]
  },
  {
   "cell_type": "code",
   "execution_count": 190,
   "metadata": {},
   "outputs": [],
   "source": [
    "y = y.map({\n",
    "    'Motor Vehicle Accident Response':1, \n",
    "    'Larceny':2, \n",
    "    'Medical Assistance':3,\n",
    "    'Simple Assault':4, \n",
    "    'Violations':5, \n",
    "    'Investigate Person':6, \n",
    "    'Vandalism':7,\n",
    "    'Drug Violation':8, \n",
    "    'Larceny From Motor Vehicle':9, \n",
    "    'Towed':10\n",
    "})"
   ]
  },
  {
   "cell_type": "code",
   "execution_count": 191,
   "metadata": {},
   "outputs": [],
   "source": [
    "x = df_model.drop('OFFENSE_CODE_GROUP', 1)"
   ]
  },
  {
   "cell_type": "code",
   "execution_count": 192,
   "metadata": {},
   "outputs": [
    {
     "data": {
      "text/plain": [
       "Index(['DAY_OF_WEEK', 'DISTRICT', 'HOUR', 'MONTH', 'REPORTING_AREA', 'Day',\n",
       "       'Night', 'ToNight', 'ToDay', 'temperatureMin', 'temperatureMax',\n",
       "       'precipitation', 'snow', 'temperatureDifference', 'clust_50',\n",
       "       'clust_100', 'clust_200', 'Universities_colleges_distance_25',\n",
       "       'Universities_colleges_distance_min',\n",
       "       'Universities_colleges_number_near', 'Public_schools_distance_25',\n",
       "       'Public_schools_distance_min', 'Public_schools_number_near',\n",
       "       'Non-Public_schools_distance_25', 'Non-Public_schools_distance_min',\n",
       "       'Non-Public_schools_number_near'],\n",
       "      dtype='object')"
      ]
     },
     "execution_count": 192,
     "metadata": {},
     "output_type": "execute_result"
    }
   ],
   "source": [
    "x.columns"
   ]
  },
  {
   "cell_type": "markdown",
   "metadata": {},
   "source": [
    "# Split data"
   ]
  },
  {
   "cell_type": "code",
   "execution_count": 193,
   "metadata": {},
   "outputs": [
    {
     "name": "stdout",
     "output_type": "stream",
     "text": [
      "(306418, 26) (306418,)\n",
      "(34047, 26) (34047,)\n"
     ]
    }
   ],
   "source": [
    "# Split dataframe into random train and test subsets\n",
    "\n",
    "X_train, X_test, Y_train, Y_test = train_test_split(\n",
    "    x,\n",
    "    y, \n",
    "    test_size = 0.1,\n",
    "    random_state=42\n",
    ")\n",
    "\n",
    "print(X_train.shape, Y_train.shape)\n",
    "print(X_test.shape, Y_test.shape)"
   ]
  },
  {
   "cell_type": "markdown",
   "metadata": {},
   "source": [
    "# Modeling"
   ]
  },
  {
   "cell_type": "code",
   "execution_count": 194,
   "metadata": {},
   "outputs": [
    {
     "data": {
      "text/plain": [
       "(array([0.25671642, 0.3511709 , 0.18015343, 0.14659074, 0.18971631,\n",
       "        0.12366534, 0.12825375, 0.46232352, 0.15953307, 0.25529633]),\n",
       " 0.231679736834376)"
      ]
     },
     "execution_count": 194,
     "metadata": {},
     "output_type": "execute_result"
    }
   ],
   "source": [
    "function_DecisionTreeClassifier(X_train, Y_train, X_test, Y_test)"
   ]
  },
  {
   "cell_type": "code",
   "execution_count": 195,
   "metadata": {},
   "outputs": [
    {
     "data": {
      "text/plain": [
       "(array([0.25524786, 0.34895628, 0.18340504, 0.15102224, 0.18468401,\n",
       "        0.13101134, 0.13310225, 0.44557477, 0.14462541, 0.25202812]),\n",
       " 0.23047551913531295)"
      ]
     },
     "execution_count": 195,
     "metadata": {},
     "output_type": "execute_result"
    }
   ],
   "source": [
    "function_ExtraTreeClassifier(X_train, Y_train, X_test, Y_test)"
   ]
  },
  {
   "cell_type": "code",
   "execution_count": 196,
   "metadata": {},
   "outputs": [
    {
     "data": {
      "text/plain": [
       "(array([0.33182719, 0.41671092, 0.22818328, 0.1861928 , 0.23015996,\n",
       "        0.13276311, 0.1273134 , 0.52730627, 0.18052257, 0.3213279 ]),\n",
       " 0.28563456398507947)"
      ]
     },
     "execution_count": 196,
     "metadata": {},
     "output_type": "execute_result"
    }
   ],
   "source": [
    "# 0.28701\n",
    "\n",
    "function_RandomForestClassifier(X_train, Y_train, X_test, Y_test)"
   ]
  },
  {
   "cell_type": "code",
   "execution_count": 197,
   "metadata": {},
   "outputs": [],
   "source": [
    "# function_LGBMClassifier(X_train, Y_train, X_test, Y_test)"
   ]
  },
  {
   "cell_type": "code",
   "execution_count": 198,
   "metadata": {},
   "outputs": [
    {
     "name": "stderr",
     "output_type": "stream",
     "text": [
      "/home/oleksandr/anaconda3/lib/python3.7/site-packages/sklearn/metrics/classification.py:1135: UndefinedMetricWarning: F-score is ill-defined and being set to 0.0 in labels with no predicted samples.\n",
      "  'precision', 'predicted', average, warn_for)\n"
     ]
    },
    {
     "data": {
      "text/plain": [
       "(array([0.18866375, 0.27593835, 0.        , 0.        , 0.04799165,\n",
       "        0.        , 0.18090901, 0.00344234, 0.        , 0.        ]),\n",
       " 0.16641701177783652)"
      ]
     },
     "execution_count": 198,
     "metadata": {},
     "output_type": "execute_result"
    }
   ],
   "source": [
    "function_BernoulliNB(X_train, Y_train, X_test, Y_test)"
   ]
  },
  {
   "cell_type": "code",
   "execution_count": 199,
   "metadata": {},
   "outputs": [
    {
     "data": {
      "text/plain": [
       "(array([0.34439926, 0.42627615, 0.24726503, 0.16363333, 0.20951751,\n",
       "        0.12988002, 0.12304988, 0.42475284, 0.17348609, 0.27645377]),\n",
       " 0.28152260111023)"
      ]
     },
     "execution_count": 199,
     "metadata": {},
     "output_type": "execute_result"
    }
   ],
   "source": [
    "function_KNeighborsClassifier(X_train, Y_train, X_test, Y_test)"
   ]
  },
  {
   "cell_type": "code",
   "execution_count": 200,
   "metadata": {},
   "outputs": [
    {
     "name": "stderr",
     "output_type": "stream",
     "text": [
      "/home/oleksandr/anaconda3/lib/python3.7/site-packages/sklearn/metrics/classification.py:1135: UndefinedMetricWarning: F-score is ill-defined and being set to 0.0 in labels with no predicted samples.\n",
      "  'precision', 'predicted', average, warn_for)\n"
     ]
    },
    {
     "data": {
      "text/plain": [
       "(array([0.199282  , 0.26847987, 0.        , 0.        , 0.08982322,\n",
       "        0.        , 0.        , 0.        , 0.        , 0.        ]),\n",
       " 0.16259876053690486)"
      ]
     },
     "execution_count": 200,
     "metadata": {},
     "output_type": "execute_result"
    }
   ],
   "source": [
    "function_GaussianNB(X_train, Y_train, X_test, Y_test)"
   ]
  },
  {
   "cell_type": "code",
   "execution_count": null,
   "metadata": {},
   "outputs": [],
   "source": []
  }
 ],
 "metadata": {
  "kernelspec": {
   "display_name": "Python 3",
   "language": "python",
   "name": "python3"
  },
  "language_info": {
   "codemirror_mode": {
    "name": "ipython",
    "version": 3
   },
   "file_extension": ".py",
   "mimetype": "text/x-python",
   "name": "python",
   "nbconvert_exporter": "python",
   "pygments_lexer": "ipython3",
   "version": "3.7.0"
  }
 },
 "nbformat": 4,
 "nbformat_minor": 2
}
