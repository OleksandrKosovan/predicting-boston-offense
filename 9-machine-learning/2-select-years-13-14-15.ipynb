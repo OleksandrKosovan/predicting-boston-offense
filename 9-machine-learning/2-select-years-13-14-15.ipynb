{
 "cells": [
  {
   "cell_type": "markdown",
   "metadata": {},
   "source": [
    "# Import"
   ]
  },
  {
   "cell_type": "code",
   "execution_count": 42,
   "metadata": {},
   "outputs": [],
   "source": [
    "import numpy as np\n",
    "import pandas as pd"
   ]
  },
  {
   "cell_type": "code",
   "execution_count": 43,
   "metadata": {},
   "outputs": [],
   "source": [
    "from sklearn.tree import DecisionTreeClassifier\n",
    "from sklearn.tree import ExtraTreeClassifier\n",
    "from sklearn.ensemble import RandomForestClassifier\n",
    "\n",
    "from sklearn.naive_bayes import BernoulliNB\n",
    "from sklearn.neighbors import KNeighborsClassifier\n",
    "from sklearn.naive_bayes import GaussianNB"
   ]
  },
  {
   "cell_type": "code",
   "execution_count": 44,
   "metadata": {},
   "outputs": [],
   "source": [
    "#from lightgbm import LGBMClassifier\n",
    "#import xgboost as xgb"
   ]
  },
  {
   "cell_type": "code",
   "execution_count": 45,
   "metadata": {},
   "outputs": [],
   "source": [
    "from sklearn.cross_validation import train_test_split"
   ]
  },
  {
   "cell_type": "code",
   "execution_count": 46,
   "metadata": {},
   "outputs": [],
   "source": [
    "from sklearn.metrics import f1_score"
   ]
  },
  {
   "cell_type": "markdown",
   "metadata": {},
   "source": [
    "# Functions"
   ]
  },
  {
   "cell_type": "code",
   "execution_count": 47,
   "metadata": {},
   "outputs": [],
   "source": [
    "# DecisionTreeClassifier\n",
    "\n",
    "def function_DecisionTreeClassifier(X_train, Y_train, X_test, Y_test):\n",
    "    \n",
    "    # fit\n",
    "    dec_tree = DecisionTreeClassifier()\n",
    "    dec_tree = dec_tree.fit(X_train, Y_train)\n",
    "\n",
    "    # predict\n",
    "    dec_tree_pred = dec_tree.predict(X_test)\n",
    "    \n",
    "    # score\n",
    "    dec_tree_score = f1_score(Y_test, dec_tree_pred, average=None)\n",
    "    dec_tree_score_micro = f1_score(Y_test, dec_tree_pred, average='micro')\n",
    "    \n",
    "    return dec_tree_score, dec_tree_score_micro"
   ]
  },
  {
   "cell_type": "code",
   "execution_count": 48,
   "metadata": {},
   "outputs": [],
   "source": [
    "# ExtraTreeClassifier\n",
    "\n",
    "def function_ExtraTreeClassifier(X_train, Y_train, X_test, Y_test):\n",
    "    \n",
    "    # fit\n",
    "    ext_tree = ExtraTreeClassifier()\n",
    "    ext_tree = ext_tree.fit(X_train, Y_train)\n",
    "\n",
    "    # predict\n",
    "    ext_tree_pred = ext_tree.predict(X_test)\n",
    "    \n",
    "    # score\n",
    "    ext_tree_score = f1_score(Y_test, ext_tree_pred, average=None)\n",
    "    ext_tree_score_micro = f1_score(Y_test, ext_tree_pred, average='micro')\n",
    "    \n",
    "    return ext_tree_score, ext_tree_score_micro"
   ]
  },
  {
   "cell_type": "code",
   "execution_count": 49,
   "metadata": {},
   "outputs": [],
   "source": [
    "# RandomForestClassifier\n",
    "\n",
    "def function_RandomForestClassifier(X_train, Y_train, X_test, Y_test):\n",
    "    \n",
    "    # fit\n",
    "    ran_for = RandomForestClassifier()\n",
    "    ran_for = ran_for.fit(X_train, Y_train)\n",
    "\n",
    "    # predict\n",
    "    ran_for_pred = ran_for.predict(X_test)\n",
    "    \n",
    "    # score\n",
    "    ran_for_score = f1_score(Y_test, ran_for_pred, average=None)\n",
    "    ran_for_score_micro = f1_score(Y_test, ran_for_pred, average='micro')\n",
    "    \n",
    "    return ran_for_score, ran_for_score_micro"
   ]
  },
  {
   "cell_type": "code",
   "execution_count": 50,
   "metadata": {},
   "outputs": [
    {
     "data": {
      "text/plain": [
       "\"\\ndef function_LGBMClassifier(X_train, Y_train, X_test, Y_test):\\n    \\n    # fit\\n    lgbm = LGBMClassifier()\\n    lgbm = lgbm.fit(X_train, Y_train)\\n\\n    # predict\\n    lgbm_pred = lgbm.predict(X_test)\\n    \\n    # score\\n    lgbm_score = f1_score(Y_test, lgbm_pred, average=None)\\n    lgbm_score_micro = f1_score(Y_test, lgbm_pred, average='micro')\\n    \\n    return lgbm_score, lgbm_score_micro\\n\""
      ]
     },
     "execution_count": 50,
     "metadata": {},
     "output_type": "execute_result"
    }
   ],
   "source": [
    "# LGBMClassifier\n",
    "'''\n",
    "def function_LGBMClassifier(X_train, Y_train, X_test, Y_test):\n",
    "    \n",
    "    # fit\n",
    "    lgbm = LGBMClassifier()\n",
    "    lgbm = lgbm.fit(X_train, Y_train)\n",
    "\n",
    "    # predict\n",
    "    lgbm_pred = lgbm.predict(X_test)\n",
    "    \n",
    "    # score\n",
    "    lgbm_score = f1_score(Y_test, lgbm_pred, average=None)\n",
    "    lgbm_score_micro = f1_score(Y_test, lgbm_pred, average='micro')\n",
    "    \n",
    "    return lgbm_score, lgbm_score_micro\n",
    "'''"
   ]
  },
  {
   "cell_type": "code",
   "execution_count": 51,
   "metadata": {},
   "outputs": [],
   "source": [
    "# BernoulliNB\n",
    "\n",
    "def function_BernoulliNB(X_train, Y_train, X_test, Y_test):\n",
    "    \n",
    "    # fit\n",
    "    bernoulli = BernoulliNB()\n",
    "    bernoulli = bernoulli.fit(X_train, Y_train)\n",
    "\n",
    "    # predict\n",
    "    bernoulli_pred = bernoulli.predict(X_test)\n",
    "    \n",
    "    # score\n",
    "    bernoulli_score = f1_score(Y_test, bernoulli_pred, average=None)\n",
    "    bernoulli_score_micro = f1_score(Y_test, bernoulli_pred, average='micro')\n",
    "    \n",
    "    return bernoulli_score, bernoulli_score_micro"
   ]
  },
  {
   "cell_type": "code",
   "execution_count": 52,
   "metadata": {},
   "outputs": [],
   "source": [
    "# KNeighborsClassifier\n",
    "\n",
    "def function_KNeighborsClassifier(X_train, Y_train, X_test, Y_test):\n",
    "    \n",
    "    # fit\n",
    "    kn = KNeighborsClassifier()\n",
    "    kn = kn.fit(X_train, Y_train)\n",
    "\n",
    "    # predict\n",
    "    kn_pred = kn.predict(X_test)\n",
    "    \n",
    "    # score\n",
    "    kn_score = f1_score(Y_test, kn_pred, average=None)\n",
    "    kn_score_micro = f1_score(Y_test, kn_pred, average='micro')\n",
    "    \n",
    "    return kn_score, kn_score_micro"
   ]
  },
  {
   "cell_type": "code",
   "execution_count": 53,
   "metadata": {},
   "outputs": [],
   "source": [
    "# GaussianNB\n",
    "\n",
    "def function_GaussianNB(X_train, Y_train, X_test, Y_test):\n",
    "    \n",
    "    # fit\n",
    "    gaus = GaussianNB()\n",
    "    gaus = gaus.fit(X_train, Y_train)\n",
    "\n",
    "    # predict\n",
    "    gaus_pred = gaus.predict(X_test)\n",
    "    \n",
    "    # score\n",
    "    gaus_score = f1_score(Y_test, gaus_pred, average=None)\n",
    "    gaus_score_micro = f1_score(Y_test, gaus_pred, average='micro')\n",
    "    \n",
    "    return gaus_score, gaus_score_micro"
   ]
  },
  {
   "cell_type": "markdown",
   "metadata": {},
   "source": [
    "# Data"
   ]
  },
  {
   "cell_type": "code",
   "execution_count": 54,
   "metadata": {},
   "outputs": [],
   "source": [
    "df = pd.read_csv('data.csv')"
   ]
  },
  {
   "cell_type": "code",
   "execution_count": 55,
   "metadata": {},
   "outputs": [],
   "source": [
    "df = df.drop('Unnamed: 0',1)\n",
    "df = df.drop('Unnamed: 0.1',1)\n",
    "df = df.drop('Unnamed: 0.1.1',1)"
   ]
  },
  {
   "cell_type": "code",
   "execution_count": 56,
   "metadata": {},
   "outputs": [
    {
     "data": {
      "text/plain": [
       "Index(['DAY_OF_WEEK', 'DISTRICT', 'HOUR', 'Lat', 'Long', 'MONTH',\n",
       "       'OCCURRED_ON_DATE', 'OFFENSE_CODE_GROUP', 'REPORTING_AREA', 'SHOOTING',\n",
       "       'UCR_PART', 'YEAR', 'Day', 'Night', 'ToNight', 'ToDay', 'DAY',\n",
       "       'temperatureMin', 'temperatureMax', 'precipitation', 'snow',\n",
       "       'temperatureDifference', 'clust_50', 'clust_100', 'clust_200',\n",
       "       'Universities_colleges_distance_25',\n",
       "       'Universities_colleges_distance_min',\n",
       "       'Universities_colleges_number_near', 'Public_schools_distance_25',\n",
       "       'Public_schools_distance_min', 'Public_schools_number_near',\n",
       "       'Non-Public_schools_distance_25', 'Non-Public_schools_distance_min',\n",
       "       'Non-Public_schools_number_near'],\n",
       "      dtype='object')"
      ]
     },
     "execution_count": 56,
     "metadata": {},
     "output_type": "execute_result"
    }
   ],
   "source": [
    "df.columns"
   ]
  },
  {
   "cell_type": "code",
   "execution_count": 57,
   "metadata": {},
   "outputs": [
    {
     "data": {
      "text/plain": [
       "(265976, 34)"
      ]
     },
     "execution_count": 57,
     "metadata": {},
     "output_type": "execute_result"
    }
   ],
   "source": [
    "df = df.loc[(df.YEAR == 2013) | (df.YEAR == 2014) | (df.YEAR == 2015)]\n",
    "df.shape"
   ]
  },
  {
   "cell_type": "code",
   "execution_count": 58,
   "metadata": {},
   "outputs": [],
   "source": [
    "df = df[[\n",
    "    'DAY_OF_WEEK', \n",
    "    'DISTRICT', \n",
    "    'HOUR', \n",
    "    'Lat', \n",
    "    'Long', \n",
    "    'MONTH',\n",
    "    'REPORTING_AREA', \n",
    "    'Day', \n",
    "    'Night', \n",
    "    'ToNight', \n",
    "    'ToDay', \n",
    "    'temperatureMin', \n",
    "    'temperatureMax', \n",
    "    'precipitation', \n",
    "    'snow',\n",
    "    'temperatureDifference', \n",
    "    'clust_50', \n",
    "    'clust_100', \n",
    "    'clust_200',\n",
    "    'Universities_colleges_distance_25',\n",
    "    'Universities_colleges_distance_min',\n",
    "    'Universities_colleges_number_near', \n",
    "    'Public_schools_distance_25',\n",
    "    'Public_schools_distance_min', \n",
    "    'Public_schools_number_near',\n",
    "    'Non-Public_schools_distance_25', \n",
    "    'Non-Public_schools_distance_min',\n",
    "    'Non-Public_schools_number_near',\n",
    "    'OFFENSE_CODE_GROUP'\n",
    "]]"
   ]
  },
  {
   "cell_type": "code",
   "execution_count": 59,
   "metadata": {},
   "outputs": [
    {
     "data": {
      "text/plain": [
       "DAY_OF_WEEK                               0\n",
       "DISTRICT                                139\n",
       "HOUR                                      0\n",
       "Lat                                    2186\n",
       "Long                                   2186\n",
       "MONTH                                     0\n",
       "REPORTING_AREA                         1707\n",
       "Day                                       0\n",
       "Night                                     0\n",
       "ToNight                                   0\n",
       "ToDay                                     0\n",
       "temperatureMin                            0\n",
       "temperatureMax                            0\n",
       "precipitation                         35668\n",
       "snow                                  25391\n",
       "temperatureDifference                     0\n",
       "clust_50                                  0\n",
       "clust_100                                 0\n",
       "clust_200                                 0\n",
       "Universities_colleges_distance_25      2186\n",
       "Universities_colleges_distance_min     2186\n",
       "Universities_colleges_number_near         0\n",
       "Public_schools_distance_25             2186\n",
       "Public_schools_distance_min            2186\n",
       "Public_schools_number_near                0\n",
       "Non-Public_schools_distance_25         2186\n",
       "Non-Public_schools_distance_min        2186\n",
       "Non-Public_schools_number_near            0\n",
       "OFFENSE_CODE_GROUP                        0\n",
       "dtype: int64"
      ]
     },
     "execution_count": 59,
     "metadata": {},
     "output_type": "execute_result"
    }
   ],
   "source": [
    "df.isnull().sum()"
   ]
  },
  {
   "cell_type": "code",
   "execution_count": 60,
   "metadata": {},
   "outputs": [
    {
     "data": {
      "text/plain": [
       "Other                              40976\n",
       "Larceny                            25173\n",
       "Violations                         24527\n",
       "Medical Assistance                 17851\n",
       "Simple Assault                     17447\n",
       "Motor Vehicle Accident Response    17158\n",
       "Vandalism                          13641\n",
       "Investigate Person                 13466\n",
       "Drug Violation                     13254\n",
       "Larceny From Motor Vehicle         12237\n",
       "Property Lost                       8626\n",
       "Name: OFFENSE_CODE_GROUP, dtype: int64"
      ]
     },
     "execution_count": 60,
     "metadata": {},
     "output_type": "execute_result"
    }
   ],
   "source": [
    "df['OFFENSE_CODE_GROUP'].value_counts().head(11)"
   ]
  },
  {
   "cell_type": "code",
   "execution_count": 61,
   "metadata": {},
   "outputs": [],
   "source": [
    "list_offense_code_group = (\n",
    "    'Motor Vehicle Accident Response',\n",
    "    'Larceny',\n",
    "    'Medical Assistance',\n",
    "    'Simple Assault',\n",
    "    'Violations',\n",
    "    'Investigate Person',\n",
    "    'Vandalism',\n",
    "    'Drug Violation',\n",
    "    'Larceny From Motor Vehicle',\n",
    "    'Towed'\n",
    ")"
   ]
  },
  {
   "cell_type": "code",
   "execution_count": 62,
   "metadata": {},
   "outputs": [],
   "source": [
    "df_model = pd.DataFrame()"
   ]
  },
  {
   "cell_type": "code",
   "execution_count": 63,
   "metadata": {},
   "outputs": [],
   "source": [
    "i = 0\n",
    "\n",
    "while i < len(list_offense_code_group):\n",
    "\n",
    "    df_model= df_model.append(df.loc[df['OFFENSE_CODE_GROUP'] == list_offense_code_group[i]])\n",
    "    \n",
    "    i+=1"
   ]
  },
  {
   "cell_type": "code",
   "execution_count": 64,
   "metadata": {},
   "outputs": [
    {
     "data": {
      "text/plain": [
       "(265976, 29)"
      ]
     },
     "execution_count": 64,
     "metadata": {},
     "output_type": "execute_result"
    }
   ],
   "source": [
    "df.shape"
   ]
  },
  {
   "cell_type": "code",
   "execution_count": 65,
   "metadata": {},
   "outputs": [
    {
     "data": {
      "text/plain": [
       "(162643, 29)"
      ]
     },
     "execution_count": 65,
     "metadata": {},
     "output_type": "execute_result"
    }
   ],
   "source": [
    "df_model.shape"
   ]
  },
  {
   "cell_type": "code",
   "execution_count": 66,
   "metadata": {},
   "outputs": [
    {
     "data": {
      "text/plain": [
       "Index(['DAY_OF_WEEK', 'DISTRICT', 'HOUR', 'Lat', 'Long', 'MONTH',\n",
       "       'REPORTING_AREA', 'Day', 'Night', 'ToNight', 'ToDay', 'temperatureMin',\n",
       "       'temperatureMax', 'precipitation', 'snow', 'temperatureDifference',\n",
       "       'clust_50', 'clust_100', 'clust_200',\n",
       "       'Universities_colleges_distance_25',\n",
       "       'Universities_colleges_distance_min',\n",
       "       'Universities_colleges_number_near', 'Public_schools_distance_25',\n",
       "       'Public_schools_distance_min', 'Public_schools_number_near',\n",
       "       'Non-Public_schools_distance_25', 'Non-Public_schools_distance_min',\n",
       "       'Non-Public_schools_number_near', 'OFFENSE_CODE_GROUP'],\n",
       "      dtype='object')"
      ]
     },
     "execution_count": 66,
     "metadata": {},
     "output_type": "execute_result"
    }
   ],
   "source": [
    "df_model.columns"
   ]
  },
  {
   "cell_type": "code",
   "execution_count": 67,
   "metadata": {},
   "outputs": [
    {
     "data": {
      "text/plain": [
       "array([7, 5, 1, 2, 3, 4, 6])"
      ]
     },
     "execution_count": 67,
     "metadata": {},
     "output_type": "execute_result"
    }
   ],
   "source": [
    "# DAY_OF_WEEK\n",
    "\n",
    "df_model['DAY_OF_WEEK'] = df_model['DAY_OF_WEEK'].map({\n",
    "    'Tuesday':2, \n",
    "    'Saturday':6, \n",
    "    'Monday':1, \n",
    "    'Sunday':7, \n",
    "    'Thursday':4, \n",
    "    'Wednesday':3,\n",
    "    'Friday':5\n",
    "})\n",
    "\n",
    "df_model['DAY_OF_WEEK'].unique()"
   ]
  },
  {
   "cell_type": "code",
   "execution_count": 68,
   "metadata": {},
   "outputs": [],
   "source": [
    "df_model.fillna(0, inplace = True)"
   ]
  },
  {
   "cell_type": "code",
   "execution_count": 69,
   "metadata": {},
   "outputs": [
    {
     "data": {
      "text/plain": [
       "DAY_OF_WEEK                           0\n",
       "DISTRICT                              0\n",
       "HOUR                                  0\n",
       "Lat                                   0\n",
       "Long                                  0\n",
       "MONTH                                 0\n",
       "REPORTING_AREA                        0\n",
       "Day                                   0\n",
       "Night                                 0\n",
       "ToNight                               0\n",
       "ToDay                                 0\n",
       "temperatureMin                        0\n",
       "temperatureMax                        0\n",
       "precipitation                         0\n",
       "snow                                  0\n",
       "temperatureDifference                 0\n",
       "clust_50                              0\n",
       "clust_100                             0\n",
       "clust_200                             0\n",
       "Universities_colleges_distance_25     0\n",
       "Universities_colleges_distance_min    0\n",
       "Universities_colleges_number_near     0\n",
       "Public_schools_distance_25            0\n",
       "Public_schools_distance_min           0\n",
       "Public_schools_number_near            0\n",
       "Non-Public_schools_distance_25        0\n",
       "Non-Public_schools_distance_min       0\n",
       "Non-Public_schools_number_near        0\n",
       "OFFENSE_CODE_GROUP                    0\n",
       "dtype: int64"
      ]
     },
     "execution_count": 69,
     "metadata": {},
     "output_type": "execute_result"
    }
   ],
   "source": [
    "df_model.isnull().sum()"
   ]
  },
  {
   "cell_type": "code",
   "execution_count": 70,
   "metadata": {},
   "outputs": [],
   "source": [
    "y = df_model['OFFENSE_CODE_GROUP']"
   ]
  },
  {
   "cell_type": "code",
   "execution_count": 71,
   "metadata": {},
   "outputs": [
    {
     "data": {
      "text/plain": [
       "array(['Motor Vehicle Accident Response', 'Larceny', 'Medical Assistance',\n",
       "       'Simple Assault', 'Violations', 'Investigate Person', 'Vandalism',\n",
       "       'Drug Violation', 'Larceny From Motor Vehicle', 'Towed'],\n",
       "      dtype=object)"
      ]
     },
     "execution_count": 71,
     "metadata": {},
     "output_type": "execute_result"
    }
   ],
   "source": [
    "y.unique()"
   ]
  },
  {
   "cell_type": "code",
   "execution_count": 72,
   "metadata": {},
   "outputs": [],
   "source": [
    "y = y.map({\n",
    "    'Motor Vehicle Accident Response':1, \n",
    "    'Larceny':2, \n",
    "    'Medical Assistance':3,\n",
    "    'Simple Assault':4, \n",
    "    'Violations':5, \n",
    "    'Investigate Person':6, \n",
    "    'Vandalism':7,\n",
    "    'Drug Violation':8, \n",
    "    'Larceny From Motor Vehicle':9, \n",
    "    'Towed':10\n",
    "})"
   ]
  },
  {
   "cell_type": "code",
   "execution_count": 73,
   "metadata": {},
   "outputs": [],
   "source": [
    "x = df_model.drop('OFFENSE_CODE_GROUP', 1)"
   ]
  },
  {
   "cell_type": "code",
   "execution_count": 74,
   "metadata": {},
   "outputs": [
    {
     "data": {
      "text/plain": [
       "Index(['DAY_OF_WEEK', 'DISTRICT', 'HOUR', 'Lat', 'Long', 'MONTH',\n",
       "       'REPORTING_AREA', 'Day', 'Night', 'ToNight', 'ToDay', 'temperatureMin',\n",
       "       'temperatureMax', 'precipitation', 'snow', 'temperatureDifference',\n",
       "       'clust_50', 'clust_100', 'clust_200',\n",
       "       'Universities_colleges_distance_25',\n",
       "       'Universities_colleges_distance_min',\n",
       "       'Universities_colleges_number_near', 'Public_schools_distance_25',\n",
       "       'Public_schools_distance_min', 'Public_schools_number_near',\n",
       "       'Non-Public_schools_distance_25', 'Non-Public_schools_distance_min',\n",
       "       'Non-Public_schools_number_near'],\n",
       "      dtype='object')"
      ]
     },
     "execution_count": 74,
     "metadata": {},
     "output_type": "execute_result"
    }
   ],
   "source": [
    "x.columns"
   ]
  },
  {
   "cell_type": "markdown",
   "metadata": {},
   "source": [
    "# Split data"
   ]
  },
  {
   "cell_type": "code",
   "execution_count": 75,
   "metadata": {},
   "outputs": [
    {
     "name": "stdout",
     "output_type": "stream",
     "text": [
      "(146378, 28) (146378,)\n",
      "(16265, 28) (16265,)\n"
     ]
    }
   ],
   "source": [
    "# Split dataframe into random train and test subsets\n",
    "\n",
    "X_train, X_test, Y_train, Y_test = train_test_split(\n",
    "    x,\n",
    "    y, \n",
    "    test_size = 0.1,\n",
    "    random_state=42\n",
    ")\n",
    "\n",
    "print(X_train.shape, Y_train.shape)\n",
    "print(X_test.shape, Y_test.shape)"
   ]
  },
  {
   "cell_type": "markdown",
   "metadata": {},
   "source": [
    "# Modeling"
   ]
  },
  {
   "cell_type": "code",
   "execution_count": 76,
   "metadata": {},
   "outputs": [
    {
     "data": {
      "text/plain": [
       "(array([0.18864629, 0.34580384, 0.17254686, 0.16131781, 0.22259983,\n",
       "        0.11323585, 0.14822547, 0.44043321, 0.15943825, 0.23702755]),\n",
       " 0.22453120196741472)"
      ]
     },
     "execution_count": 76,
     "metadata": {},
     "output_type": "execute_result"
    }
   ],
   "source": [
    "function_DecisionTreeClassifier(X_train, Y_train, X_test, Y_test)"
   ]
  },
  {
   "cell_type": "code",
   "execution_count": 77,
   "metadata": {},
   "outputs": [
    {
     "data": {
      "text/plain": [
       "(array([0.19294666, 0.34715026, 0.17342342, 0.16775661, 0.22198597,\n",
       "        0.11747643, 0.13476703, 0.41843716, 0.16775777, 0.21948052]),\n",
       " 0.22330156778358437)"
      ]
     },
     "execution_count": 77,
     "metadata": {},
     "output_type": "execute_result"
    }
   ],
   "source": [
    "function_ExtraTreeClassifier(X_train, Y_train, X_test, Y_test)"
   ]
  },
  {
   "cell_type": "code",
   "execution_count": 78,
   "metadata": {},
   "outputs": [
    {
     "data": {
      "text/plain": [
       "(array([0.23347468, 0.40394259, 0.21044262, 0.1836969 , 0.26947862,\n",
       "        0.12104788, 0.14497669, 0.51774194, 0.19633118, 0.29147287]),\n",
       " 0.26904395942207193)"
      ]
     },
     "execution_count": 78,
     "metadata": {},
     "output_type": "execute_result"
    }
   ],
   "source": [
    "# 0.26904\n",
    "\n",
    "function_RandomForestClassifier(X_train, Y_train, X_test, Y_test)"
   ]
  },
  {
   "cell_type": "code",
   "execution_count": 79,
   "metadata": {},
   "outputs": [],
   "source": [
    "# function_LGBMClassifier(X_train, Y_train, X_test, Y_test)"
   ]
  },
  {
   "cell_type": "code",
   "execution_count": 80,
   "metadata": {},
   "outputs": [
    {
     "name": "stderr",
     "output_type": "stream",
     "text": [
      "/home/oleksandr/anaconda3/lib/python3.7/site-packages/sklearn/metrics/classification.py:1135: UndefinedMetricWarning: F-score is ill-defined and being set to 0.0 in labels with no predicted samples.\n",
      "  'precision', 'predicted', average, warn_for)\n"
     ]
    },
    {
     "data": {
      "text/plain": [
       "(array([0.04532891, 0.28833735, 0.        , 0.        , 0.09212198,\n",
       "        0.        , 0.20033204, 0.04279931, 0.        , 0.09805335]),\n",
       " 0.1652013525976022)"
      ]
     },
     "execution_count": 80,
     "metadata": {},
     "output_type": "execute_result"
    }
   ],
   "source": [
    "function_BernoulliNB(X_train, Y_train, X_test, Y_test)"
   ]
  },
  {
   "cell_type": "code",
   "execution_count": 81,
   "metadata": {},
   "outputs": [
    {
     "data": {
      "text/plain": [
       "(array([0.26831383, 0.41879369, 0.21058229, 0.18782502, 0.25222175,\n",
       "        0.10225141, 0.13733515, 0.47387906, 0.2009226 , 0.23765432]),\n",
       " 0.2700276667691362)"
      ]
     },
     "execution_count": 81,
     "metadata": {},
     "output_type": "execute_result"
    }
   ],
   "source": [
    "function_KNeighborsClassifier(X_train, Y_train, X_test, Y_test)"
   ]
  },
  {
   "cell_type": "code",
   "execution_count": 82,
   "metadata": {},
   "outputs": [
    {
     "name": "stderr",
     "output_type": "stream",
     "text": [
      "/home/oleksandr/anaconda3/lib/python3.7/site-packages/sklearn/metrics/classification.py:1135: UndefinedMetricWarning: F-score is ill-defined and being set to 0.0 in labels with no predicted samples.\n",
      "  'precision', 'predicted', average, warn_for)\n"
     ]
    },
    {
     "data": {
      "text/plain": [
       "(array([0.        , 0.26817501, 0.        , 0.        , 0.        ,\n",
       "        0.        , 0.        , 0.        , 0.        , 0.09611587]),\n",
       " 0.15315093759606518)"
      ]
     },
     "execution_count": 82,
     "metadata": {},
     "output_type": "execute_result"
    }
   ],
   "source": [
    "function_GaussianNB(X_train, Y_train, X_test, Y_test)"
   ]
  },
  {
   "cell_type": "code",
   "execution_count": null,
   "metadata": {},
   "outputs": [],
   "source": []
  }
 ],
 "metadata": {
  "kernelspec": {
   "display_name": "Python 3",
   "language": "python",
   "name": "python3"
  },
  "language_info": {
   "codemirror_mode": {
    "name": "ipython",
    "version": 3
   },
   "file_extension": ".py",
   "mimetype": "text/x-python",
   "name": "python",
   "nbconvert_exporter": "python",
   "pygments_lexer": "ipython3",
   "version": "3.7.0"
  }
 },
 "nbformat": 4,
 "nbformat_minor": 2
}
