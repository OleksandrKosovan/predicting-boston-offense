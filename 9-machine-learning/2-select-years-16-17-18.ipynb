{
 "cells": [
  {
   "cell_type": "markdown",
   "metadata": {},
   "source": [
    "# Import"
   ]
  },
  {
   "cell_type": "code",
   "execution_count": 1,
   "metadata": {},
   "outputs": [],
   "source": [
    "import numpy as np\n",
    "import pandas as pd"
   ]
  },
  {
   "cell_type": "code",
   "execution_count": 2,
   "metadata": {},
   "outputs": [
    {
     "name": "stderr",
     "output_type": "stream",
     "text": [
      "/home/oleksandr/anaconda3/lib/python3.7/site-packages/sklearn/ensemble/weight_boosting.py:29: DeprecationWarning: numpy.core.umath_tests is an internal NumPy module and should not be imported. It will be removed in a future NumPy release.\n",
      "  from numpy.core.umath_tests import inner1d\n"
     ]
    }
   ],
   "source": [
    "from sklearn.tree import DecisionTreeClassifier\n",
    "from sklearn.tree import ExtraTreeClassifier\n",
    "from sklearn.ensemble import RandomForestClassifier\n",
    "\n",
    "from sklearn.naive_bayes import BernoulliNB\n",
    "from sklearn.neighbors import KNeighborsClassifier\n",
    "from sklearn.naive_bayes import GaussianNB"
   ]
  },
  {
   "cell_type": "code",
   "execution_count": 3,
   "metadata": {},
   "outputs": [],
   "source": [
    "#from lightgbm import LGBMClassifier\n",
    "#import xgboost as xgb"
   ]
  },
  {
   "cell_type": "code",
   "execution_count": 4,
   "metadata": {},
   "outputs": [
    {
     "name": "stderr",
     "output_type": "stream",
     "text": [
      "/home/oleksandr/anaconda3/lib/python3.7/site-packages/sklearn/cross_validation.py:41: DeprecationWarning: This module was deprecated in version 0.18 in favor of the model_selection module into which all the refactored classes and functions are moved. Also note that the interface of the new CV iterators are different from that of this module. This module will be removed in 0.20.\n",
      "  \"This module will be removed in 0.20.\", DeprecationWarning)\n"
     ]
    }
   ],
   "source": [
    "from sklearn.cross_validation import train_test_split"
   ]
  },
  {
   "cell_type": "code",
   "execution_count": 5,
   "metadata": {},
   "outputs": [],
   "source": [
    "from sklearn.metrics import f1_score"
   ]
  },
  {
   "cell_type": "markdown",
   "metadata": {},
   "source": [
    "# Functions"
   ]
  },
  {
   "cell_type": "code",
   "execution_count": 6,
   "metadata": {},
   "outputs": [],
   "source": [
    "# DecisionTreeClassifier\n",
    "\n",
    "def function_DecisionTreeClassifier(X_train, Y_train, X_test, Y_test):\n",
    "    \n",
    "    # fit\n",
    "    dec_tree = DecisionTreeClassifier()\n",
    "    dec_tree = dec_tree.fit(X_train, Y_train)\n",
    "\n",
    "    # predict\n",
    "    dec_tree_pred = dec_tree.predict(X_test)\n",
    "    \n",
    "    # score\n",
    "    dec_tree_score = f1_score(Y_test, dec_tree_pred, average=None)\n",
    "    dec_tree_score_micro = f1_score(Y_test, dec_tree_pred, average='micro')\n",
    "    \n",
    "    return dec_tree_score, dec_tree_score_micro"
   ]
  },
  {
   "cell_type": "code",
   "execution_count": 7,
   "metadata": {},
   "outputs": [],
   "source": [
    "# ExtraTreeClassifier\n",
    "\n",
    "def function_ExtraTreeClassifier(X_train, Y_train, X_test, Y_test):\n",
    "    \n",
    "    # fit\n",
    "    ext_tree = ExtraTreeClassifier()\n",
    "    ext_tree = ext_tree.fit(X_train, Y_train)\n",
    "\n",
    "    # predict\n",
    "    ext_tree_pred = ext_tree.predict(X_test)\n",
    "    \n",
    "    # score\n",
    "    ext_tree_score = f1_score(Y_test, ext_tree_pred, average=None)\n",
    "    ext_tree_score_micro = f1_score(Y_test, ext_tree_pred, average='micro')\n",
    "    \n",
    "    return ext_tree_score, ext_tree_score_micro"
   ]
  },
  {
   "cell_type": "code",
   "execution_count": 8,
   "metadata": {},
   "outputs": [],
   "source": [
    "# RandomForestClassifier\n",
    "\n",
    "def function_RandomForestClassifier(X_train, Y_train, X_test, Y_test):\n",
    "    \n",
    "    # fit\n",
    "    ran_for = RandomForestClassifier()\n",
    "    ran_for = ran_for.fit(X_train, Y_train)\n",
    "\n",
    "    # predict\n",
    "    ran_for_pred = ran_for.predict(X_test)\n",
    "    \n",
    "    # score\n",
    "    ran_for_score = f1_score(Y_test, ran_for_pred, average=None)\n",
    "    ran_for_score_micro = f1_score(Y_test, ran_for_pred, average='micro')\n",
    "    \n",
    "    return ran_for_score, ran_for_score_micro"
   ]
  },
  {
   "cell_type": "code",
   "execution_count": 9,
   "metadata": {},
   "outputs": [
    {
     "data": {
      "text/plain": [
       "\"\\ndef function_LGBMClassifier(X_train, Y_train, X_test, Y_test):\\n    \\n    # fit\\n    lgbm = LGBMClassifier()\\n    lgbm = lgbm.fit(X_train, Y_train)\\n\\n    # predict\\n    lgbm_pred = lgbm.predict(X_test)\\n    \\n    # score\\n    lgbm_score = f1_score(Y_test, lgbm_pred, average=None)\\n    lgbm_score_micro = f1_score(Y_test, lgbm_pred, average='micro')\\n    \\n    return lgbm_score, lgbm_score_micro\\n\""
      ]
     },
     "execution_count": 9,
     "metadata": {},
     "output_type": "execute_result"
    }
   ],
   "source": [
    "# LGBMClassifier\n",
    "'''\n",
    "def function_LGBMClassifier(X_train, Y_train, X_test, Y_test):\n",
    "    \n",
    "    # fit\n",
    "    lgbm = LGBMClassifier()\n",
    "    lgbm = lgbm.fit(X_train, Y_train)\n",
    "\n",
    "    # predict\n",
    "    lgbm_pred = lgbm.predict(X_test)\n",
    "    \n",
    "    # score\n",
    "    lgbm_score = f1_score(Y_test, lgbm_pred, average=None)\n",
    "    lgbm_score_micro = f1_score(Y_test, lgbm_pred, average='micro')\n",
    "    \n",
    "    return lgbm_score, lgbm_score_micro\n",
    "'''"
   ]
  },
  {
   "cell_type": "code",
   "execution_count": 10,
   "metadata": {},
   "outputs": [],
   "source": [
    "# BernoulliNB\n",
    "\n",
    "def function_BernoulliNB(X_train, Y_train, X_test, Y_test):\n",
    "    \n",
    "    # fit\n",
    "    bernoulli = BernoulliNB()\n",
    "    bernoulli = bernoulli.fit(X_train, Y_train)\n",
    "\n",
    "    # predict\n",
    "    bernoulli_pred = bernoulli.predict(X_test)\n",
    "    \n",
    "    # score\n",
    "    bernoulli_score = f1_score(Y_test, bernoulli_pred, average=None)\n",
    "    bernoulli_score_micro = f1_score(Y_test, bernoulli_pred, average='micro')\n",
    "    \n",
    "    return bernoulli_score, bernoulli_score_micro"
   ]
  },
  {
   "cell_type": "code",
   "execution_count": 11,
   "metadata": {},
   "outputs": [],
   "source": [
    "# KNeighborsClassifier\n",
    "\n",
    "def function_KNeighborsClassifier(X_train, Y_train, X_test, Y_test):\n",
    "    \n",
    "    # fit\n",
    "    kn = KNeighborsClassifier()\n",
    "    kn = kn.fit(X_train, Y_train)\n",
    "\n",
    "    # predict\n",
    "    kn_pred = kn.predict(X_test)\n",
    "    \n",
    "    # score\n",
    "    kn_score = f1_score(Y_test, kn_pred, average=None)\n",
    "    kn_score_micro = f1_score(Y_test, kn_pred, average='micro')\n",
    "    \n",
    "    return kn_score, kn_score_micro"
   ]
  },
  {
   "cell_type": "code",
   "execution_count": 12,
   "metadata": {},
   "outputs": [],
   "source": [
    "# GaussianNB\n",
    "\n",
    "def function_GaussianNB(X_train, Y_train, X_test, Y_test):\n",
    "    \n",
    "    # fit\n",
    "    gaus = GaussianNB()\n",
    "    gaus = gaus.fit(X_train, Y_train)\n",
    "\n",
    "    # predict\n",
    "    gaus_pred = gaus.predict(X_test)\n",
    "    \n",
    "    # score\n",
    "    gaus_score = f1_score(Y_test, gaus_pred, average=None)\n",
    "    gaus_score_micro = f1_score(Y_test, gaus_pred, average='micro')\n",
    "    \n",
    "    return gaus_score, gaus_score_micro"
   ]
  },
  {
   "cell_type": "markdown",
   "metadata": {},
   "source": [
    "# Data"
   ]
  },
  {
   "cell_type": "code",
   "execution_count": 13,
   "metadata": {},
   "outputs": [],
   "source": [
    "df = pd.read_csv('data.csv')"
   ]
  },
  {
   "cell_type": "code",
   "execution_count": 14,
   "metadata": {},
   "outputs": [],
   "source": [
    "df = df.drop('Unnamed: 0',1)\n",
    "df = df.drop('Unnamed: 0.1',1)\n",
    "df = df.drop('Unnamed: 0.1.1',1)"
   ]
  },
  {
   "cell_type": "code",
   "execution_count": 15,
   "metadata": {},
   "outputs": [
    {
     "data": {
      "text/plain": [
       "Index(['DAY_OF_WEEK', 'DISTRICT', 'HOUR', 'Lat', 'Long', 'MONTH',\n",
       "       'OCCURRED_ON_DATE', 'OFFENSE_CODE_GROUP', 'REPORTING_AREA', 'SHOOTING',\n",
       "       'UCR_PART', 'YEAR', 'Day', 'Night', 'ToNight', 'ToDay', 'DAY',\n",
       "       'temperatureMin', 'temperatureMax', 'precipitation', 'snow',\n",
       "       'temperatureDifference', 'clust_50', 'clust_100', 'clust_200',\n",
       "       'Universities_colleges_distance_25',\n",
       "       'Universities_colleges_distance_min',\n",
       "       'Universities_colleges_number_near', 'Public_schools_distance_25',\n",
       "       'Public_schools_distance_min', 'Public_schools_number_near',\n",
       "       'Non-Public_schools_distance_25', 'Non-Public_schools_distance_min',\n",
       "       'Non-Public_schools_number_near'],\n",
       "      dtype='object')"
      ]
     },
     "execution_count": 15,
     "metadata": {},
     "output_type": "execute_result"
    }
   ],
   "source": [
    "df.columns"
   ]
  },
  {
   "cell_type": "code",
   "execution_count": 16,
   "metadata": {},
   "outputs": [
    {
     "data": {
      "text/plain": [
       "(266064, 34)"
      ]
     },
     "execution_count": 16,
     "metadata": {},
     "output_type": "execute_result"
    }
   ],
   "source": [
    "df = df.loc[(df.YEAR == 2016) | (df.YEAR == 2017) | (df.YEAR == 2018)]\n",
    "df.shape"
   ]
  },
  {
   "cell_type": "code",
   "execution_count": 17,
   "metadata": {},
   "outputs": [],
   "source": [
    "df = df[[\n",
    "    'DAY_OF_WEEK', \n",
    "    'DISTRICT', \n",
    "    'HOUR', \n",
    "    'Lat', \n",
    "    'Long', \n",
    "    'MONTH',\n",
    "    'REPORTING_AREA', \n",
    "    'Day', \n",
    "    'Night', \n",
    "    'ToNight', \n",
    "    'ToDay', \n",
    "    'temperatureMin', \n",
    "    'temperatureMax', \n",
    "    'precipitation', \n",
    "    'snow',\n",
    "    'temperatureDifference', \n",
    "    'clust_50', \n",
    "    'clust_100', \n",
    "    'clust_200',\n",
    "    'Universities_colleges_distance_25',\n",
    "    'Universities_colleges_distance_min',\n",
    "    'Universities_colleges_number_near', \n",
    "    'Public_schools_distance_25',\n",
    "    'Public_schools_distance_min', \n",
    "    'Public_schools_number_near',\n",
    "    'Non-Public_schools_distance_25', \n",
    "    'Non-Public_schools_distance_min',\n",
    "    'Non-Public_schools_number_near',\n",
    "    'OFFENSE_CODE_GROUP'\n",
    "]]"
   ]
  },
  {
   "cell_type": "code",
   "execution_count": 18,
   "metadata": {},
   "outputs": [
    {
     "data": {
      "text/plain": [
       "DAY_OF_WEEK                               0\n",
       "DISTRICT                               1637\n",
       "HOUR                                      0\n",
       "Lat                                   17834\n",
       "Long                                  17834\n",
       "MONTH                                     0\n",
       "REPORTING_AREA                        18558\n",
       "Day                                       0\n",
       "Night                                     0\n",
       "ToNight                                   0\n",
       "ToDay                                     0\n",
       "temperatureMin                            0\n",
       "temperatureMax                            0\n",
       "precipitation                         29887\n",
       "snow                                  25032\n",
       "temperatureDifference                     0\n",
       "clust_50                                  0\n",
       "clust_100                                 0\n",
       "clust_200                                 0\n",
       "Universities_colleges_distance_25     17834\n",
       "Universities_colleges_distance_min    17834\n",
       "Universities_colleges_number_near         0\n",
       "Public_schools_distance_25            17834\n",
       "Public_schools_distance_min           17834\n",
       "Public_schools_number_near                0\n",
       "Non-Public_schools_distance_25        17834\n",
       "Non-Public_schools_distance_min       17834\n",
       "Non-Public_schools_number_near            0\n",
       "OFFENSE_CODE_GROUP                        0\n",
       "dtype: int64"
      ]
     },
     "execution_count": 18,
     "metadata": {},
     "output_type": "execute_result"
    }
   ],
   "source": [
    "df.isnull().sum()"
   ]
  },
  {
   "cell_type": "code",
   "execution_count": 19,
   "metadata": {},
   "outputs": [
    {
     "data": {
      "text/plain": [
       "Other                              47372\n",
       "Motor Vehicle Accident Response    31307\n",
       "Larceny                            20950\n",
       "Medical Assistance                 20411\n",
       "Investigate Person                 16245\n",
       "Drug Violation                     13279\n",
       "Simple Assault                     13225\n",
       "Vandalism                          12723\n",
       "Verbal Disputes                    11591\n",
       "Investigate Property                9868\n",
       "Towed                               9731\n",
       "Name: OFFENSE_CODE_GROUP, dtype: int64"
      ]
     },
     "execution_count": 19,
     "metadata": {},
     "output_type": "execute_result"
    }
   ],
   "source": [
    "df['OFFENSE_CODE_GROUP'].value_counts().head(11)"
   ]
  },
  {
   "cell_type": "code",
   "execution_count": 20,
   "metadata": {},
   "outputs": [],
   "source": [
    "list_offense_code_group = (\n",
    "    'Motor Vehicle Accident Response',\n",
    "    'Larceny',\n",
    "    'Medical Assistance',\n",
    "    'Simple Assault',\n",
    "    'Violations',\n",
    "    'Investigate Person',\n",
    "    'Vandalism',\n",
    "    'Drug Violation',\n",
    "    'Larceny From Motor Vehicle',\n",
    "    'Towed'\n",
    ")"
   ]
  },
  {
   "cell_type": "code",
   "execution_count": 21,
   "metadata": {},
   "outputs": [],
   "source": [
    "df_model = pd.DataFrame()"
   ]
  },
  {
   "cell_type": "code",
   "execution_count": 22,
   "metadata": {},
   "outputs": [],
   "source": [
    "i = 0\n",
    "\n",
    "while i < len(list_offense_code_group):\n",
    "\n",
    "    df_model= df_model.append(df.loc[df['OFFENSE_CODE_GROUP'] == list_offense_code_group[i]])\n",
    "    \n",
    "    i+=1"
   ]
  },
  {
   "cell_type": "code",
   "execution_count": 23,
   "metadata": {},
   "outputs": [
    {
     "data": {
      "text/plain": [
       "(266064, 29)"
      ]
     },
     "execution_count": 23,
     "metadata": {},
     "output_type": "execute_result"
    }
   ],
   "source": [
    "df.shape"
   ]
  },
  {
   "cell_type": "code",
   "execution_count": 24,
   "metadata": {},
   "outputs": [
    {
     "data": {
      "text/plain": [
       "(151351, 29)"
      ]
     },
     "execution_count": 24,
     "metadata": {},
     "output_type": "execute_result"
    }
   ],
   "source": [
    "df_model.shape"
   ]
  },
  {
   "cell_type": "code",
   "execution_count": 25,
   "metadata": {},
   "outputs": [
    {
     "data": {
      "text/plain": [
       "Index(['DAY_OF_WEEK', 'DISTRICT', 'HOUR', 'Lat', 'Long', 'MONTH',\n",
       "       'REPORTING_AREA', 'Day', 'Night', 'ToNight', 'ToDay', 'temperatureMin',\n",
       "       'temperatureMax', 'precipitation', 'snow', 'temperatureDifference',\n",
       "       'clust_50', 'clust_100', 'clust_200',\n",
       "       'Universities_colleges_distance_25',\n",
       "       'Universities_colleges_distance_min',\n",
       "       'Universities_colleges_number_near', 'Public_schools_distance_25',\n",
       "       'Public_schools_distance_min', 'Public_schools_number_near',\n",
       "       'Non-Public_schools_distance_25', 'Non-Public_schools_distance_min',\n",
       "       'Non-Public_schools_number_near', 'OFFENSE_CODE_GROUP'],\n",
       "      dtype='object')"
      ]
     },
     "execution_count": 25,
     "metadata": {},
     "output_type": "execute_result"
    }
   ],
   "source": [
    "df_model.columns"
   ]
  },
  {
   "cell_type": "code",
   "execution_count": 26,
   "metadata": {},
   "outputs": [
    {
     "data": {
      "text/plain": [
       "array([1, 5, 7, 6, 4, 3, 2])"
      ]
     },
     "execution_count": 26,
     "metadata": {},
     "output_type": "execute_result"
    }
   ],
   "source": [
    "# DAY_OF_WEEK\n",
    "\n",
    "df_model['DAY_OF_WEEK'] = df_model['DAY_OF_WEEK'].map({\n",
    "    'Tuesday':2, \n",
    "    'Saturday':6, \n",
    "    'Monday':1, \n",
    "    'Sunday':7, \n",
    "    'Thursday':4, \n",
    "    'Wednesday':3,\n",
    "    'Friday':5\n",
    "})\n",
    "\n",
    "df_model['DAY_OF_WEEK'].unique()"
   ]
  },
  {
   "cell_type": "code",
   "execution_count": 27,
   "metadata": {},
   "outputs": [],
   "source": [
    "df_model.fillna(0, inplace = True)"
   ]
  },
  {
   "cell_type": "code",
   "execution_count": 28,
   "metadata": {},
   "outputs": [
    {
     "data": {
      "text/plain": [
       "DAY_OF_WEEK                           0\n",
       "DISTRICT                              0\n",
       "HOUR                                  0\n",
       "Lat                                   0\n",
       "Long                                  0\n",
       "MONTH                                 0\n",
       "REPORTING_AREA                        0\n",
       "Day                                   0\n",
       "Night                                 0\n",
       "ToNight                               0\n",
       "ToDay                                 0\n",
       "temperatureMin                        0\n",
       "temperatureMax                        0\n",
       "precipitation                         0\n",
       "snow                                  0\n",
       "temperatureDifference                 0\n",
       "clust_50                              0\n",
       "clust_100                             0\n",
       "clust_200                             0\n",
       "Universities_colleges_distance_25     0\n",
       "Universities_colleges_distance_min    0\n",
       "Universities_colleges_number_near     0\n",
       "Public_schools_distance_25            0\n",
       "Public_schools_distance_min           0\n",
       "Public_schools_number_near            0\n",
       "Non-Public_schools_distance_25        0\n",
       "Non-Public_schools_distance_min       0\n",
       "Non-Public_schools_number_near        0\n",
       "OFFENSE_CODE_GROUP                    0\n",
       "dtype: int64"
      ]
     },
     "execution_count": 28,
     "metadata": {},
     "output_type": "execute_result"
    }
   ],
   "source": [
    "df_model.isnull().sum()"
   ]
  },
  {
   "cell_type": "code",
   "execution_count": 29,
   "metadata": {},
   "outputs": [],
   "source": [
    "y = df_model['OFFENSE_CODE_GROUP']"
   ]
  },
  {
   "cell_type": "code",
   "execution_count": 30,
   "metadata": {},
   "outputs": [
    {
     "data": {
      "text/plain": [
       "array(['Motor Vehicle Accident Response', 'Larceny', 'Medical Assistance',\n",
       "       'Simple Assault', 'Violations', 'Investigate Person', 'Vandalism',\n",
       "       'Drug Violation', 'Larceny From Motor Vehicle', 'Towed'],\n",
       "      dtype=object)"
      ]
     },
     "execution_count": 30,
     "metadata": {},
     "output_type": "execute_result"
    }
   ],
   "source": [
    "y.unique()"
   ]
  },
  {
   "cell_type": "code",
   "execution_count": 31,
   "metadata": {},
   "outputs": [],
   "source": [
    "y = y.map({\n",
    "    'Motor Vehicle Accident Response':1, \n",
    "    'Larceny':2, \n",
    "    'Medical Assistance':3,\n",
    "    'Simple Assault':4, \n",
    "    'Violations':5, \n",
    "    'Investigate Person':6, \n",
    "    'Vandalism':7,\n",
    "    'Drug Violation':8, \n",
    "    'Larceny From Motor Vehicle':9, \n",
    "    'Towed':10\n",
    "})"
   ]
  },
  {
   "cell_type": "code",
   "execution_count": 32,
   "metadata": {},
   "outputs": [],
   "source": [
    "x = df_model.drop('OFFENSE_CODE_GROUP', 1)"
   ]
  },
  {
   "cell_type": "code",
   "execution_count": 33,
   "metadata": {},
   "outputs": [
    {
     "data": {
      "text/plain": [
       "Index(['DAY_OF_WEEK', 'DISTRICT', 'HOUR', 'Lat', 'Long', 'MONTH',\n",
       "       'REPORTING_AREA', 'Day', 'Night', 'ToNight', 'ToDay', 'temperatureMin',\n",
       "       'temperatureMax', 'precipitation', 'snow', 'temperatureDifference',\n",
       "       'clust_50', 'clust_100', 'clust_200',\n",
       "       'Universities_colleges_distance_25',\n",
       "       'Universities_colleges_distance_min',\n",
       "       'Universities_colleges_number_near', 'Public_schools_distance_25',\n",
       "       'Public_schools_distance_min', 'Public_schools_number_near',\n",
       "       'Non-Public_schools_distance_25', 'Non-Public_schools_distance_min',\n",
       "       'Non-Public_schools_number_near'],\n",
       "      dtype='object')"
      ]
     },
     "execution_count": 33,
     "metadata": {},
     "output_type": "execute_result"
    }
   ],
   "source": [
    "x.columns"
   ]
  },
  {
   "cell_type": "markdown",
   "metadata": {},
   "source": [
    "# Split data"
   ]
  },
  {
   "cell_type": "code",
   "execution_count": 34,
   "metadata": {},
   "outputs": [
    {
     "name": "stdout",
     "output_type": "stream",
     "text": [
      "(136215, 28) (136215,)\n",
      "(15136, 28) (15136,)\n"
     ]
    }
   ],
   "source": [
    "# Split dataframe into random train and test subsets\n",
    "\n",
    "X_train, X_test, Y_train, Y_test = train_test_split(\n",
    "    x,\n",
    "    y, \n",
    "    test_size = 0.1,\n",
    "    random_state=42\n",
    ")\n",
    "\n",
    "print(X_train.shape, Y_train.shape)\n",
    "print(X_test.shape, Y_test.shape)"
   ]
  },
  {
   "cell_type": "markdown",
   "metadata": {},
   "source": [
    "# Modeling"
   ]
  },
  {
   "cell_type": "code",
   "execution_count": 35,
   "metadata": {},
   "outputs": [
    {
     "data": {
      "text/plain": [
       "(array([0.31368598, 0.34117647, 0.20737441, 0.14317673, 0.15754083,\n",
       "        0.16260658, 0.11709965, 0.50216138, 0.11460674, 0.27070064]),\n",
       " 0.2526427061310782)"
      ]
     },
     "execution_count": 35,
     "metadata": {},
     "output_type": "execute_result"
    }
   ],
   "source": [
    "function_DecisionTreeClassifier(X_train, Y_train, X_test, Y_test)"
   ]
  },
  {
   "cell_type": "code",
   "execution_count": 36,
   "metadata": {},
   "outputs": [
    {
     "data": {
      "text/plain": [
       "(array([0.32453209, 0.33269962, 0.2229315 , 0.133829  , 0.17309698,\n",
       "        0.16561277, 0.11709234, 0.49647391, 0.11220359, 0.25531915]),\n",
       " 0.25495507399577166)"
      ]
     },
     "execution_count": 36,
     "metadata": {},
     "output_type": "execute_result"
    }
   ],
   "source": [
    "function_ExtraTreeClassifier(X_train, Y_train, X_test, Y_test)"
   ]
  },
  {
   "cell_type": "code",
   "execution_count": 37,
   "metadata": {},
   "outputs": [
    {
     "data": {
      "text/plain": [
       "(array([0.40057262, 0.39321267, 0.25023518, 0.13552189, 0.16879795,\n",
       "        0.16284639, 0.10056391, 0.56739213, 0.12582297, 0.34514817]),\n",
       " 0.3064217758985201)"
      ]
     },
     "execution_count": 37,
     "metadata": {},
     "output_type": "execute_result"
    }
   ],
   "source": [
    "# 0.3064\n",
    "\n",
    "function_RandomForestClassifier(X_train, Y_train, X_test, Y_test)"
   ]
  },
  {
   "cell_type": "code",
   "execution_count": 38,
   "metadata": {},
   "outputs": [],
   "source": [
    "# function_LGBMClassifier(X_train, Y_train, X_test, Y_test)"
   ]
  },
  {
   "cell_type": "code",
   "execution_count": 39,
   "metadata": {},
   "outputs": [
    {
     "name": "stderr",
     "output_type": "stream",
     "text": [
      "/home/oleksandr/anaconda3/lib/python3.7/site-packages/sklearn/metrics/classification.py:1135: UndefinedMetricWarning: F-score is ill-defined and being set to 0.0 in labels with no predicted samples.\n",
      "  'precision', 'predicted', average, warn_for)\n"
     ]
    },
    {
     "data": {
      "text/plain": [
       "(array([0.2713797 , 0.26499596, 0.        , 0.00290698, 0.        ,\n",
       "        0.        , 0.17189804, 0.        , 0.00224467, 0.        ]),\n",
       " 0.17474894291754756)"
      ]
     },
     "execution_count": 39,
     "metadata": {},
     "output_type": "execute_result"
    }
   ],
   "source": [
    "function_BernoulliNB(X_train, Y_train, X_test, Y_test)"
   ]
  },
  {
   "cell_type": "code",
   "execution_count": 40,
   "metadata": {},
   "outputs": [
    {
     "data": {
      "text/plain": [
       "(array([0.4181751 , 0.41414572, 0.25916988, 0.14732143, 0.06657019,\n",
       "        0.17159337, 0.11138492, 0.40515933, 0.10777521, 0.28953771]),\n",
       " 0.3031183932346723)"
      ]
     },
     "execution_count": 40,
     "metadata": {},
     "output_type": "execute_result"
    }
   ],
   "source": [
    "function_KNeighborsClassifier(X_train, Y_train, X_test, Y_test)"
   ]
  },
  {
   "cell_type": "code",
   "execution_count": 41,
   "metadata": {},
   "outputs": [
    {
     "name": "stderr",
     "output_type": "stream",
     "text": [
      "/home/oleksandr/anaconda3/lib/python3.7/site-packages/sklearn/metrics/classification.py:1135: UndefinedMetricWarning: F-score is ill-defined and being set to 0.0 in labels with no predicted samples.\n",
      "  'precision', 'predicted', average, warn_for)\n"
     ]
    },
    {
     "data": {
      "text/plain": [
       "(array([0.25315273, 0.18952062, 0.25146733, 0.        , 0.        ,\n",
       "        0.        , 0.        , 0.00589971, 0.        , 0.        ]),\n",
       " 0.18029862579281183)"
      ]
     },
     "execution_count": 41,
     "metadata": {},
     "output_type": "execute_result"
    }
   ],
   "source": [
    "function_GaussianNB(X_train, Y_train, X_test, Y_test)"
   ]
  },
  {
   "cell_type": "code",
   "execution_count": null,
   "metadata": {},
   "outputs": [],
   "source": []
  }
 ],
 "metadata": {
  "kernelspec": {
   "display_name": "Python 3",
   "language": "python",
   "name": "python3"
  },
  "language_info": {
   "codemirror_mode": {
    "name": "ipython",
    "version": 3
   },
   "file_extension": ".py",
   "mimetype": "text/x-python",
   "name": "python",
   "nbconvert_exporter": "python",
   "pygments_lexer": "ipython3",
   "version": "3.7.0"
  }
 },
 "nbformat": 4,
 "nbformat_minor": 2
}
