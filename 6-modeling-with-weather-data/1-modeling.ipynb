{
 "cells": [
  {
   "cell_type": "markdown",
   "metadata": {},
   "source": [
    "# 1. Import"
   ]
  },
  {
   "cell_type": "code",
   "execution_count": 1,
   "metadata": {},
   "outputs": [],
   "source": [
    "import pandas as pd\n",
    "import numpy as np"
   ]
  },
  {
   "cell_type": "code",
   "execution_count": 2,
   "metadata": {},
   "outputs": [],
   "source": [
    "from sklearn.tree import DecisionTreeClassifier\n",
    "from sklearn.tree import ExtraTreeClassifier\n",
    "from sklearn.ensemble import RandomForestClassifier\n",
    "\n",
    "from lightgbm import LGBMClassifier\n",
    "\n",
    "from sklearn.naive_bayes import BernoulliNB\n",
    "from sklearn.neighbors import KNeighborsClassifier\n",
    "from sklearn.naive_bayes import GaussianNB"
   ]
  },
  {
   "cell_type": "code",
   "execution_count": 3,
   "metadata": {},
   "outputs": [
    {
     "name": "stderr",
     "output_type": "stream",
     "text": [
      "/home/olexandr/anaconda3/lib/python3.6/site-packages/sklearn/cross_validation.py:41: DeprecationWarning: This module was deprecated in version 0.18 in favor of the model_selection module into which all the refactored classes and functions are moved. Also note that the interface of the new CV iterators are different from that of this module. This module will be removed in 0.20.\n",
      "  \"This module will be removed in 0.20.\", DeprecationWarning)\n"
     ]
    }
   ],
   "source": [
    "from sklearn.cross_validation import train_test_split"
   ]
  },
  {
   "cell_type": "code",
   "execution_count": 4,
   "metadata": {},
   "outputs": [],
   "source": [
    "from sklearn.metrics import f1_score"
   ]
  },
  {
   "cell_type": "markdown",
   "metadata": {},
   "source": [
    "# 2. Functions"
   ]
  },
  {
   "cell_type": "code",
   "execution_count": 5,
   "metadata": {},
   "outputs": [],
   "source": [
    "# DecisionTreeClassifier\n",
    "\n",
    "def function_DecisionTreeClassifier(X_train, Y_train, X_test, Y_test):\n",
    "    \n",
    "    # fit\n",
    "    dec_tree = DecisionTreeClassifier()\n",
    "    dec_tree = dec_tree.fit(X_train, Y_train)\n",
    "\n",
    "    # predict\n",
    "    dec_tree_pred = dec_tree.predict(X_test)\n",
    "    \n",
    "    # score\n",
    "    dec_tree_score = f1_score(Y_test, dec_tree_pred, average=None)\n",
    "    dec_tree_score_micro = f1_score(Y_test, dec_tree_pred, average='micro')\n",
    "    \n",
    "    return dec_tree_score, dec_tree_score_micro"
   ]
  },
  {
   "cell_type": "code",
   "execution_count": 6,
   "metadata": {},
   "outputs": [],
   "source": [
    "# ExtraTreeClassifier\n",
    "\n",
    "def function_ExtraTreeClassifier(X_train, Y_train, X_test, Y_test):\n",
    "    \n",
    "    # fit\n",
    "    ext_tree = ExtraTreeClassifier()\n",
    "    ext_tree = ext_tree.fit(X_train, Y_train)\n",
    "\n",
    "    # predict\n",
    "    ext_tree_pred = ext_tree.predict(X_test)\n",
    "    \n",
    "    # score\n",
    "    ext_tree_score = f1_score(Y_test, ext_tree_pred, average=None)\n",
    "    ext_tree_score_micro = f1_score(Y_test, ext_tree_pred, average='micro')\n",
    "    \n",
    "    return ext_tree_score, ext_tree_score_micro"
   ]
  },
  {
   "cell_type": "code",
   "execution_count": 7,
   "metadata": {},
   "outputs": [],
   "source": [
    "# RandomForestClassifier\n",
    "\n",
    "def function_RandomForestClassifier(X_train, Y_train, X_test, Y_test):\n",
    "    \n",
    "    # fit\n",
    "    ran_for = RandomForestClassifier()\n",
    "    ran_for = ran_for.fit(X_train, Y_train)\n",
    "\n",
    "    # predict\n",
    "    ran_for_pred = ran_for.predict(X_test)\n",
    "    \n",
    "    # score\n",
    "    ran_for_score = f1_score(Y_test, ran_for_pred, average=None)\n",
    "    ran_for_score_micro = f1_score(Y_test, ran_for_pred, average='micro')\n",
    "    \n",
    "    return ran_for_score, ran_for_score_micro"
   ]
  },
  {
   "cell_type": "code",
   "execution_count": 8,
   "metadata": {},
   "outputs": [],
   "source": [
    "# LGBMClassifier\n",
    "\n",
    "def function_LGBMClassifier(X_train, Y_train, X_test, Y_test):\n",
    "    \n",
    "    # fit\n",
    "    lgbm = LGBMClassifier()\n",
    "    lgbm = lgbm.fit(X_train, Y_train)\n",
    "\n",
    "    # predict\n",
    "    lgbm_pred = lgbm.predict(X_test)\n",
    "    \n",
    "    # score\n",
    "    lgbm_score = f1_score(Y_test, lgbm_pred, average=None)\n",
    "    lgbm_score_micro = f1_score(Y_test, lgbm_pred, average='micro')\n",
    "    \n",
    "    return lgbm_score, lgbm_score_micro"
   ]
  },
  {
   "cell_type": "code",
   "execution_count": 9,
   "metadata": {},
   "outputs": [],
   "source": [
    "# BernoulliNB\n",
    "\n",
    "def function_BernoulliNB(X_train, Y_train, X_test, Y_test):\n",
    "    \n",
    "    # fit\n",
    "    bernoulli = BernoulliNB()\n",
    "    bernoulli = bernoulli.fit(X_train, Y_train)\n",
    "\n",
    "    # predict\n",
    "    bernoulli_pred = bernoulli.predict(X_test)\n",
    "    \n",
    "    # score\n",
    "    bernoulli_score = f1_score(Y_test, bernoulli_pred, average=None)\n",
    "    bernoulli_score_micro = f1_score(Y_test, bernoulli_pred, average='micro')\n",
    "    \n",
    "    return bernoulli_score, bernoulli_score_micro"
   ]
  },
  {
   "cell_type": "code",
   "execution_count": 10,
   "metadata": {},
   "outputs": [],
   "source": [
    "# KNeighborsClassifier\n",
    "\n",
    "def function_KNeighborsClassifier(X_train, Y_train, X_test, Y_test):\n",
    "    \n",
    "    # fit\n",
    "    kn = KNeighborsClassifier()\n",
    "    kn = kn.fit(X_train, Y_train)\n",
    "\n",
    "    # predict\n",
    "    kn_pred = kn.predict(X_test)\n",
    "    \n",
    "    # score\n",
    "    kn_score = f1_score(Y_test, kn_pred, average=None)\n",
    "    kn_score_micro = f1_score(Y_test, kn_pred, average='micro')\n",
    "    \n",
    "    return kn_score, kn_score_micro"
   ]
  },
  {
   "cell_type": "code",
   "execution_count": 11,
   "metadata": {},
   "outputs": [],
   "source": [
    "# GaussianNB\n",
    "\n",
    "def function_GaussianNB(X_train, Y_train, X_test, Y_test):\n",
    "    \n",
    "    # fit\n",
    "    gaus = GaussianNB()\n",
    "    gaus = gaus.fit(X_train, Y_train)\n",
    "\n",
    "    # predict\n",
    "    gaus_pred = gaus.predict(X_test)\n",
    "    \n",
    "    # score\n",
    "    gaus_score = f1_score(Y_test, gaus_pred, average=None)\n",
    "    gaus_score_micro = f1_score(Y_test, gaus_pred, average='micro')\n",
    "    \n",
    "    return gaus_score, gaus_score_micro"
   ]
  },
  {
   "cell_type": "markdown",
   "metadata": {},
   "source": [
    "# 3. Data"
   ]
  },
  {
   "cell_type": "code",
   "execution_count": 12,
   "metadata": {},
   "outputs": [],
   "source": [
    "df = pd.read_csv('finish-crime-weather.csv')"
   ]
  },
  {
   "cell_type": "code",
   "execution_count": 13,
   "metadata": {},
   "outputs": [
    {
     "data": {
      "text/html": [
       "<div>\n",
       "<style scoped>\n",
       "    .dataframe tbody tr th:only-of-type {\n",
       "        vertical-align: middle;\n",
       "    }\n",
       "\n",
       "    .dataframe tbody tr th {\n",
       "        vertical-align: top;\n",
       "    }\n",
       "\n",
       "    .dataframe thead th {\n",
       "        text-align: right;\n",
       "    }\n",
       "</style>\n",
       "<table border=\"1\" class=\"dataframe\">\n",
       "  <thead>\n",
       "    <tr style=\"text-align: right;\">\n",
       "      <th></th>\n",
       "      <th>Unnamed: 0</th>\n",
       "      <th>Unnamed: 0.1</th>\n",
       "      <th>DAY_OF_WEEK</th>\n",
       "      <th>DISTRICT</th>\n",
       "      <th>HOUR</th>\n",
       "      <th>Lat</th>\n",
       "      <th>Long</th>\n",
       "      <th>MONTH</th>\n",
       "      <th>OCCURRED_ON_DATE</th>\n",
       "      <th>OFFENSE_CODE_GROUP</th>\n",
       "      <th>...</th>\n",
       "      <th>Day</th>\n",
       "      <th>Night</th>\n",
       "      <th>ToNight</th>\n",
       "      <th>ToDay</th>\n",
       "      <th>DAY</th>\n",
       "      <th>temperatureMin</th>\n",
       "      <th>temperatureMax</th>\n",
       "      <th>precipitation</th>\n",
       "      <th>snow</th>\n",
       "      <th>temperatureDifference</th>\n",
       "    </tr>\n",
       "  </thead>\n",
       "  <tbody>\n",
       "    <tr>\n",
       "      <th>0</th>\n",
       "      <td>0</td>\n",
       "      <td>0</td>\n",
       "      <td>Sunday</td>\n",
       "      <td>2.0</td>\n",
       "      <td>6</td>\n",
       "      <td>42.346381</td>\n",
       "      <td>-71.103794</td>\n",
       "      <td>7</td>\n",
       "      <td>2012-07-08 06:00:00</td>\n",
       "      <td>Residential Burglary</td>\n",
       "      <td>...</td>\n",
       "      <td>1</td>\n",
       "      <td>0</td>\n",
       "      <td>16</td>\n",
       "      <td>0</td>\n",
       "      <td>8</td>\n",
       "      <td>30.0</td>\n",
       "      <td>45.0</td>\n",
       "      <td>0.0</td>\n",
       "      <td>0.0</td>\n",
       "      <td>15.0</td>\n",
       "    </tr>\n",
       "    <tr>\n",
       "      <th>1</th>\n",
       "      <td>1</td>\n",
       "      <td>1</td>\n",
       "      <td>Sunday</td>\n",
       "      <td>1.0</td>\n",
       "      <td>6</td>\n",
       "      <td>42.316841</td>\n",
       "      <td>-71.074585</td>\n",
       "      <td>7</td>\n",
       "      <td>2012-07-08 06:03:00</td>\n",
       "      <td>Aggravated Assault</td>\n",
       "      <td>...</td>\n",
       "      <td>1</td>\n",
       "      <td>0</td>\n",
       "      <td>16</td>\n",
       "      <td>0</td>\n",
       "      <td>8</td>\n",
       "      <td>30.0</td>\n",
       "      <td>45.0</td>\n",
       "      <td>0.0</td>\n",
       "      <td>0.0</td>\n",
       "      <td>15.0</td>\n",
       "    </tr>\n",
       "    <tr>\n",
       "      <th>2</th>\n",
       "      <td>2</td>\n",
       "      <td>2</td>\n",
       "      <td>Sunday</td>\n",
       "      <td>2.0</td>\n",
       "      <td>6</td>\n",
       "      <td>42.342841</td>\n",
       "      <td>-71.096990</td>\n",
       "      <td>7</td>\n",
       "      <td>2012-07-08 06:26:00</td>\n",
       "      <td>Robbery</td>\n",
       "      <td>...</td>\n",
       "      <td>1</td>\n",
       "      <td>0</td>\n",
       "      <td>16</td>\n",
       "      <td>0</td>\n",
       "      <td>8</td>\n",
       "      <td>30.0</td>\n",
       "      <td>45.0</td>\n",
       "      <td>0.0</td>\n",
       "      <td>0.0</td>\n",
       "      <td>15.0</td>\n",
       "    </tr>\n",
       "    <tr>\n",
       "      <th>3</th>\n",
       "      <td>3</td>\n",
       "      <td>3</td>\n",
       "      <td>Sunday</td>\n",
       "      <td>1.0</td>\n",
       "      <td>6</td>\n",
       "      <td>42.316441</td>\n",
       "      <td>-71.065829</td>\n",
       "      <td>7</td>\n",
       "      <td>2012-07-08 06:56:00</td>\n",
       "      <td>Other</td>\n",
       "      <td>...</td>\n",
       "      <td>1</td>\n",
       "      <td>0</td>\n",
       "      <td>16</td>\n",
       "      <td>0</td>\n",
       "      <td>8</td>\n",
       "      <td>30.0</td>\n",
       "      <td>45.0</td>\n",
       "      <td>0.0</td>\n",
       "      <td>0.0</td>\n",
       "      <td>15.0</td>\n",
       "    </tr>\n",
       "    <tr>\n",
       "      <th>4</th>\n",
       "      <td>4</td>\n",
       "      <td>4</td>\n",
       "      <td>Sunday</td>\n",
       "      <td>9.0</td>\n",
       "      <td>7</td>\n",
       "      <td>42.270516</td>\n",
       "      <td>-71.119900</td>\n",
       "      <td>7</td>\n",
       "      <td>2012-07-08 07:15:00</td>\n",
       "      <td>Robbery</td>\n",
       "      <td>...</td>\n",
       "      <td>1</td>\n",
       "      <td>0</td>\n",
       "      <td>15</td>\n",
       "      <td>0</td>\n",
       "      <td>8</td>\n",
       "      <td>30.0</td>\n",
       "      <td>45.0</td>\n",
       "      <td>0.0</td>\n",
       "      <td>0.0</td>\n",
       "      <td>15.0</td>\n",
       "    </tr>\n",
       "    <tr>\n",
       "      <th>5</th>\n",
       "      <td>5</td>\n",
       "      <td>5</td>\n",
       "      <td>Sunday</td>\n",
       "      <td>3.0</td>\n",
       "      <td>7</td>\n",
       "      <td>42.313282</td>\n",
       "      <td>-71.053005</td>\n",
       "      <td>7</td>\n",
       "      <td>2012-07-08 07:32:00</td>\n",
       "      <td>Robbery</td>\n",
       "      <td>...</td>\n",
       "      <td>1</td>\n",
       "      <td>0</td>\n",
       "      <td>15</td>\n",
       "      <td>0</td>\n",
       "      <td>8</td>\n",
       "      <td>30.0</td>\n",
       "      <td>45.0</td>\n",
       "      <td>0.0</td>\n",
       "      <td>0.0</td>\n",
       "      <td>15.0</td>\n",
       "    </tr>\n",
       "    <tr>\n",
       "      <th>6</th>\n",
       "      <td>6</td>\n",
       "      <td>6</td>\n",
       "      <td>Sunday</td>\n",
       "      <td>1.0</td>\n",
       "      <td>7</td>\n",
       "      <td>42.324251</td>\n",
       "      <td>-71.086209</td>\n",
       "      <td>7</td>\n",
       "      <td>2012-07-08 07:50:00</td>\n",
       "      <td>Robbery</td>\n",
       "      <td>...</td>\n",
       "      <td>1</td>\n",
       "      <td>0</td>\n",
       "      <td>15</td>\n",
       "      <td>0</td>\n",
       "      <td>8</td>\n",
       "      <td>30.0</td>\n",
       "      <td>45.0</td>\n",
       "      <td>0.0</td>\n",
       "      <td>0.0</td>\n",
       "      <td>15.0</td>\n",
       "    </tr>\n",
       "    <tr>\n",
       "      <th>7</th>\n",
       "      <td>7</td>\n",
       "      <td>7</td>\n",
       "      <td>Sunday</td>\n",
       "      <td>4.0</td>\n",
       "      <td>7</td>\n",
       "      <td>42.349246</td>\n",
       "      <td>-71.063784</td>\n",
       "      <td>7</td>\n",
       "      <td>2012-07-08 07:50:00</td>\n",
       "      <td>Simple Assault</td>\n",
       "      <td>...</td>\n",
       "      <td>1</td>\n",
       "      <td>0</td>\n",
       "      <td>15</td>\n",
       "      <td>0</td>\n",
       "      <td>8</td>\n",
       "      <td>30.0</td>\n",
       "      <td>45.0</td>\n",
       "      <td>0.0</td>\n",
       "      <td>0.0</td>\n",
       "      <td>15.0</td>\n",
       "    </tr>\n",
       "    <tr>\n",
       "      <th>8</th>\n",
       "      <td>8</td>\n",
       "      <td>8</td>\n",
       "      <td>Sunday</td>\n",
       "      <td>7.0</td>\n",
       "      <td>7</td>\n",
       "      <td>42.351746</td>\n",
       "      <td>-71.165909</td>\n",
       "      <td>7</td>\n",
       "      <td>2012-07-08 07:53:00</td>\n",
       "      <td>Medical Assistance</td>\n",
       "      <td>...</td>\n",
       "      <td>1</td>\n",
       "      <td>0</td>\n",
       "      <td>15</td>\n",
       "      <td>0</td>\n",
       "      <td>8</td>\n",
       "      <td>30.0</td>\n",
       "      <td>45.0</td>\n",
       "      <td>0.0</td>\n",
       "      <td>0.0</td>\n",
       "      <td>15.0</td>\n",
       "    </tr>\n",
       "    <tr>\n",
       "      <th>9</th>\n",
       "      <td>9</td>\n",
       "      <td>9</td>\n",
       "      <td>Sunday</td>\n",
       "      <td>9.0</td>\n",
       "      <td>8</td>\n",
       "      <td>42.259383</td>\n",
       "      <td>-71.117294</td>\n",
       "      <td>7</td>\n",
       "      <td>2012-07-08 08:05:00</td>\n",
       "      <td>Medical Assistance</td>\n",
       "      <td>...</td>\n",
       "      <td>1</td>\n",
       "      <td>0</td>\n",
       "      <td>14</td>\n",
       "      <td>0</td>\n",
       "      <td>8</td>\n",
       "      <td>30.0</td>\n",
       "      <td>45.0</td>\n",
       "      <td>0.0</td>\n",
       "      <td>0.0</td>\n",
       "      <td>15.0</td>\n",
       "    </tr>\n",
       "  </tbody>\n",
       "</table>\n",
       "<p>10 rows × 24 columns</p>\n",
       "</div>"
      ],
      "text/plain": [
       "   Unnamed: 0  Unnamed: 0.1 DAY_OF_WEEK  DISTRICT  HOUR        Lat       Long  \\\n",
       "0           0             0      Sunday       2.0     6  42.346381 -71.103794   \n",
       "1           1             1      Sunday       1.0     6  42.316841 -71.074585   \n",
       "2           2             2      Sunday       2.0     6  42.342841 -71.096990   \n",
       "3           3             3      Sunday       1.0     6  42.316441 -71.065829   \n",
       "4           4             4      Sunday       9.0     7  42.270516 -71.119900   \n",
       "5           5             5      Sunday       3.0     7  42.313282 -71.053005   \n",
       "6           6             6      Sunday       1.0     7  42.324251 -71.086209   \n",
       "7           7             7      Sunday       4.0     7  42.349246 -71.063784   \n",
       "8           8             8      Sunday       7.0     7  42.351746 -71.165909   \n",
       "9           9             9      Sunday       9.0     8  42.259383 -71.117294   \n",
       "\n",
       "   MONTH     OCCURRED_ON_DATE    OFFENSE_CODE_GROUP          ...            \\\n",
       "0      7  2012-07-08 06:00:00  Residential Burglary          ...             \n",
       "1      7  2012-07-08 06:03:00    Aggravated Assault          ...             \n",
       "2      7  2012-07-08 06:26:00               Robbery          ...             \n",
       "3      7  2012-07-08 06:56:00                 Other          ...             \n",
       "4      7  2012-07-08 07:15:00               Robbery          ...             \n",
       "5      7  2012-07-08 07:32:00               Robbery          ...             \n",
       "6      7  2012-07-08 07:50:00               Robbery          ...             \n",
       "7      7  2012-07-08 07:50:00        Simple Assault          ...             \n",
       "8      7  2012-07-08 07:53:00    Medical Assistance          ...             \n",
       "9      7  2012-07-08 08:05:00    Medical Assistance          ...             \n",
       "\n",
       "   Day  Night  ToNight  ToDay  DAY  temperatureMin  temperatureMax  \\\n",
       "0    1      0       16      0    8            30.0            45.0   \n",
       "1    1      0       16      0    8            30.0            45.0   \n",
       "2    1      0       16      0    8            30.0            45.0   \n",
       "3    1      0       16      0    8            30.0            45.0   \n",
       "4    1      0       15      0    8            30.0            45.0   \n",
       "5    1      0       15      0    8            30.0            45.0   \n",
       "6    1      0       15      0    8            30.0            45.0   \n",
       "7    1      0       15      0    8            30.0            45.0   \n",
       "8    1      0       15      0    8            30.0            45.0   \n",
       "9    1      0       14      0    8            30.0            45.0   \n",
       "\n",
       "   precipitation  snow  temperatureDifference  \n",
       "0            0.0   0.0                   15.0  \n",
       "1            0.0   0.0                   15.0  \n",
       "2            0.0   0.0                   15.0  \n",
       "3            0.0   0.0                   15.0  \n",
       "4            0.0   0.0                   15.0  \n",
       "5            0.0   0.0                   15.0  \n",
       "6            0.0   0.0                   15.0  \n",
       "7            0.0   0.0                   15.0  \n",
       "8            0.0   0.0                   15.0  \n",
       "9            0.0   0.0                   15.0  \n",
       "\n",
       "[10 rows x 24 columns]"
      ]
     },
     "execution_count": 13,
     "metadata": {},
     "output_type": "execute_result"
    }
   ],
   "source": [
    "df.head(10)"
   ]
  },
  {
   "cell_type": "code",
   "execution_count": 200,
   "metadata": {},
   "outputs": [
    {
     "data": {
      "text/plain": [
       "Index(['Unnamed: 0', 'Unnamed: 0.1', 'DAY_OF_WEEK', 'DISTRICT', 'HOUR', 'Lat',\n",
       "       'Long', 'MONTH', 'OCCURRED_ON_DATE', 'OFFENSE_CODE_GROUP',\n",
       "       'REPORTING_AREA', 'SHOOTING', 'UCR_PART', 'YEAR', 'Day', 'Night',\n",
       "       'ToNight', 'ToDay', 'DAY', 'temperatureMin', 'temperatureMax',\n",
       "       'precipitation', 'snow', 'temperatureDifference'],\n",
       "      dtype='object')"
      ]
     },
     "execution_count": 200,
     "metadata": {},
     "output_type": "execute_result"
    }
   ],
   "source": [
    "df.columns"
   ]
  },
  {
   "cell_type": "code",
   "execution_count": 201,
   "metadata": {},
   "outputs": [],
   "source": [
    "df = df[[\n",
    "    'DAY_OF_WEEK', \n",
    "    'DISTRICT', \n",
    "    'HOUR', \n",
    "    'Lat', \n",
    "    'Long', \n",
    "    'MONTH',\n",
    "    'REPORTING_AREA',\n",
    "    'temperatureMin', \n",
    "    'temperatureMax',\n",
    "    'precipitation', \n",
    "    'snow',\n",
    "    'Day',\n",
    "    'Night',\n",
    "    'ToNight',\n",
    "    'ToDay',\n",
    "    'temperatureDifference',\n",
    "    'OFFENSE_CODE_GROUP'\n",
    "]]"
   ]
  },
  {
   "cell_type": "code",
   "execution_count": 202,
   "metadata": {},
   "outputs": [
    {
     "data": {
      "text/html": [
       "<div>\n",
       "<style scoped>\n",
       "    .dataframe tbody tr th:only-of-type {\n",
       "        vertical-align: middle;\n",
       "    }\n",
       "\n",
       "    .dataframe tbody tr th {\n",
       "        vertical-align: top;\n",
       "    }\n",
       "\n",
       "    .dataframe thead th {\n",
       "        text-align: right;\n",
       "    }\n",
       "</style>\n",
       "<table border=\"1\" class=\"dataframe\">\n",
       "  <thead>\n",
       "    <tr style=\"text-align: right;\">\n",
       "      <th></th>\n",
       "      <th>DAY_OF_WEEK</th>\n",
       "      <th>DISTRICT</th>\n",
       "      <th>HOUR</th>\n",
       "      <th>Lat</th>\n",
       "      <th>Long</th>\n",
       "      <th>MONTH</th>\n",
       "      <th>REPORTING_AREA</th>\n",
       "      <th>temperatureMin</th>\n",
       "      <th>temperatureMax</th>\n",
       "      <th>precipitation</th>\n",
       "      <th>snow</th>\n",
       "      <th>Day</th>\n",
       "      <th>Night</th>\n",
       "      <th>ToNight</th>\n",
       "      <th>ToDay</th>\n",
       "      <th>temperatureDifference</th>\n",
       "      <th>OFFENSE_CODE_GROUP</th>\n",
       "    </tr>\n",
       "  </thead>\n",
       "  <tbody>\n",
       "    <tr>\n",
       "      <th>0</th>\n",
       "      <td>Sunday</td>\n",
       "      <td>2.0</td>\n",
       "      <td>6</td>\n",
       "      <td>42.346381</td>\n",
       "      <td>-71.103794</td>\n",
       "      <td>7</td>\n",
       "      <td>629.0</td>\n",
       "      <td>30.0</td>\n",
       "      <td>45.0</td>\n",
       "      <td>0.0</td>\n",
       "      <td>0.0</td>\n",
       "      <td>1</td>\n",
       "      <td>0</td>\n",
       "      <td>16</td>\n",
       "      <td>0</td>\n",
       "      <td>15.0</td>\n",
       "      <td>Residential Burglary</td>\n",
       "    </tr>\n",
       "    <tr>\n",
       "      <th>1</th>\n",
       "      <td>Sunday</td>\n",
       "      <td>1.0</td>\n",
       "      <td>6</td>\n",
       "      <td>42.316841</td>\n",
       "      <td>-71.074585</td>\n",
       "      <td>7</td>\n",
       "      <td>327.0</td>\n",
       "      <td>30.0</td>\n",
       "      <td>45.0</td>\n",
       "      <td>0.0</td>\n",
       "      <td>0.0</td>\n",
       "      <td>1</td>\n",
       "      <td>0</td>\n",
       "      <td>16</td>\n",
       "      <td>0</td>\n",
       "      <td>15.0</td>\n",
       "      <td>Aggravated Assault</td>\n",
       "    </tr>\n",
       "    <tr>\n",
       "      <th>2</th>\n",
       "      <td>Sunday</td>\n",
       "      <td>2.0</td>\n",
       "      <td>6</td>\n",
       "      <td>42.342841</td>\n",
       "      <td>-71.096990</td>\n",
       "      <td>7</td>\n",
       "      <td>625.0</td>\n",
       "      <td>30.0</td>\n",
       "      <td>45.0</td>\n",
       "      <td>0.0</td>\n",
       "      <td>0.0</td>\n",
       "      <td>1</td>\n",
       "      <td>0</td>\n",
       "      <td>16</td>\n",
       "      <td>0</td>\n",
       "      <td>15.0</td>\n",
       "      <td>Robbery</td>\n",
       "    </tr>\n",
       "    <tr>\n",
       "      <th>3</th>\n",
       "      <td>Sunday</td>\n",
       "      <td>1.0</td>\n",
       "      <td>6</td>\n",
       "      <td>42.316441</td>\n",
       "      <td>-71.065829</td>\n",
       "      <td>7</td>\n",
       "      <td>258.0</td>\n",
       "      <td>30.0</td>\n",
       "      <td>45.0</td>\n",
       "      <td>0.0</td>\n",
       "      <td>0.0</td>\n",
       "      <td>1</td>\n",
       "      <td>0</td>\n",
       "      <td>16</td>\n",
       "      <td>0</td>\n",
       "      <td>15.0</td>\n",
       "      <td>Other</td>\n",
       "    </tr>\n",
       "    <tr>\n",
       "      <th>4</th>\n",
       "      <td>Sunday</td>\n",
       "      <td>9.0</td>\n",
       "      <td>7</td>\n",
       "      <td>42.270516</td>\n",
       "      <td>-71.119900</td>\n",
       "      <td>7</td>\n",
       "      <td>496.0</td>\n",
       "      <td>30.0</td>\n",
       "      <td>45.0</td>\n",
       "      <td>0.0</td>\n",
       "      <td>0.0</td>\n",
       "      <td>1</td>\n",
       "      <td>0</td>\n",
       "      <td>15</td>\n",
       "      <td>0</td>\n",
       "      <td>15.0</td>\n",
       "      <td>Robbery</td>\n",
       "    </tr>\n",
       "  </tbody>\n",
       "</table>\n",
       "</div>"
      ],
      "text/plain": [
       "  DAY_OF_WEEK  DISTRICT  HOUR        Lat       Long  MONTH  REPORTING_AREA  \\\n",
       "0      Sunday       2.0     6  42.346381 -71.103794      7           629.0   \n",
       "1      Sunday       1.0     6  42.316841 -71.074585      7           327.0   \n",
       "2      Sunday       2.0     6  42.342841 -71.096990      7           625.0   \n",
       "3      Sunday       1.0     6  42.316441 -71.065829      7           258.0   \n",
       "4      Sunday       9.0     7  42.270516 -71.119900      7           496.0   \n",
       "\n",
       "   temperatureMin  temperatureMax  precipitation  snow  Day  Night  ToNight  \\\n",
       "0            30.0            45.0            0.0   0.0    1      0       16   \n",
       "1            30.0            45.0            0.0   0.0    1      0       16   \n",
       "2            30.0            45.0            0.0   0.0    1      0       16   \n",
       "3            30.0            45.0            0.0   0.0    1      0       16   \n",
       "4            30.0            45.0            0.0   0.0    1      0       15   \n",
       "\n",
       "   ToDay  temperatureDifference    OFFENSE_CODE_GROUP  \n",
       "0      0                   15.0  Residential Burglary  \n",
       "1      0                   15.0    Aggravated Assault  \n",
       "2      0                   15.0               Robbery  \n",
       "3      0                   15.0                 Other  \n",
       "4      0                   15.0               Robbery  "
      ]
     },
     "execution_count": 202,
     "metadata": {},
     "output_type": "execute_result"
    }
   ],
   "source": [
    "df.head()"
   ]
  },
  {
   "cell_type": "code",
   "execution_count": null,
   "metadata": {},
   "outputs": [],
   "source": []
  },
  {
   "cell_type": "code",
   "execution_count": 203,
   "metadata": {},
   "outputs": [
    {
     "data": {
      "text/plain": [
       "Other                              94887\n",
       "Motor Vehicle Accident Response    50952\n",
       "Larceny                            50405\n",
       "Medical Assistance                 40666\n",
       "Simple Assault                     33528\n",
       "Violations                         33449\n",
       "Investigate Person                 31683\n",
       "Vandalism                          28750\n",
       "Drug Violation                     28637\n",
       "Larceny From Motor Vehicle         23588\n",
       "Towed                              18807\n",
       "Name: OFFENSE_CODE_GROUP, dtype: int64"
      ]
     },
     "execution_count": 203,
     "metadata": {},
     "output_type": "execute_result"
    }
   ],
   "source": [
    "df['OFFENSE_CODE_GROUP'].value_counts().head(11)"
   ]
  },
  {
   "cell_type": "code",
   "execution_count": 204,
   "metadata": {},
   "outputs": [],
   "source": [
    "list_offense_code_group = (\n",
    "    'Motor Vehicle Accident Response',\n",
    "    'Larceny',\n",
    "    'Medical Assistance',\n",
    "    'Simple Assault',\n",
    "    'Violations',\n",
    "    'Investigate Person',\n",
    "    'Vandalism',\n",
    "    'Drug Violation',\n",
    "    'Larceny From Motor Vehicle',\n",
    "    'Towed'\n",
    ")"
   ]
  },
  {
   "cell_type": "code",
   "execution_count": 205,
   "metadata": {},
   "outputs": [],
   "source": [
    "df_model = pd.DataFrame()"
   ]
  },
  {
   "cell_type": "code",
   "execution_count": 206,
   "metadata": {},
   "outputs": [],
   "source": [
    "i = 0\n",
    "\n",
    "while i < len(list_offense_code_group):\n",
    "\n",
    "    df_model= df_model.append(df.loc[df['OFFENSE_CODE_GROUP'] == list_offense_code_group[i]])\n",
    "    \n",
    "    i+=1"
   ]
  },
  {
   "cell_type": "code",
   "execution_count": 207,
   "metadata": {},
   "outputs": [
    {
     "data": {
      "text/plain": [
       "(575226, 17)"
      ]
     },
     "execution_count": 207,
     "metadata": {},
     "output_type": "execute_result"
    }
   ],
   "source": [
    "df.shape"
   ]
  },
  {
   "cell_type": "code",
   "execution_count": 208,
   "metadata": {},
   "outputs": [
    {
     "data": {
      "text/plain": [
       "(340465, 17)"
      ]
     },
     "execution_count": 208,
     "metadata": {},
     "output_type": "execute_result"
    }
   ],
   "source": [
    "df_model.shape"
   ]
  },
  {
   "cell_type": "code",
   "execution_count": 209,
   "metadata": {},
   "outputs": [
    {
     "data": {
      "text/html": [
       "<div>\n",
       "<style scoped>\n",
       "    .dataframe tbody tr th:only-of-type {\n",
       "        vertical-align: middle;\n",
       "    }\n",
       "\n",
       "    .dataframe tbody tr th {\n",
       "        vertical-align: top;\n",
       "    }\n",
       "\n",
       "    .dataframe thead th {\n",
       "        text-align: right;\n",
       "    }\n",
       "</style>\n",
       "<table border=\"1\" class=\"dataframe\">\n",
       "  <thead>\n",
       "    <tr style=\"text-align: right;\">\n",
       "      <th></th>\n",
       "      <th>DAY_OF_WEEK</th>\n",
       "      <th>DISTRICT</th>\n",
       "      <th>HOUR</th>\n",
       "      <th>Lat</th>\n",
       "      <th>Long</th>\n",
       "      <th>MONTH</th>\n",
       "      <th>REPORTING_AREA</th>\n",
       "      <th>temperatureMin</th>\n",
       "      <th>temperatureMax</th>\n",
       "      <th>precipitation</th>\n",
       "      <th>snow</th>\n",
       "      <th>Day</th>\n",
       "      <th>Night</th>\n",
       "      <th>ToNight</th>\n",
       "      <th>ToDay</th>\n",
       "      <th>temperatureDifference</th>\n",
       "      <th>OFFENSE_CODE_GROUP</th>\n",
       "    </tr>\n",
       "  </thead>\n",
       "  <tbody>\n",
       "    <tr>\n",
       "      <th>47</th>\n",
       "      <td>Sunday</td>\n",
       "      <td>10.0</td>\n",
       "      <td>12</td>\n",
       "      <td>42.379551</td>\n",
       "      <td>-71.038219</td>\n",
       "      <td>7</td>\n",
       "      <td>24.0</td>\n",
       "      <td>30.0</td>\n",
       "      <td>45.0</td>\n",
       "      <td>0.0</td>\n",
       "      <td>0.0</td>\n",
       "      <td>1</td>\n",
       "      <td>0</td>\n",
       "      <td>10</td>\n",
       "      <td>0</td>\n",
       "      <td>15.0</td>\n",
       "      <td>Motor Vehicle Accident Response</td>\n",
       "    </tr>\n",
       "    <tr>\n",
       "      <th>90</th>\n",
       "      <td>Sunday</td>\n",
       "      <td>8.0</td>\n",
       "      <td>16</td>\n",
       "      <td>42.302651</td>\n",
       "      <td>-71.114525</td>\n",
       "      <td>7</td>\n",
       "      <td>651.0</td>\n",
       "      <td>30.0</td>\n",
       "      <td>45.0</td>\n",
       "      <td>0.0</td>\n",
       "      <td>0.0</td>\n",
       "      <td>1</td>\n",
       "      <td>0</td>\n",
       "      <td>6</td>\n",
       "      <td>0</td>\n",
       "      <td>15.0</td>\n",
       "      <td>Motor Vehicle Accident Response</td>\n",
       "    </tr>\n",
       "    <tr>\n",
       "      <th>95</th>\n",
       "      <td>Sunday</td>\n",
       "      <td>2.0</td>\n",
       "      <td>16</td>\n",
       "      <td>42.337301</td>\n",
       "      <td>-71.078059</td>\n",
       "      <td>7</td>\n",
       "      <td>170.0</td>\n",
       "      <td>30.0</td>\n",
       "      <td>45.0</td>\n",
       "      <td>0.0</td>\n",
       "      <td>0.0</td>\n",
       "      <td>1</td>\n",
       "      <td>0</td>\n",
       "      <td>6</td>\n",
       "      <td>0</td>\n",
       "      <td>15.0</td>\n",
       "      <td>Motor Vehicle Accident Response</td>\n",
       "    </tr>\n",
       "    <tr>\n",
       "      <th>121</th>\n",
       "      <td>Sunday</td>\n",
       "      <td>8.0</td>\n",
       "      <td>18</td>\n",
       "      <td>42.324741</td>\n",
       "      <td>-71.104244</td>\n",
       "      <td>7</td>\n",
       "      <td>906.0</td>\n",
       "      <td>30.0</td>\n",
       "      <td>45.0</td>\n",
       "      <td>0.0</td>\n",
       "      <td>0.0</td>\n",
       "      <td>1</td>\n",
       "      <td>0</td>\n",
       "      <td>4</td>\n",
       "      <td>0</td>\n",
       "      <td>15.0</td>\n",
       "      <td>Motor Vehicle Accident Response</td>\n",
       "    </tr>\n",
       "    <tr>\n",
       "      <th>185</th>\n",
       "      <td>Monday</td>\n",
       "      <td>3.0</td>\n",
       "      <td>0</td>\n",
       "      <td>42.300661</td>\n",
       "      <td>-71.072050</td>\n",
       "      <td>7</td>\n",
       "      <td>344.0</td>\n",
       "      <td>25.0</td>\n",
       "      <td>39.9</td>\n",
       "      <td>0.0</td>\n",
       "      <td>0.0</td>\n",
       "      <td>0</td>\n",
       "      <td>1</td>\n",
       "      <td>0</td>\n",
       "      <td>6</td>\n",
       "      <td>14.9</td>\n",
       "      <td>Motor Vehicle Accident Response</td>\n",
       "    </tr>\n",
       "  </tbody>\n",
       "</table>\n",
       "</div>"
      ],
      "text/plain": [
       "    DAY_OF_WEEK  DISTRICT  HOUR        Lat       Long  MONTH  REPORTING_AREA  \\\n",
       "47       Sunday      10.0    12  42.379551 -71.038219      7            24.0   \n",
       "90       Sunday       8.0    16  42.302651 -71.114525      7           651.0   \n",
       "95       Sunday       2.0    16  42.337301 -71.078059      7           170.0   \n",
       "121      Sunday       8.0    18  42.324741 -71.104244      7           906.0   \n",
       "185      Monday       3.0     0  42.300661 -71.072050      7           344.0   \n",
       "\n",
       "     temperatureMin  temperatureMax  precipitation  snow  Day  Night  ToNight  \\\n",
       "47             30.0            45.0            0.0   0.0    1      0       10   \n",
       "90             30.0            45.0            0.0   0.0    1      0        6   \n",
       "95             30.0            45.0            0.0   0.0    1      0        6   \n",
       "121            30.0            45.0            0.0   0.0    1      0        4   \n",
       "185            25.0            39.9            0.0   0.0    0      1        0   \n",
       "\n",
       "     ToDay  temperatureDifference               OFFENSE_CODE_GROUP  \n",
       "47       0                   15.0  Motor Vehicle Accident Response  \n",
       "90       0                   15.0  Motor Vehicle Accident Response  \n",
       "95       0                   15.0  Motor Vehicle Accident Response  \n",
       "121      0                   15.0  Motor Vehicle Accident Response  \n",
       "185      6                   14.9  Motor Vehicle Accident Response  "
      ]
     },
     "execution_count": 209,
     "metadata": {},
     "output_type": "execute_result"
    }
   ],
   "source": [
    "df_model.head()"
   ]
  },
  {
   "cell_type": "code",
   "execution_count": 210,
   "metadata": {},
   "outputs": [
    {
     "data": {
      "text/plain": [
       "array([7, 1, 2, 3, 4, 5, 6])"
      ]
     },
     "execution_count": 210,
     "metadata": {},
     "output_type": "execute_result"
    }
   ],
   "source": [
    "# DAY_OF_WEEK\n",
    "\n",
    "df_model['DAY_OF_WEEK'] = df_model['DAY_OF_WEEK'].map({\n",
    "    'Tuesday':2, \n",
    "    'Saturday':6, \n",
    "    'Monday':1, \n",
    "    'Sunday':7, \n",
    "    'Thursday':4, \n",
    "    'Wednesday':3,\n",
    "    'Friday':5\n",
    "})\n",
    "\n",
    "df_model['DAY_OF_WEEK'].unique()"
   ]
  },
  {
   "cell_type": "code",
   "execution_count": 211,
   "metadata": {},
   "outputs": [],
   "source": [
    "df_model.fillna(0, inplace = True)"
   ]
  },
  {
   "cell_type": "code",
   "execution_count": 212,
   "metadata": {},
   "outputs": [],
   "source": [
    "y = df_model['OFFENSE_CODE_GROUP']"
   ]
  },
  {
   "cell_type": "code",
   "execution_count": 213,
   "metadata": {},
   "outputs": [
    {
     "data": {
      "text/plain": [
       "(340465,)"
      ]
     },
     "execution_count": 213,
     "metadata": {},
     "output_type": "execute_result"
    }
   ],
   "source": [
    "y.shape"
   ]
  },
  {
   "cell_type": "code",
   "execution_count": 214,
   "metadata": {},
   "outputs": [
    {
     "data": {
      "text/plain": [
       "array(['Motor Vehicle Accident Response', 'Larceny', 'Medical Assistance',\n",
       "       'Simple Assault', 'Violations', 'Investigate Person', 'Vandalism',\n",
       "       'Drug Violation', 'Larceny From Motor Vehicle', 'Towed'], dtype=object)"
      ]
     },
     "execution_count": 214,
     "metadata": {},
     "output_type": "execute_result"
    }
   ],
   "source": [
    "y.unique()"
   ]
  },
  {
   "cell_type": "code",
   "execution_count": 215,
   "metadata": {},
   "outputs": [],
   "source": [
    "y = y.map({\n",
    "    'Motor Vehicle Accident Response':1, \n",
    "    'Larceny':2, \n",
    "    'Medical Assistance':3,\n",
    "    'Simple Assault':4, \n",
    "    'Violations':5, \n",
    "    'Investigate Person':6, \n",
    "    'Vandalism':7,\n",
    "    'Drug Violation':8, \n",
    "    'Larceny From Motor Vehicle':9, \n",
    "    'Towed':10\n",
    "})"
   ]
  },
  {
   "cell_type": "code",
   "execution_count": 216,
   "metadata": {},
   "outputs": [],
   "source": [
    "x = df_model.drop('OFFENSE_CODE_GROUP', 1)"
   ]
  },
  {
   "cell_type": "code",
   "execution_count": 217,
   "metadata": {},
   "outputs": [
    {
     "data": {
      "text/plain": [
       "Index(['DAY_OF_WEEK', 'DISTRICT', 'HOUR', 'Lat', 'Long', 'MONTH',\n",
       "       'REPORTING_AREA', 'temperatureMin', 'temperatureMax', 'precipitation',\n",
       "       'snow', 'Day', 'Night', 'ToNight', 'ToDay', 'temperatureDifference'],\n",
       "      dtype='object')"
      ]
     },
     "execution_count": 217,
     "metadata": {},
     "output_type": "execute_result"
    }
   ],
   "source": [
    "x.columns"
   ]
  },
  {
   "cell_type": "markdown",
   "metadata": {},
   "source": [
    "# Split data"
   ]
  },
  {
   "cell_type": "code",
   "execution_count": 218,
   "metadata": {},
   "outputs": [
    {
     "name": "stdout",
     "output_type": "stream",
     "text": [
      "(306418, 16) (306418,)\n",
      "(34047, 16) (34047,)\n"
     ]
    }
   ],
   "source": [
    "# Split dataframe into random train and test subsets\n",
    "\n",
    "X_train, X_test, Y_train, Y_test = train_test_split(\n",
    "    x,\n",
    "    y, \n",
    "    test_size = 0.1,\n",
    "    random_state=42\n",
    ")\n",
    "\n",
    "print(X_train.shape, Y_train.shape)\n",
    "print(X_test.shape, Y_test.shape)"
   ]
  },
  {
   "cell_type": "markdown",
   "metadata": {},
   "source": [
    "# Modeling"
   ]
  },
  {
   "cell_type": "code",
   "execution_count": 219,
   "metadata": {},
   "outputs": [
    {
     "data": {
      "text/plain": [
       "(array([ 0.24617524,  0.343722  ,  0.19047619,  0.15167962,  0.17310849,\n",
       "         0.12943633,  0.11786877,  0.4516129 ,  0.14840085,  0.24356869]),\n",
       " 0.22645166975063882)"
      ]
     },
     "execution_count": 219,
     "metadata": {},
     "output_type": "execute_result"
    }
   ],
   "source": [
    "function_DecisionTreeClassifier(X_train, Y_train, X_test, Y_test)"
   ]
  },
  {
   "cell_type": "code",
   "execution_count": 220,
   "metadata": {},
   "outputs": [
    {
     "data": {
      "text/plain": [
       "(array([ 0.21309371,  0.26605596,  0.16796344,  0.1272242 ,  0.15047962,\n",
       "         0.12307198,  0.12275862,  0.38402406,  0.11172472,  0.19215156]),\n",
       " 0.19185243927511969)"
      ]
     },
     "execution_count": 220,
     "metadata": {},
     "output_type": "execute_result"
    }
   ],
   "source": [
    "function_ExtraTreeClassifier(X_train, Y_train, X_test, Y_test)"
   ]
  },
  {
   "cell_type": "code",
   "execution_count": 221,
   "metadata": {},
   "outputs": [
    {
     "data": {
      "text/plain": [
       "(array([ 0.28417238,  0.37912275,  0.19006788,  0.15470992,  0.18969668,\n",
       "         0.11831843,  0.11996679,  0.50475658,  0.15009381,  0.27728426]),\n",
       " 0.25341439774429464)"
      ]
     },
     "execution_count": 221,
     "metadata": {},
     "output_type": "execute_result"
    }
   ],
   "source": [
    "function_RandomForestClassifier(X_train, Y_train, X_test, Y_test)"
   ]
  },
  {
   "cell_type": "code",
   "execution_count": 222,
   "metadata": {},
   "outputs": [
    {
     "data": {
      "text/plain": [
       "(array([ 0.3209848 ,  0.42315207,  0.20277852,  0.140681  ,  0.24449464,\n",
       "         0.06496644,  0.07879429,  0.40830062,  0.15135492,  0.34475077]),\n",
       " 0.27976033130672306)"
      ]
     },
     "execution_count": 222,
     "metadata": {},
     "output_type": "execute_result"
    }
   ],
   "source": [
    "function_LGBMClassifier(X_train, Y_train, X_test, Y_test)"
   ]
  },
  {
   "cell_type": "code",
   "execution_count": 223,
   "metadata": {},
   "outputs": [
    {
     "name": "stderr",
     "output_type": "stream",
     "text": [
      "/home/olexandr/anaconda3/lib/python3.6/site-packages/sklearn/metrics/classification.py:1135: UndefinedMetricWarning: F-score is ill-defined and being set to 0.0 in labels with no predicted samples.\n",
      "  'precision', 'predicted', average, warn_for)\n"
     ]
    },
    {
     "data": {
      "text/plain": [
       "(array([ 0.16100703,  0.27415162,  0.        ,  0.        ,  0.031639  ,\n",
       "         0.        ,  0.18091345,  0.00139762,  0.        ,  0.        ]),\n",
       " 0.16251064704672952)"
      ]
     },
     "execution_count": 223,
     "metadata": {},
     "output_type": "execute_result"
    }
   ],
   "source": [
    "function_BernoulliNB(X_train, Y_train, X_test, Y_test)"
   ]
  },
  {
   "cell_type": "code",
   "execution_count": 224,
   "metadata": {},
   "outputs": [
    {
     "data": {
      "text/plain": [
       "(array([ 0.25196308,  0.30487605,  0.15180361,  0.1132755 ,  0.13946386,\n",
       "         0.09483794,  0.10860335,  0.28772309,  0.09295528,  0.21038436]),\n",
       " 0.1996651687373337)"
      ]
     },
     "execution_count": 224,
     "metadata": {},
     "output_type": "execute_result"
    }
   ],
   "source": [
    "function_KNeighborsClassifier(X_train, Y_train, X_test, Y_test)"
   ]
  },
  {
   "cell_type": "code",
   "execution_count": 225,
   "metadata": {},
   "outputs": [
    {
     "name": "stderr",
     "output_type": "stream",
     "text": [
      "/home/olexandr/anaconda3/lib/python3.6/site-packages/sklearn/metrics/classification.py:1135: UndefinedMetricWarning: F-score is ill-defined and being set to 0.0 in labels with no predicted samples.\n",
      "  'precision', 'predicted', average, warn_for)\n"
     ]
    },
    {
     "data": {
      "text/plain": [
       "(array([ 0.18537252,  0.28065083,  0.06155703,  0.        ,  0.00059049,\n",
       "         0.02069781,  0.1793116 ,  0.00473293,  0.01899486,  0.09533267]),\n",
       " 0.16735688900637355)"
      ]
     },
     "execution_count": 225,
     "metadata": {},
     "output_type": "execute_result"
    }
   ],
   "source": [
    "function_GaussianNB(X_train, Y_train, X_test, Y_test)"
   ]
  },
  {
   "cell_type": "code",
   "execution_count": null,
   "metadata": {},
   "outputs": [],
   "source": []
  }
 ],
 "metadata": {
  "kernelspec": {
   "display_name": "Python 3",
   "language": "python",
   "name": "python3"
  },
  "language_info": {
   "codemirror_mode": {
    "name": "ipython",
    "version": 3
   },
   "file_extension": ".py",
   "mimetype": "text/x-python",
   "name": "python",
   "nbconvert_exporter": "python",
   "pygments_lexer": "ipython3",
   "version": "3.6.5"
  }
 },
 "nbformat": 4,
 "nbformat_minor": 2
}
